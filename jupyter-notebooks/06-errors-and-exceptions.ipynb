{
 "cells": [
  {
   "cell_type": "markdown",
   "id": "273cbe86",
   "metadata": {},
   "source": [
    "<font color='DeepSkyBlue'>**Learning Python at University of Glasgow**</font>\n",
    "\n",
    "<font color='DeepSkyBlue'>**Object-oriented Programming**</font>\n",
    "\n",
    "<font color='DeepSkyBlue'>**Lecturer**</font>: **Khiem Nguyen**\n",
    "\n",
    "**Note**&nbsp; This note is prepared following the [Tutorial from Official Website](https://docs.python.org/3.13/tutorial/errors.html)"
   ]
  },
  {
   "cell_type": "markdown",
   "id": "dad655bb",
   "metadata": {},
   "source": [
    "# Errors and Exceptions\n",
    "\n",
    "There are at least two distinguishable types of errors: **syntax errors** and **exceptions**. Of course, as a serious programmer, you would have heard about *compilation errors* and *runtime errors*, etc. In this notebook, we shall focus on \n",
    "- Syntax errors\n",
    "- Exceptions"
   ]
  },
  {
   "cell_type": "markdown",
   "id": "f2377280",
   "metadata": {},
   "source": [
    "## Syntax Errors\n",
    "\n",
    "I am very sure that you have encountered syntax errors while learning Python till this point. Syntax errors, also known as parsing errors, are the errors you encounter when you write wrong \"programming\" rule and thus the Python interpreter fails to understand and run it.\n",
    "The following code snippet gives error in the first line.\n",
    "```python\n",
    "if True print(True)\n",
    "else print(False)\n",
    "```\n",
    "\n",
    "In fact, the syntax errors can be easily spotted in most of modern IDE these days. For example, in VSCode the IDE parser can pick up most of the trivial syntax errors before we execute the code. After execution, the interpreter issues `SyntaxError' and tell you where it expects the error occur. If the code becomes quite complex, the interpreter may give you a wrong hint about where the errors occur.\n",
    "\n",
    "![synta-error-example](figures/errors-and-exceptions/syntax-error-example.JPG)"
   ]
  },
  {
   "cell_type": "markdown",
   "id": "b2ea9abe",
   "metadata": {},
   "source": [
    "## Exceptions\n",
    "\n",
    "A syntatically correct statement may may produce errors when an attempt is made to execute it.  Errors detected during execution are called **exceptions** and are not unconditionally fatal. If you come from different programming languages, you may find a lot of these errors are actually runtime errors. Below are some examples:\n",
    "- $10/0$ would give the error `ZeroDivisionError` as it violates the simple mathematics rule. \n",
    "- The statement `3 * spam` is executed while the variable `spam` is not defined before this statement. This gives `NameError`.\n",
    "- The statement `'42' + 42` produces `TypeError` because you try to add a number to a string and the addition operation is not supported in this case.\n",
    "\n",
    "Run the following code cells to see the error"
   ]
  },
  {
   "cell_type": "code",
   "execution_count": 2,
   "id": "06e1987e",
   "metadata": {},
   "outputs": [
    {
     "ename": "ZeroDivisionError",
     "evalue": "division by zero",
     "output_type": "error",
     "traceback": [
      "\u001b[31m---------------------------------------------------------------------------\u001b[39m",
      "\u001b[31mZeroDivisionError\u001b[39m                         Traceback (most recent call last)",
      "\u001b[36mCell\u001b[39m\u001b[36m \u001b[39m\u001b[32mIn[2]\u001b[39m\u001b[32m, line 1\u001b[39m\n\u001b[32m----> \u001b[39m\u001b[32m1\u001b[39m \u001b[32m10\u001b[39m * (\u001b[32;43m1\u001b[39;49m\u001b[43m/\u001b[49m\u001b[32;43m0\u001b[39;49m)\n",
      "\u001b[31mZeroDivisionError\u001b[39m: division by zero"
     ]
    }
   ],
   "source": [
    "10 * (1/0)"
   ]
  },
  {
   "cell_type": "code",
   "execution_count": 3,
   "id": "af54564a",
   "metadata": {},
   "outputs": [
    {
     "ename": "NameError",
     "evalue": "name 'spam' is not defined",
     "output_type": "error",
     "traceback": [
      "\u001b[31m---------------------------------------------------------------------------\u001b[39m",
      "\u001b[31mNameError\u001b[39m                                 Traceback (most recent call last)",
      "\u001b[36mCell\u001b[39m\u001b[36m \u001b[39m\u001b[32mIn[3]\u001b[39m\u001b[32m, line 1\u001b[39m\n\u001b[32m----> \u001b[39m\u001b[32m1\u001b[39m \u001b[32m4\u001b[39m + \u001b[43mspam\u001b[49m*\u001b[32m3\u001b[39m\n",
      "\u001b[31mNameError\u001b[39m: name 'spam' is not defined"
     ]
    }
   ],
   "source": [
    "4 + spam*3"
   ]
  },
  {
   "cell_type": "code",
   "execution_count": 4,
   "id": "524b4e04",
   "metadata": {},
   "outputs": [
    {
     "ename": "TypeError",
     "evalue": "can only concatenate str (not \"int\") to str",
     "output_type": "error",
     "traceback": [
      "\u001b[31m---------------------------------------------------------------------------\u001b[39m",
      "\u001b[31mTypeError\u001b[39m                                 Traceback (most recent call last)",
      "\u001b[36mCell\u001b[39m\u001b[36m \u001b[39m\u001b[32mIn[4]\u001b[39m\u001b[32m, line 1\u001b[39m\n\u001b[32m----> \u001b[39m\u001b[32m1\u001b[39m \u001b[33;43m'\u001b[39;49m\u001b[33;43m2\u001b[39;49m\u001b[33;43m'\u001b[39;49m\u001b[43m \u001b[49m\u001b[43m+\u001b[49m\u001b[43m \u001b[49m\u001b[32;43m2\u001b[39;49m\n",
      "\u001b[31mTypeError\u001b[39m: can only concatenate str (not \"int\") to str"
     ]
    }
   ],
   "source": [
    "'2' + 2"
   ]
  },
  {
   "cell_type": "markdown",
   "id": "ae685a3d",
   "metadata": {},
   "source": [
    "You probably see the curvy yellow line below the variable `spam`. Indeed, the IDE is clever enough to detect that this variable `spam` had not been defined anywhere before it was used. In fact, if you defined `spam` somewhere before the code cell producing error, the yellow curvy line will disappear. Try it out yourself!"
   ]
  },
  {
   "cell_type": "markdown",
   "id": "ee40126f",
   "metadata": {},
   "source": []
  }
 ],
 "metadata": {
  "kernelspec": {
   "display_name": "py3.12",
   "language": "python",
   "name": "python3"
  },
  "language_info": {
   "codemirror_mode": {
    "name": "ipython",
    "version": 3
   },
   "file_extension": ".py",
   "mimetype": "text/x-python",
   "name": "python",
   "nbconvert_exporter": "python",
   "pygments_lexer": "ipython3",
   "version": "3.13.2"
  }
 },
 "nbformat": 4,
 "nbformat_minor": 5
}
