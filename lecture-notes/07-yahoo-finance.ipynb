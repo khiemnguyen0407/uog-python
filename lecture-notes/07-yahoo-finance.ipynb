{
 "cells": [
  {
   "cell_type": "code",
   "execution_count": 1,
   "id": "dea1a3e9",
   "metadata": {},
   "outputs": [],
   "source": [
    "import yfinance as yf"
   ]
  },
  {
   "cell_type": "code",
   "execution_count": 3,
   "id": "0d093891",
   "metadata": {},
   "outputs": [
    {
     "data": {
      "text/plain": [
       "{'longBusinessSummary': 'The trust seeks to achieve its investment objective by holding a portfolio of the common stocks that are included in the index, with the weight of each stock in the portfolio substantially corresponding to the weight of such stock in the index.',\n",
       " 'companyOfficers': [],\n",
       " 'executiveTeam': [],\n",
       " 'maxAge': 86400,\n",
       " 'priceHint': 2,\n",
       " 'previousClose': 632.25,\n",
       " 'open': 634.06,\n",
       " 'dayLow': 633.74,\n",
       " 'dayHigh': 637.36,\n",
       " 'regularMarketPreviousClose': 632.25,\n",
       " 'regularMarketOpen': 634.06,\n",
       " 'regularMarketDayLow': 633.74,\n",
       " 'regularMarketDayHigh': 637.36,\n",
       " 'trailingPE': 27.02104,\n",
       " 'volume': 34346513,\n",
       " 'regularMarketVolume': 34345247,\n",
       " 'averageVolume': 72027845,\n",
       " 'averageVolume10days': 77598180,\n",
       " 'averageDailyVolume10Day': 77598180,\n",
       " 'bid': 636.55,\n",
       " 'ask': 636.57,\n",
       " 'bidSize': 5,\n",
       " 'askSize': 6,\n",
       " 'yield': 0.0113,\n",
       " 'totalAssets': 652629770240,\n",
       " 'fiftyTwoWeekLow': 481.8,\n",
       " 'fiftyTwoWeekHigh': 639.85,\n",
       " 'fiftyDayAverage': 615.0462,\n",
       " 'twoHundredDayAverage': 589.4318,\n",
       " 'trailingAnnualDividendRate': 5.662,\n",
       " 'trailingAnnualDividendYield': 0.0089553185,\n",
       " 'navPrice': 632.09326,\n",
       " 'currency': 'USD',\n",
       " 'tradeable': False,\n",
       " 'category': 'Large Blend',\n",
       " 'ytdReturn': 8.52931,\n",
       " 'beta3Year': 1.0,\n",
       " 'fundFamily': 'SPDR State Street Global Advisors',\n",
       " 'fundInceptionDate': 727660800,\n",
       " 'legalType': 'Exchange Traded Fund',\n",
       " 'threeYearAverageReturn': 0.1685763,\n",
       " 'fiveYearAverageReturn': 0.15214969,\n",
       " 'quoteType': 'ETF',\n",
       " 'symbol': 'SPY',\n",
       " 'language': 'en-US',\n",
       " 'region': 'US',\n",
       " 'typeDisp': 'ETF',\n",
       " 'quoteSourceName': 'Nasdaq Real Time Price',\n",
       " 'triggerable': True,\n",
       " 'customPriceAlertConfidence': 'HIGH',\n",
       " 'esgPopulated': False,\n",
       " 'corporateActions': [],\n",
       " 'regularMarketTime': 1754674201,\n",
       " 'exchange': 'PCX',\n",
       " 'messageBoardId': 'finmb_6160262',\n",
       " 'exchangeTimezoneName': 'America/New_York',\n",
       " 'exchangeTimezoneShortName': 'EDT',\n",
       " 'gmtOffSetMilliseconds': -14400000,\n",
       " 'market': 'us_market',\n",
       " 'regularMarketChangePercent': 0.65333027,\n",
       " 'regularMarketPrice': 636.3807,\n",
       " 'marketState': 'REGULAR',\n",
       " 'shortName': 'SPDR S&P 500',\n",
       " 'longName': 'SPDR S&P 500 ETF',\n",
       " 'firstTradeDateMilliseconds': 728317800000,\n",
       " 'regularMarketChange': 4.1306763,\n",
       " 'regularMarketDayRange': '633.74 - 637.36',\n",
       " 'fullExchangeName': 'NYSEArca',\n",
       " 'financialCurrency': 'USD',\n",
       " 'averageDailyVolume3Month': 72027845,\n",
       " 'fiftyTwoWeekLowChange': 154.58069,\n",
       " 'fiftyTwoWeekLowChangePercent': 0.32083997,\n",
       " 'fiftyTwoWeekRange': '481.8 - 639.85',\n",
       " 'fiftyTwoWeekHighChange': -3.4692993,\n",
       " 'fiftyTwoWeekHighChangePercent': -0.005422051,\n",
       " 'fiftyTwoWeekChangePercent': 18.623234,\n",
       " 'dividendYield': 1.13,\n",
       " 'trailingThreeMonthReturns': 14.17159,\n",
       " 'trailingThreeMonthNavReturns': 14.17159,\n",
       " 'netAssets': 652629770000.0,\n",
       " 'epsTrailingTwelveMonths': 23.551302,\n",
       " 'sharesOutstanding': 917782016,\n",
       " 'bookValue': 429.22,\n",
       " 'fiftyDayAverageChange': 21.334473,\n",
       " 'fiftyDayAverageChangePercent': 0.034687594,\n",
       " 'twoHundredDayAverageChange': 46.948853,\n",
       " 'twoHundredDayAverageChangePercent': 0.07965103,\n",
       " 'netExpenseRatio': 0.0945,\n",
       " 'marketCap': 584058732544,\n",
       " 'priceToBook': 1.4826446,\n",
       " 'sourceInterval': 15,\n",
       " 'exchangeDataDelayedBy': 0,\n",
       " 'cryptoTradeable': False,\n",
       " 'hasPrePostMarketData': True,\n",
       " 'trailingPegRatio': None}"
      ]
     },
     "execution_count": 3,
     "metadata": {},
     "output_type": "execute_result"
    }
   ],
   "source": [
    "dat = yf.Ticker(\"SPY\")\n",
    "dat.info"
   ]
  },
  {
   "cell_type": "code",
   "execution_count": 5,
   "id": "470ac5b5",
   "metadata": {},
   "outputs": [
    {
     "name": "stdout",
     "output_type": "stream",
     "text": [
      "Empty DataFrame\n",
      "Columns: []\n",
      "Index: []\n"
     ]
    }
   ],
   "source": [
    "print(dat.quarterly_income_stmt)"
   ]
  },
  {
   "cell_type": "code",
   "execution_count": null,
   "id": "115c5fa7",
   "metadata": {},
   "outputs": [],
   "source": []
  }
 ],
 "metadata": {
  "kernelspec": {
   "display_name": "py3.12",
   "language": "python",
   "name": "python3"
  },
  "language_info": {
   "codemirror_mode": {
    "name": "ipython",
    "version": 3
   },
   "file_extension": ".py",
   "mimetype": "text/x-python",
   "name": "python",
   "nbconvert_exporter": "python",
   "pygments_lexer": "ipython3",
   "version": "3.13.2"
  }
 },
 "nbformat": 4,
 "nbformat_minor": 5
}
