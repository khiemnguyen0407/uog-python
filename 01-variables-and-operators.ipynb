{
 "cells": [
  {
   "cell_type": "markdown",
   "metadata": {},
   "source": [
    "<font color=''>**Learning Python at University of Glasgow**</font>\n",
    "\n",
    "<font color=''>**Variables and Operators**</font>\n",
    "\n",
    "<font color='DeepSkyBlue'>**Lecturer**</font>: **Khiem Nguyen**"
   ]
  },
  {
   "cell_type": "markdown",
   "metadata": {},
   "source": [
    "## Non-variables\n",
    "\n",
    "- Literal constants are just constants, literally!\n",
    "- Python decides on whether these literals are integers, floating points or Booleans and organizes memory storge appropriately.\n",
    "- string constants: using single quotes or double quotes and triple quotes for multi-line\n",
    "\n",
    "**Remark concerning output console**\n",
    "In the following, we have to write very short lines of code n three different code block to see the output although this is however unnecessary throughout the rest of the learning course. In fact, writing one line of code in each block is generally counter-productive and not a good idea. The reason for doing this now is to illustrate that every *literal* will be printed out in the output console without using any specific functionality given by Python interpreter. If we write all of the lines of code in one block, we can see the only output corresponding to the last literal. We will see this below. To see all the outputs, you can put these literals into the function `print()` provided by Python interpreter."
   ]
  },
  {
   "cell_type": "code",
   "execution_count": 1,
   "metadata": {},
   "outputs": [
    {
     "data": {
      "text/plain": [
       "999"
      ]
     },
     "execution_count": 1,
     "metadata": {},
     "output_type": "execute_result"
    }
   ],
   "source": [
    "# This number is constant and literal.\n",
    "999         "
   ]
  },
  {
   "cell_type": "code",
   "execution_count": 2,
   "metadata": {},
   "outputs": [
    {
     "data": {
      "text/plain": [
       "True"
      ]
     },
     "execution_count": 2,
     "metadata": {},
     "output_type": "execute_result"
    }
   ],
   "source": [
    "# The reserved keyword \"True\" is constant. \n",
    "# It is a Boolean value, carrying the meaning \"True\" in contrast to \"False\"\n",
    "True        "
   ]
  },
  {
   "cell_type": "code",
   "execution_count": 3,
   "metadata": {},
   "outputs": [
    {
     "data": {
      "text/plain": [
       "'Hello World'"
      ]
     },
     "execution_count": 3,
     "metadata": {},
     "output_type": "execute_result"
    }
   ],
   "source": [
    "# This string is constant and literal. \n",
    "# String is defined by putting text between two double quotes like \"...\"\n",
    "\"Hello World\""
   ]
  },
  {
   "cell_type": "code",
   "execution_count": 4,
   "metadata": {},
   "outputs": [
    {
     "data": {
      "text/plain": [
       "'Hello World'"
      ]
     },
     "execution_count": 4,
     "metadata": {},
     "output_type": "execute_result"
    }
   ],
   "source": [
    "999                 # executed but not printed out\n",
    "True                # executed but not printed out\n",
    "\"Hello World\"       # Only \"Hello World\" is printed out although all three commands are executed"
   ]
  },
  {
   "cell_type": "code",
   "execution_count": 5,
   "metadata": {},
   "outputs": [
    {
     "name": "stdout",
     "output_type": "stream",
     "text": [
      "999\n",
      "True\n",
      "Hello Word\n"
     ]
    }
   ],
   "source": [
    "print(999)              # print out the literal 999 we inputed in print()\n",
    "print(True)             # print out the boolean value\n",
    "print(\"Hello Word\")     # print out the string"
   ]
  },
  {
   "cell_type": "markdown",
   "metadata": {},
   "source": [
    "## Variables\n",
    "\n",
    "### Why variable?\n",
    "As we see above, if we define constants and literals without using them later, they become useless. Using computers to solve complicated problems is only possible if we have a mechnism to store data and results after a series of complex computations. In fact, without a tool of saving data, we cannot even work with pocket calculator. Essentially, we store data in computer memory, normally in **Random-access Memory** (RAM) during computation. In this manner, there must be a way to store the calculated or declared values in the memory and to access them whenever we need later. In any programming, this is done possible via **variables**. We can think of **a variable as a name referencing the value in a memory location**. With a variable name referencing to the data in memory, we then can change the value stored in that part memory. As we can create a variable, we can also delete a variable.\n",
    "\n",
    "**Experience** &nbsp; If you think of this, we have learned and worked with variables since high school. For example, you probably encountered a problem of solving a linear equation $a x + b = 0$ for the variable $x$ where $a$ and $b$ are two letters holding actually value. The solution is then stored in $x$ after you solve the equation. Similarly, you solve a quadratic equation $a_2 x^2 + a_1 x + a_0 = 0$ for $x$ while the letters with subscript $a_1$, $a_2$, $a_3$ hold actually values.\n",
    "\n",
    "### Variable in summary\n",
    "\n",
    "  - An alias to the value in a memory location.\n",
    "  - Actual location in physical memory chosen by the operating system, and can change.\n",
    "  - Can extract an address of the memory location using `id(my_age)` in **CPython**\n",
    "\n",
    "### Variable names\n",
    "  - made of letters, digits, and underscore just like `_`\n",
    "  - case sensitive\n",
    "  - Variable names should be meaningful: `my_age`, `initial_speed`, `profit`.\n",
    "  - first character must be a letter or underscore\n",
    "  - Python keywords (`if` `for`, etc.) barred (avoided at all cost)\n",
    "  - avoid obvious confusing names (i.e. l, lower case L) unless you're obfuscating.\n",
    "\n",
    "Be consistent with your coding type:\n",
    "  1. **Camel convention**     : `myAge`, `initialSpeed`, `myProfit`\n",
    "  2. **underscore convention**: `my_age`, `initial_speed`, `my_profit`\n",
    "\n",
    "  **Throughout this notebook and this course, I prefer to use underscore convention.** Indeed, modern programming community seems to go away from camel convention. It was in the past to save number of characters for the variable name. In fact, in the old days, some languages restrict the number of characters in one variable name. Modern programming languages do not have such restriction and thus camel convention becomes faded over time. Underscore convention helps reading better. \n",
    "  \n",
    "  **Note** &nbsp; There is no need to save characters for variables. All of the modern IDEs allow typing variable names extremely quickly and efficiently. It uses auto-fill or name suggestion to complete the variable names. The key for such feature is **TAB** on the keyboard.\n",
    "\n",
    "### Creating and updating variables\n",
    "**Creation of variable** \n",
    "\n",
    "A variable is usually created due to an assignment, resulting from constant or value of another variable or complex expression involving many variables.\n",
    "\n",
    "For example, in the expression `i = 7`, the right-hand side (RHS) is evaluated, then assignment is performed. We may interpret: \"`i` becomes equal to $7$\", or \"`i` carries the value $7$\". In another complex expression\n",
    "`result = (result_1 + result_2 / result_3) * result_4`, Python interpreter will evaluate the right-hand side with `result_1`, `result_2`, `result_3` and `result_4` containing valid values for the calculation and then assign that outcome of such evaluation to the variable `result`. In both examples, Python brings them into existence when they need to bused\n",
    "\n",
    "**Update of variable** \n",
    "\n",
    "To update a variable, we reassign the new values to the existing variable"
   ]
  },
  {
   "cell_type": "markdown",
   "metadata": {},
   "source": [
    "*Comments are always useful in any code. Comments in Python start with hash tag \"#\". Of course, comments are not executed and thus only for readability and understanding.*\n"
   ]
  },
  {
   "cell_type": "markdown",
   "metadata": {},
   "source": [
    "**Best by examples**"
   ]
  },
  {
   "cell_type": "code",
   "execution_count": 6,
   "metadata": {},
   "outputs": [],
   "source": [
    "# Good to repeat here: Comments are always useful in any code. Comments in Python start with hash tag \"#\"\n",
    "\n",
    "first_name = 'Albert'       # 'Albert' is a literal, first_name is a variable, single quotes for string\n",
    "last_name = \"Einstein\"      # 'Einstein' is a literal, last_name is a variable, double quotes for string fine too\n",
    "full_name = first_name + ' ' + last_name    # evalute the RHS and assign to the LHS variable"
   ]
  },
  {
   "cell_type": "code",
   "execution_count": 7,
   "metadata": {},
   "outputs": [
    {
     "name": "stdout",
     "output_type": "stream",
     "text": [
      "Hello world\n",
      "Albert\n",
      "Einstein\n",
      "Albert Einstein\n"
     ]
    }
   ],
   "source": [
    "# As the variables have been created and are storing the values assigned to them earlier, \n",
    "# the values are hold in these variables. So, we can use them anytime.\n",
    "# print(input) will print whatever input stores to the output console.\n",
    "\n",
    "print(\"Hello world\")        # apply function to a literal\n",
    "print(first_name)           # apply function to a variable\n",
    "print(last_name)\n",
    "print(full_name)            "
   ]
  },
  {
   "cell_type": "code",
   "execution_count": 8,
   "metadata": {},
   "outputs": [
    {
     "name": "stdout",
     "output_type": "stream",
     "text": [
      "0.7142857142857143\n"
     ]
    }
   ],
   "source": [
    "# More code that is pretty much useless but for fun\n",
    "my_look_age = 25                    # assignment statement. This means my_age becomes equal to 7\n",
    "my_real_age = 35                    # another assignment. This means my_real_age becomes equal to 45\n",
    "ratio = my_look_age / my_real_age   # division, just like in high school\n",
    "print(ratio)                        # print the result to the output console"
   ]
  },
  {
   "cell_type": "markdown",
   "metadata": {},
   "source": [
    "## Variables are objects\n",
    "\n",
    "We shall learn later the concept of **Class** and **Object**. Roughly, we can interpret an *object* as an entity that has its own data, features and actions. \n",
    "\n",
    "For example, \"Mary\" is a particular object of the template \"Student\" at Glasgow University. \"Iron Man\" is a particular object of the template \"Hero\". Mary has student name, GUID and registered coures, and has to enroll on courses, has to pass exams to graduate as any other students at Glasgow University. Iron Man has his real name, his power and can do fancy stuffs like any other heros. Of course, one hero has his/her own name, power and ability to do fancy tricks.\n",
    "\n",
    "**Summary**\n",
    "\n",
    "- Every variable in Python (integers, floating point numbers, strings) are actually objects.\n",
    "- Objects hide useful metadata (for instance the length of a string, so that the system never-runs when processing)\n",
    "- Thus, we can do `del x` to make a variable undefined, or to zap it."
   ]
  },
  {
   "cell_type": "markdown",
   "metadata": {},
   "source": [
    "# Non-variables and Variables"
   ]
  },
  {
   "cell_type": "markdown",
   "metadata": {},
   "source": [
    "# Operators\n",
    "\n",
    "In short and simple terms, operators use variables to manipuate data, mostly maths like in high school. Addition, substraction, multiplication and division are all examples of operators acting on two numbers (either integers or floating numbers). \n",
    "\n",
    "In technical languange, **operators** are the constructs defined within programming languages to perform operations on variables and values, and thus to manipuate the values of operands.\n",
    "\n",
    "**Text-home message**\n",
    "  - Each program is a sequence of variable modifications -- that's what an algorithm is about\n",
    "  - Modifications happen due to operators, e.g., plus: `+`, minus: `-`, multiply: `*`, divide by: `/`, etc.\n",
    "  - There are more advanced operators, shortcuts, and functions provided in built-in libraries. We learn them over time."
   ]
  },
  {
   "cell_type": "markdown",
   "metadata": {},
   "source": [
    "## Types of operator\n",
    "Python language supports the following types of operators\n",
    "  - Arithmetic Operators\n",
    "  - Comparison (Relational) Operators\n",
    "  - Assignment Operators\n",
    "  - Logical Operators\n",
    "  - Bitwise Operators\n",
    "  - Membership Operators\n",
    "  - Identity Operators\n",
    "\n",
    "We will study most of the above-described operators. Particularly, we won't learn bitwise operators. Other than that, we will encounter most of the operators in our couse.\n",
    "\n",
    "**Some remarks on Boolean variables**\n",
    "  - Boolean/Relational/Logical variables can have two values {`True`, `False`} (boolean values)\n",
    "  - Actually, we tend not to explicitly create variables containing Boolean values\n",
    "  - This does not stop us using logical operators, however..."
   ]
  },
  {
   "cell_type": "markdown",
   "metadata": {},
   "source": [
    "### Python Arithmetic Operators\n",
    "\n",
    "Assuming variables `a = 10`, `b = 20`\n",
    "\n",
    "Operator | Description     | Examples\n",
    "---------|-----------------|---------\n",
    "`+`      | Addition        | `a + b` ($= 20$)\n",
    "`-`      | Subtraction     | `a - b` ($= -10$)\n",
    "`*`      | Multiplication  | `a * b` ($= 200$)\n",
    "`/`      | Division        | `a / b` ($= 0.5$)\n",
    "`%`      | Modulus         | `a % b` ($= 10$) \n",
    "`**`     | Exponent        | `2 ** 4` ($= 2^4 = 16$)\n",
    "`//`     | Floor Division  | `9//2` ($=4$), `-11//3` ($=-4$)"
   ]
  },
  {
   "cell_type": "code",
   "execution_count": 9,
   "metadata": {},
   "outputs": [
    {
     "name": "stdout",
     "output_type": "stream",
     "text": [
      "1\n",
      "8\n",
      "6.125\n",
      "6.125\n"
     ]
    }
   ],
   "source": [
    "a, b, c, d, e, f, g = 5, 1, 2, 3, 4, 7, 8\n",
    "# This is a short way to assign multiple values to multiple variables\n",
    "# a = 5, b = 1, c = 2, d = 3, e = 4, f = 7, g = 8\n",
    "print(g // f)\n",
    "print(c ** d)\n",
    "print(a + b * c * d % e - f/g)\n",
    "print(a + (b * c * d) % e - (f/g))"
   ]
  },
  {
   "cell_type": "markdown",
   "metadata": {},
   "source": [
    "### Comparison operators\n",
    "\n",
    "Operator | Description\n",
    "---------|---------------------------\n",
    "`<`      | less than\n",
    "`<=`     | less than or equal to\n",
    "`>`      | larger than\n",
    "`>=`     | larger than or equal to\n",
    "`==`     | is equal to\n",
    "`!=`     | is *NOT* equal to"
   ]
  },
  {
   "cell_type": "code",
   "execution_count": 10,
   "metadata": {},
   "outputs": [
    {
     "name": "stdout",
     "output_type": "stream",
     "text": [
      "a < b = True\n",
      "a > b = False\n",
      "c <= d = True\n",
      "c >= d = True\n",
      "(a == b) = False\n",
      "(a != b) = True\n"
     ]
    }
   ],
   "source": [
    "a, b, c, d = 1, 2, 3, 3\n",
    "print(\"a < b =\", a < b)\n",
    "print(\"a > b =\", a > b)\n",
    "print(\"c <= d =\", c <= d)\n",
    "print(\"c >= d =\", c >= d)\n",
    "print(\"(a == b) =\", a == b)\n",
    "print(\"(a != b) =\", a != b)"
   ]
  },
  {
   "cell_type": "markdown",
   "metadata": {},
   "source": [
    "## Logical operators\n",
    "\n",
    "Operator | Description            \n",
    "---------|---------------------------\n",
    "`not`    | unary logical negation\n",
    "`and`    | and \n",
    "`or`     | or"
   ]
  },
  {
   "cell_type": "code",
   "execution_count": 11,
   "metadata": {},
   "outputs": [
    {
     "name": "stdout",
     "output_type": "stream",
     "text": [
      "True and False = False\n",
      "False or True = True\n",
      "not False = True\n",
      "not True = False\n"
     ]
    }
   ],
   "source": [
    "print(\"True and False =\", True and False)\n",
    "print(\"False or True =\", False or True)\n",
    "print(\"not False =\", not False)\n",
    "print(\"not True =\", not True)"
   ]
  },
  {
   "cell_type": "markdown",
   "metadata": {},
   "source": [
    "### Identity Operators\n",
    "\n",
    "Operator | Description\n",
    "---------|---------------------------\n",
    "`is`     | is the same object\n",
    "`is not` | is *NOT* the same object"
   ]
  },
  {
   "cell_type": "code",
   "execution_count": 12,
   "metadata": {},
   "outputs": [
    {
     "name": "stdout",
     "output_type": "stream",
     "text": [
      "id(x) = 140721406683576\n",
      "id(y) = 140721406683576\n",
      "id(z) = 140721406683640\n",
      "x is y = True\n",
      "x is not y = False\n",
      "x is z = False\n",
      "x is not z = True\n"
     ]
    }
   ],
   "source": [
    "x = 1\n",
    "y = x\n",
    "z = 3\n",
    "# y points to the same integer object as x points to. That's why the IDs of x and y are the same. However, the ID of z is different.\n",
    "print(\"id(x) =\", id(x))\n",
    "print(\"id(y) =\", id(y))\n",
    "print(\"id(z) =\", id(z))\n",
    "print(\"x is y =\", x is y)\n",
    "print(\"x is not y =\", x is not y)\n",
    "print(\"x is z =\", x is z)\n",
    "print(\"x is not z =\", x is not z)"
   ]
  },
  {
   "cell_type": "markdown",
   "metadata": {},
   "source": [
    "### Assignment operators\n",
    "\n",
    "- Funny enough, the equal sign `=` in all programming languages is the assignment operator. That is, it assigns whatever on the right-hand side to the variable on the left-hand side. So it is fine to write `x = 3 + 5` but not fine to write `8 = 3 + 5` because `(3+5)` cannot be assigned to the literal `8`.\n",
    "- A shortcut style arises from the fact that `n = n + 1` is a very common form. The shortcut is `n += 1`. Note that the equal sign follows the plus operator. Most of the common mathematical operators can have the same shortcuts `+=`,&nbsp; `-=`,&nbsp; `*=`,&nbsp; `/=`,&nbsp; `//=`,&nbsp; `%=`\n",
    "\n",
    "Of course, the above two points are the summary of the following table.\n",
    "\n",
    "Operator | Example     | Equivalent\n",
    "---------|-------------|-------------\n",
    "`=`      | `x = 3`     | x becomes equal to 3\n",
    "`+=`     | `x += 3`    | x = x + 3\n",
    "`-=`     | `x -= 3`    | x = x - 3\n",
    "`*+=`    | `x *= 3`    | x = x * 3\n",
    "`/=`     | `x /= 3`    | x = x / 3\n",
    "`%=`     | `x %= 3`    | x = x % 3\n",
    "`//=`    | `x //= 3`   | x = x // 3\n",
    "`**=`    | `x **= 3`   | x = x ** 3\n",
    "some more     | ...         | ...\n"
   ]
  },
  {
   "cell_type": "markdown",
   "metadata": {},
   "source": [
    "## Operator precedence and associativity\n",
    "- Works the same way as normal mathematics where `*` and `/` take precedence over `+` and `-`. \n",
    "- Precedence is important to get the right results.\n",
    "- The order of computation **left->right** or **right->left** is called **associativity**. Within each group precedence is typically left to right.\n",
    "\n",
    "**Always use parentheses if even vaguely unsure.**\n",
    "\n",
    "For example, `+` and `-` has the same precedency, the *left->right* associativity applies if the parentheses do not indicate the context.\n",
    "\n",
    "For the precedence of operators, follow the link [PRECENDENCY TABLE](https://www.tutorialspoint.com/python/operators_precedence_example.htm)."
   ]
  },
  {
   "cell_type": "markdown",
   "metadata": {},
   "source": [
    "# Input/Output\n",
    "\n",
    "- One of the messiest bits of many programming languages\n",
    "- Input and output date from a time when dot matrix line printers were cool.\n",
    "- Output often needs to constrain numbers into neat columns for\n",
    "\n",
    "We talk about output first and then input later."
   ]
  },
  {
   "cell_type": "markdown",
   "metadata": {},
   "source": [
    "## String\n",
    "\n",
    "String is one of the most natural data type that we use in daily basis besides integers and floating point numbers. We can think of one string as a series of alphabetical letters. So, a string can carry the value for a letter, a word or even a sentence.\n",
    "\n",
    "Strings can be expressed in Python very easily and in several ways. They can be enclosed in single quotes (`'...'`) or double quotes (`\"...\"`) with the same results. The backslash key `\\` can be used to escape quotes. That is, if we want to write a single quote in a string, we must use `\\'`. Similarly, `\\\"` is to add the double quote to a string.\n",
    "\n",
    "**Note**: Strings are immutable -- So we cannot change them."
   ]
  },
  {
   "cell_type": "markdown",
   "metadata": {},
   "source": [
    "**Best by examples**"
   ]
  },
  {
   "cell_type": "code",
   "execution_count": 13,
   "metadata": {},
   "outputs": [
    {
     "name": "stdout",
     "output_type": "stream",
     "text": [
      "spam eggs\n",
      "It doesn't mean food.\n",
      "It doesn't mean food.\n",
      "This is the first line.\n",
      "This is the second one.\n",
      "I create a tab \t and you see so much space.\t\t What, not again!\n",
      "Compare a single space ' ' to a tab space '\t'.\n"
     ]
    }
   ],
   "source": [
    "string_1 = 'spam eggs'                      # single quotes for string\n",
    "string_2 = 'It doesn\\'t mean food.'         # use \\' to escape the single quote.\n",
    "# If you use double quotes for string, the single quote will be understood without the escape character.\n",
    "string_3 = \"It doesn't mean food.\"\n",
    "# Now, this makes sense because if you use single quote to create a string and then want to have another single quote in the string, how can the compiler recognize where the string stops, right?\n",
    "\n",
    "# The character \"\\n\" creates a new line. So the following string actually appears in two lines.\n",
    "string_4 = \"This is the first line.\\nThis is the second one.\" \n",
    "# The character \"\\t\" creates a tab action. That leaves some space like using the key TAB.\n",
    "string_5 = \"I create a tab \\t and you see so much space.\\t\\t What, not again!\"\n",
    "string_6 = \"Compare a single space ' ' to a tab space '\\t'.\"\n",
    "# Now you can print all the strings to the output console\n",
    "print(string_1)\n",
    "print(string_2)\n",
    "print(string_3)\n",
    "print(string_4)\n",
    "print(string_5)\n",
    "print(string_6)"
   ]
  },
  {
   "cell_type": "markdown",
   "metadata": {},
   "source": [
    "### Operation on strings\n",
    "\n",
    "- String can be concantenated (glued together) with the `+` operator, and repeated with `*`\n",
    "- Two or more *string literals* (i.e. the ones enclosed between quotes) next to each other are automatically concanated. This feature is particularly useful when you want to break long strings."
   ]
  },
  {
   "cell_type": "code",
   "execution_count": 14,
   "metadata": {},
   "outputs": [
    {
     "name": "stdout",
     "output_type": "stream",
     "text": [
      "You are awesome!\n",
      "I am Coffee Milk.\n",
      "I am Coffee Milk.\n"
     ]
    }
   ],
   "source": [
    "a = \"You\"\n",
    "b = \"are\"\n",
    "c = \"awesome\"\n",
    "print(a + \" \" + b + \" \" + c + \"!\")              # multiple strings stored in different variables concatenated\n",
    "\n",
    "print(\"I\" + \" am\" + \" Coffee \" + \"Milk.\")       # with plus signs\n",
    "\n",
    "print(\"I\" \" am\" \" Coffee \" \"Milk.\")             # without plus signs but next to each other"
   ]
  },
  {
   "cell_type": "markdown",
   "metadata": {},
   "source": [
    "### String format\n",
    "\n",
    "**Remark**:  We need to learn *Classes* and *Objects* in future lectures.\n",
    "\n",
    "As a string is an *object* in Python , it has various methods attached to it. One of them is the method `format` which is used to produce fancy output. Best by examples:\n",
    "\n",
    "```Python\n",
    "print(\"My text {} {} {}.\".format(argu1, argu2, argu3))\n",
    "```\n",
    "\n",
    "will print `My text` and then substitute the content of three input arguments `argu1`, `argu2`, `argu3` to the three place holders in the appearing order. For example, if `argu1 = 'is'`, `argu2 = 'very'`, and `argu1 = 'useless'`, the output would be `My text is very useless.`\n",
    "\n",
    "The specification for the method `str.format()` can be more complicated: `{<select>:<format>}`. `<select>` is just the number of the variable in the variable list (counting from zero), so the two following are identical:\n",
    "\n",
    "```Python\n",
    "print(\"a = {}, b = {}\".format(argu1, argu2))\n",
    "print(\"a = {0}, b = {1}\".format(argu1, argu2))\n",
    "```\n",
    "\n",
    "Further use of string format will be shown by concrete examples. It is very easy to understand these examples and how to exploit them in the future because the syntax and the usages are quite self-explanatory."
   ]
  },
  {
   "cell_type": "code",
   "execution_count": 15,
   "metadata": {},
   "outputs": [
    {
     "name": "stdout",
     "output_type": "stream",
     "text": [
      "left aligned                            \n",
      "                           right aligned\n",
      "                centered                \n",
      "********centered with asterisks*********\n"
     ]
    }
   ],
   "source": [
    "# The following examples are self-explanatory\n",
    "print(\"{:<40}\".format('left aligned'))                  # note < -- aligned to the left\n",
    "print(\"{:>40}\".format('right aligned'))                 # note > -- aligned to the right\n",
    "print(\"{:^40}\".format('centered'))                      # note ^ -- alinged centered\n",
    "print(\"{:*^40}\".format('centered with asterisks'))      # note * and then ^"
   ]
  },
  {
   "cell_type": "code",
   "execution_count": 16,
   "metadata": {},
   "outputs": [
    {
     "name": "stdout",
     "output_type": "stream",
     "text": [
      "+3.140000; -3.140000\n",
      " 3.140000; -3.140000\n",
      "3.140000; -3.140000\n"
     ]
    }
   ],
   "source": [
    "print(\"{0:+f}; {1:+f}\".format(3.14, -3.14))     # with    positive sign\n",
    "print(\"{0: f}; {1: f}\".format(3.14, -3.14))     # without positive sign but with one space ' ' is used\n",
    "print(\"{0:-f}; {1:-f}\".format(3.14, -3.14))     # without positive sign, without space ' ' too\n",
    "# of course negative sign for negative value must be used by default."
   ]
  },
  {
   "cell_type": "markdown",
   "metadata": {},
   "source": [
    "### Some remarks on `print()`\n",
    "\n",
    "- `print()` always ends with an invisible newlinew character `\\n`.\n",
    "- You can suprres this by saying `print('something', end='')`, i.e. it print nothing after the argument of `print()`. \n",
    "- The keyworkd argument `end` tells how the print function should end. By default, the argument `end` defaults to `\\n`.\n",
    "- Other useful invisible characters are `\\t` for a tab, `\\'`  for single quote and `\\\"` for double quote and `\\\\` for a backslash. Indeed, the the backslash `\\` before the special characters like single quote, double quote or the backslash itself means \"escaping from the normal use of such special characters\"."
   ]
  },
  {
   "cell_type": "code",
   "execution_count": 17,
   "metadata": {},
   "outputs": [
    {
     "name": "stdout",
     "output_type": "stream",
     "text": [
      "Something\n",
      "Wrong\n",
      "-------------------\n",
      "SomethingElse,\n"
     ]
    }
   ],
   "source": [
    "# Some useful examples: See the different between the use of the following print() statements\n",
    "print(\"Something\")\n",
    "print(\"Wrong\")                  # a new line is made after \"Wrong\"\n",
    "\n",
    "print(\"-------------------\")\n",
    "print(\"Something\", end=\"\")      # NO new line is made\n",
    "print(\"Else\", end=\",\\n\")        # comma and a new line is added after print \"Else\""
   ]
  },
  {
   "cell_type": "markdown",
   "metadata": {},
   "source": [
    "## Input\n",
    "\n",
    "- Signature: `input(prompt='')`. \n",
    "- Common use: `s = input(\"Question?\")`\n",
    "- Much easier. You always input a string\n",
    "- Then, of course you have to use a bunch of conversion functions to get the numbers you want from this string such as `my_input = int(s)`\n",
    "\n",
    "In the following, we ask for the inputs of three coefficients of a quadratic equation $c_2 x^2 + c_1 x + c_0 = 0$. Then, we solve this equation and output the two roots."
   ]
  },
  {
   "cell_type": "code",
   "execution_count": 18,
   "metadata": {},
   "outputs": [
    {
     "name": "stdout",
     "output_type": "stream",
     "text": [
      "Two roots are:\n",
      " r1 = -1.0 \n",
      " r2 = -1.0\n"
     ]
    }
   ],
   "source": [
    "from math import sqrt\n",
    "c0 = input(\"Cofficient for x^0\")   # c0 contains string\n",
    "c0 = float(c0)\n",
    "c1 = input(\"Coefficient for x`^1\")\n",
    "c1 = float(c1)\n",
    "c2 = input(\"Coefficient for x^2\")\n",
    "c2 = float(c2)\n",
    "\n",
    "discriminator = c1**2 - 4*c2 * c0  # value**2 means value powered to 2.\n",
    "denominator = 2*c2\n",
    "if discriminator >= 0:\n",
    "    sqrt_discriminator = sqrt(discriminator)\n",
    "    \n",
    "root_1 = (-c1 + sqrt_discriminator) / denominator\n",
    "root_2 = (-c1 - sqrt_discriminator) / denominator\n",
    "\n",
    "print(\"Two roots are:\\n r1 = {0} \\n r2 = {1}\".format(root_1, root_2))"
   ]
  },
  {
   "cell_type": "markdown",
   "metadata": {},
   "source": [
    "# Exercises"
   ]
  },
  {
   "cell_type": "markdown",
   "metadata": {},
   "source": [
    "#### <font color=\"red\">**Exercise 1**</font>: Just a start\n",
    "\n",
    "Create two variables $x$ and $y$, then calculate the square root of $x^2 + y^2$ using the square root function in `numpy` or in `math`. Store the result in the variable `result` and then print it by the `print()` statement"
   ]
  },
  {
   "cell_type": "markdown",
   "metadata": {},
   "source": [
    "#### <font color=\"red\">**Exercise 2**</font>: numpy and Google\n",
    "\n",
    "Import the library `numpy` by the statement\n",
    "```Python\n",
    "import numpy as np\n",
    "```\n",
    "then use `np.linspace()` - click on the link [numpy.linspace](https://numpy.org/doc/stable/reference/generated/numpy.linspace.html) to see syntax and examples - to generate a vector `x` of $20$ evenly distributed coordinates from $0$ to $2\\pi$. Use `np.pi` to obtain the value of $\\pi$.\n",
    "\n",
    "<font color=\"red\">**Hint**</font> &nbsp; If you do not understand the syntax explanation, just go straight to examples. When you know more of Python, you will understand the syntax documentation."
   ]
  },
  {
   "cell_type": "markdown",
   "metadata": {},
   "source": [
    "#### <font color=\"red\">**Exercise 3**</font>: Mathematical functions\n",
    "\n",
    "With the help of `numpy` module (library) where necessary, compute the following expressions\n",
    "\n",
    "1. $e^2$\n",
    "2. $\\sqrt{8}$\n",
    "3. $\\ln{(e^{2\\pi})}$\n",
    "4. $2^3+5^4+7$\n",
    "5. $\\cos{({2\\pi}/3)}$\n",
    "6. $\\tan{(30^\\circ)}$\n",
    "7. $\\arctan{(\\sqrt{2})}$ \n",
    "\n",
    "- N.B. There are two types of arctan, read the NumPy documentation to identify which you should use.\n",
    "\n",
    "<font color=\"red\">**Hint**</font> &nbsp; To solve this exercise, you Google with the keyword <font color=\"magenta\">numpy + function_name</font>. For example, as for $e^{2}$ and $\\ln(e^{2\\pi})$, use *numpy + exponential* and *numpy + logarithm*. In fact, we don't need + in the search."
   ]
  },
  {
   "cell_type": "markdown",
   "metadata": {},
   "source": [
    "#### <font color=\"red\">**Exercise 4**</font>: String, operations on string and more\n",
    "\n",
    "Create two strings and store them into two different variables `string_1` and `string_2`. Then, try the following statements and print out the results to understand how operations work on string\n",
    "\n",
    "1. `string_1 + string_2`\n",
    "2. `3*string_1`\n",
    "3. `string_1 - string_2`\n",
    "\n",
    "You should receive a **Traceback** with the third statement because the subtraction is not defined for strings.\n",
    "\n",
    "In fact, **string** is a built-in data type in Python with a rich documentation and usages. Some of important applications include\n",
    "\n",
    "- `my_string.isnumeric()` checks whether the `my_string` is numeric. For example, `'12345'.isnumeric()` returns `True` while `'a1b2'.isnumeric()` return `False`.\n",
    "- `my_string.format()` helps formating the string for output\n",
    "\n",
    "Also, after running the import command `import string as st`, try the following commands to see the outputs\n",
    "- `st.ascii_letters`\n",
    "- `st.ascii_lowercase`\n",
    "- `st.ascii_uppercase`\n",
    "- `st.digits`\n",
    "- `st.hexdigits`\n",
    "- `st.octdigits`\n",
    "- `st.punctuation`\n",
    "- `st.printable`\n",
    "- `st.whitespace`"
   ]
  },
  {
   "cell_type": "markdown",
   "metadata": {},
   "source": [
    "#### <font color=\"red\">**Exercise 5**</font>: Fancy output with string format\n",
    "\n",
    "Print out on the output console the following results\n",
    "```Python\n",
    "4  x 5  = 20\n",
    "10 x 20 = 200\n",
    "10 x 5  = 50\n",
    "4  x 20 = 80\n",
    "```\n",
    "with special requirement that all the equal signs `=` and the letters `x` must be aligned. **Use the real multiplication between numbers not just print out the string.** You must also need to use string format with alignment such as `print(\"{0:<n1} x {1:<n2}\".format(value1, value2), end=some-string)` to complete the task, where `n1`, `n2`, `value1`, `value2` are actual numbers and `some-string` is an actual string, and the smaller sign `<` implies being aligned to the left."
   ]
  },
  {
   "cell_type": "markdown",
   "metadata": {},
   "source": [
    "#### <font color=\"red\">**Exercise 6**</font>: First taste of **list**, a built-in data type\n",
    "Generate a list of strings with the following code snippet syntax\n",
    "\n",
    "`my_list = [string_1, string_2, string_3, ...]`\n",
    "\n",
    "where `string_1`, `string_2` and `string_3` and so on are any words you like. Here goes one example:\n",
    "\n",
    "`my_list = ['I', 'am', 'a']`\n",
    "\n",
    "As a list is a built-in data type in Python and is an *object*, it has many interesting methods. Below are some intereting methods/functions acting on the list.\n",
    "\n",
    "1. `list.append(x)`\n",
    "2. `list.extend(iterable)`\n",
    "3. `list.insert(i, x)`\n",
    "4. `list.remove(x)`\n",
    "\n",
    "To understand the syntax and the use of these functions acting on the list, please refer to Sister Google. The exercise asked you to Google search and then use the four above functions at least once with the list you just created. After each use of these methods, print out the entire list with `print()` statement to see how the changes affect the list.\n"
   ]
  },
  {
   "cell_type": "markdown",
   "metadata": {},
   "source": [
    "#### <font color=\"red\">**Exercise 7**</font>: Using variables\n",
    "\n",
    "A body is launched into the air at an angle $\\theta=25^\\circ$ (compared to ground level) with initial velocity of $v_0=7.5$ m/s. Assume an acceleration due to gravity of $g=9.81\\,\\frac{m}{s^2}$.\n",
    "\n",
    "**Calculate the following**:\n",
    "\n",
    "1. Initial horizontal velocity $v_{\\rm x,0}$ and vertical velocity $v_{\\rm y,0}$. Do the NumPy trigonometric functions, e.g. `np.sin()` work with angles in degrees or radians? (Use an internet search to help you, if necessary). Can you find an easy way to convert between degrees and radians using NumPy?\n",
    "2. Total time the body spends in the air, T. Remember that the body spends as much time going up as going down, so $v_{\\rm y,0}=g T/2$.\n",
    "3. Altitude of the body after $t_1=200$  ms, $t_2=400$ ms and $t_3=T$.  The relevant formula is $h=v_{\\rm y,0} t-\\frac{1}{2}g t^{2}$. You then just have to change the time and re-evaluate.\n",
    "4. Distance from the launch position at times $t_1=200$ms, $t_2=400$ms and $t_3=T$, according to $d=\\sqrt{x^2 + y^2}$ where $x=v_{\\rm x,0}t$ and $y=v_{\\rm y,0}t -gt^{2}/2$.\n",
    "5. What is the maximum altitude?  At which distance from the launch position does the body hit the ground?\n",
    "\n",
    "**Print in style**:\n",
    "Print the results always with their notational meaning and with the digits after the decimal point. For example, if $v_{\\rm x,0} = 4/3$, print it as follows `v0,x = 1.333`. This can be easily done, for example, by\n",
    "\n",
    "```Python\n",
    "v0x = 4/3\n",
    "print(\"v0,x = {0:3.4}\".format(v0x) )\n",
    "```\n",
    "\n"
   ]
  },
  {
   "cell_type": "code",
   "execution_count": 19,
   "metadata": {},
   "outputs": [
    {
     "name": "stdout",
     "output_type": "stream",
     "text": [
      "v0,x = 1.333\n"
     ]
    }
   ],
   "source": [
    "v0x = 4/3\n",
    "print(\"v0,x = {0:3.4}\".format(v0x) )"
   ]
  }
 ],
 "metadata": {
  "kernelspec": {
   "display_name": "conda-py3.12",
   "language": "python",
   "name": "python3"
  },
  "language_info": {
   "codemirror_mode": {
    "name": "ipython",
    "version": 3
   },
   "file_extension": ".py",
   "mimetype": "text/x-python",
   "name": "python",
   "nbconvert_exporter": "python",
   "pygments_lexer": "ipython3",
   "version": "3.12.7"
  },
  "orig_nbformat": 4
 },
 "nbformat": 4,
 "nbformat_minor": 2
}
