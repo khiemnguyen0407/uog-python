{
 "cells": [
  {
   "cell_type": "markdown",
   "metadata": {},
   "source": [
    "<font color=\"\">**Learning Python at University of Glasgow**</font>\n",
    "\n",
    "<font color=\"\">**Builtin Data Structures**</font>\n",
    "\n",
    "<font color=\"DeepSkyBlue\">**Lecturer**</font>: **Khiem Nguyen**"
   ]
  },
  {
   "cell_type": "markdown",
   "metadata": {},
   "source": [
    "# Useful built-in data structures in Python\n",
    "\n",
    "Python knows a number of *compound* data types, used to group together other values. We learn in this Notebook three important compound data types: (1) list, (2) tuple, and (3) dictionary. These three data structures are widely and commonly used \n",
    "\n",
    "**Short summary**\n",
    "***\n",
    "<font color=\"yellow\"> **List** </font>\n",
    "- A list might contain items different types, but usually the iterms all have the same type.\n",
    "- It can be written as *a list of comma-seperated values (iterms) between square brackets.*\n",
    "- It is mutable in the sense we can change the values of items in the list.\n",
    "- It is an object equipped with many useful list methods. We need to study *object-oriented programming* later to understand what an object is.\n",
    "\n",
    "As a consequence, a list may contain many lists in itself.\n",
    "\n",
    "*Examples*:\n",
    "        \n",
    "```Python\n",
    "my_list = [1, 'two', 3, 'four']\n",
    "my_list[0] = 'one'\n",
    "my_list[1] = 2\n",
    "```\n",
    "\n",
    "***\n",
    "<font color=\"yellow\"> **Tuple** </font>\n",
    "- A tuple might contains data of different types, just like a list.\n",
    "- It is immutable in the sense we *cannot* change the values of its items.\n",
    "- It is an object equipped with several useful methods.\n",
    "\n",
    "*Example*:\n",
    "```Python\n",
    "a1, a2, a3, a4 = 1, 'two', 3, 'four'\n",
    "my_tuple = (1, 'two', 3, 'four')\n",
    "# my_tuple[0] = 'one' would give error\n",
    "```\n",
    "\n",
    "***\n",
    "<font color=\"yellow\"> **Dictionary** </font>\n",
    "- A dictionary is defined by many pairs `key-value` just like a dictionary\n",
    "- It is mutable in the sense that we can update and change its value.\n",
    "- It is object equipped with several useful methods.\n",
    "\n",
    "*Example*:\n",
    "```Python\n",
    "my_dict = {'one': 1, 2 : 'two', 'three': 3, 4: 'four'}\n",
    "```"
   ]
  },
  {
   "cell_type": "markdown",
   "metadata": {},
   "source": [
    "## List\n",
    "\n",
    "### Introduction and syntax\n",
    "We have already used list before in the last notebooks and lectures. List is a built-in data structure in Python.\n",
    "\n",
    "**Syntax**\n",
    "\n",
    "`[item_1, item_2, item_3, ...]`\n",
    "\n",
    "The items `item_1`, `item_2`, `item_3` and so on in the list do not have to be of the same type. So, a list can contain floating numbers, strings, or any kind of data type. We say a list contains heterogenous data. \n",
    "\n",
    "We can update the value of the items in the list. Thus, we say a list is **mutable**, i.e., we can reassign the values of the list and thus update it.\n",
    "\n",
    "***\n",
    "**Using list in a `for` loop**\n",
    "\n",
    "A list is frequently used in a `for` loop. Let us assume that `looping_list` is a list, then in the statement\n",
    "```Python\n",
    "for element in looping_list:\n",
    "    print(element)\n",
    "```\n",
    "the variable `element` consecutively takes the value of each item in `looping_list` in the order from the first element to the last element.\n",
    "\n",
    "***\n",
    "\n",
    "**Create a list with `range()` function**\n",
    "\n",
    "A list of integers can be defined by using `list(range(...))` where the input arguments for `range()` are done as normal. Although, the `for` loop and and the `range()` function are frequently combined to generate looping with a specific number of iterations, `range()` function alone does not return a list, but rather an *iterator* which is an important data type in many programming language. We don't go into depth of this matter for now."
   ]
  },
  {
   "cell_type": "markdown",
   "metadata": {},
   "source": [
    "**Best by examples**"
   ]
  },
  {
   "cell_type": "code",
   "execution_count": 5,
   "metadata": {},
   "outputs": [],
   "source": [
    "## Define a list\n",
    "number_list = [5.5, 6.5, 7.5, 8.5, 9.5, 10.5]       # list of numbers\n",
    "string_list = ['We', 'are', 'the', 'champion.']                  # list of strings\n",
    "# We can put different data types into the list\n",
    "mixed_type_list = [5.5, 'We', 6.5, 'are', 'the', 'champion']"
   ]
  },
  {
   "cell_type": "code",
   "execution_count": 6,
   "metadata": {},
   "outputs": [
    {
     "name": "stdout",
     "output_type": "stream",
     "text": [
      "We are the champion. "
     ]
    }
   ],
   "source": [
    "for x in string_list:\n",
    "    print(x, end=\" \")"
   ]
  },
  {
   "cell_type": "code",
   "execution_count": 10,
   "metadata": {},
   "outputs": [
    {
     "name": "stdout",
     "output_type": "stream",
     "text": [
      "range_list = [5, 6, 7, 8, 9]\n",
      "odd_list = [1, 3, 5, 7, 9]\n",
      "even_list = [2, 4, 6, 8]\n"
     ]
    }
   ],
   "source": [
    "range_list = list(range(5, 10, 1))  # list of numbers from 5 to 9\n",
    "print(\"range_list =\", range_list)\n",
    "\n",
    "odd_list = list(range(1, 10, 2))    # list of odd numbers from 1 to 9\n",
    "print(\"odd_list =\", odd_list)\n",
    "\n",
    "even_list = list(range(2, 10, 2))   # list of even numbers from 2 to 8\n",
    "print(\"even_list =\", even_list)"
   ]
  },
  {
   "cell_type": "code",
   "execution_count": 15,
   "metadata": {},
   "outputs": [
    {
     "data": {
      "text/plain": [
       "'Uncomment the any of the following lines to see error'"
      ]
     },
     "execution_count": 15,
     "metadata": {},
     "output_type": "execute_result"
    }
   ],
   "source": [
    "# Problem with range() is that it gives only the list of integers. \n",
    "# So, if the starting point, the end point or the step size is not an integer, \n",
    "# it will raise error.\n",
    "\"\"\"Uncomment the any of the following lines to see error\"\"\"\n",
    "# list(range(1.2, 5, 1))\n",
    "# list(range(1, 2.5, 1))\n",
    "# list(range(1, 2, 1.2))\n",
    "# of course, you can use decimal numbers for all three input arguments and get error\n",
    "# list(range(1.2, 4.4, 0.5))"
   ]
  },
  {
   "cell_type": "markdown",
   "metadata": {},
   "source": [
    "### Access elements of list\n",
    "\n",
    "To acceess an item or an element in the list, we must know the numerical index position of that element in the list. For example, let assume `my_list` is a list of $10$ elements. Then, `my_list[0]` returns the first element of `my_list`, `my_list[1]` returns the second element and so on up to `my_list[9]` giving the last element. It is important to remember that the first counter starts from *zero*, which is different MATLAB syntax.\n",
    "\n",
    "**Negative index**: We can also use negative index to access the elements of the list. `my_list[-1]` gives the last element of `my_list`, `my_list[-2]` returns the second last element and so on. Thus, under assumption that `my_list` has $10$ elements, `my_list[9]` and `my_list[-1]` returns the same last element of the list. Similarly, `my_list[8]` and `my_list[-2]` returns the second last element. Notice that \n",
    "$$9 - (-1) = 10,\\quad 8 - (-2) = 10.$$\n",
    "For this reason, we can extrapolate that if the considered list `my_list` has $N$ elements, and $0 \\leq m < N$, we have `my_list[m]` and `my_list[N-m]` access to the same element in the list.\n",
    "\n",
    "**Slicing**: We can access multiple elements of the list by using the *slicing*. While indexing is used to obtain individual element, *slicing* allows us to obtaining a sublist of the original list. The slicing syntax can be summarized as follows\n",
    "\n",
    "```Python\n",
    "my_list[<start_index> : <end_index>]\n",
    "```\n",
    "\n",
    "with the last index `end_index` is excluded so that the returned list does not contain element `my_list[end_index]`. For example, `my_list[0:2]` returns elements with indices 0 and 1 (excluding 2). It is important to note the last number in a slicing is excluded. Thus, `my_list[0:2]` returns 2 elements (not 3 elements as we might think). In this manner, `my_list[n:m]` with $n < m$ returns $m - n$ elements."
   ]
  },
  {
   "cell_type": "code",
   "execution_count": 16,
   "metadata": {},
   "outputs": [
    {
     "name": "stdout",
     "output_type": "stream",
     "text": [
      "number_list = [5.5, 6.5, 7.5, 8.5, 9.5, 10.5]\n",
      "5.5\n",
      "10.5\n",
      "10.5\n",
      "[5.5, 6.5, 7.5, 8.5]\n",
      "[5.5, 6.5, 7.5, 8.5, 9.5, 10.5]\n",
      "[7.5, 8.5, 9.5, 10.5]\n"
     ]
    }
   ],
   "source": [
    "## Access elements in list\n",
    "number_list = [5.5, 6.5, 7.5, 8.5, 9.5, 10.5] \n",
    "print(\"number_list =\", number_list)\n",
    "print(number_list[0])\n",
    "print(number_list[-1])      # last element\n",
    "print(number_list[len(number_list) - 1])       # last element\n",
    "\n",
    "print(number_list[0:4])             # four first elements with indices 0, 1, 2, 3\n",
    "print(number_list[:7])              # all elements from the index 0 to index 7\n",
    "print(number_list[2:])              # all elements from index 2 to the last"
   ]
  },
  {
   "cell_type": "code",
   "execution_count": 2,
   "metadata": {},
   "outputs": [
    {
     "name": "stdout",
     "output_type": "stream",
     "text": [
      "mixed_type_list = [5.5, 'We', 6.5, 'are', 'the', 'champion']\n",
      "['We', 6.5, 'are', 'the']\n"
     ]
    }
   ],
   "source": [
    "mixed_type_list = [5.5, 'We', 6.5, 'are', 'the', 'champion']\n",
    "print(\"mixed_type_list =\", mixed_type_list)\n",
    "print(mixed_type_list[1:5])"
   ]
  },
  {
   "cell_type": "markdown",
   "metadata": {},
   "source": [
    "### List as object\n",
    "\n",
    "List is a data type that is equipped with many methods - We will learn later *Class* and *Object*. To execute a particular method to the list, use\n",
    "\n",
    "```Python\n",
    "my_list.method_name(argu1, argu2, ...)\n",
    "```\n",
    "\n",
    "There are so many methods for list that we cannot and should not remember. The trick is to use ***auto complete*** feature in most of advanced IDEs these days to remind us of the method names. To know the syntax and the usage of one particular method, use the snippet `list.method_name?` such as `list.append?` giving the documentation for the function `append()` associated with the list. Two frequently used methods of a list is `append()` and `copy()`.\n",
    "\n",
    "- `my_list.append(x)` will append the variable `x` into the list `my_list` as the last element.\n",
    "- `my_list.copy()` will return a copy of `my_list` so that the copy and the original list `my_list` are two different objects."
   ]
  },
  {
   "cell_type": "code",
   "execution_count": 8,
   "metadata": {},
   "outputs": [
    {
     "name": "stdout",
     "output_type": "stream",
     "text": [
      "[1]\t\tmax = 1\n",
      "[1, 0]\t\tmax = 1\n",
      "[1, 0, 1]\t\tmax = 1\n",
      "[1, 0, 1, 2]\t\tmax = 2\n",
      "[1, 0, 1, 2, 3]\t\tmax = 3\n"
     ]
    }
   ],
   "source": [
    "x = []\n",
    "x.append(1)\n",
    "print(x, end=\"\\t\\t\")\n",
    "print(\"max =\", max(x))\n",
    "for j in range(4): # starting from 2 and decrease by 1 until -2\n",
    "    x.append(j)\n",
    "    print(x, end=\"\\t\\t\")\n",
    "    print(\"max =\", max(x)) # you can change max to min if you want to take the minimum"
   ]
  },
  {
   "cell_type": "code",
   "execution_count": 13,
   "metadata": {},
   "outputs": [
    {
     "name": "stdout",
     "output_type": "stream",
     "text": [
      "list_copy_1 = [200, 400, 7.5, 8.5, 9.5, 10.5]\n",
      "list_copy_2 = [5.5, 6.5, 7.5, 8.5, 9.5, 10.5]\n",
      "number_list = [5.5, 6.5, 7.5, 8.5, 9.5, 10.5]\n"
     ]
    }
   ],
   "source": [
    "number_list = [5.5, 6.5, 7.5, 8.5, 9.5, 10.5]   # we create number_list again\n",
    "\n",
    "list_copy_1 = number_list[:]                    # a copy of number_list\n",
    "list_copy_2 = number_list.copy()                # another copy of number_list\n",
    "list_copy_1[0] = 200                            # we don't change number_list\n",
    "list_copy_1[1] = 400\n",
    "print(\"list_copy_1 =\", list_copy_1)\n",
    "# we don't change list_copy_1 and list_number.\n",
    "print(\"list_copy_2 =\", list_copy_2) \n",
    "print(\"number_list =\", number_list)"
   ]
  },
  {
   "cell_type": "code",
   "execution_count": 17,
   "metadata": {},
   "outputs": [
    {
     "name": "stdout",
     "output_type": "stream",
     "text": [
      "id(number_list) = 2749245076800\n",
      "id(list_copy_1) = 2749237283904\n",
      "id(list_copy_2) = 2749245147264\n"
     ]
    }
   ],
   "source": [
    "# You must run the block of code above before this.\n",
    "print(\"id(number_list) =\", id(number_list))\n",
    "print(\"id(list_copy_1) =\", id(list_copy_1))\n",
    "print(\"id(list_copy_2) =\", id(list_copy_2))\n",
    "# You should see three different IDs for three different objects"
   ]
  },
  {
   "cell_type": "code",
   "execution_count": 14,
   "metadata": {},
   "outputs": [
    {
     "name": "stdout",
     "output_type": "stream",
     "text": [
      "Before changing list_alias:\n",
      "number_list = [5.5, 6.5, 7.5, 8.5, 9.5, 10.5]\n",
      "After changing list_alias:\n",
      "number_list = [0, 1, 7.5, 8.5, 9.5, 10.5]\n"
     ]
    }
   ],
   "source": [
    "number_list = [5.5, 6.5, 7.5, 8.5, 9.5, 10.5]\n",
    "list_alias = number_list                # list_alias and number_list refer to the same object\n",
    "\n",
    "print(\"Before changing list_alias:\")\n",
    "print(\"number_list =\", number_list)     # before changing list_alias     \n",
    "\n",
    "list_alias[0] = 0           # This will change number_list[0] as well\n",
    "list_alias[1] = 1           # This will change number_list[1] as well\n",
    "\n",
    "print(\"After changing list_alias:\")\n",
    "print(\"number_list =\", number_list)     # after changing list_alias"
   ]
  },
  {
   "cell_type": "code",
   "execution_count": 18,
   "metadata": {},
   "outputs": [
    {
     "name": "stdout",
     "output_type": "stream",
     "text": [
      "id(number_list) = 2749245076800\n",
      "id(list_alias) = 2749245076800\n"
     ]
    }
   ],
   "source": [
    "# Again, we can examine the IDs of number_list and list_alias\n",
    "print(\"id(number_list) =\", id(number_list))\n",
    "print(\"id(list_alias) =\", id(list_alias))\n",
    "# You should see the same ID as two variables refer to the same object in the memory."
   ]
  },
  {
   "cell_type": "markdown",
   "metadata": {},
   "source": [
    "### List of lists \n",
    "\n",
    "As already explained, a list may contain heterogeneous data. That is, the list may comprise of elements of different data types. Therefore, it should be natural that a list may contains lists that are hereby called sublists. One simple example is a matrix of numbers as follows\n",
    "```Python\n",
    "matrix = [[1, 2, 3, 4], [5, 6, 7, 8], [9, 10, 11, 12]]\n",
    "```\n",
    "\n",
    "To access the elements of the list `matrix`, we also use slicing and indexing as explained above. Thus, `matrix[0]` would give the first element `matrix` which turns out to be the sublist `[1, 2, 3, 4]`. Similarly, `matrix[1]` gives `[5, 6, 7, 8]` and `matrix[2]` gives `[9, 10, 11, 12]`. In this manner, we can continue to index into the sublist referenced to by `matrix[0]`(in this case `[1, 2, 3, 4]`). So, we have `matrix[0][0]`, `matrix[0][1]`, `matrix[0][2]` and `matrix[0][3]` return `1`, `2`, `3` and `4`, respectively.\n",
    "\n",
    "Clearly, we can also create a list of sublists that contain string data as follows.\n",
    "\n",
    "```Python\n",
    "string_list = [['.', '.', '.'], ['.', '.', '.'], ['.', '.', '.']]\n",
    "```"
   ]
  },
  {
   "cell_type": "markdown",
   "metadata": {},
   "source": [
    "**Best by example**"
   ]
  },
  {
   "cell_type": "code",
   "execution_count": 69,
   "metadata": {},
   "outputs": [
    {
     "name": "stdout",
     "output_type": "stream",
     "text": [
      "[[1, 2, 3, 4], [5, 6, 7, 8], [9, 10, 11, 12]]\n"
     ]
    }
   ],
   "source": [
    "# Let us create the matrix of 3 rows and 4 columns as described in the above markdown.\n",
    "# We will start with an empty list. Then, we append the list by three sublists, each of\n",
    "# which corresponds to each row of the matrix.\n",
    "\n",
    "matrix = []\n",
    "for i in range(3):\n",
    "    sublist = []    # we start the sublist as empty list\n",
    "    for j in range(1, 5):   # j runs from 1 to 4 (< 5)\n",
    "        # Append each number to the sublist\n",
    "        sublist.append(4*i + j)\n",
    "    # Append each sublist to the bigger list, namely list matrix\n",
    "    matrix.append(sublist)\n",
    "    \n",
    "print(matrix)"
   ]
  },
  {
   "cell_type": "code",
   "execution_count": 75,
   "metadata": {},
   "outputs": [
    {
     "name": "stdout",
     "output_type": "stream",
     "text": [
      "[['o', 'x', 'o', 'x'], ['x', 'o', 'x', 'o'], ['o', 'x', 'o', 'x']]\n"
     ]
    }
   ],
   "source": [
    "# Of course, we can create a list of lists of strings\n",
    "my_list = []\n",
    "for i in range(3):\n",
    "    if i % 2 == 0:\n",
    "        my_list.append(['o', 'x', 'o', 'x'])\n",
    "    else:\n",
    "        my_list.append(['x', 'o', 'x', 'o'])\n",
    "    \n",
    "print(my_list)"
   ]
  },
  {
   "cell_type": "code",
   "execution_count": 76,
   "metadata": {},
   "outputs": [
    {
     "name": "stdout",
     "output_type": "stream",
     "text": [
      "oxox\n",
      "xoxo\n",
      "oxox\n"
     ]
    }
   ],
   "source": [
    "# Well, we can print out the list of lists nicely by indexing into each element of the sublists and then print them out.\n",
    "n = len(my_list)            # number of sublists\n",
    "for i in range(n):\n",
    "    sublist = my_list[i]\n",
    "    m = len(sublist)    # number of elements in the sublist my_list[i]\n",
    "    for j in range(m):\n",
    "        print(sublist[j], end=\"\")\n",
    "    print()             # start a new line after printing out one full sublist"
   ]
  },
  {
   "cell_type": "code",
   "execution_count": 77,
   "metadata": {},
   "outputs": [
    {
     "name": "stdout",
     "output_type": "stream",
     "text": [
      "oxox\n",
      "xoxo\n",
      "oxox\n"
     ]
    }
   ],
   "source": [
    "# The above block of code can be shortened as we do not define the variables n, m and the variable sublist. \n",
    "# Instead, we can refer to the sublist by my_list[i] and then the j-th element by my_list[i][j]\n",
    "for i in range(len(my_list)):\n",
    "    for j in range(len(my_list[i])):\n",
    "        print(my_list[i][j], end=\"\")\n",
    "    print()         # after printing one sublist, we add a new line       "
   ]
  },
  {
   "cell_type": "code",
   "execution_count": 84,
   "metadata": {},
   "outputs": [
    {
     "name": "stdout",
     "output_type": "stream",
     "text": [
      "oxox\n",
      "xoxo\n",
      "oxox\n",
      "---------------------------------\n",
      "Reverse 'x' to 'o' and 'o' to 'x'\n",
      "---------------------------------\n",
      "xoxo\n",
      "oxox\n",
      "xoxo\n"
     ]
    }
   ],
   "source": [
    "my_list = []\n",
    "for i in range(3):\n",
    "    if i % 2 == 0:\n",
    "        my_list.append(['o', 'x', 'o', 'x'])\n",
    "    else:\n",
    "        my_list.append(['x', 'o', 'x', 'o'])\n",
    "        \n",
    "for i in range(len(my_list)):\n",
    "    for j in range(len(my_list[i])):\n",
    "        print(my_list[i][j], end=\"\")\n",
    "    print()         # after printing one sublist, we add a new line\n",
    "\n",
    "print(\"---------------------------------\")\n",
    "print(\"Reverse 'x' to 'o' and 'o' to 'x'\")\n",
    "print(\"---------------------------------\")\n",
    "# Let us reverse 'x' to 'o' and 'o' to 'x'.\n",
    "for i in range(len(my_list)):\n",
    "    for j in range(len(my_list[i])):\n",
    "        if my_list[i][j] == 'x':\n",
    "            my_list[i][j] = 'o'\n",
    "        else:\n",
    "            my_list[i][j] = 'x'\n",
    "\n",
    "# Later, we will learn about function to recycle the code\n",
    "# we are writing here, so that we do not have to copy/paste.\n",
    "for i in range(len(my_list)):\n",
    "    for j in range(len(my_list[i])):\n",
    "        print(my_list[i][j], end=\"\")\n",
    "    print()         # after printing one sublist, we add a new line"
   ]
  },
  {
   "cell_type": "markdown",
   "metadata": {},
   "source": [
    "**More complicated example**\n",
    "\n",
    "We can even do a list of lists of lists so that we have a three-level list. If data of such a list are numbers, we have 3D cubes containing numbers in 3-dimensional space."
   ]
  },
  {
   "cell_type": "code",
   "execution_count": 54,
   "metadata": {},
   "outputs": [
    {
     "name": "stdout",
     "output_type": "stream",
     "text": [
      "my_numbers[0] =\n",
      " [[0, 1, 2, 3], [4, 5, 6, 7], [8, 9, 10, 11]]\n",
      "my_numbers[1] =\n",
      " [[12, 13, 14, 15], [16, 17, 18, 19], [20, 21, 22, 23]]\n"
     ]
    }
   ],
   "source": [
    "my_numbers = []\n",
    "for i in range(2):\n",
    "    sublist = []\n",
    "    for j in range(3):\n",
    "        subsublist = []\n",
    "        for k in range(4):\n",
    "            subsublist.append(3 * 4 * i + 4*j + k)      # try to think about this expression 12 * i + 4 * j + k---> what would it gives\n",
    "            \n",
    "        # This belongs to for j\n",
    "        sublist.append(subsublist)\n",
    "        \n",
    "    # This belongs for i\n",
    "    my_numbers.append(sublist)\n",
    "\n",
    "# So, my_numbers contains two matrices. Each matrix have 3 rows and 4 columns\n",
    "print(\"my_numbers[0] =\\n\", my_numbers[0])\n",
    "print(\"my_numbers[1] =\\n\", my_numbers[1])"
   ]
  },
  {
   "cell_type": "code",
   "execution_count": 55,
   "metadata": {},
   "outputs": [
    {
     "name": "stdout",
     "output_type": "stream",
     "text": [
      "0  1  2  3  \n",
      "4  5  6  7  \n",
      "8  9  10 11 \n",
      "-----------\n",
      "12 13 14 15 \n",
      "16 17 18 19 \n",
      "20 21 22 23 \n",
      "-----------\n"
     ]
    }
   ],
   "source": [
    "# We can print out two matrices stored in my_numbers nicely and neatly\n",
    "for i in range(len(my_numbers)):\n",
    "    for j in range(len(my_numbers[i])):\n",
    "        for k in range(len(my_numbers[i][j])):\n",
    "            print(\"{0:<3}\".format(my_numbers[i][j][k]), end=\"\")\n",
    "            \n",
    "        # This belongs to for j\n",
    "        print()                     # start a new line after each row\n",
    "        \n",
    "    # This belongs for i\n",
    "    print(\"-----------\")            # make a separation after each matrix"
   ]
  },
  {
   "cell_type": "markdown",
   "metadata": {},
   "source": [
    "## Tuples\n",
    "\n",
    "### Introduction and syntax\n",
    " \n",
    "A tuple consists of a number of values separated by commas. Tuples usually contain a heterogeneous sequence of elements that are accessed via **unpacking** (explained later).\n",
    "**Syntax**\n",
    "\n",
    "Using parenthesis for a tuple (instead of square brackets for a list)\n",
    "```Python\n",
    "t = (value_1, value_2, ..., value_N)\n",
    "```\n",
    "or even *without* parenthesis\n",
    "```Python\n",
    "t = value_1, valu2_2, ..., value_N\n",
    "```\n",
    "\n",
    "***\n",
    "**Multiple assignments with tuple**\n",
    "\n",
    "In fact, we might have seen `counter, value = 0, 1` or `a, b = 1, 2` and the meaning of these statements are pretty straightforward.  These statements allow multiple assignments. The right-hand sides of the above equal signs create tuples. The tuple on the right-hand side is then unpacked so that each item in the tuple is assigned to each corresponding variable on the left-hand side. Detail discussion is delayed till the next Markdown.\n",
    "\n",
    "***\n",
    "**Using tuple in a `for` loop**\n",
    "Just like a list, the tuple can be used in a `for` loop as follows\n",
    "```Python\n",
    "for element in my_tuple:\n",
    "    print(element)\n",
    "```\n",
    "In this loop, the variable `element` consecutively takes the value of each item in the tuple `my_tuple`. Thus, the use of `for` loop in this case is not different from the use `for` loop with a list.\n",
    "\n",
    "\n",
    "***\n",
    "**Difference from list**\n",
    "\n",
    "It is important to note that tuples are **immutable**, i.e. we cannot change their elements. If `t = (1, 2, 3)`, the line of code `t[0] = 0` would give error. Of course, a tuple can contain mutable objects such as lists, so the following code is ligit \n",
    "```Python\n",
    "t = ([1, 2, 3], [3, 2, 1])\n",
    "```"
   ]
  },
  {
   "cell_type": "markdown",
   "metadata": {},
   "source": [
    "**Best by examples**"
   ]
  },
  {
   "cell_type": "code",
   "execution_count": 3,
   "metadata": {},
   "outputs": [
    {
     "name": "stdout",
     "output_type": "stream",
     "text": [
      "t1 = ((3, 4), 1, 2)\n",
      "t2 = ([2, 4, 6, 8, 10], [9, 7, 5, 3, 1])\n",
      "empty_tuple = ()\n"
     ]
    }
   ],
   "source": [
    "t1 = ((3, 4), 1, 2)                                     # t1 contains one tuple and two integers\n",
    "t2 = (list(range(2, 11, 2)), list(range(9, 0, -2)))     # t2 contains two lists\n",
    "empty_tuple = ()\n",
    "\n",
    "print(\"t1 =\", t1)\n",
    "print(\"t2 =\", t2)\n",
    "print(\"empty_tuple =\", empty_tuple)"
   ]
  },
  {
   "cell_type": "code",
   "execution_count": 2,
   "metadata": {},
   "outputs": [
    {
     "name": "stdout",
     "output_type": "stream",
     "text": [
      "1\n"
     ]
    }
   ],
   "source": [
    "x = 10\n",
    "while x == 10:\n",
    "    x = int(input(\"some number\"))\n",
    "    print(x)"
   ]
  },
  {
   "cell_type": "markdown",
   "metadata": {},
   "source": [
    "### Access elements of tuple\n",
    "\n",
    "Similar to access of elements in list."
   ]
  },
  {
   "cell_type": "code",
   "execution_count": 4,
   "metadata": {},
   "outputs": [
    {
     "name": "stdout",
     "output_type": "stream",
     "text": [
      "t1[0] = (3, 4)\n",
      "t2[1] = [9, 7, 5, 3, 1]\n"
     ]
    }
   ],
   "source": [
    "a, b = 3, 4\n",
    "t1 = ((a, b), 1, 2)                                     # t1 contains one tuple and two integers\n",
    "t2 = (list(range(2, 11, 2)), list(range(9, 0, -2)))     # t2 contains two lists\n",
    "print(\"t1[0] =\", t1[0])         # access first element of t1\n",
    "print(\"t2[1] =\", t2[1])         # access second element of t2"
   ]
  },
  {
   "cell_type": "markdown",
   "metadata": {},
   "source": [
    "### Packing and Unpacking\n",
    "\n",
    "The statement \n",
    "```Python\n",
    "t = 0, 1, 'word'\n",
    "```\n",
    "is an example of **tuple packing**. The values `0`, `1` and `word` are packed together in a tuple so that it is completely equivalent to\n",
    "```Python\n",
    "t = (0, 1, 'word')\n",
    "```\n",
    "The reverse operation is also possible. It is called <font color=\"red\">**sequence unpacking**</font> and works for any sequence on the right-hand side. *Sequence unpacking* requires that there are as many variables on the left side of the equals sign as there are elements in the sequence. In the block of code\n",
    "```Python\n",
    "t = (v1, v2, ..., vN)\n",
    "t1, t2, ..., tN = t\n",
    "```\n",
    "the values `v1`, `v2`, $\\ldots$, `vN` are unpacked appropriately to be assigned to the variables `t1`, `t2`, $\\ldots$, `tN`, respectively. That is, `t1` will take value `v1`, `t2` take `v2` and so on.\n",
    "\n",
    "In fact, **multiple assignment** like `a, b, c = 0, 1, 2` is really just just a combination of *tuple packing* and then *sequence unpacking*. The right-hand side is packed into a tuple and then this very newly created tuple is immediately unpacked so that the assignment statement executes properly."
   ]
  },
  {
   "cell_type": "code",
   "execution_count": 29,
   "metadata": {},
   "outputs": [
    {
     "name": "stdout",
     "output_type": "stream",
     "text": [
      "element-1 element-2 element-3\n",
      "1 2\n"
     ]
    }
   ],
   "source": [
    "t = (\"element-1\", \"element-2\", \"element-3\")\n",
    "t1, t2, t3 = t      # sequence unpacking: unpack elements of t and assign them to t1, t2, t3\n",
    "print(t1, t2, t3)\n",
    "\n",
    "a, b = 1, 2         # packing --> unpacking: 1 and 2 are packed into (1, 2), then unpacked to a and b\n",
    "print(a, b)"
   ]
  },
  {
   "cell_type": "markdown",
   "metadata": {},
   "source": [
    "## <font color=\"red\">Dictionaries</font>\n",
    "\n",
    "### <font color=\"red\">Introduction and Syntax</font>\n",
    "\n",
    "***\n",
    "**Dictionaries** are sometimes found in other programming languages as '*associative memories*' or '*associative arrays*'. Unlike sequences (e.g., *list* and *tuple*), which are indexed by a range of numbers (indexing and slicing), **dictionaries** are indexed by **keys**, which can be any *immutable type*; strings and numbers can always be keys. Tuples can be used as keys if they contain only strings, numbers, or tuples; if a tuple contains any mutable object either directly or indirectly, it cannot be used as key. You cannot use lists as keys, since lists can be modified in place using index assigments, slice assignments or methods like `append()` and `extend()`. The keys must be uniqe.\n",
    "\n",
    "The rule that keys must be immutable objects to conform with the human common sense. We can change definition of a keyword in a dictionary but we don't want to change the keyword itself as it clearly creates a mess.\n",
    "\n",
    "**Interpretation** &nbsp; It is best to think of this data type as a dictionary\n",
    "\n",
    "***\n",
    "**Syntax**\n",
    "\n",
    "1. The key-value pairs are put into the curly braces `{...}`.\n",
    "2. The key and the value for each pair are separated by a colon `:` like `key:value`.\n",
    "\n",
    "    ```Python\n",
    "    my_dict = {key1: value1, key2: value2, ..., keyN: valueN}\n",
    "    ```\n",
    "3. We can also create a dictionary by using the *constructor* `dict()` -- To understand *constructor*, we must learn *Classes* and *Objects* later.    \n",
    "    \n",
    "    ```Python\n",
    "    dict([(key1: value1), (key2, value2), (key3, value3)])\n",
    "    ```\n",
    "\n",
    "### <font color=\"red\">Access elements of a dictionary</font>\n",
    "\n",
    "To access elements of a dictionary, we use key instead of numeric indexing. It is also possible to delete a `key:value` pair with `del`. If we store using a key that is already in use, the old value associated with the key is forgotten. It is an error to exact a value using a *non-existent key*.\n",
    "\n",
    "Some of useful methods of dictionaries are `items()`, `keys()` and `values()`. As the names suggest, `keys()` gives all the keys, `values()` all the values and `items()` all the pairs `key:value` of the dictionary. We will see these functions in action by example.\n",
    " \n",
    "**Using `list()`, `sorted()` and `enumerate()` with dictionaries**\n",
    "***\n",
    "Performing `list(d)` on a dictionary returns a list of all keys used in the dictionary, in insertion order (if you want it sorted, just use `sorted(d)` instead). To check whether a single key is in the dictionary, use the `in` keyworld.\n",
    "\n",
    "When looping through a sequence the position index and the corresponding value can be retrieved at the same time the `enumerate()` function. See, for example,\n",
    "\n",
    "```Python\n",
    "for i, v in enumerate(['tic', 'tac', 'toe']):\n",
    "    print(i, v)\n",
    "```"
   ]
  },
  {
   "cell_type": "code",
   "execution_count": 36,
   "metadata": {},
   "outputs": [
    {
     "name": "stdout",
     "output_type": "stream",
     "text": [
      "tel = {'Iron Man': 4098, 'Hulk': 4139, 'Black Widow': 4012, 'Saitama': 5014, 'Mononoke': 6017}\n",
      "tel['Iron Man'] = 4098\n",
      "tel =  {'Iron Man': 4098, 'Black Widow': 4012, 'Saitama': 5014, 'Mononoke': 6017}\n",
      "list_from_dict = ['Iron Man', 'Black Widow', 'Saitama', 'Mononoke']\n"
     ]
    }
   ],
   "source": [
    "tel = {'Iron Man': 4098, 'Hulk': 4139, 'Black Widow': 4012}  # define a list\n",
    "tel['Saitama'] = 5014           # add key:value pair to the dictionary\n",
    "tel['Mononoke'] = 6017          # add more element to the dictionary\n",
    "print(\"tel =\", tel)\n",
    "print(\"tel['Iron Man'] =\", tel['Iron Man'])     # access element of dictionary\n",
    "\n",
    "del tel['Hulk']                                 # delete one element\n",
    "print(\"tel = \", tel)                                      # print after deletion\n",
    "\n",
    "list_from_dict = list(tel)                      # return a list of keys of the dictionary\n",
    "print(\"list_from_dict =\", list_from_dict)"
   ]
  },
  {
   "cell_type": "code",
   "execution_count": 36,
   "metadata": {},
   "outputs": [
    {
     "name": "stdout",
     "output_type": "stream",
     "text": [
      "keys:\n",
      "Iron Man -- Hulk -- Black Widow -- \n",
      "--------------\n",
      "values:\n",
      "4098 -- 4139 -- 4012 -- \n",
      "--------------\n",
      "key-value pairs:\n",
      "Telephone of Iron Man    : 4098\n",
      "Telephone of Hulk        : 4139\n",
      "Telephone of Black Widow : 4012\n"
     ]
    }
   ],
   "source": [
    "## Looping technique for dictionary\n",
    "tel = {'Iron Man': 4098, 'Hulk': 4139, 'Black Widow': 4012}\n",
    "\n",
    "print(\"keys:\")\n",
    "for k in tel.keys():\n",
    "    print(k, end=' -- ')\n",
    "print(\"\\n--------------\")\n",
    "print(\"values:\")\n",
    "for v in tel.values():\n",
    "    print(v, end=' -- ')\n",
    "print(\"\\n--------------\")\n",
    "print(\"key-value pairs:\")\n",
    "for k, v in tel.items():    # k captures the key, v takes the corresponding value of the key \"k\"\n",
    "    print(\"Telephone of {0:12}: {1}\".format(k, v))"
   ]
  },
  {
   "cell_type": "code",
   "execution_count": 42,
   "metadata": {},
   "outputs": [
    {
     "name": "stdout",
     "output_type": "stream",
     "text": [
      "0 tic\n",
      "1 tac\n",
      "2 toe\n"
     ]
    },
    {
     "data": {
      "text/plain": [
       "<enumerate at 0x28ae11d6500>"
      ]
     },
     "execution_count": 42,
     "metadata": {},
     "output_type": "execute_result"
    }
   ],
   "source": [
    "for i, v in enumerate(['tic', 'tac', 'toe']):\n",
    "    print(i, v)\n",
    "\n",
    "enumerate(['tic', 'tac', 'toe'])        # enumerate() returns an object of type enumerate"
   ]
  },
  {
   "cell_type": "markdown",
   "metadata": {},
   "source": [
    "# <font color=\"red\">EXERCISES</font>"
   ]
  },
  {
   "cell_type": "markdown",
   "metadata": {},
   "source": [
    "#### <font color=\"red\">**Exercise 1**</font>: List vs numpy\n",
    "\n",
    "List is a built-in data structure in Python and can hold as many objects/variables of different data types as possible. However, when it comes to calculation with numbers, list is not a powerful data type because operations on list is very expensive. On the hand, `numpy` is another library that is designed for holding floating numbers and performing complex algebraic computations such as dot product of two vectors, tensor products between high-order tensors, multiplication between a matrix and a vector, and son. In this exercise, we learn how to use `numpy` for matrix multiplication with one simple function. In contrast, by using list we must write two `for` loops to perform such multiplication of two matrices.\n",
    "\n",
    "Let $\\mathbf{A}$ of size [$m_1 \\times m_2$] and $\\mathbf{B}$ of size [$m_2 \\times m_3$] be two matrices. Let $\\mathbf{C} = \\mathbf{A} \\mathbf{B}$ be the multiplication between $\\mathbf{A}$ and $\\mathbf{B}$ which is defined as\n",
    "\n",
    "$$C_{ij} = \\sum\\limits_{k=1}^{m_2} A_{ik} B_{kj} \\qquad \\text{for all }\\, i = 1, \\ldots, m_1 \\text{ and }\\, j = 1, \\ldots m_3$$\n",
    "\n",
    "To compute matrix $\\mathbf{C}$ using `numpy`, the task is very simple. See the following Python code right after this exercise.\n",
    "\n",
    "Write the program using two `for` loops to compute the matrix $\\mathbf{C}$ as a list. To do this, start at the end of the following Python code."
   ]
  },
  {
   "cell_type": "code",
   "execution_count": 7,
   "metadata": {},
   "outputs": [
    {
     "name": "stdout",
     "output_type": "stream",
     "text": [
      "[[ 20  40]\n",
      " [ 47  94]\n",
      " [ 74 148]\n",
      " [101 202]\n",
      " [128 256]]\n"
     ]
    }
   ],
   "source": [
    "import numpy as np\n",
    "A = np.array([[1, 2, 3], [4, 5, 6], [7, 8, 9], [10, 11, 12], [13, 14, 15]]) # m1 = 5, m2 = 3\n",
    "B = np.array([[2, 4], [3, 6], [4, 8]])                                      # m2 = 3, m3 = 2\n",
    "C = A.dot(B)\n",
    "print(C)\n",
    "\n",
    "A = [[1, 2, 3], [4, 5, 6], [7, 8, 9], [10, 11, 12], [13, 14, 15]]\n",
    "B = [[2, 4], [3, 6], [4, 8]]\n",
    "m1, m2, m3 = 5, 3, 2\n",
    "# Write your code to compute C as a list"
   ]
  },
  {
   "cell_type": "markdown",
   "metadata": {},
   "source": []
  }
 ],
 "metadata": {
  "kernelspec": {
   "display_name": "base",
   "language": "python",
   "name": "python3"
  },
  "language_info": {
   "codemirror_mode": {
    "name": "ipython",
    "version": 3
   },
   "file_extension": ".py",
   "mimetype": "text/x-python",
   "name": "python",
   "nbconvert_exporter": "python",
   "pygments_lexer": "ipython3",
   "version": "3.12.7"
  }
 },
 "nbformat": 4,
 "nbformat_minor": 2
}
