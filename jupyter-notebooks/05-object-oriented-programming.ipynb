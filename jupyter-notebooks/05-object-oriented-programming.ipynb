{
 "cells": [
  {
   "cell_type": "markdown",
   "metadata": {},
   "source": [
    "<font color='DeepSkyBlue'>**Learning Python at University of Glasgow**</font>\n",
    "\n",
    "<font color='DeepSkyBlue'>**Object-oriented Programming**</font>\n",
    "\n",
    "<font color='DeepSkyBlue'>**Lecturer**</font>: **Khiem Nguyen**"
   ]
  },
  {
   "cell_type": "markdown",
   "metadata": {},
   "source": [
    "# Object-oriented programming\n",
    "\n",
    "## Introduction\n",
    "\n",
    "**OOP** (Object-oriented programming) is a programming paradigm based on the concept of \"objects\", which can contain data and code: data in the form of *fields* (often known as *attributes* or *properties*), and code, in the form of functions or procedures, often known as *methods*.\n",
    "\n",
    "A common feature of objects is that methods are attached to them and can access and modify the object's data fields. In this brand of *OOP*, there is usually a special name such as **this** or **self** used to refer to the current object. In OOP, computer programs are designed by making them out of objects that interact with one another. OOP languages are diverse, but the most popular ones are **class-based**, meaning that objects are *instances* of *classes*, which also determine their *types*.\n",
    "\n",
    "Many of the most widely used programming languages (such as **C++**, **Java**, **Python**, etc.) are multi-paradigm and they support object-oriented programming to a greater or lesser degree, typically in combination with imperative, procedural programming.\n",
    "\n",
    "## Features\n",
    "\n",
    "Some of the features listed below are common among languages considered to be strongly class- and object-oriented (or multi-paradigm with OOP support).\n",
    "\n",
    "1. Objects and classes\n",
    "2. Data abstraction\n",
    "3. Encapsulation\n",
    "4. Composition, inheritance, and delegation\n",
    "5. Polymorphism\n",
    "6. Open recursion\n",
    "\n",
    "We shall discuss these features in the next Markdown but we also revisit them later with concrete examples and Python implementation of these examples.\n",
    "\n",
    "First of all, a language supporting *object-oriented programing* should be able to allow imperative programing and modular programing. This feature is shared with non-OOP languages. \n",
    "\n",
    "So, the OOP language supports built-in data types like integers, alphanumerical characters, float, double and etc. This may also include data structures like strings, lists, and hash tables that are either built-in or result from combining varibles using memory pointers. The language has structured programming constructs like loops and conditionals.\n",
    "\n",
    "*Modular programming* support provides the ability to group procedures into files and modules for organizational purposes. Modules are **namespaced** so identifiers in one module will not conflict with a procedure or variable sharing the same name in another file or module.\n",
    "\n",
    "Apparently, Python is a language supporting both imperative programming and modular programming. However, we will discuss now features that are important to OOP."
   ]
  },
  {
   "cell_type": "markdown",
   "metadata": {},
   "source": [
    "## 1. Objects and classes\n",
    "***\n",
    "Languages that support object-oriented programming (OOP) allows code reuse and extensibility from the concept of inheritance (discussed later). Those that use classes support two main concepts:\n",
    "\n",
    "1. Classes -- The definitions for the data format and available methods for a given type or class of object. Classes may also contain data and methods themselves.\n",
    "2. Objects -- instances of classes\n",
    "\n",
    "**Objects** sometimes correspond to things found in the real world. For example, a graphics program may have objects such as \"circle\", \"square\", \"menu\". An online shopping system might have objects such as \"shopping cart\", \"customer\", and \"product\". Sometimes objects represent more abstract entities, like an object that represents an open file, or an object that provides the service of translating measurements from U.S. customary to metric. In fact, we already use many objects in Python such as one particular list, one particular tuble or indeed even one integer or one complex number.\n",
    "\n",
    "Each object is said to be an instance of a particular class (for example, an object with its name field set to \"Mary\" might be an instance of class Employee). Procedures in object-oriented programming are known as methods; variables are also known as fields, members, attributes, or properties. This leads to the following terms:\n",
    "1. ***Class variables*** -- belong to the class as a *whole*; there is only one copy of each one\n",
    "2. ***Instance variables*** or ***attributes*** -- data that belongs to individual objects; every object has its own copy of each one\n",
    "3. ***Member variables*** -- refers to both the class and instance variables that are defined by a particular class\n",
    "4. ***Class methods*** -- belong to the class as a whole and have access to only class variables and inputs from the procedure call, i.e. the inputs from the outside world (not within the class)\n",
    "5. ***Instance methods*** -- belong to *individual* objects, and have *access to instance variables* for the specific object they are called on, inputs, and class variables\n",
    "\n",
    "Objects are accessed somewhat like variables with complex internal structure. They provide a layer of abstraction which can be used to separate internal from external code. External code can use an object by calling a specific instance method with a certain set of input parameters, read an instance variable, or write to an instance variable. Objects are created by calling a special type of method in the class known as a ***constructor***. A program may create many instances of the same class as it runs, which operate independently. This is an easy way for the same procedures to be used on different sets of data."
   ]
  },
  {
   "cell_type": "markdown",
   "metadata": {},
   "source": [
    "### Class definition syntax\n",
    "\n",
    "The simplest for of class definition looks like this\n",
    "\n",
    "```Python\n",
    "class ClassName:\n",
    "    <statement-1>\n",
    "    .\n",
    "    .\n",
    "    .\n",
    "    <statement-N>\n",
    "```\n",
    "Class definitions, like function definitions (using `def` statements) must be executed before they have any effect. You could conceivably place a class definition in a branch of an `if` statement, or inside a function though this is not frequently done.\n",
    "\n",
    "In practice, the statements inside a class definition will usually be function definitions, but other statements are allowed and sometimes useful (for example class variables). The function definitions inside a class normally have a peculiar form of argument list, dictated by the calling conventions for methods -- again, this is explained later.\n",
    "\n",
    "### Class objects\n",
    "\n",
    "**Class objects** support two kinds of operation: *attribute references* and *instatiation*.\n",
    "\n",
    "***Attribute references*** \n",
    "***\n",
    "***Attribute references*** use the standard syntax used for all attribute references in Python: `obj.name`. Valid attribute names are all the names that were in the class's namespace when the class object was created. So if the class definition looked like this\n",
    "\n",
    "```Python\n",
    "class MyClasss:\n",
    "    \"\"\"A simple example class\"\"\"\n",
    "    i = 12345\n",
    "\n",
    "    def say_hello(self):\n",
    "        return \"Hello World\"\n",
    "```\n",
    "then `Myclass.i` and `MyClass.say_hello` are valid attribute references, returning an integer and a function object (not execute the function), respectively. To execute the function `say_hello` defined in `MyClass`, we write `MyClass.say_hello()` (with parentheses). The expression `MyClass.say_hello` just gives a function object, pretty much like a name of the function.\n",
    "\n",
    "***Class instantiation*** \n",
    "***\n",
    "***Class instantiation*** uses function notation. Just pretend that the class object is a *parameterless* function that returns a new instance of the class (i.e. object). For example, the statement \n",
    "\n",
    "```Python\n",
    "x = MyClass()\n",
    "```\n",
    "creates a new *instance* of the class and assign this object to the local variable x.\n",
    "\n",
    "The instatiation operation (\"calling\" a class object) creates an empty object. Many classes like to creat objects with instances customized to a specific *initial* time. Therefore, a class may define a special method/function named `__init()__` like the following\n",
    "```Python\n",
    "def __init__(self):\n",
    "    self.data = []\n",
    "```\n",
    "\n",
    "When a class defines an `__init__()` method, class instantiation automatically invokes `__init()__()` for the newly created class instance. So in this example, a new, initialized instance can be obtained by `x = MyClass()` and then we can refer to `x.data`. \n",
    "\n",
    "***Instantiation with multiple input arguments*** \n",
    "***\n",
    "Of course, the `__init()__` method may have many arguments for greater flexibility. In that case, arguments given to the class instantiation operator are passed to the function `__init()__`. \n",
    "\n",
    "For example, we define a class describing complex numbers. A complex number is given the form $x = a + \\rm{i}\\,b$ where $a$ and $b$ are two real numbers and $\\rm{i}$ is a imaginary unit that is defined as $\\rm{i} = \\sqrt{-1}$. In fact, without using the special character $\\rm{i}$, we may also write $x = a + \\sqrt{-1} b$. Thus, to describe a complex number, it is enough to have the *real part* $a$ and the *imaginary part* $b$ as $\\sqrt{-1}$ is fixed and known in advanced. The code look like this\n",
    "\n",
    "```Python\n",
    "class Complex:\n",
    "    def __init__(self, real_part, imag_part):\n",
    "        self.r = real_part\n",
    "        self.i = imag_part\n",
    "```\n",
    "Then, we can create a complex number and then see its value according to\n",
    "```Python\n",
    "x = Complex(3.0, -4.5)\n",
    "x.r, x.i\n",
    "```\n"
   ]
  },
  {
   "cell_type": "markdown",
   "metadata": {},
   "source": [
    "**Best by examples**: Working with Car\n",
    "\n",
    "In the following, we will practice and improve understanding by working on two examples:\n",
    "\n",
    "- Car and eletric car as a specific type of car\n",
    "- Trash, waste paper and can as two specific types of trash\n",
    "\n",
    "We will focus on class Car to demonstrate the code."
   ]
  },
  {
   "cell_type": "code",
   "execution_count": 1,
   "metadata": {},
   "outputs": [],
   "source": [
    "# Define a class of Car in Python\n",
    "class Car():\n",
    "    \"\"\"Model a Car.\"\"\"\n",
    "    def __init__(self, make_outside, model_outside):\n",
    "        \"\"\"\"Initialize a Car object\n",
    "        The constructor receives make as the producer of the car and the model \n",
    "        of the car from the external code, i.e. outside-world inputs\n",
    "        \"\"\"\n",
    "        # we can use the input argument name \"make\" instead of \"make_outside\" as self.make is clearly different from \"make\". Similarly, the name \"model\" instead of \"model_outside\" works just fine.\n",
    "        self.make = make_outside        \n",
    "        self.model = model_outside\n",
    "        self.tank_cap = 60    # 60 liter tank\n",
    "        self.tank = 0         # initial fuel tank is empty\n",
    "        print(\"Constructor of car is executed: {make} - {model}\".format(make=self.make, model=self.model))\n",
    "    \n",
    "    def fill_up(self):\n",
    "        \"\"\"Fill the tank to brim.\"\"\"\n",
    "        self.tank = self.tank_cap\n",
    "        print(\"Fill up done: Full!\")\n",
    "    \n",
    "    # other functions continue here\n",
    "    # def other_methods(self,...)\n"
   ]
  },
  {
   "cell_type": "code",
   "execution_count": 2,
   "metadata": {},
   "outputs": [
    {
     "name": "stdout",
     "output_type": "stream",
     "text": [
      "Constructor of car is executed: Nissan - Micra\n",
      "Nissan\n",
      "Micra\n",
      "Tank at initial state = 0\n",
      "60\n"
     ]
    }
   ],
   "source": [
    "# Then, we can instantiate/create an object of type Car.\n",
    "my_car = Car(\"Nissan\", \"Micra\")\n",
    "# We can access all of the attributes/properties or object members of the car we just created.\n",
    "print(my_car.make)          # self.make      in the definition of class\n",
    "print(my_car.model)         # self.model     ...\n",
    "print(\"Tank at initial state =\", my_car.tank)          # self.tank      ...\n",
    "print(my_car.tank_cap)      # self.tank_cap  ...\n",
    "\n",
    "# We can access the data from a Car instance from the external world. For those who know other programming languages like C++ and Java, Python does not support private data members or private functions. Everything can be seen and accessed from the outer users."
   ]
  },
  {
   "cell_type": "code",
   "execution_count": 3,
   "metadata": {},
   "outputs": [
    {
     "name": "stdout",
     "output_type": "stream",
     "text": [
      "Constructor of car is executed: Nissan - Leaf\n",
      "Nissan\n",
      "Leaf\n",
      "Fill up done: Full!\n",
      "None\n",
      "Tank after fill up = 60\n"
     ]
    }
   ],
   "source": [
    "# Surely we can create another Car containing different attributes from the above created Car.\n",
    "your_car = Car(\"Nissan\", \"Leaf\")\n",
    "print(your_car.make)\n",
    "print(your_car.model)\n",
    "# The function always return None if there is no explicit return in the function. Thus, printing the function result with no returned value should show \"None\" in the output console.\n",
    "print(your_car.fill_up())            \n",
    "print(\"Tank after fill up =\", your_car.tank)"
   ]
  },
  {
   "cell_type": "code",
   "execution_count": 4,
   "metadata": {},
   "outputs": [
    {
     "name": "stdout",
     "output_type": "stream",
     "text": [
      "<__main__.Car object at 0x0000017DC1B69A60>\n"
     ]
    }
   ],
   "source": [
    "print(my_car)"
   ]
  },
  {
   "cell_type": "markdown",
   "metadata": {},
   "source": [
    "### Interpretation of self variable\n",
    "\n",
    "As we can see, all the functions defined in the class Car have a first argument named `self`. It is the right time now to discuss the meaning of the variable `self` in all of the function methods defined in a class. \n",
    "\n",
    "First of all, let us imagine that we are writing code to define a class and the code looks like this\n",
    "\n",
    "```Python\n",
    "class MyDumbDataType():\n",
    "\n",
    "    def __init__(self, data):\n",
    "        self.data = data\n",
    "    \n",
    "    def write_data_out(self):\n",
    "        print(self.data)\n",
    "```\n",
    "Now that we have just defined a new data type with the name `MyDumbDataType`. Let say we create an object now and store it to the variable `x` according to\n",
    "\n",
    "```Python\n",
    "x = MyDumbDataType(\"Hello world\")\n",
    "```\n",
    "Now that the variable `x` has the attribute `data` and the object method `write_data_out()`; to use them we write `x.data` and `x.write_data_out()`. However, during the process of defining the class `MyDumbDataType`, we are not able to create the object and assign it to the variable `x`. Clearly, we cannot write something like `x.data` and `x.write_data_out()` in side the class definition because `x` is not defined therein. Besides, there might be many objects assigned to many variable names such as object-1 to `x`, object-2 to `y` and so on. The only way to refer one such object ***in the seeable-fugure*** is to allow a mechanism in which the class can see an object *in the far but expectable future*. The first variable in all of the function definition with the syntax `def object_method_name(self,...)` permits such mechanism. \n",
    "\n",
    "Indeed, the variable `self` used in the function definitions which are in turn place in the class definition refers to the particular object we are dealing with. For example, in the expression `x.__init__(data)` and `x.write_data_out()`, the variable `self` is refering to the object stored at the variable `x`. If there is another object stored at the variable `y`, that is, `y = MyDumbDataType(\"Hello Earth\")`, then in the `y.__init__(data)` and `y.write_data_out()`, the variable `self` is refering to the object stored at `y`.\n",
    "\n",
    "Once again, best by example (see below Python code)."
   ]
  },
  {
   "cell_type": "code",
   "execution_count": 5,
   "metadata": {},
   "outputs": [
    {
     "name": "stdout",
     "output_type": "stream",
     "text": [
      "Constructor of car is executed: Audi - Really Cheap\n",
      "Audi\n",
      "Really Cheap\n",
      "Constructor of car is executed: BMW - Terribly Cheap\n",
      "BMW\n",
      "Terribly Cheap\n",
      "Constructor of car is executed: Mercedes - Ridiculous Cheap\n",
      "Mercedes\n",
      "Ridiculous Cheap\n"
     ]
    }
   ],
   "source": [
    "# Let us define the variable x as a Car\n",
    "x = Car(\"Audi\", \"Really Cheap\")\n",
    "# By default, the function __init__(self, make, model) will be AUTOMATICALLY provoked right after the object is created.\n",
    "print(x.make)\n",
    "print(x.model)\n",
    "\n",
    "# But now, instead of using the variable self, we can use x and reference to the function __init__() without using the self variable because the variable x and the variable self are actually refering the same thing, namely the same object. This feels like we are creating a new object, but not really. We just reassign the attributes make and model of the variable x.\n",
    "x.__init__(\"BMW\", \"Terribly Cheap\")     \n",
    "print(x.make)\n",
    "print(x.model)\n",
    "\n",
    "# To make it even clearer, we can write the following snippet of code although we should not do this\n",
    "Car.__init__(x, \"Mercedes\", \"Ridiculous Cheap\")\n",
    "print(x.make)\n",
    "print(x.model)"
   ]
  },
  {
   "cell_type": "code",
   "execution_count": 6,
   "metadata": {},
   "outputs": [
    {
     "name": "stdout",
     "output_type": "stream",
     "text": [
      "Fill up done: Full!\n",
      "60\n",
      "Tank is reset: x.tank = 0\n",
      "Fill up done: Full!\n",
      "60\n"
     ]
    }
   ],
   "source": [
    "# By now, it should be clear that the following code lines are valid\n",
    "# We use x as the object and refer to the object method fill_up()\n",
    "x.fill_up()\n",
    "print(x.tank)\n",
    "\n",
    "x.tank = 0 # reset to zero\n",
    "print(\"Tank is reset: x.tank =\", x.tank)\n",
    "\n",
    "# We use Car as a class template and refer to the function defined in such template. This time, the function must receive the first variable which is the object stored at x.\n",
    "Car.fill_up(x)          # We should not write code like this. Instead, write x.fill_up()\n",
    "print(x.tank)"
   ]
  },
  {
   "cell_type": "markdown",
   "metadata": {},
   "source": [
    "### Class variables and class methods\n",
    "\n",
    "As mentioned above, a class may also have its own status and thus its own attributes and methods. A **class variable** is defined in a class and intended to be modified only at class level, that is not in an instance of the class. Thus, there is no need for creating an object to use these attributes. \n",
    "Similarly, **class method** is defined in a class and intended to be modified, used only at class level. Again, we can use such class methods even without creating an object.\n",
    "\n",
    "To define a class method, we use an annotation `@classmethod` before writing the function definition for that method. In the method, the first variable will refer to the class itself. Normally, we use `cls`, a shorthand of the word *class*, as the name for the first argumnent. \n",
    "\n",
    "**Syntax**\n",
    "```Python\n",
    "class ClassName:\n",
    "    class_variable_1 = 0        # it can have any values\n",
    "    class_variable_2 = 0        \n",
    "    ...\n",
    "\n",
    "    @classmethod\n",
    "    def class_method(cls):\n",
    "        <statement-1>\n",
    "        .\n",
    "        .\n",
    "        .\n",
    "        <statement-N>\n",
    "```\n",
    "\n",
    "**Best by example**\n",
    "\n",
    "We now define a class variable `number_of_cars` to keep track of how many car instances have been created. The variable is initialized to zero and increases by one every time one new Car instance is created. We note that this class variable exists without any Car instances. Thus, when no car has been created yet, the variable `number_of_cars` exists to be zero. Likewise, we can also define a class method `how_many()` to print out how many cars have been created."
   ]
  },
  {
   "cell_type": "code",
   "execution_count": 7,
   "metadata": {},
   "outputs": [],
   "source": [
    "# Define a class of Car. In this class, we also count how many cars have been created\n",
    "class Car():\n",
    "    \"\"\"Model a Car.\"\"\"\n",
    "    \n",
    "    number_of_cars = 0\n",
    "    def __init__(self, make, model):\n",
    "        \"\"\"\"Initialize a Car object\n",
    "        The constructor receives make as the producer of the car and the model \n",
    "        of the car from the external code, i.e. outside-world inputs\n",
    "        \"\"\"\n",
    "        Car.number_of_cars += 1\n",
    "        self.make = make\n",
    "        self.model = model\n",
    "        self.tank_cap = 60    # 60 liter tank\n",
    "        self.tank = 0         # initial fuel tank is empty\n",
    "        print(\"Constructor of car is executed: {make} - {model}\".format(make=self.make, model=self.model))\n",
    "        # As soon as a Car instance is created, we count the number of cars up by 1\n",
    "        ## Car.number_of_cars += 1 \n",
    "    \n",
    "    def fill_up(self):\n",
    "        \"\"\"Fill the tank to brim.\"\"\"\n",
    "        self.tank = self.tank_cap\n",
    "        print(\"Fill up done: Full!\")\n",
    "        \n",
    "    @classmethod\n",
    "    def how_many(cls):   # 'self' for class. By convention, we use 'cls'.\n",
    "        print(\"Number of cars = {number}\".format(number=cls.number_of_cars))"
   ]
  },
  {
   "cell_type": "code",
   "execution_count": 8,
   "metadata": {},
   "outputs": [
    {
     "name": "stdout",
     "output_type": "stream",
     "text": [
      "Number of cars (using class variable) = 0\n",
      "--------------------------------\n",
      "Constructor of car is executed: Nissan - Micra\n",
      "Number of cars (using class variable) = 1\n",
      "Number of cars = 1\n",
      "--------------------------------\n",
      "Constructor of car is executed: Mercedes - A 160\n",
      "Number of cars (using class variable) = 2\n",
      "Number of cars = 2\n",
      "--------------------------------\n",
      "Constructor of car is executed: Mercedes - A 140\n",
      "Number of cars (using class variable) = 3\n",
      "Number of cars = 3\n"
     ]
    }
   ],
   "source": [
    "# External code:\n",
    "# Even before any Car instance is made, we can count the number of cars \n",
    "# created. In such case, of course the number should be zero.\n",
    "print('Number of cars (using class variable) =', Car.number_of_cars)\n",
    "print(\"--------------------------------\")\n",
    "\n",
    "my_car = Car(\"Nissan\", \"Micra\")\n",
    "print('Number of cars (using class variable) =', Car.number_of_cars)\n",
    "Car.how_many()\n",
    "print(\"--------------------------------\")\n",
    "\n",
    "your_car = Car(\"Mercedes\", \"A 160\")\n",
    "print('Number of cars (using class variable) =', Car.number_of_cars)\n",
    "Car.how_many()\n",
    "print(\"--------------------------------\")\n",
    "\n",
    "his_car = Car(\"Mercedes\", \"A 140\")\n",
    "print('Number of cars (using class variable) =', Car.number_of_cars)\n",
    "Car.how_many()"
   ]
  },
  {
   "cell_type": "markdown",
   "metadata": {},
   "source": [
    "**Factory functions**\n",
    "\n",
    "We can also use class method to create an object. As the first argument of the class method refers to the class itself. We can use the first argument as an instantiation operation, or constructor. In the following example, we define a class `Pizza`. In this class, of course we have constructor -- in this example `__init__(self, ingredients)` and other methods. We define a class method named `margherita` to create a specific type of Pizza. So in this class method, we have used the first argument `cls` as a instantiation operation. That is, instead of writing `Pizza([\"mozzarela\", \"tomatoes\"])`, we just write `cls([\"mozzarela\", \"tomatoes\"])`. In this context, we can imagine that using `cls` is like a literal substitution of that word by the class name, i.e. `cls` will be substituted by `Pizza`. Remark: We *rarely* use *factory functions* though."
   ]
  },
  {
   "cell_type": "code",
   "execution_count": 9,
   "metadata": {},
   "outputs": [],
   "source": [
    "# Factory functions\n",
    "class Pizza:\n",
    "    def __init__(self, ingredients):\n",
    "        self.ingredients = ingredients\n",
    "    \n",
    "    def __repr__(self): \n",
    "        \"\"\"Represent the object output.\n",
    "        \n",
    "        This method is to used for represent the class instance as\n",
    "        used with print(Pizza-instance).        \n",
    "        \"\"\"\n",
    "        return f'Pizza({self.ingredients!r})'\n",
    "    \n",
    "    @classmethod  # This is to mark the class methods will follow\n",
    "    def margherita(cls):\n",
    "        return cls([\"moz\",  \"tomatoes\"])"
   ]
  },
  {
   "cell_type": "code",
   "execution_count": 10,
   "metadata": {},
   "outputs": [
    {
     "name": "stdout",
     "output_type": "stream",
     "text": [
      "Pizza(['cheese', 'cheese'])\n",
      "Pizza(['moz', 'tomatoes'])\n"
     ]
    }
   ],
   "source": [
    "# External world outside the class Pizza\n",
    "my_pizza = Pizza([\"cheese\", \"cheese\"])\n",
    "print(my_pizza)\n",
    "your_pizza = Pizza.margherita()\n",
    "print(your_pizza)"
   ]
  },
  {
   "cell_type": "markdown",
   "metadata": {},
   "source": [
    "## 2. Data Abstraction\n",
    "\n",
    "Data Abstraction is a design pattern in which data are visible only to semantically related functions, so as to prevent misuse. The success of data abstraction leads to frequent incorporation of data hiding as a design principle in object oriented and pure functional programming.\n",
    "\n",
    "If a class does not allow calling code to access internal object data and permits access through methods only, this is a strong form of abstraction or information hiding known as abstraction. Some languages (Java, for example) let classes enforce access restrictions explicitly, for example denoting internal data with the private keyword and designating methods intended for use by code outside the class with the public keyword. Methods may also be designed public, private, or intermediate levels such as protected (which allows access from the same class and its subclasses, but not objects of a different class). \n",
    "\n",
    "In other languages (like Python) this is enforced only by convention (for example, private methods may have names that start with an underscore)."
   ]
  },
  {
   "cell_type": "code",
   "execution_count": 11,
   "metadata": {},
   "outputs": [
    {
     "name": "stdout",
     "output_type": "stream",
     "text": [
      "Fill up done: Full!\n",
      "Current tank = 65\n",
      "Tank cap = 60\n"
     ]
    }
   ],
   "source": [
    "# In Python, object data are easily accessible.\n",
    "my_car.fill_up()\n",
    "my_car.tank = my_car.tank + 5  # put in some fuel\n",
    "print(\"Current tank =\", my_car.tank)          # clearly this is wrong\n",
    "print(\"Tank cap =\", my_car.tank_cap)"
   ]
  },
  {
   "cell_type": "markdown",
   "metadata": {},
   "source": [
    "## 3. Encapsulation\n",
    "\n",
    "Encapsulation prevents external code from being concerned with the internal workings of an object. This facilitates code refactoring, for example allowing the author of the class to change how objects of that class represent their data internally without changing any external code (as long as \"public\" method calls work the same way). It also encourages programmers to put all the code that is concerned with a certain set of data in the same class, which organizes it for easy comprehension by other programmers. Encapsulation is a technique that encourages decoupling.\n",
    "\n",
    "Making the data members private looks like a complicated concept and unnecessary. However, it turns out that this is frequently needed in real-world problems. There are many scenarios in which the data members should lie within a given range or only accept particular data types. For example, if a car has a tank capacity of 60 liters, filling the tank with already existed 20 liters by the volume of 50 liters leads to overload. Also, by accidence the external code may fill the tank with string or characters instead of a number. This should leads to an invalid operation and raising errors or notifying the users of wrong inputs. In the worst case, there is no syntax error or obvious error in modifying a data member until this invalid data value spreads through the program and spoils the final results or outputs.\n",
    "\n",
    "The possibility of hiding the data members and permitting the external users to access or modify it through an interface of member functions or methods makes the code become more complicated, longer. However, this efforts normally saves a lot of headache in the long term development of a sophisticated program."
   ]
  },
  {
   "cell_type": "markdown",
   "metadata": {},
   "source": [
    "**Best by example**\n",
    "\n",
    "The following Python code block show an example on the class Car. In this class, the method `add_fuel(self, amount)` double-check whether or not the added amount together with the existing tank would exceed the tank capacity before doing the adding."
   ]
  },
  {
   "cell_type": "code",
   "execution_count": 12,
   "metadata": {},
   "outputs": [],
   "source": [
    "# We redefine the class and provide one method named \"add_fuel\".\n",
    "# This method will check whether the tank exceeds the tank cap\n",
    "# before it does the filling. Otherwise, it notifies the user.\n",
    "\n",
    "# Define a class of Car. In this class, we also count how many cars have been created\n",
    "class Car():\n",
    "    \"\"\"Model a Car.\"\"\"\n",
    "    \n",
    "    number_of_cars = 0\n",
    "    fuel_type = 'petrol'\n",
    "    def __init__(self, make, model):\n",
    "        \"\"\"\"Initialize a Car object\n",
    "        The constructor receives make as the producer of the car and the model \n",
    "        of the car from the external code, i.e. outside-world inputs\n",
    "        \"\"\"\n",
    "        self._my_variable = 0   # ideally private but public to user in Python\n",
    "        self.make = make\n",
    "        self.model = model\n",
    "        self.tank_cap = 60    # 60 liter tank\n",
    "        self.tank = 0         # initial fuel tank is empty\n",
    "        print(\"Constructor of car is executed: {make} - {model}\".format(make=self.make, model=self.model))\n",
    "        # As soon as a Car instance is created, we count the number of cars up by 1\n",
    "        Car.number_of_cars += 1 \n",
    "    \n",
    "    def fill_up(self):\n",
    "        \"\"\"Fill the tank to brim.\"\"\"\n",
    "        self.tank = self.tank_cap\n",
    "        print(\"Fill up done: Full!\")\n",
    "    \n",
    "    def add_fuel(self, amount):\n",
    "        \"\"\"Adding fuel to tank.\n",
    "        \n",
    "        The fuel in the tank should not exceed the tank capacity. This condition\n",
    "        is checked by the method. In case of excessive filling, it won't fill up\n",
    "        the tank but will give notification instead.\"\"\"\n",
    "        new_tank = self.tank + amount\n",
    "        if (new_tank <= self.tank_cap):\n",
    "            self.tank = new_tank\n",
    "        else:\n",
    "            print(\"Tank not big enough\")"
   ]
  },
  {
   "cell_type": "code",
   "execution_count": 13,
   "metadata": {},
   "outputs": [
    {
     "name": "stdout",
     "output_type": "stream",
     "text": [
      "Constructor of car is executed: Mercedes - A 160\n",
      "--------------------------\n",
      "Fill my car with 50 liters\n",
      "my_car.tank = 50\n",
      "Fill my car with more 70 liters. Does it work?\n",
      "Tank not big enough\n",
      "my_car.tank = 50\n"
     ]
    }
   ],
   "source": [
    "my_car = Car(\"Mercedes\", \"A 160\")\n",
    "print(\"--------------------------\")\n",
    "print(\"Fill my car with 50 liters\")\n",
    "my_car.add_fuel(50)\n",
    "print(\"my_car.tank =\", my_car.tank)\n",
    "\n",
    "print(\"Fill my car with more 70 liters. Does it work?\")\n",
    "my_car.add_fuel(70)\n",
    "print(\"my_car.tank =\", my_car.tank)"
   ]
  },
  {
   "cell_type": "markdown",
   "metadata": {},
   "source": [
    "## 4. Composition & Inheritance\n",
    "\n",
    "***Composition***\n",
    "***\n",
    "Objects can contain other objects in their instance variables; this is known as object composition. For example, an object in the Employee class might contain an object in the Address class, in addition to its own instance variables like 'first_name' and 'position'. Object composition is used to represent \"***has-a***\" relationships: every employee has an address, so every Employee object has access to a place to store an Address object.\n",
    "\n",
    "***Inheritance***\n",
    "***\n",
    "Languages that support classes almost always support ***inheritance***. This allows classes to be arranged in a hierarchy that represents \"***is-a-type-of***\" relationships. For example, class Employee might inherit from class Person. All the data and methods available to the parent class also appear in the child class with the same names. For example, class Person might define variables 'first_name' and 'last_name' with method 'make_full_name()'. These will also be available in class Employee, which might add the variables \"position\" and \"salary\". This technique allows easy re-use of the same procedures and data definitions, in addition to potentially mirroring real-world relationships in an intuitive way. Rather than utilizing database tables and programming subroutines, the developer utilizes objects the user may be more familiar with: objects from their application domain.\n",
    "\n",
    "Subclasses can override the methods defined by superclasses. ***Multiple inheritance*** is allowed in some languages, though this can make resolving overrides complicated. We will discuss *multiple inheritance* a bit later.\n",
    "\n",
    "So in the relationship that class `A` is a type of class `B`, we have class `A` inherit from class `B`. We can also say class `A` is **derived from** class `B`. We call \n",
    "+ class `B`: **base class** / **super class** / **parent class**\n",
    "+ class `A`: **derived class** / **subclass** / **child class**. \n",
    "\n",
    "In fact, the names are already self-explanatory in the child-parent relationship.\n",
    "\n",
    "**Syntax**\n",
    "***\n",
    "```Python\n",
    "class DerivedClassName(BaseClassName):\n",
    "    <statement-1>\n",
    "    .\n",
    "    .\n",
    "    .\n",
    "    <statement-N>\n",
    "```\n",
    "\n",
    "The name `BaseClassName` must be defined in a scope containing the derived class definition. In other words, the `DerivedClassName` must understand `BaseClassName` before it can be defined as a child of it.\n",
    "\n",
    "***Multiple inheritance***\n",
    "***\n",
    "One class can be derived from many classes. This will be the topic of a separate section we will discuss later."
   ]
  },
  {
   "cell_type": "markdown",
   "metadata": {},
   "source": [
    "**Best by examples**\n",
    "\n",
    "To understand the concept of inheritance, let us examine the following example. Let say, we need to describe the ideas of *Trash* and of course various types of Trash. Particularly, we want to talk about *Waste Paper* and *Can*. Clearly, Waste Paper and Can are two types of Trash, which makes it reasonable to simulate the following relationship\n",
    "\n",
    "+ `WastePaper` derived from `Trash`\n",
    "+ `Can` derived from `Trash`\n",
    "\n",
    "The `Trash` has two attributes `weight` and `value` and two object methods `shread()` and `burn()`. The `WastePaper` and `Can` are derived from `Trash` and thus inherit all of the attributes and object methods from their base class `Trash`. Besides the inherited attributes and class methods, `WastePaper` has three more attributes `condition`, `value_wet` and `value_dry` and one more object method `value_refresh()`, while `Can` has one more object method `crush()`. To implement the above child-parent relationship, we write the code as follows."
   ]
  },
  {
   "cell_type": "code",
   "execution_count": 14,
   "metadata": {},
   "outputs": [],
   "source": [
    "class Trash:\n",
    "    \n",
    "    def __init__(self, weight, value):\n",
    "        \"\"\"Initialize a Trash instance.\"\"\"\n",
    "        self.weight = weight\n",
    "        self.value = value\n",
    "        print(\"Trash constructor: Trash({0}, {1})\".\n",
    "              format(self.weight, self.value))\n",
    "    \n",
    "    def shread(sef):\n",
    "        print(\"In Trash: Shred me please!\")\n",
    "        \n",
    "    def burn(self):\n",
    "        print(\"In Trash: Burn me please!\")\n",
    "        \n",
    "class WastePaper(Trash):\n",
    "    def __init__(self, weight, value, condition, value_wet, value_dry):\n",
    "        super().__init__(weight, value)\n",
    "        self.condition = condition\n",
    "        self.value_wet = value_wet\n",
    "        self.value_dry = value_dry\n",
    "        print(\"WasePaper constructor: WastePaper({0}, {1}, {2}, {3}, {4})\".\n",
    "              format(self.weight, self.value, self.condition, self.value_dry, self.value_wet))\n",
    "        \n",
    "    def value_refresh(self):\n",
    "        self.value_wet = 0\n",
    "        self.value_dry = 0\n",
    "        \n",
    "class Can(Trash):\n",
    "    def __init__(self, weight, value):\n",
    "        super().__init__(weight, value)\n",
    "        print(\"Can constructor: Can({0}, {1})\".\n",
    "              format(weight, value))\n",
    "        \n",
    "    def crush(self):\n",
    "        print(\"In Can: Crush me please!\")"
   ]
  },
  {
   "cell_type": "code",
   "execution_count": 15,
   "metadata": {},
   "outputs": [
    {
     "name": "stdout",
     "output_type": "stream",
     "text": [
      "Trash constructor: Trash(0.1, 1)\n",
      "-----------------------------------\n",
      "Trash constructor: Trash(0.2, 1)\n",
      "WasePaper constructor: WastePaper(0.2, 1, new, 0.2, 0.8)\n",
      "my_waste_paper.weight = 0.2\n",
      "my_waste_paper.value = 1\n",
      "In Trash: Shred me please!\n",
      "-----------------------------------\n",
      "Trash constructor: Trash(0.2, 2.0)\n",
      "Can constructor: Can(0.2, 2.0)\n",
      "In Can: Crush me please!\n"
     ]
    }
   ],
   "source": [
    "# External code outside the above classes\n",
    "my_trash = Trash(0.1, 1)\n",
    "print(\"-----------------------------------\")\n",
    "\n",
    "# Inside the constructor of WastePaper, the constructor of Trash is called explicitly. Then, the rest in WastePaper.__init__ is executed.\n",
    "my_waste_paper = WastePaper(0.2, 1, \"new\", 0.8, 0.2)\n",
    "\n",
    "# Even though, we don't have attributes \"weight\" and \"value\" explicitly in the definition of the class WastePaper, the attributes are still there as they are the inherrited properties from the parent \"Trash\".\n",
    "print(\"my_waste_paper.weight =\", my_waste_paper.weight)  \n",
    "print(\"my_waste_paper.value =\", my_waste_paper.value)\n",
    "my_waste_paper.shread()\n",
    "print(\"-----------------------------------\")\n",
    "\n",
    "# Similarly, the constructor of Trash is called inside the constructor of Can.\n",
    "my_can = Can(0.2, 2.0)\n",
    "my_can.crush()"
   ]
  },
  {
   "cell_type": "markdown",
   "metadata": {},
   "source": [
    "### Override\n",
    "\n",
    "One of important and excited feature of inheritance is that the subclassses can ***override*** the methods defined by superclasses (base class)."
   ]
  },
  {
   "cell_type": "markdown",
   "metadata": {},
   "source": [
    "**Best by examples**\n",
    "\n",
    "To understand how methods in the subclass overrides its superclass's version, we will use `print()` statement to track which functions are called and where they have been executed. The example has absolutely no use other than understand the inheritance concept and mechanism of override."
   ]
  },
  {
   "cell_type": "code",
   "execution_count": 16,
   "metadata": {},
   "outputs": [],
   "source": [
    "class Trash:\n",
    "    def __init__(self, weight, value):\n",
    "        \"\"\"Initialize a Trash instance.\"\"\"\n",
    "        self.weight = weight\n",
    "        self.value = value\n",
    "        print(\"Trash constructor: Trash({0}, {1})\".\n",
    "              format(self.weight, self.value))\n",
    "    \n",
    "    def shread(sef):\n",
    "        print(\"In Trash: Shred me please!\")\n",
    "        \n",
    "    def burn(self):\n",
    "        print(\"In Trash: Burn me please!\")\n",
    "        \n",
    "    def crush(self):\n",
    "        print(\"In Trash: Crush me please!\")\n",
    "        \n",
    "class WastePaper(Trash):\n",
    "    def __init__(self, weight, value, condition, value_wet, value_dry):\n",
    "        super().__init__(weight, value)\n",
    "        self.condition = condition\n",
    "        self.value_wet = value_wet\n",
    "        self.value_dry = value_dry\n",
    "        print(\"WasePaper constructor: WastePaper({0}, {1}, {2}, {3}, {4})\".\n",
    "              format(self.weight, self.value, self.condition, self.value_dry, self.value_wet))\n",
    "        \n",
    "    def value_refresh(self):\n",
    "        self.value_wet = 0\n",
    "        self.value_dry = 0\n",
    "        \n",
    "    def crush(self):\n",
    "        print(\"In WastePaper: Crush me please!\")\n",
    "        \n",
    "class Can(Trash):\n",
    "    def __init__(self, weight, value):\n",
    "        super().__init__(weight, value)\n",
    "        print(\"Can constructor: Can({0}, {1})\".\n",
    "              format(weight, value))\n",
    "        \n",
    "    def crush(self):\n",
    "        print(\"In Can: Crush me please!\")\n",
    "        \n",
    "class GoldDummyCan(Trash):\n",
    "    \n",
    "    def __init__(self, weight, value):\n",
    "        super().__init__(weight, value)\n",
    "        print(\"GoldDummyCan constructor: GoldDummyCan({0}, {1}) -- I am rich too!\".\n",
    "              format(weight, value))\n",
    "        \n",
    "    def crush(self):\n",
    "        super().crush()\n",
    "        print(\"In GoldDummyCan: Crush me please!\")"
   ]
  },
  {
   "cell_type": "code",
   "execution_count": 17,
   "metadata": {},
   "outputs": [
    {
     "name": "stdout",
     "output_type": "stream",
     "text": [
      "Trash constructor: Trash(0.1, 1)\n",
      "In Trash: Crush me please!\n",
      "-----------------------------------\n",
      "Trash constructor: Trash(0.2, 2.0)\n",
      "Can constructor: Can(0.2, 2.0)\n",
      "In Can: Crush me please!\n",
      "-----------------------------------\n",
      "Trash constructor: Trash(0.02, 0.2)\n",
      "WasePaper constructor: WastePaper(0.02, 0.2, old, 0.15, 0.05)\n",
      "In WastePaper: Crush me please!\n",
      "-----------------------------------\n",
      "Trash constructor: Trash(0.05, 200)\n",
      "GoldDummyCan constructor: GoldDummyCan(0.05, 200) -- I am rich too!\n",
      "In Trash: Crush me please!\n",
      "In GoldDummyCan: Crush me please!\n"
     ]
    }
   ],
   "source": [
    "# External code outside the above classes\n",
    "my_trash = Trash(0.1, 1)\n",
    "my_trash.crush()\n",
    "\n",
    "print(\"-----------------------------------\")\n",
    "my_can = Can(0.2, 2.0)\n",
    "my_can.crush()\n",
    "\n",
    "print(\"-----------------------------------\")\n",
    "his_waste_pp = WastePaper(0.02, 0.2, \"old\", 0.05, 0.15)\n",
    "his_waste_pp.crush()\n",
    "\n",
    "print(\"-----------------------------------\")\n",
    "your_can = GoldDummyCan(0.05, 200)\n",
    "your_can.crush()"
   ]
  },
  {
   "cell_type": "markdown",
   "metadata": {},
   "source": [
    "## 5. Polymorphism\n",
    "\n",
    "Subtyping – a form of polymorphism – is when calling code can be independent of which class in the supported hierarchy it is operating on – the parent class or one of its descendants. Meanwhile, the same operation name among objects in an inheritance hierarchy may behave differently.\n",
    "\n",
    "For example, objects of type `Circle` and `Rectangle` are derived from a common class called `Shape`. The draw function for each type of `Shape` implements what is necessary to draw itself while calling code can remain indifferent to the particular type of `Shape` being drawn.\n",
    "\n",
    "This is another type of abstraction that simplifies code external to the class hierarchy and enables strong separation of concerns. "
   ]
  },
  {
   "cell_type": "markdown",
   "metadata": {},
   "source": [
    "#### Example 1\n",
    "\n",
    "In the following code snippet, we explain ***polymorphism*** by using examples on the hierarchy\n",
    "+ WastePaper is derived from Trash\n",
    "+ Can is derived from Trash"
   ]
  },
  {
   "cell_type": "code",
   "execution_count": 18,
   "metadata": {},
   "outputs": [
    {
     "name": "stdout",
     "output_type": "stream",
     "text": [
      "Trash constructor: Trash(0.1, 1)\n",
      "Trash constructor: Trash(0.1, 1)\n",
      "WasePaper constructor: WastePaper(0.1, 1, relatively new, 0.7, 0.3)\n",
      "Trash constructor: Trash(0.1, 1.5)\n",
      "Can constructor: Can(0.1, 1.5)\n",
      "Trash constructor: Trash(0.01, 250)\n",
      "GoldDummyCan constructor: GoldDummyCan(0.01, 250) -- I am rich too!\n",
      "-------------------------\n",
      "In Trash: Crush me please!\n",
      "-------------------------\n",
      "In WastePaper: Crush me please!\n",
      "-------------------------\n",
      "In Can: Crush me please!\n",
      "-------------------------\n",
      "In Trash: Crush me please!\n",
      "In GoldDummyCan: Crush me please!\n",
      "-------------------------\n"
     ]
    }
   ],
   "source": [
    "def crush_random_trash(random_trash):\n",
    "    random_trash.crush()\n",
    "\n",
    "trash_list = [Trash(0.1, 1), \n",
    "              WastePaper(0.1, 1, \"relatively new\", 0.3, 0.7), \n",
    "              Can(0.1, 1.5),\n",
    "              GoldDummyCan(0.01, 250)]\n",
    "print(\"-------------------------\")\n",
    "for trash in trash_list:\n",
    "    crush_random_trash(trash)\n",
    "    print(\"-------------------------\")"
   ]
  },
  {
   "cell_type": "markdown",
   "metadata": {},
   "source": [
    "#### Example 2\n",
    "In this example, we define a class called **ElectricCar** which is derived from the base class Car. The eletric car has battery capacity and charge level instead of tank capacity and tank value, respectively. Thus, the electric car needs charging but not adding fuel."
   ]
  },
  {
   "cell_type": "code",
   "execution_count": 19,
   "metadata": {},
   "outputs": [
    {
     "name": "stdout",
     "output_type": "stream",
     "text": [
      "Constructor of car is executed: Nissan - Leaf\n",
      "EletricCar Constructor!\n",
      "Charged full!\n",
      "Fill up done: Full!\n",
      "petrol\n"
     ]
    }
   ],
   "source": [
    "class ElectricCar(Car):\n",
    "    \"\"\"Model an Electric Car.\"\"\"\n",
    "    def __init__(self, make, model):\n",
    "        \"\"\"Initialize an eletric car.\"\"\"\n",
    "        super().__init__(make, model)\n",
    "        self.battery_cap = 30\n",
    "        self.charge = 0\n",
    "        print(\"EletricCar Constructor!\")\n",
    "        \n",
    "    def charge_full(self):\n",
    "        \"\"\"Fully charge battery.\"\"\"\n",
    "        self.charge = self.battery_cap\n",
    "        print(\"Charged full!\")\n",
    "        \n",
    "# External code\n",
    "my_electric_car = ElectricCar(\"Nissan\", \"Leaf\")\n",
    "my_electric_car.charge_full()\n",
    "my_electric_car.fill_up()  # oops, this still works although it should not\n",
    "print(my_electric_car.fuel_type)  # still petrol???\n"
   ]
  },
  {
   "cell_type": "code",
   "execution_count": 20,
   "metadata": {},
   "outputs": [
    {
     "name": "stdout",
     "output_type": "stream",
     "text": [
      "Constructor of car is executed: Nissan - Leaf\n",
      "EletricCar Constructor!\n",
      "Full!\n",
      "No fuel tank!\n",
      "electricity\n"
     ]
    }
   ],
   "source": [
    "class ElectricCar(Car):\n",
    "    \"\"\"Model an Electric Car.\"\"\"\n",
    "    fuel_type = 'electricity'\n",
    "    def __init__(self, make, model):\n",
    "        \"\"\"Initialize an eletric car.\"\"\"\n",
    "        super().__init__(make, model)\n",
    "        self.battery_cap = 30\n",
    "        self.charge = 0\n",
    "        print(\"EletricCar Constructor!\")\n",
    "        \n",
    "    def charge_full(self):\n",
    "        \"\"\"Fully charge battery.\"\"\"\n",
    "        self.charge = self.battery_cap\n",
    "        print(\"Full!\")\n",
    "    \n",
    "    def fill_up(self):\n",
    "        \"\"\"Not accepted on an eletric car.\"\"\"\n",
    "        print(\"No fuel tank!\")        \n",
    "# External code\n",
    "my_electric_car = ElectricCar(\"Nissan\", \"Leaf\")\n",
    "my_electric_car.charge_full()\n",
    "my_electric_car.fill_up()  # oops, this still works although it should not\n",
    "print(my_electric_car.fuel_type)  # still petrol???"
   ]
  },
  {
   "cell_type": "markdown",
   "metadata": {},
   "source": [
    "## 6. Multiple inheritance\n",
    "\n",
    "Another important concept related to **inheritance** is **multiple inheritance**. **Multiple inheritance** basically means that one derived/child class can have multiple super/parent classes. Python supports a form of multiple inheritance as well. Thus, we can imagine that not all programming languages support multiple inheritance. \n",
    "\n",
    "*Note* &nbsp; Perhaps these days all of the programming languages support multiple inheritance but I am not sure\n",
    "\n",
    "**Syntax**\n",
    "\n",
    "```Python\n",
    "class DerivedClassName(Base1, Base2, Base3):\n",
    "    <statement-1>\n",
    "    .\n",
    "    .\n",
    "    .\n",
    "    <statement-N>\n",
    "```\n",
    "\n",
    "**Working of search path**\n",
    "\n",
    "If the class `A` is derived from one base class `B`, we can easily deduce the search path of the inheritance relationship. For example, let us assume that the class `B` defines a method `do_something()`. If the class `A` overrides this method by having its own version with the same method name `do_something()`, of course the object of class `A` -- called here `obj_A` would use the overriding method. However, if the class `A` does not have re-definition of `do_something()` on its own, the object `obj_A` will need to search upwards into the class `B` and find that method to execute if called. That is, `obj_A.do_something()` execute the method defined in the class `B`. \n",
    "\n",
    "Now, you can immediately imagine this search path mechanism becomes a bit more complicated in the multiple inheritance. Let us assume that the class `DerivedClassName` is derived from three classes `Base1`, `Base2` and `Base3` according to the above syntax declaration. A natural question would be from which base class among all the base classes `Base1`, `Base2` and `Base3`, the derived class `DerivedClassName` should look for some method that has not been defined in itself. The mechanism works as follows. Note that the above discussion applies not only to the methods but also attributes defined for classes. Thus, we can explain the mechanism equivalently using the word attributes or methods.\n",
    "\n",
    "For most purpose, in the simplest cases, you can think of the search for attributes inherited from a parent class as **depth-first**, **left-to-right**, *not searching twice in the same class where there is an overlap in the hierarchy. Thus, if an attribute is not found in `DerivedClassName`, it is searched for in `Base1`, then (recursively) in the base classed of `Base1`, and if it was not found there, it was searched for in `Base2`, and so on.\n",
    "\n",
    "In fact, it is slightly more complex than that; the method resolution order changes dynamically to support cooperative calls to `super()`. Dynamic ordering is necessary because all cases of multiple inheritance exhibit one or more diamond relationships (where at least one of the parent classes can be accessed through multiple paths from the bottommost class). For example, all classes in Python inherit from `object`, so any case of multiple inheritance provides more than one path to reach `object`. We won't delve into this topic any further. Interested students should find good textbooks in Python and Object-oriented programming to understand dynamic ordering.\n",
    "\n",
    "![cat](./figures/no_regrets_cat.jpg)"
   ]
  },
  {
   "cell_type": "code",
   "execution_count": 21,
   "metadata": {},
   "outputs": [],
   "source": [
    "class Tiger:\n",
    "    def __init__(self, name):\n",
    "        self.name = name\n",
    "        print(\"Tiger is born with name {0}.\".format(self.name))\n",
    "    \n",
    "    def run(self):\n",
    "        print(\"Run like a Tiger\")\n",
    "    \n",
    "    def eat(self, food):\n",
    "        print(\"I eat \" + food + \" like a Tiger\")\n",
    "        \n",
    "    def hunt(self, prey):\n",
    "        print(\"I hunt \" + prey + \" alone\")\n",
    "    \n",
    "    def meow(self):\n",
    "        print(\"MEOW\")\n",
    "\n",
    "class Lion:\n",
    "    def __init__(self, name):\n",
    "        self.name = name\n",
    "        print(\"Lion is born with name {0}.\".format(self.name))\n",
    "        \n",
    "    def run(self):\n",
    "        print(\"Run like a Lion\")\n",
    "    \n",
    "    def eat(self, food):\n",
    "        print(\"I eat \" + food + \" like a Lion\")\n",
    "        \n",
    "    def hunt(self, prey):\n",
    "        print(\"I hunt \" + prey + \" alone\")\n",
    "        \n",
    "    def roar(self):\n",
    "        print(\"GRUH\")"
   ]
  },
  {
   "cell_type": "code",
   "execution_count": 22,
   "metadata": {},
   "outputs": [],
   "source": [
    "class Tigon(Tiger, Lion):\n",
    "    \n",
    "    def __init__(self, name):\n",
    "        self.name = name\n",
    "        print(\"My mother is a Tiger, my father is a Lion. My name is {}.\".format(self.name))\n",
    "    \n",
    "    def run(self):\n",
    "        print(\"I run slower than both Tiger and Lion\")"
   ]
  },
  {
   "cell_type": "code",
   "execution_count": 23,
   "metadata": {},
   "outputs": [
    {
     "name": "stdout",
     "output_type": "stream",
     "text": [
      "Tiger is born with name Mary.\n",
      "Lion is born with name Tom.\n",
      "My mother is a Tiger, my father is a Lion. My name is Jerrom.\n"
     ]
    }
   ],
   "source": [
    "jerry = Tiger(\"Mary\")\n",
    "tom = Lion(\"Tom\")\n",
    "jerrom = Tigon(\"Jerrom\")"
   ]
  },
  {
   "cell_type": "code",
   "execution_count": 24,
   "metadata": {},
   "outputs": [
    {
     "name": "stdout",
     "output_type": "stream",
     "text": [
      "MEOW\n",
      "GRUH\n",
      "GRUH\n",
      "MEOW\n"
     ]
    }
   ],
   "source": [
    "jerry.meow()\n",
    "tom.roar()\n",
    "\n",
    "jerrom.roar()\n",
    "jerrom.meow()"
   ]
  }
 ],
 "metadata": {
  "kernelspec": {
   "display_name": "conda-py3.12",
   "language": "python",
   "name": "python3"
  },
  "language_info": {
   "codemirror_mode": {
    "name": "ipython",
    "version": 3
   },
   "file_extension": ".py",
   "mimetype": "text/x-python",
   "name": "python",
   "nbconvert_exporter": "python",
   "pygments_lexer": "ipython3",
   "version": "3.12.7"
  },
  "orig_nbformat": 4
 },
 "nbformat": 4,
 "nbformat_minor": 2
}
