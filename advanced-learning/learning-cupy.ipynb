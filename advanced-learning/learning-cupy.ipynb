{
 "cells": [
  {
   "cell_type": "code",
   "execution_count": 28,
   "id": "1c54c4eb",
   "metadata": {},
   "outputs": [],
   "source": [
    "import time\n",
    "import numpy as np\n",
    "import cupy"
   ]
  },
  {
   "cell_type": "code",
   "execution_count": 30,
   "id": "f46fca7b",
   "metadata": {},
   "outputs": [],
   "source": [
    "def print_nice(statement):\n",
    "    print(50 * \"-\")\n",
    "    print(statement)\n",
    "    print(50 * \"-\")"
   ]
  },
  {
   "cell_type": "code",
   "execution_count": 31,
   "id": "3c572db3",
   "metadata": {},
   "outputs": [
    {
     "name": "stdout",
     "output_type": "stream",
     "text": [
      "--------------------------------------------------\n",
      "Benchmark Matrix Multiplication: Size 7500 x 7500\n",
      "--------------------------------------------------\n",
      "Starting NumPy (CPU) computation ...\n",
      "NumPy (CPU) Time: 1.3944 seconds\n"
     ]
    }
   ],
   "source": [
    "# Run benchmark\n",
    "MSIZE = 7500\n",
    "print_nice(f\"Benchmark Matrix Multiplication: Size {MSIZE} x {MSIZE}\")\n",
    "np.random.seed(42)\n",
    "A_np = np.random.rand(MSIZE, MSIZE).astype(np.float32)\n",
    "B_np = np.random.rand(MSIZE, MSIZE).astype(np.float32)\n",
    "\n",
    "print(\"Starting NumPy (CPU) computation ...\")\n",
    "start_time_np = time.time()\n",
    "C_np = np.dot(A_np, B_np)\n",
    "\n",
    "end_time_np = time.time()\n",
    "cpu_time = end_time_np - start_time_np\n",
    "print(f\"NumPy (CPU) Time: {cpu_time:.4f} seconds\")"
   ]
  },
  {
   "cell_type": "code",
   "execution_count": 32,
   "id": "e2c236b5",
   "metadata": {},
   "outputs": [
    {
     "ename": "AttributeError",
     "evalue": "module 'cupy' has no attribute 'asarray'",
     "output_type": "error",
     "traceback": [
      "\u001b[31m---------------------------------------------------------------------------\u001b[39m",
      "\u001b[31mAttributeError\u001b[39m                            Traceback (most recent call last)",
      "\u001b[36mCell\u001b[39m\u001b[36m \u001b[39m\u001b[32mIn[32]\u001b[39m\u001b[32m, line 3\u001b[39m\n\u001b[32m      1\u001b[39m \u001b[38;5;66;03m# Phase A: Data transfer (CPU --> GPU)\u001b[39;00m\n\u001b[32m      2\u001b[39m start_time_transfer = time.time()\n\u001b[32m----> \u001b[39m\u001b[32m3\u001b[39m A_cp = \u001b[43mcupy\u001b[49m\u001b[43m.\u001b[49m\u001b[43masarray\u001b[49m(A_np)\n\u001b[32m      4\u001b[39m B_cp = cupy.asarray(B_np)\n\u001b[32m      6\u001b[39m cupy.cuda.Stream.null.synchronize()\n",
      "\u001b[31mAttributeError\u001b[39m: module 'cupy' has no attribute 'asarray'"
     ]
    }
   ],
   "source": [
    "# Phase A: Data transfer (CPU --> GPU)\n",
    "start_time_transfer = time.time()\n",
    "A_cp = cupy.asarray(A_np)\n",
    "B_cp = cupy.asarray(B_np)\n",
    "\n",
    "cupy.cuda.Stream.null.synchronize()\n",
    "end_time_transfer = time.time()\n",
    "transfer_time = end_time_transfer - start_time_transfer\n",
    "print(f\"Phase A. H2D Transfer Time: {transfer_time:.4f} seconds\")\n",
    "\n",
    "print(\"Starting CuPy (GPU) computation\")\n",
    "start_time_compute = time.time()\n",
    "\n",
    "C_cp = cupy.dot(A_cp, B_cp)\n",
    "# Wait for the GPU to finish all operations (essential for accurate timing)\n",
    "cupy.cuda.Stream.null.synchronize()\n",
    "\n",
    "end_time_compute = time.time()\n",
    "compute_time = end_time_compute - start_time_compute\n",
    "\n",
    "# Total GPU elapsed time (Transfer + Compute)\n",
    "total_gpu_time = transfer_time + compute_time\n",
    "\n",
    "is_correct = np.allclose(C_np[0,0], cupy.asnumpy(C_cp)[0,0])\n",
    "print(f\"CuPy (GPU) Time: {compute_time:.4f} seconds\")\n",
    "print(f\"Results match (first element): {is_correct}\")\n",
    "\n",
    "if compute_time > 0:\n",
    "    pure_speedup = cpu_time / compute_time\n",
    "    print(f\"\\n--- Pure GPU Speedup (CPU/Compute): {pure_speedup:.1f} x faster ---\")\n",
    "if total_gpu_time > 0:\n",
    "    total_speedup = cpu_time / total_gpu_time\n",
    "    print(f\"\\n--- Total Speedup (CPU/Total GPU): {total_speedup:.1f} x faster ---\")"
   ]
  },
  {
   "cell_type": "code",
   "execution_count": null,
   "id": "ac3028d8",
   "metadata": {},
   "outputs": [
    {
     "ename": "AttributeError",
     "evalue": "module 'cupy' has no attribute 'asarray'",
     "output_type": "error",
     "traceback": [
      "\u001b[31m---------------------------------------------------------------------------\u001b[39m",
      "\u001b[31mAttributeError\u001b[39m                            Traceback (most recent call last)",
      "\u001b[36mCell\u001b[39m\u001b[36m \u001b[39m\u001b[32mIn[11]\u001b[39m\u001b[32m, line 2\u001b[39m\n\u001b[32m      1\u001b[39m \u001b[38;5;28;01mif\u001b[39;00m CUPY_AVAILABLE == \u001b[38;5;28;01mTrue\u001b[39;00m:\n\u001b[32m----> \u001b[39m\u001b[32m2\u001b[39m     A_cp = \u001b[43mcp\u001b[49m\u001b[43m.\u001b[49m\u001b[43masarray\u001b[49m(A_np)\n\u001b[32m      3\u001b[39m     B_cp = cp.asarray(B_np)\n\u001b[32m      5\u001b[39m     \u001b[38;5;28mprint\u001b[39m(\u001b[33m\"\u001b[39m\u001b[33mStarting CuPy (GPU) computation\u001b[39m\u001b[33m\"\u001b[39m)\n",
      "\u001b[31mAttributeError\u001b[39m: module 'cupy' has no attribute 'asarray'"
     ]
    }
   ],
   "source": [
    "A_cp = cp.asarray(A_np)\n",
    "B_cp = cp.asarray(B_np)\n",
    "\n",
    "print(\"Starting CuPy (GPU) computation\")\n",
    "start_time_cp = time.time()\n",
    "\n",
    "C_cp = cp.dot(A_cp, B_cp)\n",
    "# Wait for the GPU to finish all operations (essential for accurate timing)\n",
    "cp.cuda.Stream.null.synchronize()\n",
    "\n",
    "end_time_cp = time.time()\n",
    "gpu_time = end_time_cp - start_time_cp\n",
    "\n",
    "is_correct = np.allclose(C_np[0,0], cp.asnumpy(C_cp)[0,0])\n",
    "print(f\"CuPy (GPU) Time: {gpu_time:.4f} seconds\")\n",
    "print(f\"Results match (first element): {is_correct}\")\n",
    "\n",
    "if gpu_time > 0:\n",
    "    speedup = cpu_time / gpu_time\n",
    "    print(f\"\\n---GPU Speedup: {speedup:.1f} x faster ---\")"
   ]
  },
  {
   "cell_type": "code",
   "execution_count": null,
   "id": "0a8014fd",
   "metadata": {},
   "outputs": [],
   "source": []
  },
  {
   "cell_type": "code",
   "execution_count": null,
   "id": "59ea9fb5",
   "metadata": {},
   "outputs": [],
   "source": []
  }
 ],
 "metadata": {
  "kernelspec": {
   "display_name": "py3.13",
   "language": "python",
   "name": "python3"
  },
  "language_info": {
   "codemirror_mode": {
    "name": "ipython",
    "version": 3
   },
   "file_extension": ".py",
   "mimetype": "text/x-python",
   "name": "python",
   "nbconvert_exporter": "python",
   "pygments_lexer": "ipython3",
   "version": "3.13.2"
  }
 },
 "nbformat": 4,
 "nbformat_minor": 5
}
