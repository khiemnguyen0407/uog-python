{
 "cells": [
  {
   "cell_type": "markdown",
   "metadata": {},
   "source": [
    "<font color=\"DeepSkyBlue\">**Learning Python at University of Glasgow**</font>\n",
    "\n",
    "<font color=\"DeepSkyBlue\">**Functions**</font>\n",
    "\n",
    "<font color=\"DeepSkyBlue\">**Lecturer**</font>: **Khiem Nguyen**"
   ]
  },
  {
   "cell_type": "markdown",
   "metadata": {},
   "source": [
    "# Functions"
   ]
  },
  {
   "cell_type": "markdown",
   "metadata": {},
   "source": [
    "## Why Functions?\n",
    "\n",
    "+ **Stand on giants' shoulders**\n",
    "***\n",
    "In fact, we have always used functions in basics of Python programming up to this point. The fact that we have used functions with tremendous ease may make us feel how important and widespread the use of functions are. For example, `print()` is a built-in function in Python, `list.copy()`, `list.append()` are functions attached to a Python list, `len(x)` returns the number of elements in the variable `x` of sequence data type (list and tuple) and so on. Without functions, we have to write our programs from scratch and thus we will never be able to inherit from the knowledge of the preceeding experts.\n",
    "\n",
    "+ **Break down a big problem into multiple smaller tasks**\n",
    "***\n",
    "Writing separate functions for solving a complicated and challenging problem is comparable to how a corporation works towards it goal and solves its own problem. Imagine that a company has multiple divisions working towrds the same goal of introducing the great product to the users. The CEO shares his vision to different heads of department and these high-ranked people plan to implement this vision by utilizing these expertises. So one head of department make a plan and decides to realize this plan with a strategy of dividing different tasks to the employees based on their own strength and weakness. Very often, the employees will carry on their tasks without knowing exactly how their peers perform the other works. The head of department supervises all the implementation and outcomes. In fact, the head does not need to understand in detail how the employees complete their tasks. Otherwise, he/she should do it by himself/herself. Altoghether, the team make a good job in achieving the ultimate goal of the department. \n",
    "\n",
    "In reality of writing a complex software or even solving a relatively complex scientific problem, we might need a group of people with different expertises and knowledge to deal with different aspects of the ultimate problem. These people work on subproblems which can be broken down into sub-subproblems and so on. To work out such divide-and-conquer strategy, each person focuses on solve their subproblems and wrap the solution up into functionalities that the other people do not have to understand the details but know how to use and exploit these functionalities easily and effectively. A way of doing this is to write **functions** that carry out a set of specific tasks. These functions may receive a concrete set of inputs or a possibly reasonable set of inputs and return the acquired results. By writing functions, we can exploit expertises of each other and make the workflow smooth.\n",
    "\n",
    "+ **Recycling the code**\n",
    "***\n",
    "Even when one person can solve a big problem on his own, he might still need a strategy to plan how he solve a problem and make use of the code he already wrote. Let us imagine that we have many array of numbers and we need to sort these numbers in ascending order. It would be quite easy if we need to sort only two or three arrays of numbers; we may copy/paste all we might need to do for one array and repeat the same segment of code for the other arrays. However, this would easily become extremely troublesome if we have a few hundred arrays or even infeasible if we don't know in advance how many arrays we have to deal with."
   ]
  },
  {
   "cell_type": "markdown",
   "metadata": {},
   "source": [
    "## Syntax\n",
    "```Python\n",
    "def function_name(argument1, argument2, ...):   # note the preserved keyword def and the colon \":\" and the end\n",
    "    \"\"\" Brief explanation of the main functionality\n",
    "\n",
    "    Detail explanation goes here. You can write as long as you want.\n",
    "    You can describe the algorithm, the data structures that are used \n",
    "    in combination with this algorithm.\n",
    "    \"\"\"\n",
    "    <statement-1>\n",
    "    .\n",
    "    .\n",
    "    .\n",
    "    <statement-N>\n",
    "    return result\n",
    "```\n",
    "\n",
    "+ The keyword `def` introduces a *function definition*. It must be followed by the function name and the parenthesized list of formal parameters.\n",
    "+ The statements that form the body of the function start at the next line, after the colon `:`, and must be indented.\n",
    "+ The first statement of the function body can *optionally* be a string literal; this string literal is the function's documentation string, defined in Python as `docstring`. To write string literal in multiple lines, use **triple** double quotes, i.e., `\"\"\"...\"\"\"`. If type `function_name?`, you will see whatever you write in the triple double quotes.\n",
    "+ A function definition associates the function name with the function object. The interpreter recognizes the object pointed to by that name as a user-defined function. Other names can also point to that *same function object* and can also be used to access the function.\n",
    "+ `return result` statement is used to determine `result` as the output of a function. As soon as it reaches the `return` statement, it exits the function and the function returns whatever stored in result."
   ]
  },
  {
   "cell_type": "markdown",
   "metadata": {},
   "source": [
    "**Best by example** &nbsp; \n",
    "\n",
    "We define a function to convert the age of a cat to the equivalent age of a human. We will see that the docstring will be shown by using the `?`-operator right after the function name. Then, we run the function as expected. In the second example, we define a function named `factorial` to compute factorial of an integer. The factorial of an integeger $n$ is defined by $n! = 1 \\times 2 \\times \\cdots \\times n$."
   ]
  },
  {
   "cell_type": "code",
   "execution_count": 1,
   "metadata": {},
   "outputs": [
    {
     "name": "stdout",
     "output_type": "stream",
     "text": [
      "\u001b[1;31mSignature:\u001b[0m \u001b[0mcat_age_to_human_age\u001b[0m\u001b[1;33m(\u001b[0m\u001b[0mcat_age\u001b[0m\u001b[1;33m)\u001b[0m\u001b[1;33m\u001b[0m\u001b[1;33m\u001b[0m\u001b[0m\n",
      "\u001b[1;31mDocstring:\u001b[0m\n",
      "Translate cat age to human age\n",
      "\n",
      "This program converts the age of a cat to an approximate age of the human. Becareful with the spaces after the first line. The docstring strips the spaces\n",
      "following a specific rule.\n",
      "\u001b[1;31mFile:\u001b[0m      c:\\users\\ln69g\\appdata\\local\\temp\\ipykernel_16180\\2483523992.py\n",
      "\u001b[1;31mType:\u001b[0m      function"
     ]
    }
   ],
   "source": [
    "def cat_age_to_human_age(cat_age):\n",
    "    \"\"\" Translate cat age to human age\n",
    "    \n",
    "        This program converts the age of a cat to an approximate age of the human. Becareful with the spaces after the first line. The docstring strips the spaces\n",
    "        following a specific rule.\n",
    "    \"\"\"\n",
    "    multiplier = 4\n",
    "    if (cat_age == 1):\n",
    "        return 16\n",
    "    if (cat_age == 2):\n",
    "        return 24\n",
    "    return multiplier * cat_age + 16\n",
    "\n",
    "cat_age_to_human_age?\n",
    " "
   ]
  },
  {
   "cell_type": "code",
   "execution_count": 2,
   "metadata": {},
   "outputs": [
    {
     "name": "stdout",
     "output_type": "stream",
     "text": [
      "32\n",
      "64\n"
     ]
    }
   ],
   "source": [
    "cat_age_to_human_age(12)                    # output is not stored nor shown; this line of code is useless except in the interactive mode\n",
    "felix_age = cat_age_to_human_age(4)         # store the returned value to a variable and then print it out\n",
    "print(felix_age)\n",
    "\n",
    "print(cat_age_to_human_age(12))             # of course you can print out immediately"
   ]
  },
  {
   "cell_type": "code",
   "execution_count": 3,
   "metadata": {},
   "outputs": [],
   "source": [
    "def factorial(n):\n",
    "    \"\"\"Factorial of a non-negative integer\"\"\"\n",
    "    result = 1\n",
    "    if n < 0:\n",
    "        print(\"Factorial only accepts non-negative integer!\")\n",
    "    else:\n",
    "        for i in range(1, n+1):\n",
    "            result = result * i\n",
    "        return result"
   ]
  },
  {
   "cell_type": "code",
   "execution_count": 4,
   "metadata": {},
   "outputs": [
    {
     "name": "stdout",
     "output_type": "stream",
     "text": [
      "Factorial only accepts non-negative integer!\n",
      "None\n",
      "-------------------------\n",
      "0! = 1\n",
      "1! = 1\n",
      "2! = 2\n"
     ]
    }
   ],
   "source": [
    "# When the function does not return anything, it actually returns None.\n",
    "print(factorial(-1))                # The returned value is None and printed out.\n",
    "print(\"-------------------------\")\n",
    "\n",
    "for i in range(0,3):\n",
    "    print(\"{0}! = {1}\".format(i, factorial(i)) )"
   ]
  },
  {
   "cell_type": "markdown",
   "metadata": {},
   "source": [
    "As explained above, the function definition associates the function name with the function object. We can use a different name to point to the same function object. For example, I can assign the function `factorial()` to the new variable `f` and use `f` as they refer to the same '_thing_'. We will learn in the next lectures about **Class and Object** and find out that a function is indeed also an object. It is a **function object**. Thus, we just have two different names, two different aliases, for the same _object_."
   ]
  },
  {
   "cell_type": "code",
   "execution_count": 5,
   "metadata": {},
   "outputs": [
    {
     "name": "stdout",
     "output_type": "stream",
     "text": [
      "0! = 1\n",
      "4! = 24\n"
     ]
    }
   ],
   "source": [
    "f = factorial\n",
    "\n",
    "print(\"0! =\", f(0))\n",
    "print(\"4! =\", f(4))"
   ]
  },
  {
   "cell_type": "markdown",
   "metadata": {},
   "source": [
    "Of course we can have more than one input arguments. In the following example, we define the function `max` to take the maximum value between two values. Thus, the function receives two "
   ]
  },
  {
   "cell_type": "code",
   "execution_count": 6,
   "metadata": {},
   "outputs": [],
   "source": [
    "def max(a, b):\n",
    "    \"\"\"\"Print the maximum between a and b.\"\"\"\n",
    "    if (a > b):\n",
    "        print(a)\n",
    "    else:\n",
    "        print(b)"
   ]
  },
  {
   "cell_type": "markdown",
   "metadata": {},
   "source": [
    "# Input arguments of a function\n",
    "\n",
    "***Basics of input arguments***\n",
    "\n",
    "We now study the most basics of input arguments in a function definition:\n",
    "\n",
    "1. Default argument values\n",
    "2. Positional arguments\n",
    "3. Keyword arguments\n",
    "\n",
    "We explain these concepts briefly here. By using default argument values we can call a function with fewer arguments than it is defined to allow. The arguments which do not have the specified value will receive the default values. The positional arguments imply that the positions of the input arguments are crucial in a function call in which we do not specify which parameters take which input values. Keyword arguments, on the other hand, allow us to specify which parameters take which input values regardless of the positions of the input parameters in the function call.\n",
    "\n",
    "On the way of explainging the above topics, we will also discuss how the input arguments may or may not change after functions through two points:\n",
    "+ Copy of input arguments\n",
    "+ List as input\n",
    "\n",
    "***Advance on input arguments***\n",
    "\n",
    "Then we can also combine positional arguments with keyword arguments in different fashions. Thus, we have \n",
    "- Position-or-Keyword arguments\n",
    "- Positional-only parameters\n",
    "- Keyword-only arguments\n",
    "\n",
    "By the above explanations, it is natural to extrapolate the meanings of the other three terminologies. This will become clearer with more detailed explanation found below, and of course code demonstration.\n",
    "\n",
    "It is possible to define functions with a variable number of arguments. The first option is to use default argument values because we can call the function without input values and thus fewer number of inputs. We then will discuss the other two options - inputs by list and by dictionary - later."
   ]
  },
  {
   "cell_type": "markdown",
   "metadata": {},
   "source": [
    "## Default argument values\n",
    "\n",
    "The most useful form of writing functions accepting a variable number of arguments is to specify **default value** for one or more arguments. This creates a function that can be called with **fewer arguments** that it is defined to allow. If the function call does not specify the value for the argument defined with default value, the function will use the default value without raising any errors. The default value is declared by the sytanx `argument=value` in the list of parameters of the function definition."
   ]
  },
  {
   "cell_type": "markdown",
   "metadata": {},
   "source": [
    "**Best by example** &nbsp; In the following example we define a function that accepts three input arguments. The second and the third arguments are defaulted to predefined values. It is fine to call function with missing second or third or both second and third arguments."
   ]
  },
  {
   "cell_type": "code",
   "execution_count": 7,
   "metadata": {},
   "outputs": [],
   "source": [
    "def ask_ok(prompt, retries=4, reminder='Come on! Only \"yes\" or \"no\"'):     # variable \"retries\" and \"reminder\" are defaulted to 4 and 'Come on!...' \n",
    "    \"\"\" Ask until receiving 'yes' or 'no' \"\"\"\n",
    "    while True:\n",
    "        ok = input(prompt)\n",
    "        if ok in ('y', 'ye', 'yes'):\n",
    "            return True\n",
    "        if ok in ('n', 'no', 'nah'):\n",
    "            return False\n",
    "        retries = retries - 1\n",
    "        if retries < 0:\n",
    "            print(reminder)\n",
    "            return False # or return None"
   ]
  },
  {
   "cell_type": "markdown",
   "metadata": {},
   "source": [
    "This function can be called in several ways. One of the ways is to specify all three input arguments with appropriate values. This has been done before in the section **Keyword arguments**. Two more ways are dropping the third argument and dropping both the second and the third arguments."
   ]
  },
  {
   "cell_type": "code",
   "execution_count": 8,
   "metadata": {},
   "outputs": [
    {
     "data": {
      "text/plain": [
       "False"
      ]
     },
     "execution_count": 8,
     "metadata": {},
     "output_type": "execute_result"
    }
   ],
   "source": [
    "ask_ok(\"Want a quitz?\", retries=2)      # By default, reminder = 'Come on! Only \"yes\" or \"no\"'\n",
    "ask_ok(\"Want another quiz?\")            # By default, retries = 4, reminder = 'Come on! Only \"yes\" or \"no\"'"
   ]
  },
  {
   "cell_type": "markdown",
   "metadata": {},
   "source": [
    "## Positional arguments\n",
    "\n",
    "Of course, the positions of the arguments are important when calling a function in which we don't know the meaning of the input arguments. \n",
    "\n",
    "In the following example, we define a function that solves equation $a x + b = 0$ for $x$ where $a$ and $b$ are two real numbers. The solution is $x = -b/a$ with $a \\neq 0$. The function receives two input arguments for $a$ and $b$ in the order $a$ and then $b$. Clearly, the positions of the inputs are important."
   ]
  },
  {
   "cell_type": "code",
   "execution_count": 9,
   "metadata": {},
   "outputs": [],
   "source": [
    "def solve_linear_equation(a, b):\n",
    "    \"\"\"Solve equation a x + b = 0 for x\"\"\"\n",
    "    if a != 0:\n",
    "        return -b/a\n",
    "    else:\n",
    "        if b == 0:\n",
    "            print(\"Equation has infinite number of solutions.\")\n",
    "        else:\n",
    "            print(\"Equation does not have solution.\")"
   ]
  },
  {
   "cell_type": "code",
   "execution_count": 10,
   "metadata": {},
   "outputs": [
    {
     "name": "stdout",
     "output_type": "stream",
     "text": [
      "Solve equation 2 x + 1 = 0: -0.5\n",
      "Solve equation   x + 2 = 0: -2.0\n",
      "Solve equation   x     = 0: 0.0\n",
      "--------------------------\n",
      "Equation does not have solution.\n",
      "Solve equation 0 x + 1 = 0: None\n"
     ]
    }
   ],
   "source": [
    "print(\"Solve equation 2 x + 1 = 0:\", solve_linear_equation(2, 1))\n",
    "print(\"Solve equation   x + 2 = 0:\", solve_linear_equation(1, 2))\n",
    "print(\"Solve equation   x     = 0:\", solve_linear_equation(1, 0)) \n",
    "print(\"--------------------------\")\n",
    "print(\"Solve equation 0 x + 1 = 0:\", solve_linear_equation(0, 1))               \n"
   ]
  },
  {
   "cell_type": "markdown",
   "metadata": {},
   "source": [
    "## Keyword arguments\n",
    "\n",
    "When we remember the name of the input arguments, we can specify which argument receive which value. This can be done by using **keyword arguments** of the form \n",
    "\n",
    "```Python\n",
    "kwarg=value   # kw stands for keyword, arg stands for argument\n",
    "```\n",
    "\n",
    "We come back to the above example of solving the linear equation $a x + b = 0$. To use the keyword arguments, we just only need to specify `a=some-value` and `b=some-value` in the function call. Of course, we can also use variables as input arguments."
   ]
  },
  {
   "cell_type": "code",
   "execution_count": 11,
   "metadata": {},
   "outputs": [
    {
     "name": "stdout",
     "output_type": "stream",
     "text": [
      "Solve equation 2 x + 1 = 0: -0.5\n",
      "Solve equation 2 x + 1 = 0: -0.5\n",
      "Solve equation 2 x + 1 = 0: -0.5\n",
      "Solve equation 2 x + 1 = 0: -0.5\n"
     ]
    }
   ],
   "source": [
    "print(\"Solve equation 2 x + 1 = 0:\", solve_linear_equation(b=1, a=2)) \n",
    "print(\"Solve equation 2 x + 1 = 0:\", solve_linear_equation(2, 1))\n",
    "# These two lines of code are equivalent as we have assigned a and b to the same set of values.\n",
    "\n",
    "# Let us define\n",
    "a, b = 2, 1\n",
    "b = 1\n",
    "# In the writing \"a=a\" and \"b=b\", the keyword arguments \"a=\" and \"b=0\" mean that a and b expect to receive values while the actual values are given on the right-hand sides of a and b.\n",
    "print(\"Solve equation 2 x + 1 = 0:\", solve_linear_equation(b=b, a=a))\n",
    "\n",
    "# Of course, we don't have to use the variables a and b\n",
    "c1, c2 = 2, 1\n",
    "print(\"Solve equation 2 x + 1 = 0:\", solve_linear_equation(a=c1, b=c2))"
   ]
  },
  {
   "cell_type": "markdown",
   "metadata": {},
   "source": [
    "**Another meaningful example** &nbsp; The above example is not a good illustration example there are only two input arguments and the variable name `a` and `b` do not carry clear meanings. However, keyword arguments become extremely useful for the function with a long list of arguments and the argument names carry clear meanings. Also, most of the modern Integrated Development Environments (IDEs) help us to use keyword arguments with the auto-complete features. Usually, the auto-complete feature is done by the key Tab. Note that the following example use also *default argument values*."
   ]
  },
  {
   "cell_type": "code",
   "execution_count": 12,
   "metadata": {},
   "outputs": [],
   "source": [
    "def ask_ok(prompt, retries=4, reminder='Come on! Only \"yes\" or \"no\"'):     # variable \"retries\" and \"reminder\" are defaulted to 4 and 'Come on!...' \n",
    "    \"\"\" Ask until receiving 'yes' or 'no' \"\"\"\n",
    "    while True:\n",
    "        ok = input(prompt)\n",
    "        if ok in ('y', 'ye', 'yes'):\n",
    "            return True\n",
    "        if ok in ('n', 'no', 'nah'):\n",
    "            return False\n",
    "        retries = retries - 1\n",
    "        if retries < 0:\n",
    "            print(reminder)\n",
    "            return False # or return None"
   ]
  },
  {
   "cell_type": "code",
   "execution_count": 13,
   "metadata": {},
   "outputs": [
    {
     "data": {
      "text/plain": [
       "True"
      ]
     },
     "execution_count": 13,
     "metadata": {},
     "output_type": "execute_result"
    }
   ],
   "source": [
    "ask_ok(prompt=\"Input yes or no!\", retries=1, reminder=\"Please type only 'yes' or 'no'\")"
   ]
  },
  {
   "cell_type": "markdown",
   "metadata": {},
   "source": [
    "## Scope of variables in functions\n",
    "\n",
    "**Scope of variables** is a very complex topic in programming in general and normally deserves a separate lecture by itself. However, we will focus on the scope of variables in using functions in this Jupyte Notebook. Particularly, we are concerned with the two cases:\n",
    "\n",
    "+ Copy of input argument\n",
    "+ List as input\n",
    "\n",
    "**More resource** &nbsp; Following the link [Pointers in Python](https://realpython.com/pointers-in-python/) you can find more excellent explanation of this matter."
   ]
  },
  {
   "cell_type": "markdown",
   "metadata": {},
   "source": [
    "### Copy of input argument\n",
    "\n",
    "It is now a good time to briefly mention the scope of variables. Essentially, the input arguments will be copied and assigned to new variables in a function so that the actual values of the inputs do not change after the function is called. Very often, this is exactly the behavior of functions we want to have on their input arguments. Thus, the new variable copying the input value has the scope within the function only.\n",
    "\n",
    "**Remark** &nbsp; It is important to note that the effect on the input arguments described above does not apply to input as a list. Any changes made on the list inside the function will be kept after the function call. We will discuss this phenomenon in detail later.\n",
    "\n",
    "**Best by example** &nbsp; In the following, we define a function receiving one input argument. We change the input inside the function. However, the value of the input does not change outside the function."
   ]
  },
  {
   "cell_type": "code",
   "execution_count": 14,
   "metadata": {},
   "outputs": [
    {
     "name": "stdout",
     "output_type": "stream",
     "text": [
      "10\n",
      "20\n",
      "10\n",
      "None\n",
      "2\n"
     ]
    }
   ],
   "source": [
    "def tweak(a):\n",
    "    print(a)        # print a before changing\n",
    "    a = 20          # assign 20 to a\n",
    "    print(a)        # print a after changing\n",
    "    \n",
    "x = 10                      \n",
    "tweak_output = tweak(x)     # tweak_output is None -- we talk later about this\n",
    "# The copy of x has been made in the function so that the value of x does not change after calling tweak.\n",
    "print(x)                    # print out 10 (x = 10)\n",
    "print(tweak_output)         # We should see None as the output as tweak_output is None.\n",
    "print(a)"
   ]
  },
  {
   "cell_type": "markdown",
   "metadata": {},
   "source": [
    "### List as input\n",
    "\n",
    "In general, when a user operates on a list, the user normally expects to change the values in the list. If a function receives a list as the input, there should be some sort of changes made on the list inside the function. From perspective of the externall caller (user), we want the list to alter after exiting the function as well.\n",
    "\n",
    "One simple example of the above explanation is *sorting of a list of numbers*. Let say, the function `sort_array(array)` receives a list of integers, called here `array`, and return a sorted list in ascending/descending order. There are two possibilities. The function receives `array` and than make a copy of this, called `array_copy`. The sorting algorithm will be performed on the copy of array and then return the sorted array through the copy version `array_copy`. Clearly, making a copy of a list can be extremely expensive if the list is huge -- We will see below what it means by ***expensive**. Concurrently, as user, we normally no longer work on the unsorted array after the sorted array is obtained. Why should we bother to keep the original one while we don't need it and it takes too much resources in terms of memory and time to create one -- Again we will see this by illustration. \n",
    "\n",
    "For the above reasons, it is better by default to allow the function alters the values of the list as input. Such behavior may look like ***input by reference*** or ***input by pointer*** in other programming languages such as C/C++. We can think of the list as a pointer that points to a chunk of memory holding values in the list. In Python, we normally say the list is bound to a variable name. In fact, the whole thing about **pointers** is very complicated and requires understanding of the lower-level langauges.\n",
    "\n",
    "**More resource** &nbsp; Following the link [Pointers in Python](https://realpython.com/pointers-in-python/) you can find more excellent explanation of this matter."
   ]
  },
  {
   "cell_type": "markdown",
   "metadata": {},
   "source": [
    "***A short experiment on list***\n",
    "\n",
    "The list is normally a very large container that may use up a relatitively large chunk of memory. For this reason, making a copy of the list is a very expensive operation in terms of two factors: (i) computational resource and (ii) memory resource. The copy of a list bound to the variable name `x` requires the compiler to take up a chunk of memory that is as large as the original one bound to `x`. Also, it takes time to copy all of the contents stored in every single element of the original list.\n",
    "\n",
    "+ In the first test, we create a list named `my_list` and and then assign it to another variable named `list_alias`. Then, these two variables point to the same list object. To see this, we can ask the ID of these two variables. If they are identical, the two variables actually hold the content of the same object. Otherwise, the two variables point to two different objects. In this case, they are same.\n",
    "+ In the second test, we repeat the first test but instead of simple assignment `my_list` to the new variable, we make a copy and then make assignment. The copy is made by the statement `my_list[:]` or `my_list.copy()`. In this case, the ID of the copy is different from the ID of `my_list`. Then, every change in the copy version does not leave effect on the original list `my_list`."
   ]
  },
  {
   "cell_type": "code",
   "execution_count": 15,
   "metadata": {},
   "outputs": [
    {
     "name": "stdout",
     "output_type": "stream",
     "text": [
      "id(my_list)   = 2344079859776\n",
      "id(list_alias) = 2344079859776\n",
      "my_list    = ['element 1', 'element 2', 'element 3']\n",
      "list_alias = ['element 1', 'element 2', 'element 3']\n",
      "After changing list_alias:\n",
      "my_list    = ['something', 'element 2', 'element 3']\n",
      "list_alias = ['something', 'element 2', 'element 3']\n"
     ]
    }
   ],
   "source": [
    "# FIRST TEST\n",
    "my_list = [\"element 1\", \"element 2\", \"element 3\"]\n",
    "list_alias = my_list        # list_alias and my_list point to the same list object\n",
    "print(\"id(my_list)   =\", id(my_list))       \n",
    "print(\"id(list_alias) =\", id(list_alias))    # the same ID as my_list\n",
    "print(\"my_list    =\", my_list)\n",
    "print(\"list_alias =\", list_alias)\n",
    "\n",
    "# Let us change the first element of list_alias and print out two variables\n",
    "list_alias[0] = \"something\"\n",
    "print(\"After changing list_alias:\")\n",
    "print(\"my_list    =\", my_list)\n",
    "print(\"list_alias =\", list_alias)"
   ]
  },
  {
   "cell_type": "code",
   "execution_count": 16,
   "metadata": {},
   "outputs": [
    {
     "name": "stdout",
     "output_type": "stream",
     "text": [
      "id(my_list)   = 2344079817856\n",
      "id(list_copy_1) = 2344080075712\n",
      "id(list_copy_2) = 2344080077248\n",
      "After changing list_copy:\n",
      "my_list     = ['element 1', 'element 2', 'element 3']\n",
      "list_copy_1 = ['something', 'element 2', 'element 3']\n",
      "list_copy_2 = ['element 1', 'something', 'element 3']\n"
     ]
    }
   ],
   "source": [
    "# SECOND TEST\n",
    "my_list = [\"element 1\", \"element 2\", \"element 3\"]\n",
    "# This will make a copy of my_list, list_copy and my_list point to two different list object\n",
    "list_copy_1= my_list[:]\n",
    "list_copy_2 = my_list.copy()\n",
    "print(\"id(my_list)   =\", id(my_list))\n",
    "print(\"id(list_copy_1) =\", id(list_copy_1))\n",
    "print(\"id(list_copy_2) =\", id(list_copy_2))\n",
    "list_copy_1[0] = \"something\"\n",
    "list_copy_2[1] = \"something\"\n",
    "print(\"After changing list_copy:\")\n",
    "print(\"my_list     =\", my_list)\n",
    "print(\"list_copy_1 =\", list_copy_1)\n",
    "print(\"list_copy_2 =\", list_copy_2)\n"
   ]
  },
  {
   "cell_type": "markdown",
   "metadata": {},
   "source": [
    "**Example on function with list as input argument**\n",
    "\n",
    "Now we come back to main point: The function receives list as an input, any changes of the list inside the function will have effect after the function call because the function uses the same list object."
   ]
  },
  {
   "cell_type": "code",
   "execution_count": 17,
   "metadata": {},
   "outputs": [
    {
     "name": "stdout",
     "output_type": "stream",
     "text": [
      "people (before function call) = ['Fred', 'Anna', 'Bob']\n",
      "id(people) = 2344080077504\n",
      "=============== Function call ===============\n",
      "id(input-argument) = 2344080077504\n",
      "Hello Fred!\tHello Anna!\tHello Bob!\t\n",
      "=============================================\n",
      "people (after function call)  = ['Somebody else', 'Anna', 'Stranger']\n"
     ]
    }
   ],
   "source": [
    "def greeting(names):\n",
    "    \"\"\"Say hello to everyone.\"\"\"\n",
    "    print(\"id(input-argument) =\", id(names))    # print ID of the input argument\n",
    "    for name in names:\n",
    "        print(\"Hello \" + name + \"!\", end = \"\\t\")\n",
    "    names[0] = \"Somebody else\"          # Change the first element of the input-argument (as a list)\n",
    "    names[-1] = \"Stranger\"              # Change the last element of the input-argument (as a list)\n",
    "    \n",
    "people = [\"Fred\",  \"Anna\", \"Bob\"]       # create a list\n",
    "print(\"people (before function call) =\", people)    \n",
    "print(\"id(people) =\", id(people))       # should have the same ID as the ID of the input-argument\n",
    "print(15*\"=\" + \" Function call \" + 15*\"=\")\n",
    "greeting(people)                        # call the function now\n",
    "print(\"\\n\" + 45*\"=\")\n",
    "print(\"people (after function call)  =\", people)    # see the changes after the function call"
   ]
  },
  {
   "cell_type": "markdown",
   "metadata": {},
   "source": [
    "## Output\n",
    "\n",
    "There are much more about input arguments. However, before dig it deeper, let us discuss the return of functions.\n",
    "- Every function (just like in mathematics) returns one thing, using the `return` statement.\n",
    "- Even if we don't return anything, the Python function actually return with a value of `None`.\n",
    "- To implement many outputs for one function return, we just return a tuple, list or dictionary! Usually the purpose of the function will suggest which one is best.\n",
    "- Returning a tuple is the most common use."
   ]
  },
  {
   "cell_type": "code",
   "execution_count": 18,
   "metadata": {},
   "outputs": [
    {
     "name": "stdout",
     "output_type": "stream",
     "text": [
      "10\n",
      "Hello Khiem !\n",
      "None\n"
     ]
    }
   ],
   "source": [
    "def addition(a, b):\n",
    "    \"\"\"Is there a duller function?\"\"\"\n",
    "    return a + b\n",
    "s = addition(3, 7)      # usage is dull too\n",
    "print(s)\n",
    "def say_hello(name):\n",
    "    print(\"Hello\", name, \"!\")\n",
    "\n",
    "output = say_hello(\"Khiem\")\n",
    "print(output)"
   ]
  },
  {
   "cell_type": "code",
   "execution_count": 19,
   "metadata": {},
   "outputs": [
    {
     "name": "stdout",
     "output_type": "stream",
     "text": [
      "\u001b[1;31mSignature:\u001b[0m \u001b[0maddition\u001b[0m\u001b[1;33m(\u001b[0m\u001b[0ma\u001b[0m\u001b[1;33m,\u001b[0m \u001b[0mb\u001b[0m\u001b[1;33m)\u001b[0m\u001b[1;33m\u001b[0m\u001b[1;33m\u001b[0m\u001b[0m\n",
      "\u001b[1;31mDocstring:\u001b[0m Is there a duller function?\n",
      "\u001b[1;31mFile:\u001b[0m      c:\\users\\ln69g\\appdata\\local\\temp\\ipykernel_16180\\820590594.py\n",
      "\u001b[1;31mType:\u001b[0m      function"
     ]
    }
   ],
   "source": [
    "addition?"
   ]
  },
  {
   "cell_type": "code",
   "execution_count": 20,
   "metadata": {},
   "outputs": [
    {
     "name": "stdout",
     "output_type": "stream",
     "text": [
      "min_val = -4\n",
      "max_val = 5\n"
     ]
    },
    {
     "data": {
      "text/plain": [
       "(0, 18)"
      ]
     },
     "execution_count": 20,
     "metadata": {},
     "output_type": "execute_result"
    }
   ],
   "source": [
    "def find_min_max(array):\n",
    "    min_val, max_val = array[0], array[0]\n",
    "    for i in range(1, len(array)):\n",
    "        if array[i] < min_val:\n",
    "            min_val = array[i]\n",
    "        if array[i] > max_val:\n",
    "            max_val = array[i]\n",
    "    return min_val, max_val\n",
    "min_val, max_val = find_min_max([-1, -4, 3, 5, 2])\n",
    "print(\"min_val =\", min_val)\n",
    "print(\"max_val =\", max_val)\n",
    "find_min_max(list(range(0, 20, 2)))"
   ]
  },
  {
   "cell_type": "code",
   "execution_count": 21,
   "metadata": {},
   "outputs": [
    {
     "name": "stdout",
     "output_type": "stream",
     "text": [
      "people (before function call) = ['Fred', 'Anna', 'Bob']\n",
      "id(people) = 2344080168576\n",
      "=============== Function call ===============\n",
      "id(input-argument) = 2344080168576\n",
      "Hello Fred!\tHello Anna!\tHello Bob!\t\n",
      "=============================================\n",
      "people (after function call)  = ['Somebody else', 'Anna', 'Stranger']\n"
     ]
    }
   ],
   "source": [
    "def greeting(names):\n",
    "    \"\"\"Say hello to everyone.\"\"\"\n",
    "    print(\"id(input-argument) =\", id(names))    # print ID of the input argument\n",
    "    for name in names:\n",
    "        print(\"Hello \" + name + \"!\", end = \"\\t\")\n",
    "    names[0] = \"Somebody else\"          # Change the first element of the input-argument (as a list)\n",
    "    names[-1] = \"Stranger\"              # Change the last element of the input-argument (as a list)\n",
    "    \n",
    "people = [\"Fred\",  \"Anna\", \"Bob\"]       # create a list\n",
    "print(\"people (before function call) =\", people)    \n",
    "print(\"id(people) =\", id(people))       # should have the same ID as the ID of the input-argument\n",
    "print(15*\"=\" + \" Function call \" + 15*\"=\")\n",
    "greeting(people)                        # call the function now\n",
    "print(\"\\n\" + 45*\"=\")\n",
    "print(\"people (after function call)  =\", people)    # see the changes after the function call"
   ]
  },
  {
   "cell_type": "code",
   "execution_count": 22,
   "metadata": {},
   "outputs": [
    {
     "name": "stdout",
     "output_type": "stream",
     "text": [
      "Help on built-in function print in module builtins:\n",
      "\n",
      "print(*args, sep=' ', end='\\n', file=None, flush=False)\n",
      "    Prints the values to a stream, or to sys.stdout by default.\n",
      "\n",
      "    sep\n",
      "      string inserted between values, default a space.\n",
      "    end\n",
      "      string appended after the last value, default a newline.\n",
      "    file\n",
      "      a file-like object (stream); defaults to the current sys.stdout.\n",
      "    flush\n",
      "      whether to forcibly flush the stream.\n",
      "\n"
     ]
    }
   ],
   "source": [
    "help(print)"
   ]
  },
  {
   "cell_type": "markdown",
   "metadata": {},
   "source": [
    "## Special parameters: positional-or-keyword, positional-only, and keyword-only arguments\n",
    "\n",
    "After learning how positional arguments and keyword arguments work, we are now in a good position to discuss the three types of arguments:\n",
    "+ ***positional-or-keyword*** arguments\n",
    "+ ***positional-only*** arguments\n",
    "+ ***keyword-only*** arguments.\n",
    "\n",
    "We will discuss all these types in one place as they are interrelated.\n",
    "\n",
    "By default, arguments may be passed to a Python function either by position or explicitly by keyword. That is, *by default the input arguments are positional-or-keyword arguments*. For readability and performance, it makes sense to restrict the way arguments can be passed so that a developer need only look at the function definition to determine if items are passed by position, by position or keyword, or by keyword.\n",
    "\n",
    "A function definition may look like:\n",
    "\n",
    "```Python\n",
    "def f(position1, position2, /, position_or_keyword, *, keyword1, keyword2):\n",
    "      --------------------     -------------------     ------------------\n",
    "       |                         |                       |\n",
    "       |                   positional or keyword         |\n",
    "       |                                                 - keyword only\n",
    "       -- Positional only\n",
    "```\n",
    "\n",
    "where `/` and `*` are optional. If used, these symbols indicate the kind of parameter by how the arguments may be passed to the function: positional-only, positional-or-keyword, and keyword-only.\n",
    "\n",
    "\n",
    "***Positional-or-keyword arguments***\n",
    "\n",
    "If `/` and `*` are not present in the function definition, arguments may be passed to a function by position or by keyword. Again, this is due to the default positional-or-keyword arguments.\n",
    "\n",
    "***Positional-only parameters***\n",
    "\n",
    "If *positional-only*, the parameter's order matters and the parameters **cannot be passed by keyword**. Positional-only parameters are placed before a forward slash `/`. This slash character `/` is used to logically separate the positional-only parameters from the rest of the parameters. As a consequence, if there is no `/` in the function definition, there are no positional-only parameters.\n",
    "\n",
    "***Keyword-only parameters***\n",
    "\n",
    "To mark parameters as *keyword-only*, indicating the parameters **must be passed by keyword argument**, place an asterisk `*` in the arguments list just before the first *keyword-only* parameter."
   ]
  },
  {
   "cell_type": "markdown",
   "metadata": {},
   "source": [
    "**Example: positional-or-keyword argument**"
   ]
  },
  {
   "cell_type": "code",
   "execution_count": 23,
   "metadata": {},
   "outputs": [
    {
     "name": "stdout",
     "output_type": "stream",
     "text": [
      "1st argument = Hello\n",
      "2nd argument = World\n",
      "Hello World\n",
      "1st argument = Hello\n",
      "2nd argument = World\n",
      "Hello World\n"
     ]
    }
   ],
   "source": [
    "def standard_arg(arg1, arg2):      # by default, arg1 and arg2 are positional-or-keyword\n",
    "    print(\"1st argument =\", arg1)\n",
    "    print(\"2nd argument =\", arg2)\n",
    "    print(arg1, arg2)\n",
    "\n",
    "standard_arg(arg1=\"Hello\", arg2=\"World\")    \n",
    "standard_arg(\"Hello\", arg2=\"World\")"
   ]
  },
  {
   "cell_type": "code",
   "execution_count": 24,
   "metadata": {},
   "outputs": [
    {
     "data": {
      "text/plain": [
       "'Uncomment the code to see errors'"
      ]
     },
     "execution_count": 24,
     "metadata": {},
     "output_type": "execute_result"
    }
   ],
   "source": [
    "# These two functional calls should lead to error. \n",
    "# Positional argument cannot appear after keyword argument\n",
    "\"\"\"Uncomment the code to see errors\"\"\"\n",
    "# standard_arg(arg1=\"World\", \"Hello\")  \n",
    "# standard_arg(arg2=\"World\", \"Hello\")"
   ]
  },
  {
   "cell_type": "markdown",
   "metadata": {},
   "source": [
    "**Example: Positional-only arguments**"
   ]
  },
  {
   "cell_type": "code",
   "execution_count": 25,
   "metadata": {},
   "outputs": [
    {
     "name": "stdout",
     "output_type": "stream",
     "text": [
      "2\n"
     ]
    }
   ],
   "source": [
    "def pos_only_arg(arg, /):\n",
    "    print(arg)\n",
    "    \n",
    "pos_only_arg(2)         # This function call is fine"
   ]
  },
  {
   "cell_type": "code",
   "execution_count": 26,
   "metadata": {},
   "outputs": [
    {
     "data": {
      "text/plain": [
       "'Uncomment the code to see errors'"
      ]
     },
     "execution_count": 26,
     "metadata": {},
     "output_type": "execute_result"
    }
   ],
   "source": [
    "# This leads to error because we declared arg as positional-only. It doesn't accept pass by keyword.\n",
    "\"\"\"Uncomment the code to see errors\"\"\"\n",
    "# pos_only_arg(arg=2)"
   ]
  },
  {
   "cell_type": "markdown",
   "metadata": {},
   "source": [
    "**Example: Keyword-only arguments**"
   ]
  },
  {
   "cell_type": "code",
   "execution_count": 27,
   "metadata": {},
   "outputs": [
    {
     "name": "stdout",
     "output_type": "stream",
     "text": [
      "3\n"
     ]
    }
   ],
   "source": [
    "def kwd_only_arg(*, arg):\n",
    "    print(arg)\n",
    "    \n",
    "kwd_only_arg(arg=3)     # This functioncal is fine"
   ]
  },
  {
   "cell_type": "code",
   "execution_count": 28,
   "metadata": {},
   "outputs": [
    {
     "data": {
      "text/plain": [
       "'Uncomment the code to see errors'"
      ]
     },
     "execution_count": 28,
     "metadata": {},
     "output_type": "execute_result"
    }
   ],
   "source": [
    "# This leads to error because we declared arg as keyword-only. We must specify the variable name arg=3\n",
    "\"\"\"Uncomment the code to see errors\"\"\"\n",
    "# kwd_only_arg(3)         "
   ]
  },
  {
   "cell_type": "markdown",
   "metadata": {},
   "source": [
    "**Example: Combining all three types of passing**"
   ]
  },
  {
   "cell_type": "code",
   "execution_count": 29,
   "metadata": {},
   "outputs": [
    {
     "name": "stdout",
     "output_type": "stream",
     "text": [
      "1 2 3\n",
      "4 5 6\n"
     ]
    }
   ],
   "source": [
    "def combined_example(pos_only_arg, /, standard_arg, *, kwd_only_arg):\n",
    "    \"\"\" Learn how parameters are passed to function\n",
    "    \n",
    "    pos_only_arg: positional-only\n",
    "    standard_arg: positinoal-or-keyword\n",
    "    kwd_only_arg: keyword-only\n",
    "    \"\"\"\n",
    "    print(pos_only_arg, standard_arg, kwd_only_arg)\n",
    "    \n",
    "combined_example(1, 2, kwd_only_arg=3)                  # This function call is fine.\n",
    "combined_example(4, standard_arg=5, kwd_only_arg=6)     # This is fine too."
   ]
  },
  {
   "cell_type": "code",
   "execution_count": 30,
   "metadata": {},
   "outputs": [
    {
     "data": {
      "text/plain": [
       "'Uncomment the code to see errors'"
      ]
     },
     "execution_count": 30,
     "metadata": {},
     "output_type": "execute_result"
    }
   ],
   "source": [
    "# The following line of code leads to an error. The first argument is positional-only\n",
    "\"\"\"Uncomment the code to see errors\"\"\"\n",
    "# combined_example(pos_only_arg=1, standard_arg=5, kwd_only_arg=6)  "
   ]
  },
  {
   "cell_type": "markdown",
   "metadata": {},
   "source": [
    "# Arbitrary Argument Lists\n",
    "\n",
    "Finally, the least frequently used option is to specify that a function can be called with an arbitrary number of arguments. This can be done with\n",
    "\n",
    "1. Input arguments by tuple\n",
    "2. Input arguments by dictionary"
   ]
  },
  {
   "cell_type": "markdown",
   "metadata": {},
   "source": [
    "## Arguments wrapped up in a tuple\n",
    "\n",
    "The variable number of arguments can be implemented by wrapping up these arguments in a tuple. Before the variable number of arguments, zero or more normal arguments may occur.\n",
    "\n",
    "**Syntax**\n",
    "\n",
    "```Python\n",
    "def function_name(normal_arg1, normal_arg2, ..., *args):\n",
    "    <statements>\n",
    "```\n",
    "Normally, these *variadic* arguments will be **last n the list of formal parameters** because they *scoop up all remaining input arguments* that passed to the function. \n",
    "\n",
    "Any formal parameters which occur after the `*args` parameter are `keyword-only` arguments, meaning that they can only be used as keywords rather positional arguments. This rule makes perfect sense because we don't know in advance how many inputs the function may receive before the function call. If we don't specify the inputs by keywords, naturally they must be *scooped up* into the tuple as well. In fact, there is no way the interpreter/compiler can understand human intentiion if we don't make clear difference for it. We will understand this point by example."
   ]
  },
  {
   "cell_type": "markdown",
   "metadata": {},
   "source": [
    "**Best by example**\n",
    "\n",
    "In this example, we will join all the parameters supplied to the function by a separator which is a string by itself. The number of supplied parameters is arbitrary and only known at the function call. We first look at how the method `join` of a string works. Then, we will exploit this method to define the function as just described."
   ]
  },
  {
   "cell_type": "code",
   "execution_count": 31,
   "metadata": {},
   "outputs": [
    {
     "name": "stdout",
     "output_type": "stream",
     "text": [
      "Name: Khiem\n",
      "Age: 37\n",
      "Gender: male\n",
      "Profession: lecturer\n",
      "Year of experience: 3\n"
     ]
    }
   ],
   "source": [
    "def print_out_info(name, age, *args):\n",
    "    print(\"Name:\", name)\n",
    "    print(\"Age:\", age)\n",
    "    print(\"Gender:\", args[0])\n",
    "    print(\"Profession:\", args[1])\n",
    "    print(\"Year of experience:\", args[2])\n",
    "\n",
    "print_out_info(\"Khiem\", 37, \"male\", \"lecturer\", \"3\")\n",
    "# But we cannot write\n",
    "# print_out_info(\"Khiem\", 37, (\"male\", \"lecturer\", \"3\")) \n",
    "# The last argument is understood as the tuple of one element, so we have\n",
    "# args = ((\"male\", \"lecturer\", \"3\"))\n",
    "# which is a tuple of one element. This is element is a tuple of 3 elements.\n"
   ]
  },
  {
   "cell_type": "code",
   "execution_count": 32,
   "metadata": {},
   "outputs": [
    {
     "name": "stdout",
     "output_type": "stream",
     "text": [
      "Mech.Engineering.Skills.3\n",
      "Mech--Engineering--Skills--3\n",
      "Mech//Engineering//Skills//3\n",
      "Mech Engineering Skills 3\n"
     ]
    }
   ],
   "source": [
    "my_tuple = \"Mech\", \"Engineering\", \"Skills\", \"3\"\n",
    "my_string = \".\"\n",
    "print(my_string.join(my_tuple))\n",
    "# Similarly, we can write down the string explicity\n",
    "print(\"--\".join(my_tuple))\n",
    "print(\"//\".join(my_tuple))\n",
    "print(\" \".join(my_tuple))"
   ]
  },
  {
   "cell_type": "code",
   "execution_count": 33,
   "metadata": {},
   "outputs": [
    {
     "name": "stdout",
     "output_type": "stream",
     "text": [
      "earth/mars/venus\n"
     ]
    }
   ],
   "source": [
    "# Now, we define the function that join all the input parameters by a separator which is defaulted to \"/\"\n",
    "def concat(*args, sep=\"/\"):  # anything after *args must be a keyword, or **args\n",
    "    \"\"\" Join all the input arguments by the separator. \"\"\"\n",
    "    return sep.join(args)\n",
    "\n",
    "print(concat(\"earth\", \"mars\", \"venus\"))             # default separator \"/\" is used"
   ]
  },
  {
   "cell_type": "code",
   "execution_count": 34,
   "metadata": {},
   "outputs": [
    {
     "name": "stdout",
     "output_type": "stream",
     "text": [
      "earth/mars/venus/.\n",
      "earth.mars.venus\n"
     ]
    }
   ],
   "source": [
    "# Let us try to join \"earth\", \"mars\" and \"venus\" by the period letter \".\". \n",
    "# However, we do not pass this separator by keyword argument and let see what happens.\n",
    "print(concat(\"earth\", \"mars\", \"venus\", \".\"))        # \".\" us interpreted as a component of a tuple\n",
    "# Clearly, the result is earth/mars/venus/. because \".\" would be understood as also the input in the list of arbitrary number of arguments. \n",
    "\n",
    "# To particularly specify \".\" as separtor, we use\n",
    "print(concat(\"earth\", \"mars\", \"venus\", sep=\".\"))    # that's why we need a keyword to tell"
   ]
  },
  {
   "cell_type": "markdown",
   "metadata": {},
   "source": [
    "### Unpacking argument lists\n",
    "\n",
    "The reverse situation occurs when the arguments are already in a list or tuple but need to be unpacked for a function call requiring separate positional arguments. For instance, the built-in `range()` function expects separate *start* and *stop* arguments. If they are not available separately, write the function call with the `*`-operator to *unpack the arguments out of a list or tuple*. Note that we can even unpack out of the list."
   ]
  },
  {
   "cell_type": "code",
   "execution_count": 35,
   "metadata": {},
   "outputs": [
    {
     "name": "stdout",
     "output_type": "stream",
     "text": [
      "my_list  = [3, 4, 5, 6, 7]\n",
      "out_list = [3, 4, 5, 6, 7]\n"
     ]
    }
   ],
   "source": [
    "my_list = list(range(3, 8))\n",
    "print(\"my_list  =\", my_list)\n",
    "\n",
    "args = [3, 8]\n",
    "our_list = list(range(*args))\n",
    "print(\"out_list =\", our_list)"
   ]
  },
  {
   "cell_type": "code",
   "execution_count": 36,
   "metadata": {},
   "outputs": [
    {
     "data": {
      "text/plain": [
       "'earth--mars--venus--jupyter--venus'"
      ]
     },
     "execution_count": 36,
     "metadata": {},
     "output_type": "execute_result"
    }
   ],
   "source": [
    "my_tuple = (\"earth\", \"mars\", \"venus\", \"jupyter\", \"venus\")\n",
    "concat(*my_tuple, sep=\"--\")"
   ]
  },
  {
   "cell_type": "markdown",
   "metadata": {},
   "source": [
    "## Arguments wrapped into a dictionary"
   ]
  },
  {
   "cell_type": "markdown",
   "metadata": {},
   "source": [
    "In the same fashion as using tuple for arbitrary number of input arguments, dictionaries can deliver **keyword arguments** with the `**`-operator.\n",
    "\n",
    "**Syntax**\n",
    "```Python\n",
    "def function_name(..., *args, **kwargs):\n",
    "    <statements>\n",
    "```\n",
    "\n",
    "The function can receive normal input arguments, and then input as a tuple before the inputs as a dictionary. The last parameter `**kwargs` stands for variable number of keyword arguments. To supply argument values in a function call, we must write these the inputs in the form of keyword argument `key=value`. One expression `key=value` is associated with one `key-value` pair in the dictionary bound to the variable `kwargs`. \n",
    "\n",
    "**Note** &nbsp; This input syntax is clearly different from using input as tuple in which we don't have `key=value` pairs.\n",
    "\n",
    "**Best by examples**"
   ]
  },
  {
   "cell_type": "code",
   "execution_count": 37,
   "metadata": {},
   "outputs": [
    {
     "name": "stdout",
     "output_type": "stream",
     "text": [
      "dict_items([('Family name', 'Nguyen'), ('Name', 'Khiem'), ('Age', 37)])\n"
     ]
    }
   ],
   "source": [
    "my_dict = {\"Family name\": \"Nguyen\", \"Name\" : \"Khiem\", \"Age\": 37}\n",
    "print(my_dict.items())"
   ]
  },
  {
   "cell_type": "code",
   "execution_count": 38,
   "metadata": {},
   "outputs": [
    {
     "name": "stdout",
     "output_type": "stream",
     "text": [
      "All the keys:\n",
      "one,  two,  name,  lastname,  \n",
      "--------------------\n",
      "\n",
      "All the values:\n",
      "1,  2,  Coffee,  Milk,  \n",
      "--------------------\n",
      "\n",
      "All key-value pairs:\n",
      "one: 1,  two: 2,  name: Coffee,  lastname: Milk,  \n",
      "--------------------\n"
     ]
    }
   ],
   "source": [
    "def print_input_as_dictionary(**kwargs):\n",
    "    number_of_elements = len(kwargs)\n",
    "    print(\"All the keys:\")\n",
    "    for key in kwargs.keys():\n",
    "        print(key, end=\",  \")\n",
    "    print(\"\\n--------------------\")\n",
    "    print(\"\\nAll the values:\")\n",
    "    for value in kwargs.values():\n",
    "        print(value, end=\",  \")\n",
    "    print(\"\\n--------------------\")\n",
    "    print(\"\\nAll key-value pairs:\")\n",
    "    for (key, value) in kwargs.items():\n",
    "        print(\"{0}: {1}\".format(key, value), end=\",  \")\n",
    "    print(\"\\n--------------------\")\n",
    "    \n",
    "# Now, let us call this function with 4 keyword arguments, written in form of key=value\n",
    "print_input_as_dictionary(one=1, two=2, name=\"Coffee\", lastname=\"Milk\")"
   ]
  },
  {
   "cell_type": "code",
   "execution_count": 39,
   "metadata": {},
   "outputs": [
    {
     "name": "stdout",
     "output_type": "stream",
     "text": [
      "Inputs wrapped in tuple:\n",
      "I,  am,  weird,  \n",
      "\n",
      "Inputs wrapped in dictionary:\n",
      "eleven = 11,  twelve = 12,  ten = 10,  "
     ]
    }
   ],
   "source": [
    "def print_arbitrary_inputs(*args, **kwargs):\n",
    "    # Let us first print out all the inputs wrapped in tuple\n",
    "    print(\"Inputs wrapped in tuple:\")\n",
    "    for element in args:\n",
    "        print(element, end=\",  \")\n",
    "        \n",
    "    # Now, we print out all the inputs wrapped in dictionary\n",
    "    print(\"\\n\\nInputs wrapped in dictionary:\")\n",
    "    for (key, value) in kwargs.items():\n",
    "        print(\"{0} = {1}\".format(key, value), end=\",  \")\n",
    "    \n",
    "# Ok, we call this function with 3 non-keyword arguments wrapped and 3 keyword arguments\n",
    "print_arbitrary_inputs(\"I\", \"am\", \"weird\", eleven=11, twelve=12, ten=10)"
   ]
  }
 ],
 "metadata": {
  "kernelspec": {
   "display_name": "base",
   "language": "python",
   "name": "python3"
  },
  "language_info": {
   "codemirror_mode": {
    "name": "ipython",
    "version": 3
   },
   "file_extension": ".py",
   "mimetype": "text/x-python",
   "name": "python",
   "nbconvert_exporter": "python",
   "pygments_lexer": "ipython3",
   "version": "3.12.7"
  },
  "orig_nbformat": 4
 },
 "nbformat": 4,
 "nbformat_minor": 2
}
