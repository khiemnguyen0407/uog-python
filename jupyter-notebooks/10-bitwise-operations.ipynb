{
 "cells": [
  {
   "cell_type": "markdown",
   "metadata": {},
   "source": [
    "<font color=\"DeepSkyBlue\">**Learning Python at University of Glasgow**</font>\n",
    "\n",
    "<font color=\"DeepSkyBlue\">**Bitwise Operations**</font>\n",
    "\n",
    "<font color=\"DeepSkyBlue\">**Lecturer**</font>: **Khiem Nguyen**"
   ]
  },
  {
   "cell_type": "markdown",
   "metadata": {},
   "source": [
    "## Bit operations"
   ]
  },
  {
   "cell_type": "code",
   "execution_count": 1,
   "metadata": {},
   "outputs": [
    {
     "name": "stdout",
     "output_type": "stream",
     "text": [
      "106\n",
      "dec 106\n",
      "bin 1101010\n",
      "hex 6a\n"
     ]
    }
   ],
   "source": [
    "x = int('01101010', 2)  # binary string to int\n",
    "print(x)\n",
    "print(\"dec {0}\\nbin {0:b}\\nhex {0:x}\".format(x))"
   ]
  },
  {
   "cell_type": "code",
   "execution_count": 12,
   "metadata": {},
   "outputs": [
    {
     "name": "stdout",
     "output_type": "stream",
     "text": [
      "106\n",
      "j\n"
     ]
    }
   ],
   "source": [
    "x = int('01101010', base=2)\n",
    "print(x)\n",
    "print(chr(x))"
   ]
  },
  {
   "cell_type": "code",
   "execution_count": 4,
   "metadata": {},
   "outputs": [
    {
     "name": "stdout",
     "output_type": "stream",
     "text": [
      "106\n"
     ]
    }
   ],
   "source": [
    "x = ord('j')\n",
    "print(x)"
   ]
  },
  {
   "cell_type": "code",
   "execution_count": 7,
   "metadata": {},
   "outputs": [
    {
     "name": "stdout",
     "output_type": "stream",
     "text": [
      "32\n"
     ]
    }
   ],
   "source": [
    "y = x & 177\n",
    "print(y)"
   ]
  },
  {
   "cell_type": "code",
   "execution_count": 16,
   "metadata": {},
   "outputs": [
    {
     "data": {
      "text/plain": [
       "'00111100'"
      ]
     },
     "execution_count": 16,
     "metadata": {},
     "output_type": "execute_result"
    }
   ],
   "source": []
  },
  {
   "cell_type": "code",
   "execution_count": 36,
   "metadata": {},
   "outputs": [
    {
     "name": "stdout",
     "output_type": "stream",
     "text": [
      " a & b = 12\n",
      " a | b = 61\n",
      " a ^ b = 49\n",
      "    ~a = -61\n",
      "a << 2 = 240\n",
      "a >> 2 = 15\n",
      "b << 4 = 208\n",
      "b >> 1 = 6\n"
     ]
    }
   ],
   "source": [
    "a = 60\n",
    "b = 13\n",
    "print(\" a & b =\", a & b)\n",
    "print(\" a | b =\", a | b)\n",
    "print(\" a ^ b =\", a ^ b)\n",
    "print(\"    ~a =\", ~a)\n",
    "print(\"a << 2 =\", a << 2)\n",
    "print(\"a >> 2 =\", a >> 2)\n",
    "print(\"b << 4 =\", b << 4)\n",
    "print(\"b >> 1 =\", b >> 1)"
   ]
  },
  {
   "cell_type": "code",
   "execution_count": 37,
   "metadata": {},
   "outputs": [
    {
     "name": "stdout",
     "output_type": "stream",
     "text": [
      "     a = 00111100\n",
      "     b = 00001101\n",
      " a & b = 00001100\n",
      " a | b = 00111101\n",
      " a ^ b = 00110001\n",
      "a << 2 = 11110000\n",
      "a >> 2 = 00001111\n",
      "b << 4 = 11010000\n",
      "b >> 1 = 00000110\n"
     ]
    }
   ],
   "source": [
    "# Behind the scene\n",
    "get_binary = lambda x, n=8: bin(x).replace(\"0b\", \"\").zfill(8)\n",
    "a = 60\n",
    "b = 13\n",
    "print(\"     a =\", get_binary(a))\n",
    "print(\"     b =\", get_binary(b))\n",
    "print(\" a & b =\", get_binary(a & b))\n",
    "print(\" a | b =\", get_binary(a | b))\n",
    "print(\" a ^ b =\", get_binary(a ^ b))\n",
    "print(\"a << 2 =\", get_binary(a << 2))\n",
    "print(\"a >> 2 =\", get_binary(a >> 2))\n",
    "print(\"b << 4 =\", get_binary(b << 4))\n",
    "print(\"b >> 1 =\", get_binary(b >> 1))"
   ]
  },
  {
   "cell_type": "code",
   "execution_count": 35,
   "metadata": {},
   "outputs": [
    {
     "data": {
      "text/plain": [
       "'-0b111101'"
      ]
     },
     "execution_count": 35,
     "metadata": {},
     "output_type": "execute_result"
    }
   ],
   "source": [
    "bin(~a)"
   ]
  },
  {
   "cell_type": "code",
   "execution_count": null,
   "metadata": {},
   "outputs": [],
   "source": []
  }
 ],
 "metadata": {
  "kernelspec": {
   "display_name": "Python 3.11.0 64-bit",
   "language": "python",
   "name": "python3"
  },
  "language_info": {
   "codemirror_mode": {
    "name": "ipython",
    "version": 3
   },
   "file_extension": ".py",
   "mimetype": "text/x-python",
   "name": "python",
   "nbconvert_exporter": "python",
   "pygments_lexer": "ipython3",
   "version": "3.11.0"
  },
  "orig_nbformat": 4,
  "vscode": {
   "interpreter": {
    "hash": "7707361a859ee42dda70d0138cb8881c8f2dea36d0710c471e46b348ce241cf5"
   }
  }
 },
 "nbformat": 4,
 "nbformat_minor": 2
}
