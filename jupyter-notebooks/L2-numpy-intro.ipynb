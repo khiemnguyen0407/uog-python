{
 "cells": [
  {
   "cell_type": "markdown",
   "metadata": {},
   "source": [
    "<font color=\"\">**Learning Python at University of Glasgow**</font>\n",
    "\n",
    "<font color=\"\">**NumPy (Numerical Python): To make Python feel like MATLAB**</font>\n",
    "\n",
    "<font color=\"DeepSkyBlue\">**Lecturer**</font>: **Khiem Nguyen**"
   ]
  },
  {
   "cell_type": "markdown",
   "metadata": {},
   "source": [
    "# NumPy\n",
    "\n",
    "## First few words about **NumPy**\n",
    "\n",
    "***\n",
    "**NumPy** (Numerical Python) is open source Python library that's used in almost every field of science and engineering. It's the universal standard for working with numerical data in Python, and it's at the core of the scientific Python and PyData ecosystems. By PyData, it refers to a branch of application of Python in Data Science. NumPy users include everyone from beginning coders to experienced researchers doing state-of-the-art scientific and industrial research and development. The NumPy API is used extensively in Pandas, SciPy, Matplotlib, scikit-learn, scikit-image and most other data science and scientific Python packages.\n",
    "\n",
    "The **NumPy** library contains multi-dimensional array and matrix data structures (you'll find more information about this later). It provides `ndarray`, a homogeneous n-dimensional array object, with methods to efficiently operate on it. NumPy can be used to perform a wide variety of mathematical operations on arrays. It adds powerful data structures to Python that guarantee efficient calculations with arrays and matrices and it supplies an enormous library of high-level mathematical functions that operate on these arrays and matrices.\n",
    "\n",
    "***\n",
    "**Installing NumPy**\n",
    "\n",
    "If you run the command line `import numpy as np` with error, it is very likely that you have not installed NumPy package. You can install NumPy using the Anaconda CMD prompt or Anaconda with the command\n",
    "```Python\n",
    "conda install numpy\n",
    "```\n",
    "or directly using the Jupyter Notebook with the command\n",
    "```Python\n",
    "pip install numpy\n",
    "```\n",
    "\n",
    "***\n",
    "**How to import Numpy**\n",
    "You have already used it for some time. But it is good to repeat\n",
    "\n",
    "```Python\n",
    "import numpy as np\n",
    "```\n",
    "We shorten the imported name to `np` for better readability of code using NumPy. This is widely adopted convention that you should follow so that anyone working with your code can easily understand it.\n",
    "\n",
    "***\n",
    "**What's the difference between a Python list and a NumPy array**?\n",
    "\n",
    "NumPy gives you an enormous range of fast and efficient ways of creating arrays and manipulating numerical data inside them. While a Python list can contain different data types within a single list, all of the elements in a NumPy array should be homogeneous. The mathematical operations that are meant to be performed on arrays would be extremely inefficient if the arrays weren’t homogeneous.\n",
    "\n",
    "**Why use NumPy?** &nbsp; NumPy arrays are faster and more compact than Python lists. An array consumes less memory and is convenient to use. NumPy uses much less memory to store data and it provides a mechanism of specifying the data types. This allows the code to be optimized even further."
   ]
  },
  {
   "cell_type": "code",
   "execution_count": 1,
   "metadata": {},
   "outputs": [],
   "source": [
    "# Installation\n",
    "# Uncomment the line to install numpy in case it is not installed before.\n",
    "# pip install numpy\n",
    "\n",
    "# import the library. The community agree on the alias \"np\" for the namespace representing the library NumPy\n",
    "\n",
    "import numpy as np      "
   ]
  },
  {
   "cell_type": "markdown",
   "metadata": {},
   "source": [
    "## <font color='DeepSkyBlue'> Array in NumPy </font>"
   ]
  },
  {
   "cell_type": "markdown",
   "metadata": {},
   "source": [
    "### What is an array?\n",
    "\n",
    "An array is a central data structure of the NumPy library. An array is a grid of values and it contains information about the raw data, how to locate an element, and how to interpret an element. It has a grid of elements that can be indexed in various ways. The elements are all of the same type, referred to as the array `dtype`.\n",
    "\n",
    "An array can be indexed by a tuple of non-negative integers, by booleans, by another array, or by integers. The rank of the array is the number of dimensions. The shape of the array is a tuple of integers giving the size of the array along each dimension.\n",
    "\n",
    "**Example by illustration**\n",
    "\n",
    "In the following figure, we present three 3-dimensional arrays of the same size $(3, 4, 5)$. All three arrays has in total $3 \\times 4 \\times 5 = 60$ components and are created by commands defined in NumPy library. there are $3$\n",
    "\n",
    "<img src=\"./figures/numpy_illustration.png\" width=600/>"
   ]
  },
  {
   "cell_type": "markdown",
   "metadata": {},
   "source": [
    "### How to create a basic array\n",
    "\n",
    "This section covers\n",
    "  1. `np.array()`\n",
    "  2. `np.zeros()`\n",
    "  3. `np.ones()`\n",
    "  4. `np.empty()`\n",
    "  5. `np.arange()`\n",
    "  6. `np.linspace()`\n",
    "  7. `dtype`\n",
    "***\n",
    "To create a NumPy array, we can use the function `np.array()`. All we need to do to create a simple array is pass a list to `np.array()`. We can also specify the type of data in the list.\n",
    "\n",
    "We can create an array filled with zeros by `np.zeros()`, or an array filled with 1's by `np.ones()`, or even an empty array with `np.empty()`. The function `np.empty()` creates an array whose initial content is random and depends on the state of the memory. The reason to use `np.empty()` over `np.zeros()` (or something similar) is speed - just make sure to fill every element afterwards. \n",
    "\n",
    "We can create an array with a range of elements using `np.arange()`, just like `range()` function of Python. However, `np.arange()` allows non-integer step size. WE can also use `np.linspace()` to create an array with values that spaced linearly in a specified interval.\n",
    "\n",
    "**Specifying data type**\n",
    "\n",
    "While the default data type is floating point, i.e. `np.float64`, we can explicitly specify which data type we want using the `dtype` keyword."
   ]
  },
  {
   "cell_type": "markdown",
   "metadata": {},
   "source": [
    "**Best by examples**"
   ]
  },
  {
   "cell_type": "code",
   "execution_count": 2,
   "metadata": {},
   "outputs": [],
   "source": [
    "import numpy as np  # First of all for using numpy"
   ]
  },
  {
   "cell_type": "code",
   "execution_count": 3,
   "metadata": {},
   "outputs": [
    {
     "name": "stdout",
     "output_type": "stream",
     "text": [
      "\u001b[1;31mSignature:\u001b[0m       \u001b[0mnp\u001b[0m\u001b[1;33m.\u001b[0m\u001b[0meinsum\u001b[0m\u001b[1;33m(\u001b[0m\u001b[1;33m*\u001b[0m\u001b[0moperands\u001b[0m\u001b[1;33m,\u001b[0m \u001b[0mout\u001b[0m\u001b[1;33m=\u001b[0m\u001b[1;32mNone\u001b[0m\u001b[1;33m,\u001b[0m \u001b[0moptimize\u001b[0m\u001b[1;33m=\u001b[0m\u001b[1;32mFalse\u001b[0m\u001b[1;33m,\u001b[0m \u001b[1;33m**\u001b[0m\u001b[0mkwargs\u001b[0m\u001b[1;33m)\u001b[0m\u001b[1;33m\u001b[0m\u001b[1;33m\u001b[0m\u001b[0m\n",
      "\u001b[1;31mCall signature:\u001b[0m  \u001b[0mnp\u001b[0m\u001b[1;33m.\u001b[0m\u001b[0meinsum\u001b[0m\u001b[1;33m(\u001b[0m\u001b[1;33m*\u001b[0m\u001b[0margs\u001b[0m\u001b[1;33m,\u001b[0m \u001b[1;33m**\u001b[0m\u001b[0mkwargs\u001b[0m\u001b[1;33m)\u001b[0m\u001b[1;33m\u001b[0m\u001b[1;33m\u001b[0m\u001b[0m\n",
      "\u001b[1;31mType:\u001b[0m            _ArrayFunctionDispatcher\n",
      "\u001b[1;31mString form:\u001b[0m     <function einsum at 0x0000022B85ACC7C0>\n",
      "\u001b[1;31mFile:\u001b[0m            c:\\users\\ln69g\\appdata\\local\\anaconda3\\lib\\site-packages\\numpy\\core\\einsumfunc.py\n",
      "\u001b[1;31mDocstring:\u001b[0m      \n",
      "einsum(subscripts, *operands, out=None, dtype=None, order='K',\n",
      "       casting='safe', optimize=False)\n",
      "\n",
      "Evaluates the Einstein summation convention on the operands.\n",
      "\n",
      "Using the Einstein summation convention, many common multi-dimensional,\n",
      "linear algebraic array operations can be represented in a simple fashion.\n",
      "In *implicit* mode `einsum` computes these values.\n",
      "\n",
      "In *explicit* mode, `einsum` provides further flexibility to compute\n",
      "other array operations that might not be considered classical Einstein\n",
      "summation operations, by disabling, or forcing summation over specified\n",
      "subscript labels.\n",
      "\n",
      "See the notes and examples for clarification.\n",
      "\n",
      "Parameters\n",
      "----------\n",
      "subscripts : str\n",
      "    Specifies the subscripts for summation as comma separated list of\n",
      "    subscript labels. An implicit (classical Einstein summation)\n",
      "    calculation is performed unless the explicit indicator '->' is\n",
      "    included as well as subscript labels of the precise output form.\n",
      "operands : list of array_like\n",
      "    These are the arrays for the operation.\n",
      "out : ndarray, optional\n",
      "    If provided, the calculation is done into this array.\n",
      "dtype : {data-type, None}, optional\n",
      "    If provided, forces the calculation to use the data type specified.\n",
      "    Note that you may have to also give a more liberal `casting`\n",
      "    parameter to allow the conversions. Default is None.\n",
      "order : {'C', 'F', 'A', 'K'}, optional\n",
      "    Controls the memory layout of the output. 'C' means it should\n",
      "    be C contiguous. 'F' means it should be Fortran contiguous,\n",
      "    'A' means it should be 'F' if the inputs are all 'F', 'C' otherwise.\n",
      "    'K' means it should be as close to the layout as the inputs as\n",
      "    is possible, including arbitrarily permuted axes.\n",
      "    Default is 'K'.\n",
      "casting : {'no', 'equiv', 'safe', 'same_kind', 'unsafe'}, optional\n",
      "    Controls what kind of data casting may occur.  Setting this to\n",
      "    'unsafe' is not recommended, as it can adversely affect accumulations.\n",
      "\n",
      "      * 'no' means the data types should not be cast at all.\n",
      "      * 'equiv' means only byte-order changes are allowed.\n",
      "      * 'safe' means only casts which can preserve values are allowed.\n",
      "      * 'same_kind' means only safe casts or casts within a kind,\n",
      "        like float64 to float32, are allowed.\n",
      "      * 'unsafe' means any data conversions may be done.\n",
      "\n",
      "    Default is 'safe'.\n",
      "optimize : {False, True, 'greedy', 'optimal'}, optional\n",
      "    Controls if intermediate optimization should occur. No optimization\n",
      "    will occur if False and True will default to the 'greedy' algorithm.\n",
      "    Also accepts an explicit contraction list from the ``np.einsum_path``\n",
      "    function. See ``np.einsum_path`` for more details. Defaults to False.\n",
      "\n",
      "Returns\n",
      "-------\n",
      "output : ndarray\n",
      "    The calculation based on the Einstein summation convention.\n",
      "\n",
      "See Also\n",
      "--------\n",
      "einsum_path, dot, inner, outer, tensordot, linalg.multi_dot\n",
      "einops :\n",
      "    similar verbose interface is provided by\n",
      "    `einops <https://github.com/arogozhnikov/einops>`_ package to cover\n",
      "    additional operations: transpose, reshape/flatten, repeat/tile,\n",
      "    squeeze/unsqueeze and reductions.\n",
      "opt_einsum :\n",
      "    `opt_einsum <https://optimized-einsum.readthedocs.io/en/stable/>`_\n",
      "    optimizes contraction order for einsum-like expressions\n",
      "    in backend-agnostic manner.\n",
      "\n",
      "Notes\n",
      "-----\n",
      ".. versionadded:: 1.6.0\n",
      "\n",
      "The Einstein summation convention can be used to compute\n",
      "many multi-dimensional, linear algebraic array operations. `einsum`\n",
      "provides a succinct way of representing these.\n",
      "\n",
      "A non-exhaustive list of these operations,\n",
      "which can be computed by `einsum`, is shown below along with examples:\n",
      "\n",
      "* Trace of an array, :py:func:`numpy.trace`.\n",
      "* Return a diagonal, :py:func:`numpy.diag`.\n",
      "* Array axis summations, :py:func:`numpy.sum`.\n",
      "* Transpositions and permutations, :py:func:`numpy.transpose`.\n",
      "* Matrix multiplication and dot product, :py:func:`numpy.matmul` :py:func:`numpy.dot`.\n",
      "* Vector inner and outer products, :py:func:`numpy.inner` :py:func:`numpy.outer`.\n",
      "* Broadcasting, element-wise and scalar multiplication, :py:func:`numpy.multiply`.\n",
      "* Tensor contractions, :py:func:`numpy.tensordot`.\n",
      "* Chained array operations, in efficient calculation order, :py:func:`numpy.einsum_path`.\n",
      "\n",
      "The subscripts string is a comma-separated list of subscript labels,\n",
      "where each label refers to a dimension of the corresponding operand.\n",
      "Whenever a label is repeated it is summed, so ``np.einsum('i,i', a, b)``\n",
      "is equivalent to :py:func:`np.inner(a,b) <numpy.inner>`. If a label\n",
      "appears only once, it is not summed, so ``np.einsum('i', a)`` produces a\n",
      "view of ``a`` with no changes. A further example ``np.einsum('ij,jk', a, b)``\n",
      "describes traditional matrix multiplication and is equivalent to\n",
      ":py:func:`np.matmul(a,b) <numpy.matmul>`. Repeated subscript labels in one\n",
      "operand take the diagonal. For example, ``np.einsum('ii', a)`` is equivalent\n",
      "to :py:func:`np.trace(a) <numpy.trace>`.\n",
      "\n",
      "In *implicit mode*, the chosen subscripts are important\n",
      "since the axes of the output are reordered alphabetically.  This\n",
      "means that ``np.einsum('ij', a)`` doesn't affect a 2D array, while\n",
      "``np.einsum('ji', a)`` takes its transpose. Additionally,\n",
      "``np.einsum('ij,jk', a, b)`` returns a matrix multiplication, while,\n",
      "``np.einsum('ij,jh', a, b)`` returns the transpose of the\n",
      "multiplication since subscript 'h' precedes subscript 'i'.\n",
      "\n",
      "In *explicit mode* the output can be directly controlled by\n",
      "specifying output subscript labels.  This requires the\n",
      "identifier '->' as well as the list of output subscript labels.\n",
      "This feature increases the flexibility of the function since\n",
      "summing can be disabled or forced when required. The call\n",
      "``np.einsum('i->', a)`` is like :py:func:`np.sum(a, axis=-1) <numpy.sum>`,\n",
      "and ``np.einsum('ii->i', a)`` is like :py:func:`np.diag(a) <numpy.diag>`.\n",
      "The difference is that `einsum` does not allow broadcasting by default.\n",
      "Additionally ``np.einsum('ij,jh->ih', a, b)`` directly specifies the\n",
      "order of the output subscript labels and therefore returns matrix\n",
      "multiplication, unlike the example above in implicit mode.\n",
      "\n",
      "To enable and control broadcasting, use an ellipsis.  Default\n",
      "NumPy-style broadcasting is done by adding an ellipsis\n",
      "to the left of each term, like ``np.einsum('...ii->...i', a)``.\n",
      "To take the trace along the first and last axes,\n",
      "you can do ``np.einsum('i...i', a)``, or to do a matrix-matrix\n",
      "product with the left-most indices instead of rightmost, one can do\n",
      "``np.einsum('ij...,jk...->ik...', a, b)``.\n",
      "\n",
      "When there is only one operand, no axes are summed, and no output\n",
      "parameter is provided, a view into the operand is returned instead\n",
      "of a new array.  Thus, taking the diagonal as ``np.einsum('ii->i', a)``\n",
      "produces a view (changed in version 1.10.0).\n",
      "\n",
      "`einsum` also provides an alternative way to provide the subscripts\n",
      "and operands as ``einsum(op0, sublist0, op1, sublist1, ..., [sublistout])``.\n",
      "If the output shape is not provided in this format `einsum` will be\n",
      "calculated in implicit mode, otherwise it will be performed explicitly.\n",
      "The examples below have corresponding `einsum` calls with the two\n",
      "parameter methods.\n",
      "\n",
      ".. versionadded:: 1.10.0\n",
      "\n",
      "Views returned from einsum are now writeable whenever the input array\n",
      "is writeable. For example, ``np.einsum('ijk...->kji...', a)`` will now\n",
      "have the same effect as :py:func:`np.swapaxes(a, 0, 2) <numpy.swapaxes>`\n",
      "and ``np.einsum('ii->i', a)`` will return a writeable view of the diagonal\n",
      "of a 2D array.\n",
      "\n",
      ".. versionadded:: 1.12.0\n",
      "\n",
      "Added the ``optimize`` argument which will optimize the contraction order\n",
      "of an einsum expression. For a contraction with three or more operands this\n",
      "can greatly increase the computational efficiency at the cost of a larger\n",
      "memory footprint during computation.\n",
      "\n",
      "Typically a 'greedy' algorithm is applied which empirical tests have shown\n",
      "returns the optimal path in the majority of cases. In some cases 'optimal'\n",
      "will return the superlative path through a more expensive, exhaustive search.\n",
      "For iterative calculations it may be advisable to calculate the optimal path\n",
      "once and reuse that path by supplying it as an argument. An example is given\n",
      "below.\n",
      "\n",
      "See :py:func:`numpy.einsum_path` for more details.\n",
      "\n",
      "Examples\n",
      "--------\n",
      ">>> a = np.arange(25).reshape(5,5)\n",
      ">>> b = np.arange(5)\n",
      ">>> c = np.arange(6).reshape(2,3)\n",
      "\n",
      "Trace of a matrix:\n",
      "\n",
      ">>> np.einsum('ii', a)\n",
      "60\n",
      ">>> np.einsum(a, [0,0])\n",
      "60\n",
      ">>> np.trace(a)\n",
      "60\n",
      "\n",
      "Extract the diagonal (requires explicit form):\n",
      "\n",
      ">>> np.einsum('ii->i', a)\n",
      "array([ 0,  6, 12, 18, 24])\n",
      ">>> np.einsum(a, [0,0], [0])\n",
      "array([ 0,  6, 12, 18, 24])\n",
      ">>> np.diag(a)\n",
      "array([ 0,  6, 12, 18, 24])\n",
      "\n",
      "Sum over an axis (requires explicit form):\n",
      "\n",
      ">>> np.einsum('ij->i', a)\n",
      "array([ 10,  35,  60,  85, 110])\n",
      ">>> np.einsum(a, [0,1], [0])\n",
      "array([ 10,  35,  60,  85, 110])\n",
      ">>> np.sum(a, axis=1)\n",
      "array([ 10,  35,  60,  85, 110])\n",
      "\n",
      "For higher dimensional arrays summing a single axis can be done with ellipsis:\n",
      "\n",
      ">>> np.einsum('...j->...', a)\n",
      "array([ 10,  35,  60,  85, 110])\n",
      ">>> np.einsum(a, [Ellipsis,1], [Ellipsis])\n",
      "array([ 10,  35,  60,  85, 110])\n",
      "\n",
      "Compute a matrix transpose, or reorder any number of axes:\n",
      "\n",
      ">>> np.einsum('ji', c)\n",
      "array([[0, 3],\n",
      "       [1, 4],\n",
      "       [2, 5]])\n",
      ">>> np.einsum('ij->ji', c)\n",
      "array([[0, 3],\n",
      "       [1, 4],\n",
      "       [2, 5]])\n",
      ">>> np.einsum(c, [1,0])\n",
      "array([[0, 3],\n",
      "       [1, 4],\n",
      "       [2, 5]])\n",
      ">>> np.transpose(c)\n",
      "array([[0, 3],\n",
      "       [1, 4],\n",
      "       [2, 5]])\n",
      "\n",
      "Vector inner products:\n",
      "\n",
      ">>> np.einsum('i,i', b, b)\n",
      "30\n",
      ">>> np.einsum(b, [0], b, [0])\n",
      "30\n",
      ">>> np.inner(b,b)\n",
      "30\n",
      "\n",
      "Matrix vector multiplication:\n",
      "\n",
      ">>> np.einsum('ij,j', a, b)\n",
      "array([ 30,  80, 130, 180, 230])\n",
      ">>> np.einsum(a, [0,1], b, [1])\n",
      "array([ 30,  80, 130, 180, 230])\n",
      ">>> np.dot(a, b)\n",
      "array([ 30,  80, 130, 180, 230])\n",
      ">>> np.einsum('...j,j', a, b)\n",
      "array([ 30,  80, 130, 180, 230])\n",
      "\n",
      "Broadcasting and scalar multiplication:\n",
      "\n",
      ">>> np.einsum('..., ...', 3, c)\n",
      "array([[ 0,  3,  6],\n",
      "       [ 9, 12, 15]])\n",
      ">>> np.einsum(',ij', 3, c)\n",
      "array([[ 0,  3,  6],\n",
      "       [ 9, 12, 15]])\n",
      ">>> np.einsum(3, [Ellipsis], c, [Ellipsis])\n",
      "array([[ 0,  3,  6],\n",
      "       [ 9, 12, 15]])\n",
      ">>> np.multiply(3, c)\n",
      "array([[ 0,  3,  6],\n",
      "       [ 9, 12, 15]])\n",
      "\n",
      "Vector outer product:\n",
      "\n",
      ">>> np.einsum('i,j', np.arange(2)+1, b)\n",
      "array([[0, 1, 2, 3, 4],\n",
      "       [0, 2, 4, 6, 8]])\n",
      ">>> np.einsum(np.arange(2)+1, [0], b, [1])\n",
      "array([[0, 1, 2, 3, 4],\n",
      "       [0, 2, 4, 6, 8]])\n",
      ">>> np.outer(np.arange(2)+1, b)\n",
      "array([[0, 1, 2, 3, 4],\n",
      "       [0, 2, 4, 6, 8]])\n",
      "\n",
      "Tensor contraction:\n",
      "\n",
      ">>> a = np.arange(60.).reshape(3,4,5)\n",
      ">>> b = np.arange(24.).reshape(4,3,2)\n",
      ">>> np.einsum('ijk,jil->kl', a, b)\n",
      "array([[4400., 4730.],\n",
      "       [4532., 4874.],\n",
      "       [4664., 5018.],\n",
      "       [4796., 5162.],\n",
      "       [4928., 5306.]])\n",
      ">>> np.einsum(a, [0,1,2], b, [1,0,3], [2,3])\n",
      "array([[4400., 4730.],\n",
      "       [4532., 4874.],\n",
      "       [4664., 5018.],\n",
      "       [4796., 5162.],\n",
      "       [4928., 5306.]])\n",
      ">>> np.tensordot(a,b, axes=([1,0],[0,1]))\n",
      "array([[4400., 4730.],\n",
      "       [4532., 4874.],\n",
      "       [4664., 5018.],\n",
      "       [4796., 5162.],\n",
      "       [4928., 5306.]])\n",
      "\n",
      "Writeable returned arrays (since version 1.10.0):\n",
      "\n",
      ">>> a = np.zeros((3, 3))\n",
      ">>> np.einsum('ii->i', a)[:] = 1\n",
      ">>> a\n",
      "array([[1., 0., 0.],\n",
      "       [0., 1., 0.],\n",
      "       [0., 0., 1.]])\n",
      "\n",
      "Example of ellipsis use:\n",
      "\n",
      ">>> a = np.arange(6).reshape((3,2))\n",
      ">>> b = np.arange(12).reshape((4,3))\n",
      ">>> np.einsum('ki,jk->ij', a, b)\n",
      "array([[10, 28, 46, 64],\n",
      "       [13, 40, 67, 94]])\n",
      ">>> np.einsum('ki,...k->i...', a, b)\n",
      "array([[10, 28, 46, 64],\n",
      "       [13, 40, 67, 94]])\n",
      ">>> np.einsum('k...,jk', a, b)\n",
      "array([[10, 28, 46, 64],\n",
      "       [13, 40, 67, 94]])\n",
      "\n",
      "Chained array operations. For more complicated contractions, speed ups\n",
      "might be achieved by repeatedly computing a 'greedy' path or pre-computing the\n",
      "'optimal' path and repeatedly applying it, using an\n",
      "`einsum_path` insertion (since version 1.12.0). Performance improvements can be\n",
      "particularly significant with larger arrays:\n",
      "\n",
      ">>> a = np.ones(64).reshape(2,4,8)\n",
      "\n",
      "Basic `einsum`: ~1520ms  (benchmarked on 3.1GHz Intel i5.)\n",
      "\n",
      ">>> for iteration in range(500):\n",
      "...     _ = np.einsum('ijk,ilm,njm,nlk,abc->',a,a,a,a,a)\n",
      "\n",
      "Sub-optimal `einsum` (due to repeated path calculation time): ~330ms\n",
      "\n",
      ">>> for iteration in range(500):\n",
      "...     _ = np.einsum('ijk,ilm,njm,nlk,abc->',a,a,a,a,a, optimize='optimal')\n",
      "\n",
      "Greedy `einsum` (faster optimal path approximation): ~160ms\n",
      "\n",
      ">>> for iteration in range(500):\n",
      "...     _ = np.einsum('ijk,ilm,njm,nlk,abc->',a,a,a,a,a, optimize='greedy')\n",
      "\n",
      "Optimal `einsum` (best usage pattern in some use cases): ~110ms\n",
      "\n",
      ">>> path = np.einsum_path('ijk,ilm,njm,nlk,abc->',a,a,a,a,a, optimize='optimal')[0]\n",
      ">>> for iteration in range(500):\n",
      "...     _ = np.einsum('ijk,ilm,njm,nlk,abc->',a,a,a,a,a, optimize=path)\n",
      "\u001b[1;31mClass docstring:\u001b[0m\n",
      "Class to wrap functions with checks for __array_function__ overrides.\n",
      "\n",
      "All arguments are required, and can only be passed by position.\n",
      "\n",
      "Parameters\n",
      "----------\n",
      "dispatcher : function or None\n",
      "    The dispatcher function that returns a single sequence-like object\n",
      "    of all arguments relevant.  It must have the same signature (except\n",
      "    the default values) as the actual implementation.\n",
      "    If ``None``, this is a ``like=`` dispatcher and the\n",
      "    ``_ArrayFunctionDispatcher`` must be called with ``like`` as the\n",
      "    first (additional and positional) argument.\n",
      "implementation : function\n",
      "    Function that implements the operation on NumPy arrays without\n",
      "    overrides.  Arguments passed calling the ``_ArrayFunctionDispatcher``\n",
      "    will be forwarded to this (and the ``dispatcher``) as if using\n",
      "    ``*args, **kwargs``.\n",
      "\n",
      "Attributes\n",
      "----------\n",
      "_implementation : function\n",
      "    The original implementation passed in."
     ]
    }
   ],
   "source": [
    "np.einsum?"
   ]
  },
  {
   "cell_type": "code",
   "execution_count": 4,
   "metadata": {},
   "outputs": [
    {
     "name": "stdout",
     "output_type": "stream",
     "text": [
      "[1 2 3]\n"
     ]
    },
    {
     "data": {
      "text/plain": [
       "array([1, 2, 3])"
      ]
     },
     "execution_count": 4,
     "metadata": {},
     "output_type": "execute_result"
    }
   ],
   "source": [
    "a = np.array([1, 2, 3])         # create an array of 3 elements 1, 2, 3\n",
    "print(a)                        # note the output difference between print(a) and a\n",
    "a"
   ]
  },
  {
   "cell_type": "code",
   "execution_count": 5,
   "metadata": {},
   "outputs": [
    {
     "name": "stdout",
     "output_type": "stream",
     "text": [
      "[[1 2]\n",
      " [3 4]]\n",
      "array([[1, 2],\n",
      "       [3, 4]])\n"
     ]
    }
   ],
   "source": [
    "b = np.array([[1, 2], [3, 4]])  # create a matrix of size (2 x 2)\n",
    "print(b)                        # note the output difference between print(b) and b\n",
    "print(repr(b))"
   ]
  },
  {
   "cell_type": "markdown",
   "metadata": {},
   "source": [
    "**Visualization for your brain**\n",
    "\n",
    "<img src=\"./figures/create-numpy-array-1.png\" height=\"150\"/> &nbsp; <img src=\"./figures/create-numpy-array-2d.png\" height=\"150\"/>"
   ]
  },
  {
   "cell_type": "markdown",
   "metadata": {},
   "source": [
    "**Why output difference between with and without** `print()`\n",
    "\n",
    "This difference has the deep root related to how an object of a particular data type will be shown on the output console for viewing. We will discuss this topic in the next point. For now, at least you can notice that while using `print()` the output is readable to human level but we don't know exactly whether the output is just simply string or a `ndarray` object. In contrast, without using `print()` we know that the output is clearly an object of class `ndarray`.\n",
    "\n",
    "In the following, we use `print()` to see the outputs to avoid writing codes in many block of codes with just two lines. For example, to see the `ndarray` representation, we use\n",
    "```Python\n",
    "x = np.array([[1, 2, 3, 4], [5, 6, 7, 8]])\n",
    "x           # without print()\n",
    "```\n",
    "for one block of code."
   ]
  },
  {
   "cell_type": "code",
   "execution_count": 6,
   "metadata": {},
   "outputs": [
    {
     "name": "stdout",
     "output_type": "stream",
     "text": [
      "array_zeros = [0. 0.]\n",
      "array_ones  = [1. 1.]\n",
      "array_empty = [5.29371929e+180 9.75023779e+199]\n"
     ]
    }
   ],
   "source": [
    "array_zeros = np.zeros(2)\n",
    "array_ones = np.ones(2)\n",
    "array_empty = np.empty(2)               \n",
    "\n",
    "print(\"array_zeros =\", array_zeros)\n",
    "print(\"array_ones  =\", array_ones)\n",
    "print(\"array_empty =\", array_empty)   # may vary in different runs"
   ]
  },
  {
   "cell_type": "code",
   "execution_count": 7,
   "metadata": {},
   "outputs": [
    {
     "name": "stdout",
     "output_type": "stream",
     "text": [
      "\u001b[1;31mDocstring:\u001b[0m\n",
      "zeros(shape, dtype=float, order='C', *, like=None)\n",
      "\n",
      "Return a new array of given shape and type, filled with zeros.\n",
      "\n",
      "Parameters\n",
      "----------\n",
      "shape : int or tuple of ints\n",
      "    Shape of the new array, e.g., ``(2, 3)`` or ``2``.\n",
      "dtype : data-type, optional\n",
      "    The desired data-type for the array, e.g., `numpy.int8`.  Default is\n",
      "    `numpy.float64`.\n",
      "order : {'C', 'F'}, optional, default: 'C'\n",
      "    Whether to store multi-dimensional data in row-major\n",
      "    (C-style) or column-major (Fortran-style) order in\n",
      "    memory.\n",
      "like : array_like, optional\n",
      "    Reference object to allow the creation of arrays which are not\n",
      "    NumPy arrays. If an array-like passed in as ``like`` supports\n",
      "    the ``__array_function__`` protocol, the result will be defined\n",
      "    by it. In this case, it ensures the creation of an array object\n",
      "    compatible with that passed in via this argument.\n",
      "\n",
      "    .. versionadded:: 1.20.0\n",
      "\n",
      "Returns\n",
      "-------\n",
      "out : ndarray\n",
      "    Array of zeros with the given shape, dtype, and order.\n",
      "\n",
      "See Also\n",
      "--------\n",
      "zeros_like : Return an array of zeros with shape and type of input.\n",
      "empty : Return a new uninitialized array.\n",
      "ones : Return a new array setting values to one.\n",
      "full : Return a new array of given shape filled with value.\n",
      "\n",
      "Examples\n",
      "--------\n",
      ">>> np.zeros(5)\n",
      "array([ 0.,  0.,  0.,  0.,  0.])\n",
      "\n",
      ">>> np.zeros((5,), dtype=int)\n",
      "array([0, 0, 0, 0, 0])\n",
      "\n",
      ">>> np.zeros((2, 1))\n",
      "array([[ 0.],\n",
      "       [ 0.]])\n",
      "\n",
      ">>> s = (2,2)\n",
      ">>> np.zeros(s)\n",
      "array([[ 0.,  0.],\n",
      "       [ 0.,  0.]])\n",
      "\n",
      ">>> np.zeros((2,), dtype=[('x', 'i4'), ('y', 'i4')]) # custom dtype\n",
      "array([(0, 0), (0, 0)],\n",
      "      dtype=[('x', '<i4'), ('y', '<i4')])\n",
      "\u001b[1;31mType:\u001b[0m      builtin_function_or_method"
     ]
    }
   ],
   "source": [
    "np.zeros?"
   ]
  },
  {
   "cell_type": "code",
   "execution_count": 8,
   "metadata": {},
   "outputs": [
    {
     "name": "stdout",
     "output_type": "stream",
     "text": [
      "[[0. 0. 0.]\n",
      " [0. 0. 0.]]\n"
     ]
    }
   ],
   "source": [
    "zeros_2D = np.zeros((2, 3))     # input of a tuple\n",
    "print(zeros_2D)\n",
    "b = np.zeros( (2, 3), dtype=np.int16 )"
   ]
  },
  {
   "cell_type": "code",
   "execution_count": 9,
   "metadata": {},
   "outputs": [
    {
     "name": "stdout",
     "output_type": "stream",
     "text": [
      "\n"
     ]
    }
   ],
   "source": [
    "print()"
   ]
  },
  {
   "cell_type": "code",
   "execution_count": 10,
   "metadata": {},
   "outputs": [
    {
     "name": "stdout",
     "output_type": "stream",
     "text": [
      "a = [0 1 2 3]\n",
      "b = [2.  3.5 5.  6.5 8. ]\n",
      "c = [ 0.   2.5  5.   7.5 10. ]\n"
     ]
    }
   ],
   "source": [
    "a = np.arange(4) # integers only --> array of 0, 1, 2, 3 jus like range() function\n",
    "b = np.arange(2, 9, 1.5)     # first number = 2, last number = 15, step size = 1.5\n",
    "c = np.linspace(0, 10, num=5)   # 5 numbers 0 --> 10 evenly distanced \n",
    "print(\"a =\", a)\n",
    "print(\"b =\", b)\n",
    "print(\"c =\", c)"
   ]
  },
  {
   "cell_type": "code",
   "execution_count": 11,
   "metadata": {},
   "outputs": [
    {
     "name": "stdout",
     "output_type": "stream",
     "text": [
      "[[1 1 1 1]\n",
      " [1 1 1 1]]\n"
     ]
    },
    {
     "data": {
      "text/plain": [
       "array([[1, 1, 1, 1],\n",
       "       [1, 1, 1, 1]], dtype=int64)"
      ]
     },
     "execution_count": 11,
     "metadata": {},
     "output_type": "execute_result"
    }
   ],
   "source": [
    "x = np.ones((2, 4), dtype=np.int64)\n",
    "print(x)    # The output does not tell use the data type of elements in the array\n",
    "x           # This tell us exactly what is happening, an ndarray with element data type is int64"
   ]
  },
  {
   "cell_type": "markdown",
   "metadata": {},
   "source": [
    "### Deeper Understanding: **`repr()` versus `str()`**\n",
    "\n",
    "Essentially, NumPy array is a data type of class `ndarray` and thus it has the so-called builtin function name `__repr()__` that is defined to show the representation of the object. On the other hand, the builtin function name `__str()__ ` is used to show readable output. When we don't pass the `ndarray` to the function `print()` and just type out the variable name, this is equivalent to pass the variable to the function `repr()`. In this case, the representation of an `ndarray` will be shown on the output console. On the other hand, by by passing the `ndarray` to function `print()`, the output is for end user to read it. In this case, the statement `print(x)` is equivalent to `str(x)`.\n",
    "\n",
    "**Summary**\n",
    "\n",
    "`str()` is used for creating output for end user while `repr()` is mainly used for debugging and development, `repr()`'s goal is to be *ungmbiguous* and `str()`'s is to be readable. For example, if we suspect a float has a small rounding error, `repr()` will show us while `str()` may not."
   ]
  },
  {
   "cell_type": "markdown",
   "metadata": {},
   "source": [
    "**Best by examples**"
   ]
  },
  {
   "cell_type": "code",
   "execution_count": 12,
   "metadata": {},
   "outputs": [],
   "source": [
    "class PrintOut:\n",
    "    \"\"\"Test difference between __str__() and __repr__()\"\"\"\n",
    "    def __init__(self, data):\n",
    "        self.data = data\n",
    "        \n",
    "    def __str__(self):\n",
    "        print(\"Inside __str__:\")\n",
    "        return str(self.data)\n",
    "    \n",
    "    def __repr__(self):\n",
    "        print(\"Inside __repr__:\")\n",
    "        return repr(self.data)\n",
    "\n",
    "# External to the class\n",
    "test = PrintOut(\"a text line\")"
   ]
  },
  {
   "cell_type": "code",
   "execution_count": 13,
   "metadata": {},
   "outputs": [
    {
     "name": "stdout",
     "output_type": "stream",
     "text": [
      "Inside __str__:\n",
      "a text line\n",
      "\n",
      "Inside __str__:\n",
      "a text line\n"
     ]
    }
   ],
   "source": [
    "# The following statements give the same effect:\n",
    "print(test)\n",
    "print()\n",
    "print(str(test))"
   ]
  },
  {
   "cell_type": "code",
   "execution_count": 14,
   "metadata": {},
   "outputs": [
    {
     "name": "stdout",
     "output_type": "stream",
     "text": [
      "Inside __repr__:\n",
      "'a text line'\n"
     ]
    }
   ],
   "source": [
    "# However, repr() tells us that the output is a string (not just something we can read)\n",
    "print(repr(test))"
   ]
  },
  {
   "cell_type": "code",
   "execution_count": 15,
   "metadata": {},
   "outputs": [
    {
     "name": "stdout",
     "output_type": "stream",
     "text": [
      "Inside __repr__:\n"
     ]
    },
    {
     "data": {
      "text/plain": [
       "'a text line'"
      ]
     },
     "execution_count": 15,
     "metadata": {},
     "output_type": "execute_result"
    }
   ],
   "source": [
    "test"
   ]
  },
  {
   "cell_type": "markdown",
   "metadata": {},
   "source": [
    "### Create an array from existing data: vertical stack and horizontal stack - view and copy\n",
    "\n",
    "Sometimes, we also want to join multiple matrices in a specific manner to have a bigger matrix. In a more general sense, we can do this for higher-dimensional array, i.e., we can combine multiple high-dimensional arrays in an appropriate fashion. For example, let us assume $\\mathbf{A}$ and $\\mathbf{B}$ are two matrices of shape $(2 \\times 2)$. Then, we can stack or combine $\\mathbf{A}$ and $\\mathbf{B}$ horizontally to have a new matrix of shape $(4 \\times 2)$ or vertically to have obtain the matrix of shape $(2 \\times 4)$. However, clearly we cannot stack two matrices of shape $(2 \\times 2)$ and $(4\\times 2)$ horizontally but we can combine them vertically to obtain the new matrix of shape $(6 \\times 2)$.\n",
    "\n",
    "**Remark**\n",
    "\n",
    "In this notebook, I normally write the matrix of shape $(m \\times n)$ or of size $(m \\times n)$ in the mathematical sense to mean that the matrix has $m$ rows and $n$ columns. In mathematics, we read the matrix of size $m$-by-$n$, denoeted as $(m \\times n)$.\n",
    "\n",
    "In NumPy, the shape of the considered array is given by a tuple `(m, n)` meaning that the array has `m` elements in the 1st dimension and `n` elements along the 2nd dimension. In fact, I can write the matrix $\\mathbf{A}$ of shape $(m, n)$ in the mathematical sense but this is a bit unconventional in the mathematic community.\n",
    "\n",
    "***\n",
    "This sub-section covers and\n",
    "  1. `np.vstack()`\n",
    "  2. `np.hstack()`\n",
    "  3. `.view()`\n",
    "  4. `copy()`\n",
    "***\n",
    "We can stack two existing arrays, both vertically and horizontally by using `np.vstack()` and `np.hstack()`. \n",
    "  \n",
    "We can use the `view()` method to create a new array object that looks at the same data as the original array (a **shallow copy**). Views are an important NumPy concept. NumPy functions, as well as operations like indexing and slicing, will return views whenever posible. This saves memory and is faster (no copy of the data has to be made). However, it's important to be award of this -- modifying data in a view also modifies the original array. Using the copy method will make a complete copy of the array and its data (**deep copy**)"
   ]
  },
  {
   "cell_type": "markdown",
   "metadata": {},
   "source": [
    "**Best by examples**"
   ]
  },
  {
   "cell_type": "code",
   "execution_count": 16,
   "metadata": {},
   "outputs": [
    {
     "name": "stdout",
     "output_type": "stream",
     "text": [
      "a_vstack =\n",
      " [[1 1]\n",
      " [2 2]\n",
      " [3 3]\n",
      " [4 4]]\n",
      "--------------------\n",
      "a_hstack =\n",
      " [[1 1 3 3]\n",
      " [2 2 4 4]]\n"
     ]
    }
   ],
   "source": [
    "# Let us define two arrays\n",
    "a1 = np.array([[1, 1], [2, 2]])\n",
    "a2 = np.array([[3, 3], [4, 4]])\n",
    "\n",
    "a_vstack = np.vstack((a1, a2))\n",
    "print(\"a_vstack =\\n\", a_vstack)\n",
    "print(\"--------------------\")\n",
    "a_hstack = np.hstack((a1, a2))\n",
    "print(\"a_hstack =\\n\", a_hstack)"
   ]
  },
  {
   "cell_type": "code",
   "execution_count": 17,
   "metadata": {},
   "outputs": [
    {
     "name": "stdout",
     "output_type": "stream",
     "text": [
      "a =\n",
      " [[ 1  2  3  4]\n",
      " [ 5  6  7  8]\n",
      " [ 9 10 11 12]]\n",
      "b1 =\n",
      " [1 2 3 4]\n",
      "b1 =\n",
      " [99  2  3  4]\n",
      "a =\n",
      " [[99  2  3  4]\n",
      " [ 5  6  7  8]\n",
      " [ 9 10 11 12]]\n"
     ]
    }
   ],
   "source": [
    "# Let us define an array \n",
    "a = np.array([[1, 2, 3, 4], [5, 6, 7, 8], [9, 10, 11, 12]])\n",
    "print(\"a =\\n\", a)\n",
    "# Now, we create an array b1 by slicing and modifying the first element of b1.\n",
    "b1 = a[0, :]    # the first row of a\n",
    "print(\"b1 =\\n\",b1)\n",
    "\n",
    "b1[0] = 99      # now, we modify the first element of b1\n",
    "print(\"b1 =\\n\",b1)\n",
    "\n",
    "# Let us re-examine the array ar\n",
    "print(\"a =\\n\", a)\n",
    "# You should see the array has changed according the changes in b1"
   ]
  },
  {
   "cell_type": "code",
   "execution_count": 18,
   "metadata": {},
   "outputs": [
    {
     "name": "stdout",
     "output_type": "stream",
     "text": [
      "a =\n",
      " [[99  2  3  4]\n",
      " [ 5  6  7  8]\n",
      " [ 9 10 11 12]]\n",
      "b2 =\n",
      " [[ 0  2  3  4]\n",
      " [ 5  6  7  8]\n",
      " [ 9 10 11 12]]\n"
     ]
    }
   ],
   "source": [
    "# Using the copy method will make a complete copy of the array and its data.\n",
    "b2 = a.copy()\n",
    "b2[0,0] = 0\n",
    "print(\"a =\\n\", a)\n",
    "print(\"b2 =\\n\", b2)"
   ]
  },
  {
   "cell_type": "markdown",
   "metadata": {},
   "source": [
    "## <font color='DeepSkyBlue'> Dimension, size and shape of an array and reshape arrays </font>\n",
    "\n",
    "As seen above, we can create one-dimensinoal arrays and multi-dimensional arrays. Very often, we want to work with the same set of numbers or elements but it is more convenient to visualize the set in different shapes. For example, a 3D vector in mathematics consists of three numbers but we can visualize it as a column vector or a row vector. The column vector and the row vector are example of two-dimensional arrays of different shapes; $(n \\times 1)$ for the column vector of $n$ elements and $(1 \\times n)$ for the row vector $n$ elements. Clearly, the $n$-dimensional vector in the mathematical sense has $n$ elements regardless how we want to visualize it. Thus, it is important to know the number of dimensions of an array, how to transform an array into different arrays of different sizes but with the same number elements. The object of type `ndarray` is equipped with many attributes and methods to query the number of dimensions, reshaping the array. This will be the topic of this section."
   ]
  },
  {
   "cell_type": "markdown",
   "metadata": {},
   "source": [
    "### Dimension, shape and size \n",
    "This sub-section covers\n",
    "  1. `ndarray.ndim`\n",
    "  2. `ndarray.shape`\n",
    "  3. `ndarray.size`\n",
    "\n",
    "As mentioned, `ndarray` is a class and one particular object of this class data type have attributes and methods. In the above list, we see some common attributes of `ndarray`.\n",
    "\n",
    "- `ndarray.ndim` will tell us the number of axes, or dimensions, of the array\n",
    "- `ndarray.shape` will display a tuple of integers that indicate the number of elements stored along each dimension of the array. If, for example, we have a 2-D array with 2 rows and 3 columns, the shape of the array is `(2, 3)`.\n",
    "- `ndarray.size` will tell us the total number of elements of the array. This is essentially the *product* of the elements of the array's shape\n",
    "\n",
    "**Remark**\n",
    "\n",
    "In this notebook, I normally write the matrix of shape $(m \\times n)$ or of size $(m \\times n)$ in the mathematical sense to mean that the matrix has $m$ rows and $n$ columns. In mathematics, we read the matrix of shape/size $m$-by-$n$. \n",
    "\n",
    "In NumPy, the shape of the considered array is given by a tuple `(m, n)` meaning that the array has `m` elements in the 1st dimension and `n` elements along the 2nd dimension. In fact, I can write the matrix $\\mathbf{A}$ of shape $(m, n)$ in the mathematical sense but this is a bit unconventional in the mathematic community."
   ]
  },
  {
   "cell_type": "markdown",
   "metadata": {},
   "source": [
    "**Best by examples**"
   ]
  },
  {
   "cell_type": "code",
   "execution_count": 19,
   "metadata": {},
   "outputs": [
    {
     "name": "stdout",
     "output_type": "stream",
     "text": [
      "ndim  = 2\n",
      "shape = (2, 3)\n",
      "size  = 6\n"
     ]
    }
   ],
   "source": [
    "array_2d = np.array([[1, 2, 3], \n",
    "                     [4, 5, 6]])\n",
    "\n",
    "print(\"ndim  =\", array_2d.ndim)\n",
    "print(\"shape =\", array_2d.shape)    # the shape should be (2, 3)\n",
    "print(\"size  =\", array_2d.size)     # number of elements in the array"
   ]
  },
  {
   "cell_type": "code",
   "execution_count": 20,
   "metadata": {},
   "outputs": [
    {
     "name": "stdout",
     "output_type": "stream",
     "text": [
      "ndim  = 3\n",
      "size  = 24\n",
      "shape = (3, 2, 4)\n"
     ]
    }
   ],
   "source": [
    "array_3d = np.array([[[0, 1, 2, 3],\n",
    "                      [4, 5, 6, 7]],\n",
    "                           \n",
    "                      [[0, 1, 2, 3],\n",
    "                       [4, 5, 6, 7]],\n",
    "                           \n",
    "                      [[0, 1, 2, 3],\n",
    "                       [4, 5, 6, 7]]])\n",
    "\n",
    "print(\"ndim  =\", array_3d.ndim)\n",
    "print(\"size  =\", array_3d.size)\n",
    "print(\"shape =\", array_3d.shape)"
   ]
  },
  {
   "cell_type": "code",
   "execution_count": 21,
   "metadata": {},
   "outputs": [
    {
     "data": {
      "text/plain": [
       "array([0, 1, 2, 3])"
      ]
     },
     "execution_count": 21,
     "metadata": {},
     "output_type": "execute_result"
    }
   ],
   "source": [
    "array_3d[0, 0]"
   ]
  },
  {
   "cell_type": "code",
   "execution_count": 22,
   "metadata": {},
   "outputs": [
    {
     "name": "stdout",
     "output_type": "stream",
     "text": [
      "0\n"
     ]
    }
   ],
   "source": [
    "array_3d_shape = array_3d.shape\n",
    "print(np.prod(array_3d))     # product of all elements in the tuple (3, 2, 4)"
   ]
  },
  {
   "cell_type": "code",
   "execution_count": 23,
   "metadata": {},
   "outputs": [
    {
     "name": "stdout",
     "output_type": "stream",
     "text": [
      "[[[[0 1]\n",
      "   [2 3]]\n",
      "\n",
      "  [[4 5]\n",
      "   [6 7]]]\n",
      "\n",
      "\n",
      " [[[0 1]\n",
      "   [2 3]]\n",
      "\n",
      "  [[4 5]\n",
      "   [6 7]]]\n",
      "\n",
      "\n",
      " [[[0 1]\n",
      "   [2 3]]\n",
      "\n",
      "  [[4 5]\n",
      "   [6 7]]]]\n",
      "ndim  = 4\n",
      "size  = 24\n",
      "shape = (3, 2, 2, 2)\n"
     ]
    }
   ],
   "source": [
    "array_4d = array_3d.reshape((3, 2, 2, 2))       # we will talk about reshape later\n",
    "print(array_4d)\n",
    "\n",
    "print(\"ndim  =\", array_4d.ndim)\n",
    "print(\"size  =\", array_4d.size)\n",
    "print(\"shape =\", array_4d.shape)   \n"
   ]
  },
  {
   "cell_type": "markdown",
   "metadata": {},
   "source": [
    "### Adding, removing, and sorting elements\n",
    "\n",
    "This section covers\n",
    "  1. `np.sort()`\n",
    "  2. `np.concatenate()`\n",
    "***\n",
    "Sorting an element is done with `np.sort()`. We can specify the axis, kind and order when we call the function. To read more about sorting an array, follow the link [numpy.sort](https://numpy.org/doc/stable/reference/generated/numpy.sort.html#numpy.sort)\n",
    "\n",
    "We can concatenate arrays by sepcific dimension. It would very easy to concatenate two one-dimensional arrays becase we have only choice to do so. The array $[1, 2, 3]$ connected with $[4, 5]$ would give $[1, 2, 3, 4, 5]$. However, if we have, for example,\n",
    "$$ \\mathbf{A} = \\begin{bmatrix} 1 & 2 \\\\ 3 & 4\\end{bmatrix} \\quad \\mathbf{B} = \\begin{bmatrix} 5 & 6 \\\\ 7 & 8 \\end{bmatrix}$$\n",
    "then we can connect them in two ways: put $\\mathbf{B}$ (1) along the column of $\\mathbf{A}$ to have\n",
    "$$ \\mathbf{C} = \\begin{bmatrix} 1 & 2 \\\\ 3 & 4 \\\\ 5 & 6 \\\\ 7 & 8\\end{bmatrix}$$\n",
    " or (2) along the row of $\\mathbf{A}$ to get\n",
    "$$ \\mathbf{D} = \\begin{bmatrix} 1 & 2 & 5 & 6\\\\ 3 & 4 & 7 & 8 \\end{bmatrix}$$\n",
    "\n",
    "To concatenate along a specific dimension, we use the keyword argument `axis=` of the function `np.concatenate()`. In this example, assuming that `a` and `b` defining the two matrices $\\mathbf{A}$ and $\\mathbf{B}$, respectively, then we can concatenate them along the `axis=0` for matrix $\\mathbf{C}$ or along the `axis=1` for matrix $\\mathbf{D}$. \n",
    "\n",
    "**Note** &nbsp; To understand why `axis=0` and `axis=1`, we will need more a bit of knowledge concerning indexing. However, you can guess for now that `axis=0` means along the row or along the first dimension, `axis=1` means along the column or along the second dimension. As the convention indexing in Python is to count from *zero*, the first dimension would correspond to `0` and the second dimension to `1` and so on.\n",
    "\n",
    "Please be patient until everything makes sense in the end."
   ]
  },
  {
   "cell_type": "markdown",
   "metadata": {},
   "source": [
    "**Best by examples**"
   ]
  },
  {
   "cell_type": "code",
   "execution_count": 24,
   "metadata": {},
   "outputs": [
    {
     "data": {
      "text/plain": [
       "array([1, 2, 3, 4, 5, 6, 7, 8])"
      ]
     },
     "execution_count": 24,
     "metadata": {},
     "output_type": "execute_result"
    }
   ],
   "source": [
    "arr = np.array([2, 1, 5, 3, 7, 4, 6, 8])    # let us start with the array\n",
    "np.sort(arr)                                # sort the numbers in ascending order (by default)"
   ]
  },
  {
   "cell_type": "code",
   "execution_count": 25,
   "metadata": {},
   "outputs": [
    {
     "data": {
      "text/plain": [
       "array([1, 2, 3, 4, 5, 6, 7, 8])"
      ]
     },
     "execution_count": 25,
     "metadata": {},
     "output_type": "execute_result"
    }
   ],
   "source": [
    "a = np.array([1, 2, 3, 4])\n",
    "b = np.array([5, 6, 7, 8])\n",
    "# We can concatenate the two arrays by\n",
    "np.concatenate((a, b))  # note the tuple (a, b)"
   ]
  },
  {
   "cell_type": "code",
   "execution_count": 26,
   "metadata": {},
   "outputs": [
    {
     "name": "stdout",
     "output_type": "stream",
     "text": [
      "c = array([[1, 2],\n",
      "       [3, 4],\n",
      "       [5, 6],\n",
      "       [7, 8]])\n",
      "d = array([[1, 2, 5, 6],\n",
      "       [3, 4, 7, 8]])\n"
     ]
    }
   ],
   "source": [
    "a = np.array([[1, 2], [3, 4]])\n",
    "b = np.array([[5, 6], [7, 8]])\n",
    "c = np.concatenate((a, b), axis=0)\n",
    "d = np.concatenate((a, b), axis=1)\n",
    "print(\"c =\", repr(c))\n",
    "print(\"d =\", repr(d))"
   ]
  },
  {
   "cell_type": "markdown",
   "metadata": {},
   "source": [
    "### Reshape an array\n",
    "\n",
    "**Using** `arr.reshape()`\n",
    "\n",
    "Using `arr.reshape()`, where `arr` is an `ndarray` object, will give a new shape to an array without chaning the data. Just remember that when we use the reshape method, the array we want to produce needs to have **the same number of elements as the original array**. \n",
    "\n",
    "If we start with an array with 12 elements, we'll need to make sure that our new aray also há a total of 12 elements. For example, a 1-D array of 12 elements can be reshaped to 2-Darray, namely a matrix, of shape $(2 \\times 6)$, $(3 \\times 4)$ or $(4 \\times 3)$, or even to a 3-D array of shape $(2 \\times 3  \\times 2)$ and so on.\n",
    "\n",
    "**Using** `np.reshape()`\n",
    "\n",
    "With `np.reshape`, we can specify a few optional parameters:\n",
    "\n",
    "```Python\n",
    "np.reshape(arr, newshape=value, order='C')\n",
    "```\n",
    "  - `newshape` is the new shape we want. We can specify an integer or a tuple of integers. If we specify an integer, the result will be an array of that length. Again, the shape should be compatible with the original shape.\n",
    "  - `order`: `'C'` means to read/write the elements using C-like index order, `'F'` means to read/write the elements using Fortran-like index order, `'A'` means to read/write the elements in Fortran-like index order if a is Fortran contiguous in memory, C-like order otherwise. (This is an optional parameter and doesn’t need to be specified.)\n",
    "\n",
    "**Column-major language** vs **Row-major language**\n",
    "\n",
    "If you wan to learn more about C and Fortran order [read more about the internal organization of NumPy arrays here](https://numpy.org/doc/stable/dev/internals.html#numpy-internals). Essentially, C and Fortran orders have to do with how indices correspond to the order the array is stored in memory. In Fortran, when moving through the elements of a two-dimensional array as it is stored in memory, the first index is the most rapidly varying index. As the first index moves to the next row as it changes, the matrix is stored one column at a time. This is why Fortran is thought of as a **Column-major** language. In C on the other hand, the last index changes the most rapidly. The matrix is stored by rows, making it a **Row-major** language. What you do for C or Fortran depends on whether it’s more important to preserve the indexing convention or not reorder the data."
   ]
  },
  {
   "cell_type": "markdown",
   "metadata": {},
   "source": [
    "**Best by examples**"
   ]
  },
  {
   "cell_type": "code",
   "execution_count": 27,
   "metadata": {},
   "outputs": [
    {
     "name": "stdout",
     "output_type": "stream",
     "text": [
      "a =\n",
      " array([ 0,  1,  2,  3,  4,  5,  6,  7,  8,  9, 10, 11])\n",
      "b1 =\n",
      " array([[ 0,  1,  2,  3],\n",
      "       [ 4,  5,  6,  7],\n",
      "       [ 8,  9, 10, 11]])\n",
      "b2 =\n",
      " array([[ 0,  4,  8],\n",
      "       [ 1,  5,  9],\n",
      "       [ 2,  6, 10],\n",
      "       [ 3,  7, 11]])\n",
      "b3 =\n",
      " array([[ 0,  1,  2,  3,  4,  5],\n",
      "       [ 6,  7,  8,  9, 10, 11]])\n",
      "c =\n",
      " array([[[ 0,  1],\n",
      "        [ 2,  3],\n",
      "        [ 4,  5]],\n",
      "\n",
      "       [[ 6,  7],\n",
      "        [ 8,  9],\n",
      "        [10, 11]]])\n"
     ]
    }
   ],
   "source": [
    "a = np.arange(12)\n",
    "print(\"a =\\n\", repr(a))\n",
    "b1 = a.reshape(3, 4)    # reshape a into a matrix, b1 is a matrix now\n",
    "b2 = b1.transpose()     # transpose of matrix b1\n",
    "b3 = a.reshape(2, 6)    # just another matrix of size (2 x 6)\n",
    "print(\"b1 =\\n\", repr(b1))\n",
    "print(\"b2 =\\n\", repr(b2))\n",
    "print(\"b3 =\\n\", repr(b3))\n",
    "c = a.reshape(2, 3, 2)  # 3-D array\n",
    "print(\"c =\\n\", repr(c))"
   ]
  },
  {
   "cell_type": "code",
   "execution_count": 28,
   "metadata": {},
   "outputs": [
    {
     "data": {
      "text/plain": [
       "array([[ 0,  1,  2,  3],\n",
       "       [ 4,  5,  6,  7],\n",
       "       [ 8,  9, 10, 11]])"
      ]
     },
     "execution_count": 28,
     "metadata": {},
     "output_type": "execute_result"
    }
   ],
   "source": [
    "# We can use np.reshape() with similar effect\n",
    "np.reshape(a, newshape=(3, 4), order='C')   # of course, a is the array to be reshaped"
   ]
  },
  {
   "cell_type": "markdown",
   "metadata": {},
   "source": [
    "### Add new axis to an array\n",
    "\n",
    "We can use `np.newaxis` and `np.expand_dims()` to increase the dimensions of our existing array. We probably do not see the real application of such an action yet for now but this make sense when we continue.\n",
    "\n",
    "Using `np.newaxis` will increase the dimensions of your array by one dimension when used once. This means that 1D array will become 2D array, a 2D array will become a 3D array, and so on.\n",
    "\n",
    "We can also expand an array by insert a new axis at a specified position with `np.expand_dims()` using the Syntax\n",
    "```Python\n",
    "new_array = np.expand_dims(arr, axis=integer_value)\n",
    "```\n",
    "So `np.expand_dims()` works more generally than `np.newaxis`."
   ]
  },
  {
   "cell_type": "markdown",
   "metadata": {},
   "source": [
    "**Best by example**\n",
    "\n",
    "If we define an array by \n",
    "```Python\n",
    "a = np.arange(6)\n",
    "a.shape\n",
    "```\n",
    "we will see that `a.shape` returns `(6,)` instead of `(6, 1)` or `(1, 6)`. From a mathematical point of view, we can interpret $\\mathbf{a} = (0, 1, 2, 3, 4, 5)$ represented by the variable `a` as a vector while the row vector \n",
    "$$\\begin{bmatrix} 0 & 1 & 2 & 3 & 4 & 5\\end{bmatrix}$$\n",
    "is a matrix, or 2D array, of the size (1, 6)\n",
    "and the column vector\n",
    "$$\\begin{bmatrix} 0 \\\\ 1 \\\\ 2 \\\\ 3 \\\\ 4 \\\\ 5 \\end{bmatrix}$$\n",
    "is a matrix, or 2D array, of the size (6, 1). Clearly, a vector could be understood as either a row vector or a column vector as it represents an entity of 6-dimension rather than how it should be represnted. So, create a column vector or a row vector out of a mathematical vector, we need to add one more dimension, or new axis in the language of NumPy, to the mathematical vector to make up a matrix which has size of 1 in either the first dimension (column vector) or in the second dimension (row vector)."
   ]
  },
  {
   "cell_type": "code",
   "execution_count": 29,
   "metadata": {},
   "outputs": [
    {
     "name": "stdout",
     "output_type": "stream",
     "text": [
      "a =\n",
      " array([0, 1, 2, 3, 4, 5])\n",
      "a.shape = (6,)\n"
     ]
    }
   ],
   "source": [
    "a = np.arange(6)\n",
    "print(\"a =\\n\", repr(a))\n",
    "print(\"a.shape =\", a.shape)"
   ]
  },
  {
   "cell_type": "code",
   "execution_count": 30,
   "metadata": {},
   "outputs": [
    {
     "name": "stdout",
     "output_type": "stream",
     "text": [
      "a_row =\n",
      " array([[0, 1, 2, 3, 4, 5]])\n",
      "a_row.shape = (1, 6)\n"
     ]
    }
   ],
   "source": [
    "# To create a row vector, we insert an axis along the first dimension\n",
    "a_row = a[np.newaxis, :]\n",
    "print(\"a_row =\\n\", repr(a_row))\n",
    "print(\"a_row.shape =\", a_row.shape)"
   ]
  },
  {
   "cell_type": "code",
   "execution_count": 31,
   "metadata": {},
   "outputs": [
    {
     "name": "stdout",
     "output_type": "stream",
     "text": [
      "a_column =\n",
      " array([[0],\n",
      "       [1],\n",
      "       [2],\n",
      "       [3],\n",
      "       [4],\n",
      "       [5]])\n",
      "a_column.shape = (6, 1)\n"
     ]
    }
   ],
   "source": [
    "# To have a column vector, we insert an axis along the second dimension\n",
    "a_column = a[:, np.newaxis]\n",
    "print(\"a_column =\\n\", repr(a_column))\n",
    "print(\"a_column.shape =\", a_column.shape)"
   ]
  },
  {
   "cell_type": "code",
   "execution_count": 32,
   "metadata": {},
   "outputs": [
    {
     "name": "stdout",
     "output_type": "stream",
     "text": [
      "row_vector =\n",
      " array([[0, 1, 2, 3, 4, 5]])\n",
      "column_vector =\n",
      " array([[0],\n",
      "       [1],\n",
      "       [2],\n",
      "       [3],\n",
      "       [4],\n",
      "       [5]])\n"
     ]
    }
   ],
   "source": [
    "# We can use np.expand_dims to add an axis at index position 0 or 1 to create a row vector or a column vector, just like using np.newaxis before\n",
    "row_vector = np.expand_dims(a, axis=0)\n",
    "print(\"row_vector =\\n\", repr(row_vector))\n",
    "\n",
    "column_vector = np.expand_dims(a, axis=1)\n",
    "print(\"column_vector =\\n\", repr(column_vector))"
   ]
  },
  {
   "cell_type": "markdown",
   "metadata": {},
   "source": [
    "### Reshaping and flattening multi-dimensional arrays\n",
    "\n",
    "There are two popular ways to flatten arrays:\n",
    "- `arr.flatten()`\n",
    "- `arr.ravel()`\n",
    "\n",
    "The primary difference between the two is that the new array created using `ravel()` is actually reference to the parent array, i.e. a __view__. This means that any changes to the new array will affect the parent array as well. Since `ravel()` does not create a copy, it's memory efficient."
   ]
  },
  {
   "cell_type": "code",
   "execution_count": 33,
   "metadata": {},
   "outputs": [
    {
     "name": "stdout",
     "output_type": "stream",
     "text": [
      "x =\n",
      " [[ 1  2  3  4]\n",
      " [ 5  6  7  8]\n",
      " [ 9 10 11 12]]\n",
      "a1 =\n",
      " [999   2   3   4   5   6   7   8   9  10  11  12]\n"
     ]
    }
   ],
   "source": [
    "x = np.array([[1, 2, 3, 4], \n",
    "              [5, 6, 7, 8], \n",
    "              [9, 10, 11, 12]])\n",
    "# When we use flatten(), changes to your new array won't change \n",
    "# the parent array.\n",
    "a1 = x.flatten()\n",
    "a1[0] = 999\n",
    "print(\"x =\\n\", x)\n",
    "print(\"a1 =\\n\", a1)"
   ]
  },
  {
   "cell_type": "code",
   "execution_count": 34,
   "metadata": {},
   "outputs": [
    {
     "name": "stdout",
     "output_type": "stream",
     "text": [
      "Array after ravelling:\n",
      " [999   2   3   4   5   6   7   8   9  10  11  12] \n",
      "\n",
      "Original array before raveling:\n",
      " [[999   2   3   4]\n",
      " [  5   6   7   8]\n",
      " [  9  10  11  12]]\n"
     ]
    }
   ],
   "source": [
    "x = np.array([[1, 2, 3, 4], \n",
    "              [5, 6, 7, 8], \n",
    "              [9, 10, 11, 12]])\n",
    "# But when we use ravel(), the changes we make to the new array will affect the parent array.\n",
    "a2 = x.ravel()\n",
    "a2[0] = 999\n",
    "print(\"Array after ravelling:\\n\", a2, \"\\n\")\n",
    "\n",
    "print(\"Original array before raveling:\\n\", x)"
   ]
  },
  {
   "cell_type": "markdown",
   "metadata": {},
   "source": [
    "Learn how to read documentation"
   ]
  },
  {
   "cell_type": "code",
   "execution_count": 35,
   "metadata": {},
   "outputs": [
    {
     "name": "stdout",
     "output_type": "stream",
     "text": [
      "\u001b[1;31mDocstring:\u001b[0m\n",
      "array(object, dtype=None, *, copy=True, order='K', subok=False, ndmin=0,\n",
      "      like=None)\n",
      "\n",
      "Create an array.\n",
      "\n",
      "Parameters\n",
      "----------\n",
      "object : array_like\n",
      "    An array, any object exposing the array interface, an object whose\n",
      "    ``__array__`` method returns an array, or any (nested) sequence.\n",
      "    If object is a scalar, a 0-dimensional array containing object is\n",
      "    returned.\n",
      "dtype : data-type, optional\n",
      "    The desired data-type for the array. If not given, NumPy will try to use\n",
      "    a default ``dtype`` that can represent the values (by applying promotion\n",
      "    rules when necessary.)\n",
      "copy : bool, optional\n",
      "    If true (default), then the object is copied.  Otherwise, a copy will\n",
      "    only be made if ``__array__`` returns a copy, if obj is a nested\n",
      "    sequence, or if a copy is needed to satisfy any of the other\n",
      "    requirements (``dtype``, ``order``, etc.).\n",
      "order : {'K', 'A', 'C', 'F'}, optional\n",
      "    Specify the memory layout of the array. If object is not an array, the\n",
      "    newly created array will be in C order (row major) unless 'F' is\n",
      "    specified, in which case it will be in Fortran order (column major).\n",
      "    If object is an array the following holds.\n",
      "\n",
      "    ===== ========= ===================================================\n",
      "    order  no copy                     copy=True\n",
      "    ===== ========= ===================================================\n",
      "    'K'   unchanged F & C order preserved, otherwise most similar order\n",
      "    'A'   unchanged F order if input is F and not C, otherwise C order\n",
      "    'C'   C order   C order\n",
      "    'F'   F order   F order\n",
      "    ===== ========= ===================================================\n",
      "\n",
      "    When ``copy=False`` and a copy is made for other reasons, the result is\n",
      "    the same as if ``copy=True``, with some exceptions for 'A', see the\n",
      "    Notes section. The default order is 'K'.\n",
      "subok : bool, optional\n",
      "    If True, then sub-classes will be passed-through, otherwise\n",
      "    the returned array will be forced to be a base-class array (default).\n",
      "ndmin : int, optional\n",
      "    Specifies the minimum number of dimensions that the resulting\n",
      "    array should have.  Ones will be prepended to the shape as\n",
      "    needed to meet this requirement.\n",
      "like : array_like, optional\n",
      "    Reference object to allow the creation of arrays which are not\n",
      "    NumPy arrays. If an array-like passed in as ``like`` supports\n",
      "    the ``__array_function__`` protocol, the result will be defined\n",
      "    by it. In this case, it ensures the creation of an array object\n",
      "    compatible with that passed in via this argument.\n",
      "\n",
      "    .. versionadded:: 1.20.0\n",
      "\n",
      "Returns\n",
      "-------\n",
      "out : ndarray\n",
      "    An array object satisfying the specified requirements.\n",
      "\n",
      "See Also\n",
      "--------\n",
      "empty_like : Return an empty array with shape and type of input.\n",
      "ones_like : Return an array of ones with shape and type of input.\n",
      "zeros_like : Return an array of zeros with shape and type of input.\n",
      "full_like : Return a new array with shape of input filled with value.\n",
      "empty : Return a new uninitialized array.\n",
      "ones : Return a new array setting values to one.\n",
      "zeros : Return a new array setting values to zero.\n",
      "full : Return a new array of given shape filled with value.\n",
      "\n",
      "\n",
      "Notes\n",
      "-----\n",
      "When order is 'A' and ``object`` is an array in neither 'C' nor 'F' order,\n",
      "and a copy is forced by a change in dtype, then the order of the result is\n",
      "not necessarily 'C' as expected. This is likely a bug.\n",
      "\n",
      "Examples\n",
      "--------\n",
      ">>> np.array([1, 2, 3])\n",
      "array([1, 2, 3])\n",
      "\n",
      "Upcasting:\n",
      "\n",
      ">>> np.array([1, 2, 3.0])\n",
      "array([ 1.,  2.,  3.])\n",
      "\n",
      "More than one dimension:\n",
      "\n",
      ">>> np.array([[1, 2], [3, 4]])\n",
      "array([[1, 2],\n",
      "       [3, 4]])\n",
      "\n",
      "Minimum dimensions 2:\n",
      "\n",
      ">>> np.array([1, 2, 3], ndmin=2)\n",
      "array([[1, 2, 3]])\n",
      "\n",
      "Type provided:\n",
      "\n",
      ">>> np.array([1, 2, 3], dtype=complex)\n",
      "array([ 1.+0.j,  2.+0.j,  3.+0.j])\n",
      "\n",
      "Data-type consisting of more than one element:\n",
      "\n",
      ">>> x = np.array([(1,2),(3,4)],dtype=[('a','<i4'),('b','<i4')])\n",
      ">>> x['a']\n",
      "array([1, 3])\n",
      "\n",
      "Creating an array from sub-classes:\n",
      "\n",
      ">>> np.array(np.mat('1 2; 3 4'))\n",
      "array([[1, 2],\n",
      "       [3, 4]])\n",
      "\n",
      ">>> np.array(np.mat('1 2; 3 4'), subok=True)\n",
      "matrix([[1, 2],\n",
      "        [3, 4]])\n",
      "\u001b[1;31mType:\u001b[0m      builtin_function_or_method"
     ]
    }
   ],
   "source": [
    "np.array?"
   ]
  },
  {
   "cell_type": "code",
   "execution_count": 36,
   "metadata": {},
   "outputs": [
    {
     "name": "stdout",
     "output_type": "stream",
     "text": [
      "\u001b[1;31mSignature:\u001b[0m      \n",
      "\u001b[0mnp\u001b[0m\u001b[1;33m.\u001b[0m\u001b[0msum\u001b[0m\u001b[1;33m(\u001b[0m\u001b[1;33m\n",
      "\u001b[0m    \u001b[0ma\u001b[0m\u001b[1;33m,\u001b[0m\u001b[1;33m\n",
      "\u001b[0m    \u001b[0maxis\u001b[0m\u001b[1;33m=\u001b[0m\u001b[1;32mNone\u001b[0m\u001b[1;33m,\u001b[0m\u001b[1;33m\n",
      "\u001b[0m    \u001b[0mdtype\u001b[0m\u001b[1;33m=\u001b[0m\u001b[1;32mNone\u001b[0m\u001b[1;33m,\u001b[0m\u001b[1;33m\n",
      "\u001b[0m    \u001b[0mout\u001b[0m\u001b[1;33m=\u001b[0m\u001b[1;32mNone\u001b[0m\u001b[1;33m,\u001b[0m\u001b[1;33m\n",
      "\u001b[0m    \u001b[0mkeepdims\u001b[0m\u001b[1;33m=\u001b[0m\u001b[1;33m<\u001b[0m\u001b[0mno\u001b[0m \u001b[0mvalue\u001b[0m\u001b[1;33m>\u001b[0m\u001b[1;33m,\u001b[0m\u001b[1;33m\n",
      "\u001b[0m    \u001b[0minitial\u001b[0m\u001b[1;33m=\u001b[0m\u001b[1;33m<\u001b[0m\u001b[0mno\u001b[0m \u001b[0mvalue\u001b[0m\u001b[1;33m>\u001b[0m\u001b[1;33m,\u001b[0m\u001b[1;33m\n",
      "\u001b[0m    \u001b[0mwhere\u001b[0m\u001b[1;33m=\u001b[0m\u001b[1;33m<\u001b[0m\u001b[0mno\u001b[0m \u001b[0mvalue\u001b[0m\u001b[1;33m>\u001b[0m\u001b[1;33m,\u001b[0m\u001b[1;33m\n",
      "\u001b[0m\u001b[1;33m)\u001b[0m\u001b[1;33m\u001b[0m\u001b[1;33m\u001b[0m\u001b[0m\n",
      "\u001b[1;31mCall signature:\u001b[0m  \u001b[0mnp\u001b[0m\u001b[1;33m.\u001b[0m\u001b[0msum\u001b[0m\u001b[1;33m(\u001b[0m\u001b[1;33m*\u001b[0m\u001b[0margs\u001b[0m\u001b[1;33m,\u001b[0m \u001b[1;33m**\u001b[0m\u001b[0mkwargs\u001b[0m\u001b[1;33m)\u001b[0m\u001b[1;33m\u001b[0m\u001b[1;33m\u001b[0m\u001b[0m\n",
      "\u001b[1;31mType:\u001b[0m            _ArrayFunctionDispatcher\n",
      "\u001b[1;31mString form:\u001b[0m     <function sum at 0x0000022B85A37EC0>\n",
      "\u001b[1;31mFile:\u001b[0m            c:\\users\\ln69g\\appdata\\local\\anaconda3\\lib\\site-packages\\numpy\\core\\fromnumeric.py\n",
      "\u001b[1;31mDocstring:\u001b[0m      \n",
      "Sum of array elements over a given axis.\n",
      "\n",
      "Parameters\n",
      "----------\n",
      "a : array_like\n",
      "    Elements to sum.\n",
      "axis : None or int or tuple of ints, optional\n",
      "    Axis or axes along which a sum is performed.  The default,\n",
      "    axis=None, will sum all of the elements of the input array.  If\n",
      "    axis is negative it counts from the last to the first axis.\n",
      "\n",
      "    .. versionadded:: 1.7.0\n",
      "\n",
      "    If axis is a tuple of ints, a sum is performed on all of the axes\n",
      "    specified in the tuple instead of a single axis or all the axes as\n",
      "    before.\n",
      "dtype : dtype, optional\n",
      "    The type of the returned array and of the accumulator in which the\n",
      "    elements are summed.  The dtype of `a` is used by default unless `a`\n",
      "    has an integer dtype of less precision than the default platform\n",
      "    integer.  In that case, if `a` is signed then the platform integer\n",
      "    is used while if `a` is unsigned then an unsigned integer of the\n",
      "    same precision as the platform integer is used.\n",
      "out : ndarray, optional\n",
      "    Alternative output array in which to place the result. It must have\n",
      "    the same shape as the expected output, but the type of the output\n",
      "    values will be cast if necessary.\n",
      "keepdims : bool, optional\n",
      "    If this is set to True, the axes which are reduced are left\n",
      "    in the result as dimensions with size one. With this option,\n",
      "    the result will broadcast correctly against the input array.\n",
      "\n",
      "    If the default value is passed, then `keepdims` will not be\n",
      "    passed through to the `sum` method of sub-classes of\n",
      "    `ndarray`, however any non-default value will be.  If the\n",
      "    sub-class' method does not implement `keepdims` any\n",
      "    exceptions will be raised.\n",
      "initial : scalar, optional\n",
      "    Starting value for the sum. See `~numpy.ufunc.reduce` for details.\n",
      "\n",
      "    .. versionadded:: 1.15.0\n",
      "\n",
      "where : array_like of bool, optional\n",
      "    Elements to include in the sum. See `~numpy.ufunc.reduce` for details.\n",
      "\n",
      "    .. versionadded:: 1.17.0\n",
      "\n",
      "Returns\n",
      "-------\n",
      "sum_along_axis : ndarray\n",
      "    An array with the same shape as `a`, with the specified\n",
      "    axis removed.   If `a` is a 0-d array, or if `axis` is None, a scalar\n",
      "    is returned.  If an output array is specified, a reference to\n",
      "    `out` is returned.\n",
      "\n",
      "See Also\n",
      "--------\n",
      "ndarray.sum : Equivalent method.\n",
      "\n",
      "add.reduce : Equivalent functionality of `add`.\n",
      "\n",
      "cumsum : Cumulative sum of array elements.\n",
      "\n",
      "trapz : Integration of array values using the composite trapezoidal rule.\n",
      "\n",
      "mean, average\n",
      "\n",
      "Notes\n",
      "-----\n",
      "Arithmetic is modular when using integer types, and no error is\n",
      "raised on overflow.\n",
      "\n",
      "The sum of an empty array is the neutral element 0:\n",
      "\n",
      ">>> np.sum([])\n",
      "0.0\n",
      "\n",
      "For floating point numbers the numerical precision of sum (and\n",
      "``np.add.reduce``) is in general limited by directly adding each number\n",
      "individually to the result causing rounding errors in every step.\n",
      "However, often numpy will use a  numerically better approach (partial\n",
      "pairwise summation) leading to improved precision in many use-cases.\n",
      "This improved precision is always provided when no ``axis`` is given.\n",
      "When ``axis`` is given, it will depend on which axis is summed.\n",
      "Technically, to provide the best speed possible, the improved precision\n",
      "is only used when the summation is along the fast axis in memory.\n",
      "Note that the exact precision may vary depending on other parameters.\n",
      "In contrast to NumPy, Python's ``math.fsum`` function uses a slower but\n",
      "more precise approach to summation.\n",
      "Especially when summing a large number of lower precision floating point\n",
      "numbers, such as ``float32``, numerical errors can become significant.\n",
      "In such cases it can be advisable to use `dtype=\"float64\"` to use a higher\n",
      "precision for the output.\n",
      "\n",
      "Examples\n",
      "--------\n",
      ">>> np.sum([0.5, 1.5])\n",
      "2.0\n",
      ">>> np.sum([0.5, 0.7, 0.2, 1.5], dtype=np.int32)\n",
      "1\n",
      ">>> np.sum([[0, 1], [0, 5]])\n",
      "6\n",
      ">>> np.sum([[0, 1], [0, 5]], axis=0)\n",
      "array([0, 6])\n",
      ">>> np.sum([[0, 1], [0, 5]], axis=1)\n",
      "array([1, 5])\n",
      ">>> np.sum([[0, 1], [np.nan, 5]], where=[False, True], axis=1)\n",
      "array([1., 5.])\n",
      "\n",
      "If the accumulator is too small, overflow occurs:\n",
      "\n",
      ">>> np.ones(128, dtype=np.int8).sum(dtype=np.int8)\n",
      "-128\n",
      "\n",
      "You can also start the sum with a value other than zero:\n",
      "\n",
      ">>> np.sum([10], initial=5)\n",
      "15\n",
      "\u001b[1;31mClass docstring:\u001b[0m\n",
      "Class to wrap functions with checks for __array_function__ overrides.\n",
      "\n",
      "All arguments are required, and can only be passed by position.\n",
      "\n",
      "Parameters\n",
      "----------\n",
      "dispatcher : function or None\n",
      "    The dispatcher function that returns a single sequence-like object\n",
      "    of all arguments relevant.  It must have the same signature (except\n",
      "    the default values) as the actual implementation.\n",
      "    If ``None``, this is a ``like=`` dispatcher and the\n",
      "    ``_ArrayFunctionDispatcher`` must be called with ``like`` as the\n",
      "    first (additional and positional) argument.\n",
      "implementation : function\n",
      "    Function that implements the operation on NumPy arrays without\n",
      "    overrides.  Arguments passed calling the ``_ArrayFunctionDispatcher``\n",
      "    will be forwarded to this (and the ``dispatcher``) as if using\n",
      "    ``*args, **kwargs``.\n",
      "\n",
      "Attributes\n",
      "----------\n",
      "_implementation : function\n",
      "    The original implementation passed in."
     ]
    }
   ],
   "source": [
    "a = np.array([[1, 2, 3], [4, 5, 6]])\n",
    "np.sum?"
   ]
  },
  {
   "cell_type": "markdown",
   "metadata": {},
   "source": [
    "## <font color='DeepSkyBlue'> Access elements of array </font>\n",
    "\n",
    "**A short summary first** &nbsp; We can **index** and **slice** and slice NumPy arrays in the same ways we can slide Python lists. However, there is more than just that 😋"
   ]
  },
  {
   "cell_type": "markdown",
   "metadata": {},
   "source": [
    "### Indexing and slicing\n",
    "\n",
    "**A short summary first** &nbsp; We can **index** and **slice** and slice NumPy arrays in the same ways we can slide Python lists. \n",
    "\n",
    "We may want to take a section of our array or specific array elements to use in further analysis or additional operations. To do that, we'll need to subset, slice, and/or index our arrays."
   ]
  },
  {
   "cell_type": "code",
   "execution_count": 37,
   "metadata": {},
   "outputs": [
    {
     "name": "stdout",
     "output_type": "stream",
     "text": [
      "data =  [0 1 2]\n",
      "data[1] =\n",
      " 1\n",
      "data[0:2] =\n",
      " array([0, 1])\n",
      "data[-2:] =\n",
      " array([1, 2])\n"
     ]
    }
   ],
   "source": [
    "data = np.arange(3)\n",
    "print(\"data = \", data)\n",
    "print(\"data[1] =\\n\", repr(data[1]))\n",
    "print(\"data[0:2] =\\n\", repr(data[0:2]))\n",
    "print(\"data[-2:] =\\n\", repr(data[-2:]))"
   ]
  },
  {
   "cell_type": "code",
   "execution_count": 38,
   "metadata": {},
   "outputs": [
    {
     "name": "stdout",
     "output_type": "stream",
     "text": [
      "array_2d[0,:] = [1 2]\n",
      "array_2d[:,0] = [1 2]\n"
     ]
    }
   ],
   "source": [
    "array_2d = np.array([[1, 2], [3, 4], [5, 6]])\n",
    "print(\"array_2d[0,:] =\", array_2d[0,:])\n",
    "print(\"array_2d[:,0] =\", array_2d[0,:])"
   ]
  },
  {
   "cell_type": "code",
   "execution_count": 39,
   "metadata": {},
   "outputs": [
    {
     "name": "stdout",
     "output_type": "stream",
     "text": [
      "[1 2]\n",
      "[3 4]\n",
      "[5 6]\n",
      "[1 3 5]\n",
      "[2 4 6]\n"
     ]
    }
   ],
   "source": [
    "# Print all the elements along the first axis\n",
    "for i in range(array_2d.shape[0]):\n",
    "    print(array_2d[i,])\n",
    "    \n",
    "# Print all the elements along the second axis\n",
    "for i in range(array_2d.shape[1]):\n",
    "    print(array_2d[:,i])\n"
   ]
  },
  {
   "cell_type": "markdown",
   "metadata": {},
   "source": [
    "<img src=\"./figures/indexing-and-slicing-in-ndarray.png\" width=\"750\"/>"
   ]
  },
  {
   "cell_type": "markdown",
   "metadata": {},
   "source": [
    "### Selection with conditions\n",
    "\n",
    "If we want to select values from the array that fulfill certain conditions, it's super straightforward with NumPy.\n",
    "\n",
    "Essentially, the key idea in selection process, the statement involving a condition will return an array of the same size as the original array with the Boolean values `True` and `False`. What happens is that the condition will be evaluated in the element-wise fashion, i.e., for each element of the array. Then, we receive the new array in which the values `True` correspond to the elements that fulfill the condition, or the values `False` otherwise. This new array holding only Boolean values will act like a masking array telling the original array which element should be picked up. Only elements corresponding to the `True` of the masking array are chosen.\n",
    "\n",
    "For example, if we have the array\n",
    "```Python\n",
    "a = np.array([1, 2, 3, 4, 5])\n",
    "```\n",
    "Then, the statement \n",
    "```Python \n",
    "masking_array = (a >= 2 and a <= 4)\n",
    "``` \n",
    "will return\n",
    "```Python\n",
    "masking_array = np.array([False, True, True, True, False])\n",
    "```\n",
    "This masking array is then used as a special slicing for the `ndarray` variable `a` so that we can write `a[masking_array]` legally. Then, as expected, `a[masking_array]` should give us the new array that picking up only values `2`, `3`, and `4`. Following this explanation, we can conclude, for example `a[[True, False, False, False, True]]` would return `np.array([1, 3, 5])`."
   ]
  },
  {
   "cell_type": "code",
   "execution_count": 40,
   "metadata": {},
   "outputs": [
    {
     "name": "stdout",
     "output_type": "stream",
     "text": [
      "a[a < 5] = array([0, 1, 2, 3, 4])\n",
      "Under the hood:\n",
      "------------\n",
      "masking = array([ True,  True,  True, False, False, False])\n",
      "b = a[masking] = array([0, 1, 2])\n"
     ]
    }
   ],
   "source": [
    "a = np.arange(6)\n",
    "print(\"a[a < 5] =\", repr(a[a < 5]))\n",
    "# What truely happens is as follows\n",
    "print(\"Under the hood:\\n------------\")\n",
    "masking = a < 3\n",
    "print(\"masking =\", repr(masking))\n",
    "b = a[masking]\n",
    "print(\"b = a[masking] =\", repr(b))"
   ]
  },
  {
   "cell_type": "code",
   "execution_count": 41,
   "metadata": {},
   "outputs": [
    {
     "data": {
      "text/plain": [
       "array([1, 3, 5])"
      ]
     },
     "execution_count": 41,
     "metadata": {},
     "output_type": "execute_result"
    }
   ],
   "source": [
    "a = np.arange(1, 6, 1)\n",
    "a[[True, False, True, False, True]]"
   ]
  },
  {
   "cell_type": "markdown",
   "metadata": {},
   "source": [
    "## Operations on ndarray"
   ]
  },
  {
   "cell_type": "markdown",
   "metadata": {},
   "source": [
    "### Basic operations: element-by-element calculation\n",
    "\n",
    "Once we've created our arrays, we can start to work with them. One of the most basic things to remember when dealing with NumPy array is that most of the mathematical operations such as addition, subtraction, multiplication, division and so on are working on the element-by-element basis. Assume that $\\otimes$ is an operation acting on two NumPy array `a` and `b` of shape $(n_0, n_1, \\ldots, n_M)$, denoted mathematically hereby as $\\mathbf{A}$ and $\\mathbf{B}$. The operation symbol $\\otimes$ is just a symbol that may represent the addition $+$, the subtraction $-$, the multiplication $\\ast$ and the division $/$.\n",
    "\n",
    "Then, the result array $\\mathbf{c} = \\mathbf{a} \\otimes \\mathbf{b}$ are computed according to\n",
    "$$\n",
    "c[i_0][i_1]...[i_{M}] = a[i_0][i_1]...[i_M] \\otimes b[i_0][i_1]...[i_M]\n",
    "$$\n",
    "where $[...]$ refers to probably extra running index in the array $\\mathbf{a}$ and $\\mathbf{b}$ and the indices $i_1, i_2, \\ldots, i_M$ running in the valid ranges.\n",
    "\n",
    "**Example**\n",
    "Assume that `a` and `b` are two arrays of shape `(3, 4)`, the expression `c = a + b` will be evaluated by adding each element in `a` to the corresponding element in `b` with the same index position. For example, if `a` and `b` are two matrices, then `a[0][0]` will be added to `b[0][0]` and assigned to `c[0][0]`, `a[0][1]` added to `b[0][1]` and assigned to `c[0][1]` and so on. Thus, we have the following pattern\n",
    "```Python\n",
    "c[i][j] = a[i][j] + b[i][j]\n",
    "```\n",
    "for all running valid indices `i` (from $0$ to $2$) and `j` (from $0$ to $3$) of the array `a` and `b`. Similarly, the subtraction, multiplication and division between two NumPy arrays of the same shape are performed on the element-by-element basis."
   ]
  },
  {
   "cell_type": "markdown",
   "metadata": {},
   "source": [
    "**Best by examples**"
   ]
  },
  {
   "cell_type": "code",
   "execution_count": 42,
   "metadata": {},
   "outputs": [
    {
     "name": "stdout",
     "output_type": "stream",
     "text": [
      "data.shape = (2,)\n",
      "ones.shape = (2,)\n",
      "data =\n",
      " array([1, 2])\n",
      "ones =\n",
      " array([1., 1.])\n",
      "c =\n",
      " array([2., 3.])\n"
     ]
    }
   ],
   "source": [
    "# We define two arrays\n",
    "data = np.array([1, 2])\n",
    "ones = np.ones(2)\n",
    "# They must be the same shape before performing operation\n",
    "print(\"data.shape =\", data.shape)\n",
    "print(\"ones.shape =\", ones.shape)\n",
    "\n",
    "print(\"data =\\n\", repr(data))\n",
    "print(\"ones =\\n\", repr(ones))\n",
    "# Add them together\n",
    "c = data + ones\n",
    "print(\"c =\\n\", repr(c))"
   ]
  },
  {
   "cell_type": "markdown",
   "metadata": {},
   "source": [
    "<img src=\"./figures/np_array_dataones.png\" width=\"550\"/> &nbsp; <img src=\"./figures/np_data_plus_ones.png\" width=\"550\"/>"
   ]
  },
  {
   "cell_type": "code",
   "execution_count": 43,
   "metadata": {},
   "outputs": [
    {
     "name": "stdout",
     "output_type": "stream",
     "text": [
      "data - ones =\n",
      " array([0., 1.])\n"
     ]
    }
   ],
   "source": [
    "# Of course, we can do more than just addition!\n",
    "data = np.array([1, 2])\n",
    "ones = np.ones(2)\n",
    "print(\"data - ones =\\n\", repr(data - ones))"
   ]
  },
  {
   "cell_type": "code",
   "execution_count": 44,
   "metadata": {},
   "outputs": [
    {
     "name": "stdout",
     "output_type": "stream",
     "text": [
      "data * ones =\n",
      " array([1., 2.])\n"
     ]
    }
   ],
   "source": [
    "data = np.array([1, 2])\n",
    "ones = np.ones(2)\n",
    "print(\"data * ones =\\n\", repr(data * ones))"
   ]
  },
  {
   "cell_type": "code",
   "execution_count": 45,
   "metadata": {},
   "outputs": [
    {
     "name": "stdout",
     "output_type": "stream",
     "text": [
      "data / ones =\n",
      " array([1., 2.])\n"
     ]
    }
   ],
   "source": [
    "data = np.array([1, 2])\n",
    "ones = np.ones(2)\n",
    "print(\"data / ones =\\n\", repr(data / ones))"
   ]
  },
  {
   "cell_type": "markdown",
   "metadata": {},
   "source": [
    "<img src=\"./figures/np_sub_mult_divide.png\" width=\"750\"/>"
   ]
  },
  {
   "cell_type": "markdown",
   "metadata": {},
   "source": [
    "### More useful array operations\n",
    "\n",
    "This section covers **maximum**, **minimum**, **sum**, **mean**, **product**, **standard deviation**. These operations can be achieved by the object methods for the `ndarray` objects:\n",
    "\n",
    "- `array.max()`\n",
    "- `array.min()`\n",
    "- `array.sum()`\n",
    "- `array.prod()`\n",
    "- `array.mean()`\n",
    "- `array.std()`\n",
    "\n",
    "The function names basically suggest the functionality of the object methods. Clearly, `max`, `min`, `sum` are used to derive the maximum value, the minimum value and the sum of elements in the array `array` by some specific rule. Such specific rule "
   ]
  },
  {
   "cell_type": "code",
   "execution_count": 46,
   "metadata": {},
   "outputs": [
    {
     "name": "stdout",
     "output_type": "stream",
     "text": [
      "10\n"
     ]
    }
   ],
   "source": [
    "a = np.array([1, 2, 3, 4])\n",
    "print(a.sum(axis=0))"
   ]
  },
  {
   "cell_type": "code",
   "execution_count": 47,
   "metadata": {},
   "outputs": [
    {
     "name": "stdout",
     "output_type": "stream",
     "text": [
      "[[1 1]\n",
      " [2 2]]\n",
      "over the axis of rows    --> [3 3]\n",
      "over the axis of columns --> [2 4]\n"
     ]
    }
   ],
   "source": [
    "# If we start with this array\n",
    "b = np.array([[1, 1], [2, 2]])\n",
    "print(b)\n",
    "# We can sum over the axis of rows with\n",
    "print(\"over the axis of rows    -->\", b.sum(axis=0))\n",
    "# or sum over the axis of columns\n",
    "print(\"over the axis of columns -->\", b.sum(axis=1))"
   ]
  },
  {
   "cell_type": "code",
   "execution_count": 48,
   "metadata": {},
   "outputs": [
    {
     "name": "stdout",
     "output_type": "stream",
     "text": [
      "c =\n",
      " [[[ 0  1]\n",
      "  [ 2  3]\n",
      "  [ 4  5]]\n",
      "\n",
      " [[ 6  7]\n",
      "  [ 8  9]\n",
      "  [10 11]]]\n",
      "sum of c over the 3rd axis:\n",
      " [[ 1  5  9]\n",
      " [13 17 21]]\n"
     ]
    }
   ],
   "source": [
    "# Of course, we can sum over the higher dimension\n",
    "c = np.arange(0, 12).reshape(2, 3, 2)\n",
    "print(\"c =\\n\", c)\n",
    "print(\"sum of c over the 3rd axis:\\n\", c.sum(axis=2))"
   ]
  },
  {
   "cell_type": "code",
   "execution_count": 49,
   "metadata": {},
   "outputs": [
    {
     "name": "stdout",
     "output_type": "stream",
     "text": [
      "max = 3\n",
      "min = 1\n",
      "sum = 6\n"
     ]
    }
   ],
   "source": [
    "data = np.array([1, 2, 3])\n",
    "print(\"max =\", data.max())\n",
    "\n",
    "print(\"min =\", data.min())\n",
    "\n",
    "print(\"sum =\", data.sum())"
   ]
  },
  {
   "cell_type": "markdown",
   "metadata": {},
   "source": [
    "It’s very common to want to aggregate along a row or column. By default, every NumPy aggregation function will return the aggregate of the entire array. However, as expected we can specify on which axis you want the aggregation function to be computed. For example, you can find the minimum value within each column in a matrix (array of 2 dimensions) by specifying `axis=0`."
   ]
  },
  {
   "cell_type": "code",
   "execution_count": 50,
   "metadata": {},
   "outputs": [
    {
     "name": "stdout",
     "output_type": "stream",
     "text": [
      "sum = 78\n",
      "min = 1\n",
      "max = 12\n"
     ]
    }
   ],
   "source": [
    "a = np.array([[11, 10, 1, 12], [9, 6, 5, 7], [2, 4, 3, 8]])\n",
    "\n",
    "print(\"sum =\", a.sum())     # sum of all elements in the 2D array\n",
    "\n",
    "print(\"min =\", a.min())     # minimium of all elements in the 2D array\n",
    "\n",
    "print(\"max =\", a.max())     # maximum of all elements in the 2D array"
   ]
  },
  {
   "cell_type": "code",
   "execution_count": 51,
   "metadata": {},
   "outputs": [
    {
     "name": "stdout",
     "output_type": "stream",
     "text": [
      "a =\n",
      " array([[11, 10,  1, 12],\n",
      "       [ 9,  6,  5,  7],\n",
      "       [ 2,  4,  3,  8]])\n",
      "min along the row, within each column --> [2 4 1 7]\n",
      "min along the column, within each row --> [1 5 2]\n"
     ]
    }
   ],
   "source": [
    "print(\"a =\\n\", repr(a))\n",
    "\n",
    "print(\"min along the row, within each column -->\", a.min(axis=0))\n",
    "\n",
    "print(\"min along the column, within each row -->\", a.min(axis=1))"
   ]
  },
  {
   "cell_type": "markdown",
   "metadata": {},
   "source": [
    "### Transposing and reshaping a matrix\n",
    "\n",
    "This section covers\n",
    "  - `arr.reshape()`\n",
    "  - `arr.transpose()`\n",
    "  - `arr.T`\n",
    "\n",
    "Very often, we are working with matrices in engineering and mathematical applications. It is common to need to transpose the matrices. NumPy arrays have the property `T` that allows us to transpose a matrix.\n",
    "\n",
    "<img src=\"./figures/np_transposing_reshaping.png\" width=\"750\"/>\n",
    "\n",
    "\n",
    "We may also need to switch the dimensions of a matrix. This can happen when, for example, we have a model that expects a certain input shape that is different from our data set. This is where the `reshape()` method can be useful. We simply need to pass in a new dimensions that we want for the matrix.\n",
    "\n",
    "<img src=\"./figures/np_reshape.png\" width=\"750\"/>"
   ]
  },
  {
   "cell_type": "code",
   "execution_count": 52,
   "metadata": {},
   "outputs": [
    {
     "name": "stdout",
     "output_type": "stream",
     "text": [
      "[[11 10  1 12]\n",
      " [ 9  6  5  7]\n",
      " [ 2  4  3  8]]\n",
      "34\n",
      "27\n",
      "17\n"
     ]
    }
   ],
   "source": [
    "print(a)\n",
    "\n",
    "for i in range(3):\n",
    "    print(a[i,:].sum())"
   ]
  },
  {
   "cell_type": "markdown",
   "metadata": {},
   "source": [
    "**Best by examples**"
   ]
  },
  {
   "cell_type": "code",
   "execution_count": 53,
   "metadata": {},
   "outputs": [
    {
     "name": "stdout",
     "output_type": "stream",
     "text": [
      "data = [1 2 3 4 5 6]\n",
      "data.reshape(2, 3) =\n",
      " [[1 2 3]\n",
      " [4 5 6]]\n",
      "data.reshape(3, 2) =\n",
      " [[1 2]\n",
      " [3 4]\n",
      " [5 6]]\n"
     ]
    }
   ],
   "source": [
    "data = np.arange(1, 7)\n",
    "print(\"data =\", data)\n",
    "print(\"data.reshape(2, 3) =\\n\", data.reshape(2, 3))\n",
    "print(\"data.reshape(3, 2) =\\n\", data.reshape(3, 2))\n",
    "\n",
    "# The below statement will give error as the total number of elements \n",
    "# is only 6 but it wants to reshape data into 3x3 array. Remove comment\n",
    "# to see the ValueError.\n",
    "# print(\"data.reshape(3, 3) =\\n\", data.reshape(3, 3))"
   ]
  },
  {
   "cell_type": "code",
   "execution_count": 54,
   "metadata": {},
   "outputs": [
    {
     "name": "stdout",
     "output_type": "stream",
     "text": [
      "matrix =\n",
      " [[1 2 3]\n",
      " [4 5 6]]\n",
      "matrix.T =\n",
      " [[1 4]\n",
      " [2 5]\n",
      " [3 6]]\n",
      "matrix.transpose()\n",
      " [[1 4]\n",
      " [2 5]\n",
      " [3 6]]\n"
     ]
    }
   ],
   "source": [
    "# We can transpose a matrix\n",
    "data = np.arange(1, 7)\n",
    "matrix = data.reshape(2 ,3)\n",
    "print(\"matrix =\\n\", matrix)\n",
    "\n",
    "# We can use .T\n",
    "print(\"matrix.T =\\n\", matrix.T)\n",
    "# We can also use .transpose()\n",
    "print(\"matrix.transpose()\\n\", matrix.transpose())\n"
   ]
  },
  {
   "cell_type": "markdown",
   "metadata": {},
   "source": [
    "### Reverse an array\n",
    "\n",
    "NumPy `np.flip()` function allows you to flip, or reverse, the contents of an array along an axis. When using `np.flip()`, specify array you would like to reverse and the axis. If we don't specify the axis, NumPy will reverse the contents along all of the axes of your input array."
   ]
  },
  {
   "cell_type": "markdown",
   "metadata": {},
   "source": [
    "**Best by examples**"
   ]
  },
  {
   "cell_type": "code",
   "execution_count": 55,
   "metadata": {},
   "outputs": [
    {
     "name": "stdout",
     "output_type": "stream",
     "text": [
      "Reversed Array: [8 7 6 5 4 3 2 1]\n"
     ]
    }
   ],
   "source": [
    "# Reversing a 1D array\n",
    "arr = np.array([1, 2, 3, 4, 5, 6, 7, 8])\n",
    "\n",
    "reversed_arr = np.flip(arr)\n",
    "print('Reversed Array:', reversed_arr)"
   ]
  },
  {
   "cell_type": "code",
   "execution_count": 56,
   "metadata": {},
   "outputs": [
    {
     "name": "stdout",
     "output_type": "stream",
     "text": [
      "Original array\n",
      " [[ 1  2  3  4]\n",
      " [ 5  6  7  8]\n",
      " [ 9 10 11 12]]\n",
      "Reversed along both dimensions (rows and column)\n",
      " [[12 11 10  9]\n",
      " [ 8  7  6  5]\n",
      " [ 4  3  2  1]]\n",
      "Reversed long 1st dimension (row)\n",
      " [[ 9 10 11 12]\n",
      " [ 5  6  7  8]\n",
      " [ 1  2  3  4]]\n",
      "Reversed long 2nd dimension (col)\n",
      " [[ 4  3  2  1]\n",
      " [ 8  7  6  5]\n",
      " [12 11 10  9]]\n"
     ]
    }
   ],
   "source": [
    "# Reversing a 2D array\n",
    "arr_2d = np.array([[1, 2, 3, 4], [5, 6, 7, 8], [9, 10, 11, 12]])\n",
    "print(\"Original array\\n\", arr_2d)\n",
    "\n",
    "reversed_arr = np.flip(arr_2d)\n",
    "print(\"Reversed along both dimensions (rows and column)\\n\", reversed_arr)\n",
    "\n",
    "# Reverse the 2D array along the 1st dimension (namely row)\n",
    "reversed_arr_rows = np.flip(arr_2d, axis=0)\n",
    "print(\"Reversed long 1st dimension (row)\\n\", reversed_arr_rows)\n",
    "\n",
    "# Reverse the 2D array along the 2nd dimension (namely column)\n",
    "reversed_arr_columns = np.flip(arr_2d, axis=1)\n",
    "print(\"Reversed long 2nd dimension (col)\\n\", reversed_arr_columns)"
   ]
  },
  {
   "cell_type": "markdown",
   "metadata": {},
   "source": [
    "We can also reverse the contents of only one column or row. For example, you can reverse the contents of the row at index position 1 (the second row). As already explained, the access of NumPy array returns the view copy, thus the change of elements in the array will also affect the original array."
   ]
  },
  {
   "cell_type": "code",
   "execution_count": 57,
   "metadata": {},
   "outputs": [
    {
     "name": "stdout",
     "output_type": "stream",
     "text": [
      "Original array\n",
      " [[ 1  2  3  4]\n",
      " [ 5  6  7  8]\n",
      " [ 9 10 11 12]]\n",
      "After flipping the 2nd row\n",
      " [[ 1  2  3  4]\n",
      " [ 8  7  6  5]\n",
      " [ 9 10 11 12]]\n",
      "After flipping the 2nd column\n",
      " [[ 1 10  3  4]\n",
      " [ 8  7  6  5]\n",
      " [ 9  2 11 12]]\n"
     ]
    }
   ],
   "source": [
    "arr_2d = np.array([[1, 2, 3, 4], [5, 6, 7, 8], [9, 10, 11, 12]])\n",
    "print(\"Original array\\n\", arr_2d)\n",
    "\n",
    "# We flip the second row of the array arr_2d\n",
    "arr_2d[1] = np.flip(arr_2d[1])      \n",
    "print(\"After flipping the 2nd row\\n\", arr_2d)\n",
    "\n",
    "# Then, we can also reverse the column at index position 1 (the second column).\n",
    "# The \":\" appearing in the first dimension means \"all elements in the 1st dimension\".\n",
    "# Thus, \":\" refers to all the rows.\n",
    "arr_2d[:,1] = np.flip(arr_2d[:,1])\n",
    "print(\"After flipping the 2nd column\\n\", arr_2d)\n"
   ]
  },
  {
   "cell_type": "code",
   "execution_count": 58,
   "metadata": {},
   "outputs": [
    {
     "data": {
      "text/plain": [
       "array([[[[ 1,  2,  3]],\n",
       "\n",
       "        [[ 4,  5,  6]]],\n",
       "\n",
       "\n",
       "       [[[ 7,  8,  9]],\n",
       "\n",
       "        [[10, 11, 12]]]])"
      ]
     },
     "execution_count": 58,
     "metadata": {},
     "output_type": "execute_result"
    }
   ],
   "source": [
    "arr_2d = np.array([[1, 2, 3, 4], [5, 6, 7, 8], [9, 10, 11, 12]])\n",
    "\n",
    "arr_2d.reshape((2,2, 1, 3))"
   ]
  },
  {
   "cell_type": "markdown",
   "metadata": {},
   "source": [
    "## Working with mathematical formulas\n",
    "\n",
    "The ease of implementing mathematical formulas that work on arrays is one of the things that make __NumPy__ so widely used in the scientific Python community.\n",
    "\n",
    "For example, the mean square error formula (a central formula used in supervised machine learning models that deal with regression):\n",
    "$$\n",
    "MSE = \\frac{1}{n} \\sum\\limits_{j=1}^{n} (Y_{j}^{\\text{prediction}} - Y_{j}^{\\text{data}})^2\n",
    "$$\n",
    "Implementing this formula is simple and straightforward in NumPy:\n",
    "\n",
    "```Python\n",
    "error = (1/n) * np.sum(np.square(predictions - labels))\n",
    "```\n",
    "\n",
    "What makes this work so well is that `predictions` and `labels` can contain one or a thousand values. They only need to be the same size.\n",
    "\n",
    "We can visualize it this way:\n",
    "\n",
    "<img src=\"./figures/np_mse_viz1.png\" width=\"750\"/>\n",
    "\n",
    "In this example, both the predictions and labels vectors contain three values, meaning `n` has a value of three. After we carry out subtractions the values in the vector are squared. Then NumPy sums the values, and your results is the error value for that prediction and a score for the quality of the model.\n",
    "\n",
    "<img src=\"./figures/np_mse_viz2.png\" width=\"750\"/>\n",
    "\n",
    "<img src=\"./figures/np_MSE_explanation2.png\" width=\"750\">"
   ]
  },
  {
   "cell_type": "markdown",
   "metadata": {},
   "source": [
    "### Useful examples\n",
    "\n",
    "Perhaps, the best way to learn this section is to go through useful examples."
   ]
  },
  {
   "cell_type": "markdown",
   "metadata": {},
   "source": [
    "#### **Dot product of two vectors**"
   ]
  },
  {
   "cell_type": "code",
   "execution_count": 59,
   "metadata": {},
   "outputs": [
    {
     "name": "stdout",
     "output_type": "stream",
     "text": [
      "dot product (1st method) = 32\n",
      "dot product (2nd method) = 32\n"
     ]
    }
   ],
   "source": [
    "a = np.array([1, 2, 3])\n",
    "b = np.array([4, 5, 6])\n",
    "# Dot product between vector a and vector b is a number\n",
    "# This can be done as \n",
    "dot_prod = np.sum(a * b)\n",
    "print(\"dot product (1st method) =\", dot_prod)\n",
    "# Or we can also write\n",
    "dot_prod = a.dot(b)\n",
    "print(\"dot product (2nd method) =\", dot_prod)"
   ]
  },
  {
   "cell_type": "markdown",
   "metadata": {},
   "source": [
    "#### **Multiplication of two matrices**"
   ]
  },
  {
   "cell_type": "code",
   "execution_count": 60,
   "metadata": {},
   "outputs": [
    {
     "name": "stdout",
     "output_type": "stream",
     "text": [
      "A.shape = (3, 4)\n",
      "B.shape = (4, 2)\n",
      "C =\n",
      " [[ 50  60]\n",
      " [114 140]\n",
      " [178 220]]\n"
     ]
    }
   ],
   "source": [
    "# We can multiply two matrices of appropriate sizes.\n",
    "A = np.array([[1, 2, 3, 4], [5, 6, 7, 8], [9, 10, 11, 12]])\n",
    "B = np.array([[1, 2], [3, 4], [5, 6], [7, 8]])\n",
    "print(\"A.shape =\", A.shape)\n",
    "print(\"B.shape =\", B.shape)\n",
    "# It is clear that we can multiply two matrices A [3 x 4] and B [4 x 2].\n",
    "C = A.dot(B)\n",
    "print(\"C =\\n\", C)"
   ]
  },
  {
   "cell_type": "markdown",
   "metadata": {},
   "source": [
    "#### **Multiplication of one matrix and one vector**"
   ]
  },
  {
   "cell_type": "code",
   "execution_count": 61,
   "metadata": {},
   "outputs": [
    {
     "name": "stdout",
     "output_type": "stream",
     "text": [
      "A*b = [ 5 14 23 32]\n",
      "shape of A*b = (4,)\n"
     ]
    }
   ],
   "source": [
    "# Let us try to multiply a matrix and a vector\n",
    "A = np.arange(12).reshape(4, 3)     # matrix A has shape [4 x 3]\n",
    "b = np.arange(3)                    # vector b has shape (3,)\n",
    "A_dot_b = A.dot(b)\n",
    "print(\"A*b =\", A_dot_b)\n",
    "print(\"shape of A*b =\", A_dot_b.shape)"
   ]
  },
  {
   "cell_type": "markdown",
   "metadata": {},
   "source": [
    "We can see that the multiplication returns a vector of shape `(4,)` instead of a column vector of size [4 x 1], or shape `(4, 1)` as we expect in matrix calculation. However, this is perfectly right in the concept of linear algebra. As already explained above, a vector in a mathematical sense contains 4 elements for 4 dimensions and it can be represented as a column vector of shape `(4, 1)` or a row vector of shape `(1, 4)`. If `b` is a column vector, the statement `A.dot(b)` will work out perfectly fine because `A.dot(b)` basically means the normal multiplication between matrices. However, if `b` is represented as a row vector, the statement `A.dot(b)` will raise an error because we cannot multiply a matrix of size [4 x 3] by matrix of size [1 x 4]. In this case, we can still multiply the matrix $\\mathbf{A}$ by the transpose of the row vector $\\mathbf{b}$ so that the right code would be `A.dot(b.transpose())` or `A.dot(b.T)`."
   ]
  },
  {
   "cell_type": "code",
   "execution_count": 62,
   "metadata": {},
   "outputs": [
    {
     "name": "stdout",
     "output_type": "stream",
     "text": [
      "A*b_col = [[ 5]\n",
      " [14]\n",
      " [23]\n",
      " [32]]\n",
      "A*b_row = [[ 5]\n",
      " [14]\n",
      " [23]\n",
      " [32]]\n"
     ]
    },
    {
     "data": {
      "text/plain": [
       "'The following statement gives error. \\nUncomment the command to see and to learn the error'"
      ]
     },
     "execution_count": 62,
     "metadata": {},
     "output_type": "execute_result"
    }
   ],
   "source": [
    "A = np.arange(12).reshape(4, 3)\n",
    "b = np.arange(3)\n",
    "b_col = b[:,np.newaxis]\n",
    "b_row = b[np.newaxis, :]\n",
    "\n",
    "# We can multiply A and b_col\n",
    "A_dot_b = A.dot(b_col)\n",
    "print(\"A*b_col =\", A_dot_b)\n",
    "# We cannot multiply A and b_row, but the transpose of b_row works fine\n",
    "A_dot_b = A.dot(b_row.T)\n",
    "print(\"A*b_row =\", A_dot_b)\n",
    "\"\"\"The following statement gives error. \n",
    "Uncomment the command to see and to learn the error\"\"\"\n",
    "# A.dot(b_row)"
   ]
  },
  {
   "cell_type": "markdown",
   "metadata": {},
   "source": [
    "#### **Einstein summation**\n",
    "\n",
    "Let us assume that we have two matrices of the same size. Let $\\mathbf{A}$ and $\\mathbf{B}$ are two matrices of the size $[m \\times n]$. Then, we want to calculate the following double sum\n",
    "\n",
    "$$\\sigma = \\sum\\limits_{i=1}^{n} \\sum\\limits_{j=1}^{n} A_{ij} B_{ij}$$\n",
    "\n",
    "We call the above multiple sums **Einstein Summation** -- yes, Einstein really refers to this guy\n",
    "\n",
    "<img src=\"./figures/einstein.jpg\" width=300 >\n",
    "\n",
    "There are multiple ways to compute the summation $\\sigma$ in the above equation with the NumPy library. \n",
    "\n",
    "**Method 1** &nbsp; One way is to compute the matrix $\\mathbf{C}$ that is obtained by multiplying each of component of $\\mathbf{A}$ and $\\mathbf{B}$ one by one so that the matrix $\\mathbf{C}$ has exactly the same size of $\\mathbf{A}$ and $\\mathbf{B}$ and is defined by\n",
    "$$ C_{ij} = A_{ij} B_{ij} \\quad \\forall i = 1, \\ldots, m, j = 1, \\ldots, n$$\n",
    "Then, it is immediately clear that $\\sigma$ can be computed as\n",
    "$$\\sigma = \\sum\\limits_{i=1}^{m} \\sum\\limits_{j=1}^{n} C_{ij}$$\n",
    "\n",
    "**Method 2** &nbsp; The second way is to use the function `np.einsum()` provided in the NumPy library. In current case, the following command does the job\n",
    "```Python\n",
    "sigma = np.einsum('ij,ij', A, B)\n",
    "```"
   ]
  },
  {
   "cell_type": "code",
   "execution_count": 63,
   "metadata": {},
   "outputs": [
    {
     "name": "stdout",
     "output_type": "stream",
     "text": [
      "[[0 1 2]\n",
      " [3 4 5]\n",
      " [6 7 8]]\n",
      "[[10 11 12]\n",
      " [13 14 15]\n",
      " [16 17 18]]\n",
      "564\n",
      "C =  [[  0  11  24]\n",
      " [ 39  56  75]\n",
      " [ 96 119 144]]\n"
     ]
    }
   ],
   "source": [
    "A = np.arange(9).reshape(3, 3)\n",
    "B = np.arange(10, 19, 1).reshape(3, 3)\n",
    "print(A)\n",
    "print(B)\n",
    "\n",
    "C = A * B\n",
    "print(C.sum())\n",
    "print(\"C = \", C)"
   ]
  },
  {
   "cell_type": "code",
   "execution_count": 64,
   "metadata": {},
   "outputs": [
    {
     "name": "stdout",
     "output_type": "stream",
     "text": [
      "1st method: 564\n",
      "2nd method: 564\n"
     ]
    }
   ],
   "source": [
    "A = np.arange(9).reshape(3, 3)\n",
    "B = np.arange(10, 19, 1).reshape(3, 3)\n",
    "# First, let us do the first way\n",
    "A_mult_B = A * B\n",
    "A_double_dot_B = A_mult_B.sum(axis= (0, 1))\n",
    "print(\"1st method:\", A_double_dot_B)\n",
    "np.sum(A * B)\n",
    "# This can be done by Einstein summation\n",
    "A_double_dot_B = np.einsum('ij,ij', A, B)\n",
    "print(\"2nd method:\", A_double_dot_B)"
   ]
  },
  {
   "cell_type": "markdown",
   "metadata": {},
   "source": [
    "Let $\\mathbf{A}$ be a four-dimensional array of size $n_1 \\times n_2 \\times n_3 \\times n_4$ so that each component of $\\mathbf{A}$ is represented as $A_{ijkl}$. Let $\\mathbf{B}$ be a two-dimensional array of size $n_1 \\times n_2$ (effectively a matrix) so that its one component is designated by $B_{ij}$. We want compute a two-dimensional array $\\mathbf{C}$ of size $n_3 \\times n_4$ according to the definition\n",
    "$$ C_{kl} = \\sum\\limits_{i=1}^{n_1} \\sum_{j=1}^{n_2} A_{ijkl} \\, B_{ij} \\quad \\forall k = 1, \\ldots, n_3, l = 1, \\ldots n_4$$\n",
    "\n",
    "That is, if we fix one pair of values for $k$ and $l$, we need to perform double summations over the running indices $i$ and $j$ to compute just one component $C_{kl}$. Following that, we need to compute $n_3 \\cdot n_4$ times the double summations, namely \n",
    "$$\\sum\\limits_{i=1}^{n_1}\\sum\\limits_{j=1}^{n_2}$$ \n",
    "to retrieve all the components of the matrix $\\mathbf{C}$.\n",
    "\n",
    "Again, we can compute all of the components of $\\mathbf{C}$ in multiple ways. The first method is to fix $k = k_0$ and $l = l_0$ and pretend that $A_{ijk_0 l_0}$ for $i$ and $j$ running as a matrix and then compute the double summation just as the double summations for two matrices presented in the above example. Then, we let $k_0$ and $l_0$ run accordingly to obtain all the components $C_{kl}$. In this way, we essentially repeat the above examples but in two loops corresponding the index $k$ and $l$.\n",
    "\n",
    "The second method is rather simple and thank to the `np.einsum()` function in NumPy library. Let `A` and `B` be the variables corresponding to the four-dimensional array and the two-dimensional array described above. Then, the following command does the job\n",
    "\n",
    "```Python\n",
    "C = np.einsum('ijkl,ij -> kl', A, B)\n",
    "```"
   ]
  },
  {
   "cell_type": "code",
   "execution_count": 65,
   "metadata": {},
   "outputs": [
    {
     "name": "stdout",
     "output_type": "stream",
     "text": [
      "1st method:\n",
      " [[1836 1872 1908]\n",
      " [1944 1980 2016]\n",
      " [2052 2088 2124]]\n",
      "2nd method:\n",
      " [[1836. 1872. 1908.]\n",
      " [1944. 1980. 2016.]\n",
      " [2052. 2088. 2124.]]\n"
     ]
    }
   ],
   "source": [
    "A = np.arange(3 * 3 * 3 * 3).reshape(3, 3, 3, 3)\n",
    "B = np.arange(3 * 3).reshape(3, 3)\n",
    "\n",
    "C = np.einsum('ijkl,ij -> kl', A, B)\n",
    "print(\"1st method:\\n\", C)\n",
    "\n",
    "# Of course we can do the more elaborate, understandable but less efficient way.\n",
    "C = np.empty((3, 3))            # reuse the variable name to define a new object\n",
    "for k in range(3):\n",
    "    for l in range(3):\n",
    "        AA = A[:,:,k,l]\n",
    "        matrix = AA * B\n",
    "        C[k,l] = matrix.sum(axis=(0, 1))\n",
    "        \n",
    "print(\"2nd method:\\n\", C)\n",
    "\n",
    "# The 3rd method is less understandable than the 2nd way"
   ]
  },
  {
   "cell_type": "code",
   "execution_count": 66,
   "metadata": {},
   "outputs": [
    {
     "data": {
      "text/plain": [
       "(3, 3, 1, 1)"
      ]
     },
     "execution_count": 66,
     "metadata": {},
     "output_type": "execute_result"
    }
   ],
   "source": [
    "A = np.arange(3 * 3 * 3 * 3).reshape(3, 3, 3, 3)\n",
    "B = np.arange(3 * 3).reshape(3, 3)\n",
    "\n",
    "C = B[:, :, np.newaxis, np.newaxis]\n",
    "C.shape"
   ]
  },
  {
   "cell_type": "code",
   "execution_count": 67,
   "metadata": {},
   "outputs": [
    {
     "data": {
      "text/plain": [
       "array([[1836, 1872, 1908],\n",
       "       [1944, 1980, 2016],\n",
       "       [2052, 2088, 2124]])"
      ]
     },
     "execution_count": 67,
     "metadata": {},
     "output_type": "execute_result"
    }
   ],
   "source": [
    "AC = A * C\n",
    "AC.shape\n",
    "AC.sum(axis=(0, 1))"
   ]
  },
  {
   "cell_type": "code",
   "execution_count": null,
   "metadata": {},
   "outputs": [],
   "source": []
  }
 ],
 "metadata": {
  "kernelspec": {
   "display_name": "base",
   "language": "python",
   "name": "python3"
  },
  "language_info": {
   "codemirror_mode": {
    "name": "ipython",
    "version": 3
   },
   "file_extension": ".py",
   "mimetype": "text/x-python",
   "name": "python",
   "nbconvert_exporter": "python",
   "pygments_lexer": "ipython3",
   "version": "3.12.7"
  }
 },
 "nbformat": 4,
 "nbformat_minor": 2
}
