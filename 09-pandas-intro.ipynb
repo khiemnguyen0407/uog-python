{
 "cells": [
  {
   "cell_type": "markdown",
   "metadata": {},
   "source": [
    "<font color=\"DeepSkyBlue\">**Learning Python at University of Glasgow**</font>\n",
    "\n",
    "<font color=\"DeepSkyBlue\">**Pandas: Data frame and more**</font>\n",
    "\n",
    "<font color=\"DeepSkyBlue\">**Lecturer**</font>: **Khiem Nguyen**"
   ]
  },
  {
   "cell_type": "code",
   "execution_count": 7,
   "metadata": {},
   "outputs": [],
   "source": [
    "import pandas as pd\n",
    "import numpy as np"
   ]
  },
  {
   "cell_type": "markdown",
   "metadata": {},
   "source": [
    "# Object creation"
   ]
  },
  {
   "cell_type": "markdown",
   "metadata": {},
   "source": [
    "Creating a **series** by passing a list of values, letting pandas create a default integer index."
   ]
  },
  {
   "cell_type": "code",
   "execution_count": 9,
   "metadata": {},
   "outputs": [
    {
     "data": {
      "text/plain": [
       "0    1.0\n",
       "1    3.0\n",
       "2    5.0\n",
       "3    NaN\n",
       "4    6.0\n",
       "5    8.0\n",
       "dtype: float64"
      ]
     },
     "execution_count": 9,
     "metadata": {},
     "output_type": "execute_result"
    }
   ],
   "source": [
    "s = pd.Series([1, 3, 5, np.nan, 6, 8])\n",
    "s"
   ]
  },
  {
   "cell_type": "code",
   "execution_count": 17,
   "metadata": {},
   "outputs": [
    {
     "name": "stdout",
     "output_type": "stream",
     "text": [
      "DatetimeIndex(['2022-01-01', '2022-01-02', '2022-01-03', '2022-01-04',\n",
      "               '2022-01-05', '2022-01-06'],\n",
      "              dtype='datetime64[ns]', freq='D')\n",
      "                   A         B         C         D\n",
      "2022-01-01 -0.213821 -1.010157 -0.539883 -0.548345\n",
      "2022-01-02  2.311035  0.537905 -0.162444  0.867666\n",
      "2022-01-03  0.042949 -0.933207  0.294872  0.872436\n",
      "2022-01-04  1.553575  0.707691  0.725995  0.405581\n",
      "2022-01-05  0.202184  0.366465  0.084877 -0.115121\n",
      "2022-01-06  1.189869  1.537045 -1.691987  0.415835\n"
     ]
    }
   ],
   "source": [
    "# Creating a DataFrame by passing a NumPy array, with a datetime index using date_range() and labeled columns\n",
    "\n",
    "dates = pd.date_range(\"20220101\", periods=6)\n",
    "print(dates)\n",
    "\n",
    "df = pd.DataFrame(np.random.randn(6, 4), index=dates, columns=list(\"ABCD\"))\n",
    "print(df)"
   ]
  },
  {
   "cell_type": "markdown",
   "metadata": {},
   "source": [
    "Creating a `DataFrame` by passing a dictionary of objects that can be converted into a series-like structure"
   ]
  },
  {
   "cell_type": "code",
   "execution_count": 23,
   "metadata": {},
   "outputs": [
    {
     "name": "stdout",
     "output_type": "stream",
     "text": [
      "     A          B    C  D      E    F\n",
      "0  1.0 2022-01-01  1.0  3   test  foo\n",
      "1  1.0 2022-01-01  1.0  3  train  foo\n",
      "2  1.0 2022-01-01  1.0  3   test  foo\n",
      "3  1.0 2022-01-01  1.0  3  train  foo\n",
      "A           float64\n",
      "B    datetime64[ns]\n",
      "C           float32\n",
      "D             int32\n",
      "E          category\n",
      "F            object\n",
      "dtype: object\n"
     ]
    }
   ],
   "source": [
    "df2 = pd.DataFrame(\n",
    "    {\n",
    "        \"A\": 1.0,\n",
    "        \"B\": pd.Timestamp(\"20220101\"),\n",
    "        \"C\": pd.Series(1, index=list(range(4)), dtype=\"float32\"),\n",
    "        \"D\": np.array([3] * 4, dtype=\"int32\"),\n",
    "        \"E\": pd.Categorical([\"test\", \"train\", \"test\", \"train\"]),\n",
    "        \"F\": \"foo\",\n",
    "    }\n",
    ")\n",
    "print(df2)\n",
    "\n",
    "print(df2.dtypes)"
   ]
  },
  {
   "cell_type": "code",
   "execution_count": 24,
   "metadata": {},
   "outputs": [
    {
     "data": {
      "text/plain": [
       "0    1.0\n",
       "1    1.0\n",
       "2    1.0\n",
       "3    1.0\n",
       "Name: A, dtype: float64"
      ]
     },
     "execution_count": 24,
     "metadata": {},
     "output_type": "execute_result"
    }
   ],
   "source": [
    "df2.A"
   ]
  },
  {
   "cell_type": "markdown",
   "metadata": {},
   "source": [
    "# Viewing data\n",
    "\n",
    "Use `DataFrame.head()` and `DataFrame.tail()` to view the top and bottom rows of the frame respectively"
   ]
  },
  {
   "cell_type": "code",
   "execution_count": 28,
   "metadata": {},
   "outputs": [
    {
     "data": {
      "text/html": [
       "<div>\n",
       "<style scoped>\n",
       "    .dataframe tbody tr th:only-of-type {\n",
       "        vertical-align: middle;\n",
       "    }\n",
       "\n",
       "    .dataframe tbody tr th {\n",
       "        vertical-align: top;\n",
       "    }\n",
       "\n",
       "    .dataframe thead th {\n",
       "        text-align: right;\n",
       "    }\n",
       "</style>\n",
       "<table border=\"1\" class=\"dataframe\">\n",
       "  <thead>\n",
       "    <tr style=\"text-align: right;\">\n",
       "      <th></th>\n",
       "      <th>A</th>\n",
       "      <th>B</th>\n",
       "      <th>C</th>\n",
       "      <th>D</th>\n",
       "    </tr>\n",
       "  </thead>\n",
       "  <tbody>\n",
       "    <tr>\n",
       "      <th>2022-01-01</th>\n",
       "      <td>-0.213821</td>\n",
       "      <td>-1.010157</td>\n",
       "      <td>-0.539883</td>\n",
       "      <td>-0.548345</td>\n",
       "    </tr>\n",
       "    <tr>\n",
       "      <th>2022-01-02</th>\n",
       "      <td>2.311035</td>\n",
       "      <td>0.537905</td>\n",
       "      <td>-0.162444</td>\n",
       "      <td>0.867666</td>\n",
       "    </tr>\n",
       "    <tr>\n",
       "      <th>2022-01-03</th>\n",
       "      <td>0.042949</td>\n",
       "      <td>-0.933207</td>\n",
       "      <td>0.294872</td>\n",
       "      <td>0.872436</td>\n",
       "    </tr>\n",
       "    <tr>\n",
       "      <th>2022-01-04</th>\n",
       "      <td>1.553575</td>\n",
       "      <td>0.707691</td>\n",
       "      <td>0.725995</td>\n",
       "      <td>0.405581</td>\n",
       "    </tr>\n",
       "    <tr>\n",
       "      <th>2022-01-05</th>\n",
       "      <td>0.202184</td>\n",
       "      <td>0.366465</td>\n",
       "      <td>0.084877</td>\n",
       "      <td>-0.115121</td>\n",
       "    </tr>\n",
       "  </tbody>\n",
       "</table>\n",
       "</div>"
      ],
      "text/plain": [
       "                   A         B         C         D\n",
       "2022-01-01 -0.213821 -1.010157 -0.539883 -0.548345\n",
       "2022-01-02  2.311035  0.537905 -0.162444  0.867666\n",
       "2022-01-03  0.042949 -0.933207  0.294872  0.872436\n",
       "2022-01-04  1.553575  0.707691  0.725995  0.405581\n",
       "2022-01-05  0.202184  0.366465  0.084877 -0.115121"
      ]
     },
     "execution_count": 28,
     "metadata": {},
     "output_type": "execute_result"
    }
   ],
   "source": [
    "df.head()"
   ]
  },
  {
   "cell_type": "code",
   "execution_count": 26,
   "metadata": {},
   "outputs": [
    {
     "data": {
      "text/html": [
       "<div>\n",
       "<style scoped>\n",
       "    .dataframe tbody tr th:only-of-type {\n",
       "        vertical-align: middle;\n",
       "    }\n",
       "\n",
       "    .dataframe tbody tr th {\n",
       "        vertical-align: top;\n",
       "    }\n",
       "\n",
       "    .dataframe thead th {\n",
       "        text-align: right;\n",
       "    }\n",
       "</style>\n",
       "<table border=\"1\" class=\"dataframe\">\n",
       "  <thead>\n",
       "    <tr style=\"text-align: right;\">\n",
       "      <th></th>\n",
       "      <th>A</th>\n",
       "      <th>B</th>\n",
       "      <th>C</th>\n",
       "      <th>D</th>\n",
       "    </tr>\n",
       "  </thead>\n",
       "  <tbody>\n",
       "    <tr>\n",
       "      <th>2022-01-05</th>\n",
       "      <td>0.202184</td>\n",
       "      <td>0.366465</td>\n",
       "      <td>0.084877</td>\n",
       "      <td>-0.115121</td>\n",
       "    </tr>\n",
       "    <tr>\n",
       "      <th>2022-01-06</th>\n",
       "      <td>1.189869</td>\n",
       "      <td>1.537045</td>\n",
       "      <td>-1.691987</td>\n",
       "      <td>0.415835</td>\n",
       "    </tr>\n",
       "  </tbody>\n",
       "</table>\n",
       "</div>"
      ],
      "text/plain": [
       "                   A         B         C         D\n",
       "2022-01-05  0.202184  0.366465  0.084877 -0.115121\n",
       "2022-01-06  1.189869  1.537045 -1.691987  0.415835"
      ]
     },
     "execution_count": 26,
     "metadata": {},
     "output_type": "execute_result"
    }
   ],
   "source": [
    "df.tail(2)"
   ]
  },
  {
   "cell_type": "markdown",
   "metadata": {},
   "source": [
    "Display the `DataFrame.index` or `DataFrame.columns`"
   ]
  },
  {
   "cell_type": "code",
   "execution_count": 30,
   "metadata": {},
   "outputs": [
    {
     "name": "stdout",
     "output_type": "stream",
     "text": [
      "DatetimeIndex(['2022-01-01', '2022-01-02', '2022-01-03', '2022-01-04',\n",
      "               '2022-01-05', '2022-01-06'],\n",
      "              dtype='datetime64[ns]', freq='D')\n",
      "Index(['A', 'B', 'C', 'D'], dtype='object')\n"
     ]
    }
   ],
   "source": [
    "print(df.index)\n",
    "print(df.columns)"
   ]
  },
  {
   "cell_type": "code",
   "execution_count": 31,
   "metadata": {},
   "outputs": [
    {
     "data": {
      "text/plain": [
       "array([[-0.21382139, -1.01015714, -0.53988262, -0.54834499],\n",
       "       [ 2.31103487,  0.53790499, -0.16244435,  0.86766588],\n",
       "       [ 0.04294878, -0.93320689,  0.29487214,  0.87243576],\n",
       "       [ 1.55357456,  0.70769094,  0.72599505,  0.40558113],\n",
       "       [ 0.20218397,  0.36646542,  0.08487712, -0.11512071],\n",
       "       [ 1.18986925,  1.53704503, -1.69198746,  0.41583532]])"
      ]
     },
     "execution_count": 31,
     "metadata": {},
     "output_type": "execute_result"
    }
   ],
   "source": [
    "df.to_numpy()"
   ]
  },
  {
   "cell_type": "code",
   "execution_count": 36,
   "metadata": {},
   "outputs": [
    {
     "name": "stdout",
     "output_type": "stream",
     "text": [
      "              A         B         C         D\n",
      "count  6.000000  6.000000  6.000000  6.000000\n",
      "mean   0.847632  0.200957 -0.214762  0.316342\n",
      "std    0.994769  0.993576  0.839663  0.559447\n",
      "min   -0.213821 -1.010157 -1.691987 -0.548345\n",
      "25%    0.082758 -0.608289 -0.445523  0.015055\n",
      "50%    0.696027  0.452185 -0.038784  0.410708\n",
      "75%    1.462648  0.665244  0.242373  0.754708\n",
      "max    2.311035  1.537045  0.725995  0.872436\n"
     ]
    },
    {
     "data": {
      "text/html": [
       "<div>\n",
       "<style scoped>\n",
       "    .dataframe tbody tr th:only-of-type {\n",
       "        vertical-align: middle;\n",
       "    }\n",
       "\n",
       "    .dataframe tbody tr th {\n",
       "        vertical-align: top;\n",
       "    }\n",
       "\n",
       "    .dataframe thead th {\n",
       "        text-align: right;\n",
       "    }\n",
       "</style>\n",
       "<table border=\"1\" class=\"dataframe\">\n",
       "  <thead>\n",
       "    <tr style=\"text-align: right;\">\n",
       "      <th></th>\n",
       "      <th>2022-01-01</th>\n",
       "      <th>2022-01-02</th>\n",
       "      <th>2022-01-03</th>\n",
       "      <th>2022-01-04</th>\n",
       "      <th>2022-01-05</th>\n",
       "      <th>2022-01-06</th>\n",
       "    </tr>\n",
       "  </thead>\n",
       "  <tbody>\n",
       "    <tr>\n",
       "      <th>A</th>\n",
       "      <td>-0.213821</td>\n",
       "      <td>2.311035</td>\n",
       "      <td>0.042949</td>\n",
       "      <td>1.553575</td>\n",
       "      <td>0.202184</td>\n",
       "      <td>1.189869</td>\n",
       "    </tr>\n",
       "    <tr>\n",
       "      <th>B</th>\n",
       "      <td>-1.010157</td>\n",
       "      <td>0.537905</td>\n",
       "      <td>-0.933207</td>\n",
       "      <td>0.707691</td>\n",
       "      <td>0.366465</td>\n",
       "      <td>1.537045</td>\n",
       "    </tr>\n",
       "    <tr>\n",
       "      <th>C</th>\n",
       "      <td>-0.539883</td>\n",
       "      <td>-0.162444</td>\n",
       "      <td>0.294872</td>\n",
       "      <td>0.725995</td>\n",
       "      <td>0.084877</td>\n",
       "      <td>-1.691987</td>\n",
       "    </tr>\n",
       "    <tr>\n",
       "      <th>D</th>\n",
       "      <td>-0.548345</td>\n",
       "      <td>0.867666</td>\n",
       "      <td>0.872436</td>\n",
       "      <td>0.405581</td>\n",
       "      <td>-0.115121</td>\n",
       "      <td>0.415835</td>\n",
       "    </tr>\n",
       "  </tbody>\n",
       "</table>\n",
       "</div>"
      ],
      "text/plain": [
       "   2022-01-01  2022-01-02  2022-01-03  2022-01-04  2022-01-05  2022-01-06\n",
       "A   -0.213821    2.311035    0.042949    1.553575    0.202184    1.189869\n",
       "B   -1.010157    0.537905   -0.933207    0.707691    0.366465    1.537045\n",
       "C   -0.539883   -0.162444    0.294872    0.725995    0.084877   -1.691987\n",
       "D   -0.548345    0.867666    0.872436    0.405581   -0.115121    0.415835"
      ]
     },
     "execution_count": 36,
     "metadata": {},
     "output_type": "execute_result"
    }
   ],
   "source": [
    "# describe() shows a quick statistic summary of your data\n",
    "print(df.describe())\n",
    "# Transposing data with .T\n",
    "df.T"
   ]
  },
  {
   "cell_type": "markdown",
   "metadata": {},
   "source": [
    "`DataFrame.sort_index()` sorts by an axis\n",
    "`DataFrame.sort_values()` sorts by values"
   ]
  },
  {
   "cell_type": "code",
   "execution_count": 37,
   "metadata": {},
   "outputs": [
    {
     "data": {
      "text/html": [
       "<div>\n",
       "<style scoped>\n",
       "    .dataframe tbody tr th:only-of-type {\n",
       "        vertical-align: middle;\n",
       "    }\n",
       "\n",
       "    .dataframe tbody tr th {\n",
       "        vertical-align: top;\n",
       "    }\n",
       "\n",
       "    .dataframe thead th {\n",
       "        text-align: right;\n",
       "    }\n",
       "</style>\n",
       "<table border=\"1\" class=\"dataframe\">\n",
       "  <thead>\n",
       "    <tr style=\"text-align: right;\">\n",
       "      <th></th>\n",
       "      <th>D</th>\n",
       "      <th>C</th>\n",
       "      <th>B</th>\n",
       "      <th>A</th>\n",
       "    </tr>\n",
       "  </thead>\n",
       "  <tbody>\n",
       "    <tr>\n",
       "      <th>2022-01-01</th>\n",
       "      <td>-0.548345</td>\n",
       "      <td>-0.539883</td>\n",
       "      <td>-1.010157</td>\n",
       "      <td>-0.213821</td>\n",
       "    </tr>\n",
       "    <tr>\n",
       "      <th>2022-01-02</th>\n",
       "      <td>0.867666</td>\n",
       "      <td>-0.162444</td>\n",
       "      <td>0.537905</td>\n",
       "      <td>2.311035</td>\n",
       "    </tr>\n",
       "    <tr>\n",
       "      <th>2022-01-03</th>\n",
       "      <td>0.872436</td>\n",
       "      <td>0.294872</td>\n",
       "      <td>-0.933207</td>\n",
       "      <td>0.042949</td>\n",
       "    </tr>\n",
       "    <tr>\n",
       "      <th>2022-01-04</th>\n",
       "      <td>0.405581</td>\n",
       "      <td>0.725995</td>\n",
       "      <td>0.707691</td>\n",
       "      <td>1.553575</td>\n",
       "    </tr>\n",
       "    <tr>\n",
       "      <th>2022-01-05</th>\n",
       "      <td>-0.115121</td>\n",
       "      <td>0.084877</td>\n",
       "      <td>0.366465</td>\n",
       "      <td>0.202184</td>\n",
       "    </tr>\n",
       "    <tr>\n",
       "      <th>2022-01-06</th>\n",
       "      <td>0.415835</td>\n",
       "      <td>-1.691987</td>\n",
       "      <td>1.537045</td>\n",
       "      <td>1.189869</td>\n",
       "    </tr>\n",
       "  </tbody>\n",
       "</table>\n",
       "</div>"
      ],
      "text/plain": [
       "                   D         C         B         A\n",
       "2022-01-01 -0.548345 -0.539883 -1.010157 -0.213821\n",
       "2022-01-02  0.867666 -0.162444  0.537905  2.311035\n",
       "2022-01-03  0.872436  0.294872 -0.933207  0.042949\n",
       "2022-01-04  0.405581  0.725995  0.707691  1.553575\n",
       "2022-01-05 -0.115121  0.084877  0.366465  0.202184\n",
       "2022-01-06  0.415835 -1.691987  1.537045  1.189869"
      ]
     },
     "execution_count": 37,
     "metadata": {},
     "output_type": "execute_result"
    }
   ],
   "source": [
    "df.sort_index(axis=1, ascending=False)"
   ]
  },
  {
   "cell_type": "code",
   "execution_count": 38,
   "metadata": {},
   "outputs": [
    {
     "data": {
      "text/html": [
       "<div>\n",
       "<style scoped>\n",
       "    .dataframe tbody tr th:only-of-type {\n",
       "        vertical-align: middle;\n",
       "    }\n",
       "\n",
       "    .dataframe tbody tr th {\n",
       "        vertical-align: top;\n",
       "    }\n",
       "\n",
       "    .dataframe thead th {\n",
       "        text-align: right;\n",
       "    }\n",
       "</style>\n",
       "<table border=\"1\" class=\"dataframe\">\n",
       "  <thead>\n",
       "    <tr style=\"text-align: right;\">\n",
       "      <th></th>\n",
       "      <th>A</th>\n",
       "      <th>B</th>\n",
       "      <th>C</th>\n",
       "      <th>D</th>\n",
       "    </tr>\n",
       "  </thead>\n",
       "  <tbody>\n",
       "    <tr>\n",
       "      <th>2022-01-01</th>\n",
       "      <td>-0.213821</td>\n",
       "      <td>-1.010157</td>\n",
       "      <td>-0.539883</td>\n",
       "      <td>-0.548345</td>\n",
       "    </tr>\n",
       "    <tr>\n",
       "      <th>2022-01-03</th>\n",
       "      <td>0.042949</td>\n",
       "      <td>-0.933207</td>\n",
       "      <td>0.294872</td>\n",
       "      <td>0.872436</td>\n",
       "    </tr>\n",
       "    <tr>\n",
       "      <th>2022-01-05</th>\n",
       "      <td>0.202184</td>\n",
       "      <td>0.366465</td>\n",
       "      <td>0.084877</td>\n",
       "      <td>-0.115121</td>\n",
       "    </tr>\n",
       "    <tr>\n",
       "      <th>2022-01-02</th>\n",
       "      <td>2.311035</td>\n",
       "      <td>0.537905</td>\n",
       "      <td>-0.162444</td>\n",
       "      <td>0.867666</td>\n",
       "    </tr>\n",
       "    <tr>\n",
       "      <th>2022-01-04</th>\n",
       "      <td>1.553575</td>\n",
       "      <td>0.707691</td>\n",
       "      <td>0.725995</td>\n",
       "      <td>0.405581</td>\n",
       "    </tr>\n",
       "    <tr>\n",
       "      <th>2022-01-06</th>\n",
       "      <td>1.189869</td>\n",
       "      <td>1.537045</td>\n",
       "      <td>-1.691987</td>\n",
       "      <td>0.415835</td>\n",
       "    </tr>\n",
       "  </tbody>\n",
       "</table>\n",
       "</div>"
      ],
      "text/plain": [
       "                   A         B         C         D\n",
       "2022-01-01 -0.213821 -1.010157 -0.539883 -0.548345\n",
       "2022-01-03  0.042949 -0.933207  0.294872  0.872436\n",
       "2022-01-05  0.202184  0.366465  0.084877 -0.115121\n",
       "2022-01-02  2.311035  0.537905 -0.162444  0.867666\n",
       "2022-01-04  1.553575  0.707691  0.725995  0.405581\n",
       "2022-01-06  1.189869  1.537045 -1.691987  0.415835"
      ]
     },
     "execution_count": 38,
     "metadata": {},
     "output_type": "execute_result"
    }
   ],
   "source": [
    "df.sort_values(by=\"B\")"
   ]
  },
  {
   "cell_type": "code",
   "execution_count": 120,
   "metadata": {},
   "outputs": [],
   "source": [
    "std_list_with_nan = pd.read_excel('ENG3092_Student_List_With_Grades.xlsx')\n",
    "std_list = std_list_with_nan.fillna(0) "
   ]
  },
  {
   "cell_type": "code",
   "execution_count": 121,
   "metadata": {},
   "outputs": [
    {
     "data": {
      "text/html": [
       "<div>\n",
       "<style scoped>\n",
       "    .dataframe tbody tr th:only-of-type {\n",
       "        vertical-align: middle;\n",
       "    }\n",
       "\n",
       "    .dataframe tbody tr th {\n",
       "        vertical-align: top;\n",
       "    }\n",
       "\n",
       "    .dataframe thead th {\n",
       "        text-align: right;\n",
       "    }\n",
       "</style>\n",
       "<table border=\"1\" class=\"dataframe\">\n",
       "  <thead>\n",
       "    <tr style=\"text-align: right;\">\n",
       "      <th></th>\n",
       "      <th>First name</th>\n",
       "      <th>Surname</th>\n",
       "      <th>Username</th>\n",
       "      <th>ID number</th>\n",
       "      <th>Email address</th>\n",
       "      <th>Lab 05</th>\n",
       "      <th>Lab 06A</th>\n",
       "      <th>Lab 06B Part 1</th>\n",
       "      <th>Lab 06B Part 2</th>\n",
       "    </tr>\n",
       "  </thead>\n",
       "  <tbody>\n",
       "    <tr>\n",
       "      <th>0</th>\n",
       "      <td>Stuart</td>\n",
       "      <td>Grey</td>\n",
       "      <td>sg120q</td>\n",
       "      <td>106206</td>\n",
       "      <td>Stuart.Grey@glasgow.ac.uk</td>\n",
       "      <td>0.0</td>\n",
       "      <td>0.0</td>\n",
       "      <td>0.0</td>\n",
       "      <td>0.0</td>\n",
       "    </tr>\n",
       "    <tr>\n",
       "      <th>1</th>\n",
       "      <td>Khiem</td>\n",
       "      <td>Nguyen</td>\n",
       "      <td>ln69g</td>\n",
       "      <td>334275</td>\n",
       "      <td>Khiem.Nguyen@glasgow.ac.uk</td>\n",
       "      <td>0.0</td>\n",
       "      <td>0.0</td>\n",
       "      <td>0.0</td>\n",
       "      <td>0.0</td>\n",
       "    </tr>\n",
       "    <tr>\n",
       "      <th>2</th>\n",
       "      <td>Keelan</td>\n",
       "      <td>Greig</td>\n",
       "      <td>2263767g</td>\n",
       "      <td>2263767</td>\n",
       "      <td>2263767G@student.gla.ac.uk</td>\n",
       "      <td>0.0</td>\n",
       "      <td>0.0</td>\n",
       "      <td>0.0</td>\n",
       "      <td>0.0</td>\n",
       "    </tr>\n",
       "    <tr>\n",
       "      <th>3</th>\n",
       "      <td>Ella</td>\n",
       "      <td>Neison</td>\n",
       "      <td>2350721n</td>\n",
       "      <td>2350721</td>\n",
       "      <td>2350721N@student.gla.ac.uk</td>\n",
       "      <td>5.0</td>\n",
       "      <td>5.0</td>\n",
       "      <td>0.0</td>\n",
       "      <td>0.0</td>\n",
       "    </tr>\n",
       "    <tr>\n",
       "      <th>4</th>\n",
       "      <td>Nadia</td>\n",
       "      <td>Jackson</td>\n",
       "      <td>2394612j</td>\n",
       "      <td>2394612</td>\n",
       "      <td>2394612J@student.gla.ac.uk</td>\n",
       "      <td>0.0</td>\n",
       "      <td>0.0</td>\n",
       "      <td>0.0</td>\n",
       "      <td>0.0</td>\n",
       "    </tr>\n",
       "    <tr>\n",
       "      <th>...</th>\n",
       "      <td>...</td>\n",
       "      <td>...</td>\n",
       "      <td>...</td>\n",
       "      <td>...</td>\n",
       "      <td>...</td>\n",
       "      <td>...</td>\n",
       "      <td>...</td>\n",
       "      <td>...</td>\n",
       "      <td>...</td>\n",
       "    </tr>\n",
       "    <tr>\n",
       "      <th>123</th>\n",
       "      <td>Tianshu</td>\n",
       "      <td>Xing</td>\n",
       "      <td>2613050x</td>\n",
       "      <td>2613050</td>\n",
       "      <td>2613050X@student.gla.ac.uk</td>\n",
       "      <td>0.0</td>\n",
       "      <td>0.0</td>\n",
       "      <td>0.0</td>\n",
       "      <td>0.0</td>\n",
       "    </tr>\n",
       "    <tr>\n",
       "      <th>124</th>\n",
       "      <td>Ahmed</td>\n",
       "      <td>Alteneiji</td>\n",
       "      <td>2678593a</td>\n",
       "      <td>2678593</td>\n",
       "      <td>2678593A@student.gla.ac.uk</td>\n",
       "      <td>5.0</td>\n",
       "      <td>3.0</td>\n",
       "      <td>0.0</td>\n",
       "      <td>0.0</td>\n",
       "    </tr>\n",
       "    <tr>\n",
       "      <th>125</th>\n",
       "      <td>Ghadeer</td>\n",
       "      <td>Ali</td>\n",
       "      <td>2678601a</td>\n",
       "      <td>2678601</td>\n",
       "      <td>2678601A@student.gla.ac.uk</td>\n",
       "      <td>5.0</td>\n",
       "      <td>5.0</td>\n",
       "      <td>5.0</td>\n",
       "      <td>5.0</td>\n",
       "    </tr>\n",
       "    <tr>\n",
       "      <th>126</th>\n",
       "      <td>Fatemah</td>\n",
       "      <td>Almatroud</td>\n",
       "      <td>2692843a</td>\n",
       "      <td>2692843</td>\n",
       "      <td>2692843A@student.gla.ac.uk</td>\n",
       "      <td>0.0</td>\n",
       "      <td>0.0</td>\n",
       "      <td>0.0</td>\n",
       "      <td>0.0</td>\n",
       "    </tr>\n",
       "    <tr>\n",
       "      <th>127</th>\n",
       "      <td>Emily</td>\n",
       "      <td>O'Neill</td>\n",
       "      <td>2558976o</td>\n",
       "      <td>2558976</td>\n",
       "      <td>2558976o@student.gla.ac.uk</td>\n",
       "      <td>5.0</td>\n",
       "      <td>5.0</td>\n",
       "      <td>5.0</td>\n",
       "      <td>5.0</td>\n",
       "    </tr>\n",
       "  </tbody>\n",
       "</table>\n",
       "<p>128 rows × 9 columns</p>\n",
       "</div>"
      ],
      "text/plain": [
       "    First name    Surname  Username  ID number               Email address  \\\n",
       "0       Stuart       Grey    sg120q     106206   Stuart.Grey@glasgow.ac.uk   \n",
       "1        Khiem     Nguyen     ln69g     334275  Khiem.Nguyen@glasgow.ac.uk   \n",
       "2       Keelan      Greig  2263767g    2263767  2263767G@student.gla.ac.uk   \n",
       "3         Ella     Neison  2350721n    2350721  2350721N@student.gla.ac.uk   \n",
       "4        Nadia    Jackson  2394612j    2394612  2394612J@student.gla.ac.uk   \n",
       "..         ...        ...       ...        ...                         ...   \n",
       "123    Tianshu       Xing  2613050x    2613050  2613050X@student.gla.ac.uk   \n",
       "124      Ahmed  Alteneiji  2678593a    2678593  2678593A@student.gla.ac.uk   \n",
       "125    Ghadeer        Ali  2678601a    2678601  2678601A@student.gla.ac.uk   \n",
       "126    Fatemah  Almatroud  2692843a    2692843  2692843A@student.gla.ac.uk   \n",
       "127      Emily    O'Neill  2558976o    2558976  2558976o@student.gla.ac.uk   \n",
       "\n",
       "     Lab 05  Lab 06A  Lab 06B Part 1  Lab 06B Part 2  \n",
       "0       0.0      0.0             0.0             0.0  \n",
       "1       0.0      0.0             0.0             0.0  \n",
       "2       0.0      0.0             0.0             0.0  \n",
       "3       5.0      5.0             0.0             0.0  \n",
       "4       0.0      0.0             0.0             0.0  \n",
       "..      ...      ...             ...             ...  \n",
       "123     0.0      0.0             0.0             0.0  \n",
       "124     5.0      3.0             0.0             0.0  \n",
       "125     5.0      5.0             5.0             5.0  \n",
       "126     0.0      0.0             0.0             0.0  \n",
       "127     5.0      5.0             5.0             5.0  \n",
       "\n",
       "[128 rows x 9 columns]"
      ]
     },
     "execution_count": 121,
     "metadata": {},
     "output_type": "execute_result"
    }
   ],
   "source": [
    "std_list\n"
   ]
  },
  {
   "cell_type": "code",
   "execution_count": 162,
   "metadata": {},
   "outputs": [],
   "source": [
    "grades = np.vstack((std_list[\"Lab 05\"].to_numpy(), std_list[\"Lab 06A\"].to_numpy(), std_list[\"Lab 06B Part 1\"].to_numpy(), std_list[\"Lab 06B Part 2\"].to_numpy()))\n"
   ]
  },
  {
   "cell_type": "code",
   "execution_count": 163,
   "metadata": {},
   "outputs": [],
   "source": [
    "id_number = std_list['ID number'].to_numpy()\n",
    "username = std_list['Username'].to_numpy()\n",
    "email_address = std_list['Email address'].to_numpy()\n",
    "std_indexing = np.arange(2, 128, dtype=np.int16)"
   ]
  },
  {
   "cell_type": "code",
   "execution_count": 165,
   "metadata": {},
   "outputs": [
    {
     "name": "stdout",
     "output_type": "stream",
     "text": [
      "[2263767 2350721 2394612 2405721 2253008 2308369 2425239 2431782 2458151\n",
      " 2469834 2465017 2483684 2478751 2481773 2477102 2472602 2468169 2470617\n",
      " 2467434 2473097 2464923 2563759 2571949 2555017 2577023 2565094 2557778\n",
      " 2546175 2543890 2550337 2545125 2080743 2543939 2550387 2557812 2557548\n",
      " 2610656 2553703 2558976 2512372 2560050 2520880 2575291 2572962 2562239\n",
      " 2568104 2554428 2523232 2563519 2543871 2568083 2549180 2551036 2543427\n",
      " 2569273 2365006 2560242 2610237 2609676 2608299 2603070 2582161 2580209\n",
      " 2576604 2572906 2572486 2571159 2566480 2566190 2565529 2565304 2565120\n",
      " 2564337 2564225 2563434 2562571 2561214 2560028 2560005 2557822 2557620\n",
      " 2557563 2557543 2555712 2555035 2550404 2550305 2549858 2547582 2547513\n",
      " 2546256 2543434 2539394 2534998 2530078 2523952 2519657 2518516 2517643\n",
      " 2465865 2461555 2458183 2457702 2558935 2547572 2561290 2572295 2575714\n",
      " 2577887 2581392 2616245 2561166 2563647 2645545 2612950 2672795 2613011\n",
      " 2612935 2602798 2672756 2672790 2613050 2678593 2678601 2692843 2558976]\n",
      "['2263767g' '2350721n' '2394612j' '2405721l' '2253008h' '2308369m'\n",
      " '2425239b' '2431782m' '2458151d' '2469834w' '2465017m' '2483684m'\n",
      " '2478751s' '2481773b' '2477102n' '2472602n' '2468169c' '2470617b'\n",
      " '2467434c' '2473097g' '2464923k' '2563759l' '2571949c' '2555017m'\n",
      " '2577023m' '2565094m' '2557778l' '2546175m' '2543890h' '2550337j'\n",
      " '2545125b' '2080743k' '2543939a' '2550387z' '2557812c' '2557548p'\n",
      " '2610656j' '2553703k' '2558976o' '2512372e' '2560050m' '2520880a'\n",
      " '2575291w' '2572962m' '2562239g' '2568104g' '2554428c' '2523232k'\n",
      " '2563519h' '2543871s' '2568083k' '2549180a' '2551036s' '2543427q'\n",
      " '2569273i' '2365006c' '2560242a' '2610237l' '2609676m' '2608299e'\n",
      " '2603070m' '2582161m' '2580209w' '2576604k' '2572906s' '2572486z'\n",
      " '2571159c' '2566480c' '2566190s' '2565529g' '2565304m' '2565120s'\n",
      " '2564337s' '2564225c' '2563434m' '2562571b' '2561214b' '2560028c'\n",
      " '2560005w' '2557822m' '2557620f' '2557563l' '2557543h' '2555712m'\n",
      " '2555035c' '2550404r' '2550305m' '2549858k' '2547582t' '2547513b'\n",
      " '2546256t' '2543434m' '2539394v' '2534998c' '2530078m' '2523952a'\n",
      " '2519657j' '2518516b' '2517643l' '2465865m' '2461555f' '2458183s'\n",
      " '2457702l' '2558935o' '2547572j' '2561290w' '2572295y' '2575714m'\n",
      " '2577887n' '2581392n' '2616245a' '2561166b' '2563647c' '2645545m'\n",
      " '2612950a' '2672795c' '2613011i' '2612935l' '2602798c' '2672756t'\n",
      " '2672790c' '2613050x' '2678593a' '2678601a' '2692843a' '2558976o']\n",
      "['2263767G@student.gla.ac.uk' '2350721N@student.gla.ac.uk'\n",
      " '2394612J@student.gla.ac.uk' '2405721L@student.gla.ac.uk'\n",
      " '2253008H@student.gla.ac.uk' '2308369M@student.gla.ac.uk'\n",
      " '2425239B@student.gla.ac.uk' '2431782M@student.gla.ac.uk'\n",
      " '2458151D@student.gla.ac.uk' '2469834W@student.gla.ac.uk'\n",
      " '2465017M@student.gla.ac.uk' '2483684M@student.gla.ac.uk'\n",
      " '2478751S@student.gla.ac.uk' '2481773B@student.gla.ac.uk'\n",
      " '2477102N@student.gla.ac.uk' '2472602N@student.gla.ac.uk'\n",
      " '2468169C@student.gla.ac.uk' '2470617B@student.gla.ac.uk'\n",
      " '2467434C@student.gla.ac.uk' '2473097G@student.gla.ac.uk'\n",
      " '2464923K@student.gla.ac.uk' '2563759L@student.gla.ac.uk'\n",
      " '2571949C@student.gla.ac.uk' '2555017M@student.gla.ac.uk'\n",
      " '2577023M@student.gla.ac.uk' '2565094M@student.gla.ac.uk'\n",
      " '2557778L@student.gla.ac.uk' '2546175M@student.gla.ac.uk'\n",
      " '2543890H@student.gla.ac.uk' '2550337J@student.gla.ac.uk'\n",
      " '2545125B@student.gla.ac.uk' '2080743K@student.gla.ac.uk'\n",
      " '2543939A@student.gla.ac.uk' '2550387Z@student.gla.ac.uk'\n",
      " '2557812C@student.gla.ac.uk' '2557548P@student.gla.ac.uk'\n",
      " '2610656J@student.gla.ac.uk' '2553703K@student.gla.ac.uk'\n",
      " '2558976O@student.gla.ac.uk' '2512372E@student.gla.ac.uk'\n",
      " '2560050M@student.gla.ac.uk' '2520880A@student.gla.ac.uk'\n",
      " '2575291W@student.gla.ac.uk' '2572962M@student.gla.ac.uk'\n",
      " '2562239G@student.gla.ac.uk' '2568104G@student.gla.ac.uk'\n",
      " '2554428C@student.gla.ac.uk' '2523232K@student.gla.ac.uk'\n",
      " '2563519H@student.gla.ac.uk' '2543871S@student.gla.ac.uk'\n",
      " '2568083K@student.gla.ac.uk' '2549180A@student.gla.ac.uk'\n",
      " '2551036S@student.gla.ac.uk' '2543427Q@student.gla.ac.uk'\n",
      " '2569273I@student.gla.ac.uk' '2365006C@student.gla.ac.uk'\n",
      " '2560242A@student.gla.ac.uk' '2610237L@student.gla.ac.uk'\n",
      " '2609676M@student.gla.ac.uk' '2608299E@student.gla.ac.uk'\n",
      " '2603070M@student.gla.ac.uk' '2582161M@student.gla.ac.uk'\n",
      " '2580209W@student.gla.ac.uk' '2576604K@student.gla.ac.uk'\n",
      " '2572906S@student.gla.ac.uk' '2572486Z@student.gla.ac.uk'\n",
      " '2571159C@student.gla.ac.uk' '2566480C@student.gla.ac.uk'\n",
      " '2566190S@student.gla.ac.uk' '2565529G@student.gla.ac.uk'\n",
      " '2565304M@student.gla.ac.uk' '2565120S@student.gla.ac.uk'\n",
      " '2564337S@student.gla.ac.uk' '2564225C@student.gla.ac.uk'\n",
      " '2563434M@student.gla.ac.uk' '2562571B@student.gla.ac.uk'\n",
      " '2561214B@student.gla.ac.uk' '2560028C@student.gla.ac.uk'\n",
      " '2560005W@student.gla.ac.uk' '2557822M@student.gla.ac.uk'\n",
      " '2557620F@student.gla.ac.uk' '2557563L@student.gla.ac.uk'\n",
      " '2557543H@student.gla.ac.uk' '2555712M@student.gla.ac.uk'\n",
      " '2555035C@student.gla.ac.uk' '2550404R@student.gla.ac.uk'\n",
      " '2550305M@student.gla.ac.uk' '2549858K@student.gla.ac.uk'\n",
      " '2547582T@student.gla.ac.uk' '2547513B@student.gla.ac.uk'\n",
      " '2546256T@student.gla.ac.uk' '2543434M@student.gla.ac.uk'\n",
      " '2539394V@student.gla.ac.uk' '2534998C@student.gla.ac.uk'\n",
      " '2530078M@student.gla.ac.uk' '2523952A@student.gla.ac.uk'\n",
      " '2519657J@student.gla.ac.uk' '2518516B@student.gla.ac.uk'\n",
      " '2517643L@student.gla.ac.uk' '2465865M@student.gla.ac.uk'\n",
      " '2461555F@student.gla.ac.uk' '2458183S@student.gla.ac.uk'\n",
      " '2457702L@student.gla.ac.uk' '2558935O@student.gla.ac.uk'\n",
      " '2547572J@student.gla.ac.uk' '2561290W@student.gla.ac.uk'\n",
      " '2572295Y@student.gla.ac.uk' '2575714M@student.gla.ac.uk'\n",
      " '2577887N@student.gla.ac.uk' '2581392N@student.gla.ac.uk'\n",
      " '2616245A@student.gla.ac.uk' '2561166B@student.gla.ac.uk'\n",
      " '2563647C@student.gla.ac.uk' '2645545M@student.gla.ac.uk'\n",
      " '2612950A@student.gla.ac.uk' '2672795C@student.gla.ac.uk'\n",
      " '2613011I@student.gla.ac.uk' '2612935L@student.gla.ac.uk'\n",
      " '2602798C@student.gla.ac.uk' '2672756T@student.gla.ac.uk'\n",
      " '2672790C@student.gla.ac.uk' '2613050X@student.gla.ac.uk'\n",
      " '2678593A@student.gla.ac.uk' '2678601A@student.gla.ac.uk'\n",
      " '2692843A@student.gla.ac.uk' '2558976o@student.gla.ac.uk']\n"
     ]
    }
   ],
   "source": [
    "print(id_number[std_indexing])\n",
    "print(username[std_indexing])\n",
    "print(email_address[std_indexing])"
   ]
  },
  {
   "cell_type": "code",
   "execution_count": null,
   "metadata": {},
   "outputs": [],
   "source": []
  }
 ],
 "metadata": {
  "kernelspec": {
   "display_name": "Python 3.11.0 64-bit",
   "language": "python",
   "name": "python3"
  },
  "language_info": {
   "codemirror_mode": {
    "name": "ipython",
    "version": 3
   },
   "file_extension": ".py",
   "mimetype": "text/x-python",
   "name": "python",
   "nbconvert_exporter": "python",
   "pygments_lexer": "ipython3",
   "version": "3.11.0"
  },
  "orig_nbformat": 4,
  "vscode": {
   "interpreter": {
    "hash": "7707361a859ee42dda70d0138cb8881c8f2dea36d0710c471e46b348ce241cf5"
   }
  }
 },
 "nbformat": 4,
 "nbformat_minor": 2
}
