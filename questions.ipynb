{
 "cells": [
  {
   "cell_type": "markdown",
   "id": "e2c5c989",
   "metadata": {},
   "source": [
    "## Question 1\n",
    "\n",
    "How can we know if a string refers to a function name."
   ]
  },
  {
   "cell_type": "code",
   "execution_count": 3,
   "id": "7250fa15",
   "metadata": {},
   "outputs": [],
   "source": [
    "import inspect\n",
    "import numpy as np"
   ]
  },
  {
   "cell_type": "code",
   "execution_count": 23,
   "id": "c6e498e3",
   "metadata": {},
   "outputs": [],
   "source": [
    "a, b, c = 10, 11, 12\n",
    "\n",
    "arr = np.array([[1, 2, 3, 4], \n",
    "                [5, 6, 7, 8]])\n",
    "\n",
    "def say_hello(name):\n",
    "    \"\"\"This is a useless function\"\"\"\n",
    "    print(\"Hello there, {name}\")"
   ]
  },
  {
   "cell_type": "code",
   "execution_count": null,
   "id": "f57403b4",
   "metadata": {},
   "outputs": [],
   "source": [
    "print(say_hello)\n",
    "print(type(say_hello))"
   ]
  },
  {
   "cell_type": "code",
   "execution_count": 24,
   "id": "b93c9129",
   "metadata": {},
   "outputs": [
    {
     "data": {
      "text/plain": [
       "True"
      ]
     },
     "execution_count": 24,
     "metadata": {},
     "output_type": "execute_result"
    }
   ],
   "source": [
    "inspect.isbuiltin(len)"
   ]
  },
  {
   "cell_type": "code",
   "execution_count": 28,
   "id": "1f38477d",
   "metadata": {},
   "outputs": [
    {
     "name": "stdout",
     "output_type": "stream",
     "text": [
      "True\n",
      "False\n"
     ]
    }
   ],
   "source": [
    "print(inspect.isfunction(say_hello))\n",
    "print(inspect.isfunction(\"say_hello\"))"
   ]
  },
  {
   "cell_type": "code",
   "execution_count": 37,
   "id": "5ad2052b",
   "metadata": {},
   "outputs": [
    {
     "name": "stdout",
     "output_type": "stream",
     "text": [
      "<class 'dict'>\n",
      "{'__name__': '__main__', '__doc__': 'Automatically created module for IPython interactive environment', '__package__': None, '__loader__': None, '__spec__': None, '__builtin__': <module 'builtins' (built-in)>, '__builtins__': <module 'builtins' (built-in)>, '_ih': ['', 'a, b, c = 10, 11, 12\\n\\ndef say_hello(name):\\n    print(\"Hello there, {name}\")', \"get_ipython().run_line_magic('pinfo', 'say_hello')\", 'import inspect\\nimport numpy as np', 'a, b, c = 10, 11, 12\\n\\narr = np.array([[1, 2, 3, 4], \\n                [5, 6, 7, 8]])\\n\\ndef say_hello(name):\\n    print(\"Hello there, {name}\")', 'a, b, c = 10, 11, 12\\n\\narr = np.array([[1, 2, 3, 4], \\n                [5, 6, 7, 8]])\\n\\ndef say_hello(name):\\n    \"\"\"This is a useless function\"\"\"\\n    print(\"Hello there, {name}\")', 'type(say_hello)', 'print(say_hello)', 'print(say_hello)\\nprint(type(say_hello))', 'scope = globals()\\nobj = scope.get(\"a\")\\ninspect.isbuiltin(obj)', 'scope = globals()\\nobj = scope.get(\"a\")\\ninspect.isbuiltin(obj)', 'scope', 'scope = globals()\\nobj = scope.get(\"a\")\\ninspect.isbuiltin(obj), inspect.isfunction(scope.get(\"say_hello\"))', 'scope = globals()\\nobj = scope.get(\"a\")\\ninspect.isbuiltin(object=scope.get(\"str\")), inspect.isfunction(scope.get(\"say_hello\"))', 'scope = globals()\\nobj = scope.get(\"a\")\\ninspect.isbuiltin(object=scope.get(str)), inspect.isfunction(scope.get(\"say_hello\"))', 'scope = globals()\\nobj = scope.get(\"a\")\\ninspect.isbuiltin(object=scope.get(\"str\")), inspect.isfunction(scope.get(\"say_hello\"))', 'scope = globals()\\nobj = scope.get(\"a\")\\ninspect.isbuiltin(object=scope.get(int)), inspect.isfunction(scope.get(\"say_hello\"))', \"get_ipython().run_line_magic('pinfo', 'inspect')\", 'scope = globals()\\nobj = scope.get(len)\\ninspect.isbuiltin(object=scope.get(int)), inspect.isfunction(scope.get(\"say_hello\"))', 'scope = globals()\\nobj = scope.get(len)\\ninspect.isbuiltin(object=scope.get(len)), inspect.isfunction(scope.get(\"say_hello\"))', 'scope = globals()\\nobj = scope.get(len)\\ninspect.isbuiltin(len), inspect.isfunction(scope.get(\"say_hello\"))', 'a, b, c = 10, 11, 12\\n\\narr = np.array([[1, 2, 3, 4], \\n                [5, 6, 7, 8]])\\n\\ndef say_hello(name):\\n    \"\"\"This is a useless function\"\"\"\\n    print(\"Hello there, {name}\")', 'inspect.isbuiltin(len)', 'a, b, c = 10, 11, 12\\n\\narr = np.array([[1, 2, 3, 4], \\n                [5, 6, 7, 8]])\\n\\ndef say_hello(name):\\n    \"\"\"This is a useless function\"\"\"\\n    print(\"Hello there, {name}\")', 'inspect.isbuiltin(len)', 'inspect.isfunction(say_hello)', 'inspect.isfunction(\"say_hello\")', 'inspect.isfunction(say_hello)', 'print(inspect.isfunction(say_hello))\\nprint(inspect.isfunction(\"say_hello\"))', 'scope = globals()\\nscope.get(\"say_hello\")', 'scope = globals()\\nscope.get(\"say_hello\"), say_hello', 'scope = globals()\\nprint(scope)', 'scope = globals()\\ntype(scope)', 'scope = globals()\\nprint(type(scope))\\nprint(scope)', 'print(scope.get(\"say_hello\"))\\nprint(say_hello)', 'scope = globals()\\nprint(type(scope))\\nscope', 'scope = globals()\\nprint(type(scope))\\nlen(scope)', 'scope = globals()\\nprint(type(scope))\\nprint(scope)        # It is a pretty big dictionary. The output is long'], '_oh': {6: <class 'function'>, 9: False, 10: False, 11: {...}, 12: (False, True), 13: (False, True), 14: (False, True), 15: (False, True), 16: (False, True), 18: (False, True), 19: (False, True), 20: (True, True), 22: True, 24: True, 25: True, 26: False, 27: True, 29: <function say_hello at 0x7156b82a9da0>, 30: (<function say_hello at 0x7156b82a9da0>, <function say_hello at 0x7156b82a9da0>), 32: <class 'dict'>, 35: {...}, 36: 89}, '_dh': [PosixPath('/home/cafesua/github/uog-python/slides')], 'In': ['', 'a, b, c = 10, 11, 12\\n\\ndef say_hello(name):\\n    print(\"Hello there, {name}\")', \"get_ipython().run_line_magic('pinfo', 'say_hello')\", 'import inspect\\nimport numpy as np', 'a, b, c = 10, 11, 12\\n\\narr = np.array([[1, 2, 3, 4], \\n                [5, 6, 7, 8]])\\n\\ndef say_hello(name):\\n    print(\"Hello there, {name}\")', 'a, b, c = 10, 11, 12\\n\\narr = np.array([[1, 2, 3, 4], \\n                [5, 6, 7, 8]])\\n\\ndef say_hello(name):\\n    \"\"\"This is a useless function\"\"\"\\n    print(\"Hello there, {name}\")', 'type(say_hello)', 'print(say_hello)', 'print(say_hello)\\nprint(type(say_hello))', 'scope = globals()\\nobj = scope.get(\"a\")\\ninspect.isbuiltin(obj)', 'scope = globals()\\nobj = scope.get(\"a\")\\ninspect.isbuiltin(obj)', 'scope', 'scope = globals()\\nobj = scope.get(\"a\")\\ninspect.isbuiltin(obj), inspect.isfunction(scope.get(\"say_hello\"))', 'scope = globals()\\nobj = scope.get(\"a\")\\ninspect.isbuiltin(object=scope.get(\"str\")), inspect.isfunction(scope.get(\"say_hello\"))', 'scope = globals()\\nobj = scope.get(\"a\")\\ninspect.isbuiltin(object=scope.get(str)), inspect.isfunction(scope.get(\"say_hello\"))', 'scope = globals()\\nobj = scope.get(\"a\")\\ninspect.isbuiltin(object=scope.get(\"str\")), inspect.isfunction(scope.get(\"say_hello\"))', 'scope = globals()\\nobj = scope.get(\"a\")\\ninspect.isbuiltin(object=scope.get(int)), inspect.isfunction(scope.get(\"say_hello\"))', \"get_ipython().run_line_magic('pinfo', 'inspect')\", 'scope = globals()\\nobj = scope.get(len)\\ninspect.isbuiltin(object=scope.get(int)), inspect.isfunction(scope.get(\"say_hello\"))', 'scope = globals()\\nobj = scope.get(len)\\ninspect.isbuiltin(object=scope.get(len)), inspect.isfunction(scope.get(\"say_hello\"))', 'scope = globals()\\nobj = scope.get(len)\\ninspect.isbuiltin(len), inspect.isfunction(scope.get(\"say_hello\"))', 'a, b, c = 10, 11, 12\\n\\narr = np.array([[1, 2, 3, 4], \\n                [5, 6, 7, 8]])\\n\\ndef say_hello(name):\\n    \"\"\"This is a useless function\"\"\"\\n    print(\"Hello there, {name}\")', 'inspect.isbuiltin(len)', 'a, b, c = 10, 11, 12\\n\\narr = np.array([[1, 2, 3, 4], \\n                [5, 6, 7, 8]])\\n\\ndef say_hello(name):\\n    \"\"\"This is a useless function\"\"\"\\n    print(\"Hello there, {name}\")', 'inspect.isbuiltin(len)', 'inspect.isfunction(say_hello)', 'inspect.isfunction(\"say_hello\")', 'inspect.isfunction(say_hello)', 'print(inspect.isfunction(say_hello))\\nprint(inspect.isfunction(\"say_hello\"))', 'scope = globals()\\nscope.get(\"say_hello\")', 'scope = globals()\\nscope.get(\"say_hello\"), say_hello', 'scope = globals()\\nprint(scope)', 'scope = globals()\\ntype(scope)', 'scope = globals()\\nprint(type(scope))\\nprint(scope)', 'print(scope.get(\"say_hello\"))\\nprint(say_hello)', 'scope = globals()\\nprint(type(scope))\\nscope', 'scope = globals()\\nprint(type(scope))\\nlen(scope)', 'scope = globals()\\nprint(type(scope))\\nprint(scope)        # It is a pretty big dictionary. The output is long'], 'Out': {6: <class 'function'>, 9: False, 10: False, 11: {...}, 12: (False, True), 13: (False, True), 14: (False, True), 15: (False, True), 16: (False, True), 18: (False, True), 19: (False, True), 20: (True, True), 22: True, 24: True, 25: True, 26: False, 27: True, 29: <function say_hello at 0x7156b82a9da0>, 30: (<function say_hello at 0x7156b82a9da0>, <function say_hello at 0x7156b82a9da0>), 32: <class 'dict'>, 35: {...}, 36: 89}, 'get_ipython': <bound method InteractiveShell.get_ipython of <ipykernel.zmqshell.ZMQInteractiveShell object at 0x7156b8fee600>>, 'exit': <IPython.core.autocall.ZMQExitAutocall object at 0x7156b8e1b350>, 'quit': <IPython.core.autocall.ZMQExitAutocall object at 0x7156b8e1b350>, 'open': <function open at 0x7156c29f9300>, '_': 89, '__': {...}, '___': <class 'dict'>, '__vsc_ipynb_file__': '/home/cafesua/github/uog-python/slides/questions.ipynb', '_i': 'scope = globals()\\nprint(type(scope))\\nlen(scope)', '_ii': 'scope = globals()\\nprint(type(scope))\\nscope', '_iii': 'print(scope.get(\"say_hello\"))\\nprint(say_hello)', '_i1': 'a, b, c = 10, 11, 12\\n\\ndef say_hello(name):\\n    print(\"Hello there, {name}\")', 'a': 10, 'b': 11, 'c': 12, 'say_hello': <function say_hello at 0x7156b82a9da0>, '_i2': 'say_hello?', '_i3': 'import inspect\\nimport numpy as np', 'inspect': <module 'inspect' from '/home/cafesua/anaconda3/envs/py3.12/lib/python3.12/inspect.py'>, 'np': <module 'numpy' from '/home/cafesua/anaconda3/envs/py3.12/lib/python3.12/site-packages/numpy/__init__.py'>, '_i4': 'a, b, c = 10, 11, 12\\n\\narr = np.array([[1, 2, 3, 4], \\n                [5, 6, 7, 8]])\\n                \\ndef say_hello(name):\\n    print(\"Hello there, {name}\")', 'arr': array([[1, 2, 3, 4],\n",
      "       [5, 6, 7, 8]]), '_i5': 'a, b, c = 10, 11, 12\\n\\narr = np.array([[1, 2, 3, 4], \\n                [5, 6, 7, 8]])\\n\\ndef say_hello(name):\\n    \"\"\"This is a useless function\"\"\"\\n    print(\"Hello there, {name}\")', '_i6': 'type(say_hello)', '_6': <class 'function'>, '_i7': 'print(say_hello)', '_i8': 'print(say_hello)\\nprint(type(say_hello))', '_i9': 'scope = globals()\\nobj = scope.get(\"a\")\\ninspect.isbuiltin(obj)', 'scope': {...}, 'obj': None, '_9': False, '_i10': 'scope = globals()\\nobj = scope.get(\"a\")\\ninspect.isbuiltin(obj)', '_10': False, '_i11': 'scope', '_11': {...}, '_i12': 'scope = globals()\\nobj = scope.get(\"a\")\\ninspect.isbuiltin(obj), inspect.isfunction(scope.get(\"say_hello\"))', '_12': (False, True), '_i13': 'scope = globals()\\nobj = scope.get(\"a\")\\ninspect.isbuiltin(object=scope.get(\"str\")), inspect.isfunction(scope.get(\"say_hello\"))', '_13': (False, True), '_i14': 'scope = globals()\\nobj = scope.get(\"a\")\\ninspect.isbuiltin(object=scope.get(str)), inspect.isfunction(scope.get(\"say_hello\"))', '_14': (False, True), '_i15': 'scope = globals()\\nobj = scope.get(\"a\")\\ninspect.isbuiltin(object=scope.get(\"str\")), inspect.isfunction(scope.get(\"say_hello\"))', '_15': (False, True), '_i16': 'scope = globals()\\nobj = scope.get(\"a\")\\ninspect.isbuiltin(object=scope.get(int)), inspect.isfunction(scope.get(\"say_hello\"))', '_16': (False, True), '_i17': 'inspect?', '_i18': 'scope = globals()\\nobj = scope.get(len)\\ninspect.isbuiltin(object=scope.get(int)), inspect.isfunction(scope.get(\"say_hello\"))', '_18': (False, True), '_i19': 'scope = globals()\\nobj = scope.get(len)\\ninspect.isbuiltin(object=scope.get(len)), inspect.isfunction(scope.get(\"say_hello\"))', '_19': (False, True), '_i20': 'scope = globals()\\nobj = scope.get(len)\\ninspect.isbuiltin(len), inspect.isfunction(scope.get(\"say_hello\"))', '_20': (True, True), '_i21': 'a, b, c = 10, 11, 12\\n\\narr = np.array([[1, 2, 3, 4], \\n                [5, 6, 7, 8]])\\n\\ndef say_hello(name):\\n    \"\"\"This is a useless function\"\"\"\\n    print(\"Hello there, {name}\")', '_i22': 'inspect.isbuiltin(len)', '_22': True, '_i23': 'a, b, c = 10, 11, 12\\n\\narr = np.array([[1, 2, 3, 4], \\n                [5, 6, 7, 8]])\\n\\ndef say_hello(name):\\n    \"\"\"This is a useless function\"\"\"\\n    print(\"Hello there, {name}\")', '_i24': 'inspect.isbuiltin(len)', '_24': True, '_i25': 'inspect.isfunction(say_hello)', '_25': True, '_i26': 'inspect.isfunction(\"say_hello\")', '_26': False, '_i27': 'inspect.isfunction(say_hello)', '_27': True, '_i28': 'print(inspect.isfunction(say_hello))\\nprint(inspect.isfunction(\"say_hello\"))', '_i29': 'scope = globals()\\nscope.get(\"say_hello\")', '_29': <function say_hello at 0x7156b82a9da0>, '_i30': 'scope = globals()\\nscope.get(\"say_hello\"), say_hello', '_30': (<function say_hello at 0x7156b82a9da0>, <function say_hello at 0x7156b82a9da0>), '_i31': 'scope = globals()\\nprint(scope)', '_i32': 'scope = globals()\\ntype(scope)', '_32': <class 'dict'>, '_i33': 'scope = globals()\\nprint(type(scope))\\nprint(scope)', '_i34': 'print(scope.get(\"say_hello\"))\\nprint(say_hello)', '_i35': 'scope = globals()\\nprint(type(scope))\\nscope', '_35': {...}, '_i36': 'scope = globals()\\nprint(type(scope))\\nlen(scope)', '_36': 89, '_i37': 'scope = globals()\\nprint(type(scope))\\nprint(scope)        # It is a pretty big dictionary. The output is long'}\n"
     ]
    }
   ],
   "source": [
    "scope = globals()\n",
    "print(type(scope))\n",
    "print(scope)        # It is a pretty big dictionary. The output is long"
   ]
  },
  {
   "cell_type": "code",
   "execution_count": 39,
   "id": "59cd9534",
   "metadata": {},
   "outputs": [
    {
     "name": "stdout",
     "output_type": "stream",
     "text": [
      "<function say_hello at 0x7156b82a9da0>\n",
      "<function say_hello at 0x7156b82a9da0>\n"
     ]
    }
   ],
   "source": [
    "obj = scope.get(\"say_hello\")    # Get the object with name \"say_hello\"\n",
    "print(obj)                      # print out the object which should be the function object\n",
    "print(say_hello)                # identical to obj"
   ]
  },
  {
   "cell_type": "code",
   "execution_count": 47,
   "id": "631812da",
   "metadata": {},
   "outputs": [
    {
     "data": {
      "text/plain": [
       "(10, 11, 12, <function __main__.say_hello(name)>)"
      ]
     },
     "execution_count": 47,
     "metadata": {},
     "output_type": "execute_result"
    }
   ],
   "source": [
    "scope['a'], scope['b'], scope['c'], scope['say_hello']"
   ]
  },
  {
   "cell_type": "markdown",
   "id": "98476ee8",
   "metadata": {},
   "source": [
    "## Question 2"
   ]
  },
  {
   "cell_type": "code",
   "execution_count": 59,
   "id": "fcea1d16",
   "metadata": {},
   "outputs": [],
   "source": [
    "class Car:\n",
    "\n",
    "    def __init__(self, make, model):\n",
    "        self.make = make\n",
    "        self.model = model\n",
    "\n",
    "    def show_info(self):\n",
    "        print(f\"Producer: {self.make}, Model: {self.model}\")"
   ]
  },
  {
   "cell_type": "code",
   "execution_count": 60,
   "id": "ebaf0bd9",
   "metadata": {},
   "outputs": [
    {
     "ename": "NameError",
     "evalue": "name 'car' is not defined",
     "output_type": "error",
     "traceback": [
      "\u001b[31m---------------------------------------------------------------------------\u001b[39m",
      "\u001b[31mNameError\u001b[39m                                 Traceback (most recent call last)",
      "\u001b[36mCell\u001b[39m\u001b[36m \u001b[39m\u001b[32mIn[60]\u001b[39m\u001b[32m, line 1\u001b[39m\n\u001b[32m----> \u001b[39m\u001b[32m1\u001b[39m Car.\u001b[34m__init__\u001b[39m(\u001b[43mcar\u001b[49m, \u001b[33m\"\u001b[39m\u001b[33mBMW\u001b[39m\u001b[33m\"\u001b[39m, \u001b[33m\"\u001b[39m\u001b[33mA420\u001b[39m\u001b[33m\"\u001b[39m)\n",
      "\u001b[31mNameError\u001b[39m: name 'car' is not defined"
     ]
    }
   ],
   "source": [
    "Car.__init__(car, \"BMW\", \"A420\")"
   ]
  },
  {
   "cell_type": "code",
   "execution_count": 61,
   "id": "5e4aa36f",
   "metadata": {},
   "outputs": [
    {
     "name": "stdout",
     "output_type": "stream",
     "text": [
      "Error caught\n"
     ]
    }
   ],
   "source": [
    "try:\n",
    "    Car.__init__(car, \"BMW\", \"A420\")\n",
    "except:\n",
    "    print(\"Error caught\")"
   ]
  },
  {
   "cell_type": "code",
   "execution_count": 62,
   "id": "befd27fc",
   "metadata": {},
   "outputs": [
    {
     "name": "stdout",
     "output_type": "stream",
     "text": [
      "NameError caught\n"
     ]
    }
   ],
   "source": [
    "try:\n",
    "    Car.__init__(car, \"BMW\", \"A420\")\n",
    "except NameError:\n",
    "    print(\"NameError caught\")"
   ]
  },
  {
   "cell_type": "code",
   "execution_count": 64,
   "id": "97f65811",
   "metadata": {},
   "outputs": [
    {
     "name": "stdout",
     "output_type": "stream",
     "text": [
      "Producer: Mercedes, Model: M420\n",
      "Producer: Nissan, Model: N024\n"
     ]
    }
   ],
   "source": [
    "my_car = Car(\"Mercedes\", \"M420\")\n",
    "my_car.show_info()\n",
    "\n",
    "Car.__init__(my_car, \"Nissan\", \"N024\")\n",
    "my_car.show_info()"
   ]
  },
  {
   "cell_type": "code",
   "execution_count": null,
   "id": "dd2d3224",
   "metadata": {},
   "outputs": [],
   "source": [
    "my_car "
   ]
  }
 ],
 "metadata": {
  "kernelspec": {
   "display_name": "py3.12",
   "language": "python",
   "name": "python3"
  },
  "language_info": {
   "codemirror_mode": {
    "name": "ipython",
    "version": 3
   },
   "file_extension": ".py",
   "mimetype": "text/x-python",
   "name": "python",
   "nbconvert_exporter": "python",
   "pygments_lexer": "ipython3",
   "version": "3.12.9"
  }
 },
 "nbformat": 4,
 "nbformat_minor": 5
}
