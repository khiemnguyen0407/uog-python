{
 "cells": [
  {
   "cell_type": "markdown",
   "metadata": {},
   "source": [
    "<font color=\"\">**Learning Python at University of Glasgow**</font>\n",
    "\n",
    "<font color=\"\">**Control Flows**</font>\n",
    "\n",
    "<font color=\"DeepSkyBlue\">**Lecturer**</font>: **Khiem Nguyen**"
   ]
  },
  {
   "cell_type": "markdown",
   "metadata": {},
   "source": [
    "# Statements\n",
    "## Definition\n",
    "We have used them so far but we now give them the name. This is a summary:\n",
    "- Just to formalize what we know\n",
    "- A statement is a unit of command\n",
    "- A program contains one or more statements, each terminated by an end of line (*or `;` but try not to*)\n",
    "\n",
    "There are many kinds of statements:\n",
    "  - assignment statements\n",
    "  - decision/selection statements\n",
    "  - repetition/loop statements\n",
    "  - function calls\n",
    "  - and etc.\n",
    "\n",
    "## Compound statements\n",
    "In Python a ***compound statement*** is a group of statements collected in a single unit by their level of ***indentation***. \n",
    "\n",
    "**Indentation** is very important in Python because it is interpreted by the Python Interpreter as a part of language syntax. This is different from many other programming languages such as C/C++ and MATLAB which both ignore indentation. \n",
    "\n",
    "In the following piece of code\n",
    "```Python\n",
    "while student <= 10:            # when student counter <=10\n",
    "    result = input(\"Enter(1 = pass, 2 = fail):\")  \n",
    "    result = int(result)        # input next exam result\n",
    "    if result == 1:             # if student passes\n",
    "        passes += 1             # add one to passes\n",
    "        print(\"Good news! One more student passed.\")\n",
    "    else:                       # else statement\n",
    "        failures += 1           # add one to failures\n",
    "        print(\"Bad news! One more student failed.\")\n",
    "    student += 1                # add one to counter\n",
    "```\n",
    "all the statements behind `while student <= 10:` make up a compound statement and belong to the the group relevant to the `while`-statement. Similarly, the two statements right after `if result == 1` but before `else:` make up another compound statement which is relevant to `if`-statement. Well, the two statements right after `else:` but before `student += 1` make up another compound statement, again which is relevent to `else`-statement.\n",
    "\n",
    "**For interested reader** &nbsp; C/C++ uses curly braces to mark a compound statement while MATLAB uses \"end\" to group all the statements relevant to either `for`-loop, `while`-loop or `if`-conditional statement."
   ]
  },
  {
   "cell_type": "markdown",
   "metadata": {},
   "source": [
    "# Control flow\n",
    "\n",
    "A program's **control flow** is the order in which the program's code executes. The control flow of a Python is regulated by conditional statements, loops and function calls.\n",
    "\n",
    "Python uses the usual flow control statements known from other programming languages, with some twists.\n",
    "\n",
    "All of the algorithms can be designed and implemented through three types of control structures\n",
    "  1. **Sequential statements** &nbsp; &nbsp; The name says it all - Sequential statements are a set of statements whose execution process happens in a sequence. The problem with sequential statements is that if the logic has broken in any one of the lines, then the complete source code execution will break. Imagine that the developer expect the users to input a number, they don't do so by any sort of accident, the code fails to run. We need something to catch such an unexpected event.\n",
    "\n",
    "  2. **Conditional statements** &nbsp; &nbsp; Conditional statements allow a program to test several conditions and execute instructions based on which condition is true. These statements are to branch the control flow into the right behavior according to various events that may have in reality or in algorithmic design.\n",
    "  \n",
    "  3. **Loop statements** &nbsp; &nbsp; Loop statements are used to repeat a group (block) of programming instructions. This is how a computer program becomes powerful. The computer executes a huge amount of repeated operations that humans cannot do to achieve final outcome."
   ]
  },
  {
   "cell_type": "markdown",
   "metadata": {},
   "source": [
    "## Useful statements regulating control flow in Python\n",
    "\n",
    "- `if` statements, `if-else` statements, `if-elif-else` statements\n",
    "- `for` statements\n",
    "- `while` statements\n",
    "- `range` function\n",
    "- `break` and `continue` statements, `else` clauses on loops\n",
    "- `pass` statements\n",
    "- `match-case` statements\n",
    "\n",
    "**Quick summary**\n",
    "\n",
    "1. The `if` statements are for conditional flow.\n",
    "2. The `for` statements and the `while` statements are for loops. \n",
    "3. The Python reserved keywords `break` and `continue` are used in combination with loop statements to exit the loop or to skip instructions within the loop, respectively. \n",
    "4. The `pass` statement is used as a placeholder for future code. When the `pass` statement is executed, nothing happens, but you avoid getting an error when empty code is not allowed. Empty code is not allowed in loops, function definitions, class definitions, or in if statements. \n",
    "5. The `match-case` statements are also for conditional flow but work only for comparison within a discrete finite set of choices."
   ]
  },
  {
   "cell_type": "markdown",
   "metadata": {},
   "source": [
    "# Conditional statements\n",
    "\n",
    "The conditional flows are implemented by using various statements as follows:\n",
    "- `if` statements\n",
    "- `if-else` statements\n",
    "- `if-elif-else` statements\n",
    "- `match-case` statements\n",
    "**Usage**\n",
    "\n",
    "As the English suggests, the understanding of the above-mentioned statements are natural. Right after the keyword `if`,  one condition will be tested to see whether it returns `True` or `False`. If the condition returns `True`, all the statements in the block after `if` statement will be executed. Similarly, in an `if-else` statement, if the condition returns `False`, the statements in the block after `else` statement will be executed. The `if-elif-else` statement is just short way of writing multiple `if-else` statements in various levels of conditional flows.\n",
    "The `match-case` statements allows for pattern matching. Thus, a basic implementation of `match-case` statements look a lot like an `if-elif-else` statements. The main difference as compared to `if-elif-else` is that `match-case` is used for comparison within a discrete finite set of choices.\n",
    "\n",
    "**Note** `match-case` has been recently introduced in the new version of Python. You can safely skip this topic."
   ]
  },
  {
   "cell_type": "markdown",
   "metadata": {},
   "source": [
    "## Syntax\n",
    "***\n",
    "**`if` statement**\n",
    "```Python\n",
    "if (<expression>):      # Note the colon \":\"\n",
    "    <statement>         # Note the indentation\n",
    "    ...\n",
    "    <statement>\n",
    "<outer-statement>       # Note the \"un\"-indentation\n",
    "```\n",
    "If the `<expression>` evaluates to `True`, the block of statements right after colon `:` that has the same level of indentation will be executed. If `<expression>` evalutes to `False`, the control will continue after that block of code and in this case with `<outer-statement>`.\n",
    "***\n",
    "**`if-else` statement**\n",
    "```Python\n",
    "if (<expression>):      # Note the colon \":\"\n",
    "    <statement>         # Note the indentation\n",
    "    ...\n",
    "    <statement>\n",
    "else:\n",
    "    <statement>\n",
    "    ...\n",
    "    <statement>\n",
    "```\n",
    "In this case, if `<expression>` evaluates to `False`, the block of statements right after `else:` that has the same level of indentation will be executed.\n",
    "***\n",
    "**`if-elif-else` statement**\n",
    "```Python\n",
    "if (<expression-1>):    # Note the colon \":\"\n",
    "    <statement>         # Note the indentation\n",
    "    ...\n",
    "    <statement>\n",
    "elif (expression-2):\n",
    "    <statement>\n",
    "    ...\n",
    "    <statement>\n",
    "else:\n",
    "```\n",
    "\n",
    "**`if` statement**\n",
    "```Python\n",
    "if (<expression>):      # Note the colon \":\"\n",
    "    <statement>         # Note the indentation\n",
    "    ...\n",
    "    <statement>\n",
    "<outer-statement>       # Note the \"un\"-indentation\n",
    "```\n",
    "If the `<expression>` evaluates to `True`, the block of statements right after colon `:` that has the same level of indentation will be executed. If `<expression>` evalutes to `False`, the control will continue after that block of code and in this case with `<outer-statement>`.\n",
    "***\n",
    "**`if-else` statement**\n",
    "```Python\n",
    "if (<expression>):      # Note the colon \":\"\n",
    "    <statement>         # Note the indentation\n",
    "    ...\n",
    "    <statement>\n",
    "else:\n",
    "    <statement>\n",
    "    ...\n",
    "    <statement>\n",
    "```\n",
    "In this case, if `<expression>` evaluates to `False`, the block of statements right after `else:` that has the same level of indentation will be executed.\n",
    "***\n",
    "**`if-elif-else` statement**\n",
    "```Python\n",
    "if (<expression-1>):    # Note the colon \":\"\n",
    "    <statement>         # Note the indentation\n",
    "    ...\n",
    "    <statement>\n",
    "elif (expression-2):\n",
    "    <statement>\n",
    "    ...\n",
    "    <statement>\n",
    "else:\n",
    "```\n",
    "***\n",
    "**`match-case` statement**\n",
    "```Python\n",
    "match <variable-name>:\n",
    "    case <pattern-1>:\n",
    "        <statement>\n",
    "        ...\n",
    "    case <pattern-2>:\n",
    "        <statement>\n",
    "        ...\n",
    "    case other:\n",
    "        <statement>\n",
    "        ...\n",
    "```\n",
    "If the `<variable-name>` is equal to any of the patterns `<pattern-1>`, `<pattern-2>`, etc., the block of statements corresponding to that matching will be executed. If no pattern is matched, the block of statements for `case other` will be executed. \n",
    "\n",
    "However, note that branching of `case other` *is optional*; so we don't have to catch all the unmatched cases if we don't need to."
   ]
  },
  {
   "cell_type": "markdown",
   "metadata": {},
   "source": [
    "**Best by example**"
   ]
  },
  {
   "cell_type": "code",
   "execution_count": 1,
   "metadata": {},
   "outputs": [
    {
     "name": "stdout",
     "output_type": "stream",
     "text": [
      "Earth is round\n",
      "Eearth is round\n"
     ]
    }
   ],
   "source": [
    "earth = 'round'\n",
    "if earth == 'round':                    # note colon \":\"\n",
    "    print(\"Earth is round\")             # note indentation\n",
    "    \n",
    "if earth != 'round':\n",
    "    print(\"Eearth is not round\")\n",
    "else:                                   # note colon \":\"\n",
    "    print(\"Eearth is round\")            # note indentation"
   ]
  },
  {
   "cell_type": "markdown",
   "metadata": {},
   "source": [
    "We revisit the algorithm for computing roots of a quaratic equation \n",
    "\n",
    "$c_2 x^2 + c_1 x + c_0 = 0$\n",
    "\n",
    "in the Recap-1. The equation has real roots if and only if the discriminator is larger than or equal to zero: $ \\Delta = c_1^2 - 4 c_0 c_2 \\geq 0 $. Then, we may want to test whether this condition is fulfilled before computing the square root of $\\Delta$."
   ]
  },
  {
   "cell_type": "code",
   "execution_count": 2,
   "metadata": {},
   "outputs": [
    {
     "name": "stdout",
     "output_type": "stream",
     "text": [
      "Two roots are:\n",
      " r1 = 1.0 \n",
      " r2 = 1.0\n"
     ]
    }
   ],
   "source": [
    "from math import sqrt\n",
    "c0 = input(\"Cofficient for x^0\")   # c0 contains string\n",
    "c0 = float(c0)\n",
    "c1 = input(\"Coefficient for x^1\")\n",
    "c1 = float(c1)\n",
    "c2 = input(\"Coefficient for x^2\")\n",
    "c2 = float(c2)\n",
    "\n",
    "discriminator = c1**2 - 4*c2 * c0   # value**2 means value powered to 2.\n",
    "denominator = 2*c2\n",
    "if discriminator < 0:                               # note colon \":\", not \"then\"\n",
    "    print(\"No real roots\")                          # note indentation\n",
    "else:                                               # note colon \":\"\n",
    "    sqrt_discriminator = sqrt(discriminator)        # note indentation\n",
    "    root_1 = (-c1 + sqrt_discriminator) / denominator\n",
    "    root_2 = (-c1 - sqrt_discriminator) / denominator\n",
    "\n",
    "print(\"Two roots are:\\n r1 = {0} \\n r2 = {1}\".format(root_1, root_2))"
   ]
  },
  {
   "cell_type": "markdown",
   "metadata": {},
   "source": [
    "As mentioned above, `if-elif-else` statement is a neat way to write multiple `if-else` statements. Let us examine two ways of writing that yield the same effect. However, the `if-elif-else` statement appears neater."
   ]
  },
  {
   "cell_type": "code",
   "execution_count": 3,
   "metadata": {},
   "outputs": [
    {
     "name": "stdout",
     "output_type": "stream",
     "text": [
      "Your letter grade is A\n"
     ]
    }
   ],
   "source": [
    "# if-elif-else statement\n",
    "# marks = input(\"Let us know your marks\")\n",
    "# marks = int(marks)\n",
    "marks = 70\n",
    "if (marks <= 50):\n",
    "    grade = 'D'\n",
    "else:\n",
    "    if (marks <= 59):\n",
    "        grade = 'C'\n",
    "    else:\n",
    "        if (marks <= 69):\n",
    "            grade = 'B'\n",
    "        else:\n",
    "            grade = 'A'\n",
    "            \n",
    "print(\"Your letter grade is\", grade)"
   ]
  },
  {
   "cell_type": "code",
   "execution_count": 4,
   "metadata": {},
   "outputs": [
    {
     "name": "stdout",
     "output_type": "stream",
     "text": [
      "Your letter grade is A\n"
     ]
    }
   ],
   "source": [
    "# if-elif-else statement\n",
    "# marks = input(\"Let us know your marks\")\n",
    "# marks = int(marks)\n",
    "marks = 70\n",
    "if (marks <= 50):\n",
    "    grade = 'D'\n",
    "elif (marks <= 59):\n",
    "    grade = 'C'\n",
    "elif (marks <= 69):\n",
    "    grade = 'B'\n",
    "else:\n",
    "    grade = 'A'\n",
    "print(\"Your letter grade is\", grade)"
   ]
  },
  {
   "cell_type": "code",
   "execution_count": 5,
   "metadata": {},
   "outputs": [
    {
     "name": "stdout",
     "output_type": "stream",
     "text": [
      "I don't care your grade anymore\n",
      "Are you happy now?\n"
     ]
    }
   ],
   "source": [
    "# You can match number to number\n",
    "mark = 7\n",
    "match mark:\n",
    "    case 10:\n",
    "        print(\"Grade = A+\")\n",
    "    case 9:\n",
    "        print(\"Grade = A\")\n",
    "    case 8:\n",
    "        print(\"Grade = A-\")\n",
    "    case other:\n",
    "        print(\"I don't care your grade anymore\")\n",
    "        \n",
    "# You can also match string to string\n",
    "my_words = \"look at me\"\n",
    "match my_words:\n",
    "    case \"look at me\":\n",
    "        print(\"Are you happy now?\")\n",
    "    case \"look at you\":\n",
    "        print(\"I know what you wanna say\")"
   ]
  },
  {
   "cell_type": "markdown",
   "metadata": {},
   "source": [
    "# Loops\n",
    "\n",
    "## Two types of loop\n",
    "- There are largely two kinds of loops in programming\n",
    "- **sentinel** loops, where the loops runs until a condition is encountered which you don't know in advance, either due to external inputs or complex calculations.\n",
    "- **counter** loops, where you can be clear in advance how many iterations will occur.\n",
    "\n",
    "Two loop statements are\n",
    "1. `while` loop\n",
    "2. `for` loop\n",
    "\n",
    "In practice, the use of these two types of loops are interchangable. In a **sentinel** loop, we can set the condition so that the number of iterations is known in advanced. Similarly, by using `break` statement, we can exit a **counter** loop by testing a certain condition involving complex expression or external inputs.\n",
    "\n",
    "`while` statement corresponds to **sentinel** loops while `for` statement to **counter** loops."
   ]
  },
  {
   "cell_type": "markdown",
   "metadata": {},
   "source": [
    "## `while` loop\n",
    "\n",
    "**Syntax**\n",
    "```Python\n",
    "while (<expression>):       # colon right after <expression>, () is not needed\n",
    "    <statement-1>\n",
    "    <statement-2>\n",
    "    ...\n",
    "    <statement-n>\n",
    "```\n",
    "- The compiler/interpreter evalutes the expression and exits the loop if it returns `False`.\n",
    "- If the expression returns `True`, the control executes the statement(s) in the block right after `while` statement and then goes back to check the expression again."
   ]
  },
  {
   "cell_type": "code",
   "execution_count": 6,
   "metadata": {},
   "outputs": [
    {
     "name": "stdout",
     "output_type": "stream",
     "text": [
      "2^0  = 1\n",
      "2^1  = 2\n",
      "2^2  = 4\n",
      "2^3  = 8\n"
     ]
    }
   ],
   "source": [
    "counter, value = 0, 1       # multiple assignments\n",
    "n = input(\"Value of index?\")\n",
    "if n.isnumeric():\n",
    "    n = int(n)      # convert to integer if it is numeric\n",
    "else:\n",
    "    n = 5           # otherwise, default n to 5\n",
    "print(\"2^{0:^2} = {1}\".format(counter, value))\n",
    "while counter < n:\n",
    "    value *= 2\n",
    "    counter += 1\n",
    "    print(\"2^{0:^2} = {1}\".format(counter, value))"
   ]
  },
  {
   "cell_type": "markdown",
   "metadata": {},
   "source": [
    "## `for` loops\n",
    "\n",
    "The `for` statement in Python differs a bit from what you may be used to in *C* or *Pascal* programming language.\n",
    "\n",
    "**Syntax**\n",
    "```Python\n",
    "for element in set_of_elements:\n",
    "    <statement-1>\n",
    "    <statement-2>\n",
    "    ...\n",
    "    <statement-N>\n",
    "```\n",
    "In the line of code `for element in set_of_elements`, the variable `element` consecutively takes value of each element in the set of elements given by the variable `set_of_elements`. `set_of_elements` may be of various data types as long as it can function as an **iterator**, which is a very important concept in modern programming. Roughly speaking, we may interpret **iterator** as a service for iteration process. In that service, each customer will be taken care in order.\n",
    "\n",
    "### Use in combination with `range()` function"
   ]
  },
  {
   "cell_type": "code",
   "execution_count": 7,
   "metadata": {},
   "outputs": [
    {
     "name": "stdout",
     "output_type": "stream",
     "text": [
      "2^0  = 1\n",
      "2^1  = 2\n",
      "2^2  = 4\n",
      "2^3  = 8\n",
      "2^4  = 16\n"
     ]
    }
   ],
   "source": [
    "counter, value = 0, 1\n",
    "n = input(\"Value of index?\")\n",
    "if n.isnumeric():\n",
    "    n = int(n)\n",
    "else:\n",
    "    n = 5\n",
    "print(\"2^{0:^2} = {1}\".format(counter, value))\n",
    "for i in range(n):\n",
    "    value *= 2\n",
    "    print(\"2^{0:^2} = {1}\".format(i+1, value))"
   ]
  },
  {
   "cell_type": "code",
   "execution_count": 8,
   "metadata": {},
   "outputs": [
    {
     "name": "stdout",
     "output_type": "stream",
     "text": [
      "I\n",
      "have\n",
      "2\n",
      "dogs\n",
      "and\n",
      "3\n",
      "cats\n",
      "I have 2 dogs and 3 cats "
     ]
    }
   ],
   "source": [
    "# This is even better if the range is defined by the data set and not by a counting variable\n",
    "my_list = [\"I\", \"have\", 2, \"dogs\", \"and\", 3, \"cats\"]\n",
    "# First loop: printing and then new line\n",
    "for x in my_list:\n",
    "    print(x)\n",
    "    \n",
    "# Second loop\n",
    "for x in my_list:\n",
    "    print(x, end=' ')"
   ]
  },
  {
   "cell_type": "markdown",
   "metadata": {},
   "source": [
    "## Exit the loop with `break` | Skip the iteration with `continue`\n",
    "\n",
    "`break` and `continue` are two important keywords that are normally used with the loop control statements. The meanings of these two keywords somewhat explain their functionalities.\n",
    "keyword    | functionality\n",
    "-----------|---------------\n",
    "`break`    | stops executing the rest of statements inside the \"**inner-most**\" loop and then ***exits the loop***\n",
    "`continue` | stops executing the rest of statements inside the \"**inner-most**\" loop and then ***continues the next iteration of the loop**\n",
    "\n",
    "- Let us examine the following code snipet in which we have two `while` loop (See `while` loop later):\n",
    "```Python\n",
    "while (<conditional-expression-outer>)\n",
    "    <statement-outer-1>\n",
    "    while (<conditional-expression-inner>):\n",
    "        if (<condition>):\n",
    "            <statement-inner-1>\n",
    "            break\n",
    "            ... # Statements after break become obsolete because they won't be executed anyway\n",
    "            <statement-inner-N>  \n",
    "    <statement-outer-2>\n",
    "```\n",
    "\n",
    "If `<condition>` return `True`, the statements `<statement-inner-1>` will be executed and then the `break` is hit. All the statements after `<statement-inner-1>` will be ignored and the control exits the loop with `while (True)` and continue with whatever after the `while (True)` statement, i.e. `<statement-outer-1>` in this case. To recap, right after `break` statement the control flow will exit the loop that is most relevant to `break` and continue as normal. In this example, the control is still in the outer loop `while (<conditional-expression-outer>)` although this loop in reality does not need to be here. \n",
    "\n",
    "**Note**: Of course, in general, we do not want to write any statements after `break` because they are not executed anyway.\n",
    "\n",
    "- Let us consider the following code but with `break` replaced by `continue`. Note that `while (True)` has been modified\n",
    "\n",
    "```Python\n",
    "while (<conditional-expression-outer>)\n",
    "    <statement-outer-1>\n",
    "    while (<conditional-expression-inner>):\n",
    "        if (<condition>):\n",
    "            <statement-inner-1>\n",
    "            continue\n",
    "        # note the indentation here\n",
    "        <statement-inner-2>\n",
    "        ...\n",
    "        <statement-inner-N>\n",
    "\n",
    "    <statement-outer-2>\n",
    "```\n",
    "\n",
    "Similarly, if the condition of the `if` statement returns `True`, the `<statement-inner-1>` is executed and then comes the `continue` statement. Unlike the use of `break` statement, the control flows will skip all the statements after continue but still inside the inner loop `while (<conditional-expression-inner>)` for just one iteration but then come back to check the value of `<conditional-expression-inner>`. The control **does not** exit the inner loop; it just skips the rest of the iteration for once and then continue to do the loop with the next iteration. Only until the inner-loop condition `<conditional-expression-inner>` returns `False`, the loop will be exited like normal.\n",
    "\n",
    "**Best by examples**"
   ]
  },
  {
   "cell_type": "code",
   "execution_count": 10,
   "metadata": {},
   "outputs": [
    {
     "name": "stdout",
     "output_type": "stream",
     "text": [
      "Stop\n"
     ]
    }
   ],
   "source": [
    "# We get out of while-loop if one particular condition is tested True by using a flag-like variablue such as true_or_false. \n",
    "# However, this practice should be avoided if possible because we can use break statement. Two reaons are:\n",
    "# (1) We have to write longer code, need one more variable to do the job.\n",
    "# (2) When we have multiple nested loops, we have to use multiple flag variables like true_or_false_1, true_or_false_2, and # and so on.\n",
    "\n",
    "true_or_false = True\n",
    "while true_or_false:\n",
    "    x = int(input())\n",
    "    if (x == 10):\n",
    "        print(\"Stop\")\n",
    "        true_or_false = False"
   ]
  },
  {
   "cell_type": "code",
   "execution_count": 11,
   "metadata": {},
   "outputs": [
    {
     "name": "stdout",
     "output_type": "stream",
     "text": [
      "Stop\n"
     ]
    }
   ],
   "source": [
    "while (True):\n",
    "    x = int(input())\n",
    "    if (x == 10):\n",
    "        print(\"Stop\")\n",
    "        break"
   ]
  },
  {
   "cell_type": "code",
   "execution_count": 12,
   "metadata": {},
   "outputs": [
    {
     "name": "stdout",
     "output_type": "stream",
     "text": [
      "You are ready to go in the INNER loop!\n",
      "\tOUT of the INNER. INNER iteration = 1\n",
      "You exit the INNER loop and now IN the OUTER loop!\n",
      "OUT of the OUTER loop!\n",
      "--------------------------\n",
      "\n",
      "         OUTER iteration = 1\n",
      "The last INNER iteration = 1\n"
     ]
    }
   ],
   "source": [
    "# We have two while loops that can repeat infinitely with the always True condition. The two loops will be called outer loop and inner loop. To escape the inner loop, the user must use the key \"x\" and similarly the key \"y\" for the outer loop. It can be seen that if we don't go out of two loops, the outer loop will make the inner loop happens again. For this reason, the only way to get out of the loop is to type \"x\" -> Enter and then \"y\" -> Enter. Anything after different from \"y\" after \"x\" -> Enter will have to pass through the inner loop and make it run again. \n",
    "\n",
    "counter_for_outer_loop = 1\n",
    "counter_for_inner_loop = 1\n",
    "while (True):\n",
    "    counter_for_inner_loop = 1\n",
    "    print(\"You are ready to go in the INNER loop!\")\n",
    "    while (True):\n",
    "        key = input(\"\\tInput a key! The key 'x' will exit the INNER loop!\")\n",
    "        if (key == 'x'):\n",
    "            print(\"\\tOUT of the INNER. INNER iteration =\", counter_for_inner_loop)\n",
    "            break\n",
    "        else:\n",
    "            print(\"\\tIN the INNER. INNER iteration =\", counter_for_inner_loop)\n",
    "        # Note that counter_for_inner_loop is at the same indentation as if-else,\n",
    "        # so counter_for_inner_loop is in the block of while (True).\n",
    "        counter_for_inner_loop += 1\n",
    "        \n",
    "    print(\"You exit the INNER loop and now IN the OUTER loop!\")\n",
    "    key = input(\"Input a key! The key 'y' will exit the OUTER loop!\")\n",
    "    if (key == 'y'):\n",
    "        print(\"OUT of the OUTER loop!\")\n",
    "        break\n",
    "    else:\n",
    "        print(\"You are still in the OUTER loop. OUTER iteration =\", counter_for_outer_loop)\n",
    "    # Note that counter_for_outer_loop is in the block of outer loop while (True)\n",
    "    counter_for_outer_loop += 1\n",
    "\n",
    "print(\"--------------------------\\n\")\n",
    "print(\"         OUTER iteration =\", counter_for_outer_loop)\n",
    "print(\"The last INNER iteration =\", counter_for_inner_loop)"
   ]
  },
  {
   "cell_type": "code",
   "execution_count": 13,
   "metadata": {},
   "outputs": [
    {
     "name": "stdout",
     "output_type": "stream",
     "text": [
      "\t inner loop:  2\n",
      "\t inner loop:  3\n",
      "\t inner loop:  4\n",
      "\t inner loop:  5\n",
      "\t inner loop:  6\n",
      "\t inner loop:  7\n",
      "\t inner loop:  8\n",
      "\t inner loop:  9\n",
      "\t inner loop:  10\n",
      "outer loop:  2\n",
      "\t inner loop:  3\n",
      "\t inner loop:  4\n",
      "\t inner loop:  5\n",
      "\t inner loop:  6\n",
      "\t inner loop:  7\n",
      "\t inner loop:  8\n",
      "\t inner loop:  9\n",
      "\t inner loop:  10\n",
      "outer loop:  3\n",
      "\t inner loop:  4\n",
      "\t inner loop:  5\n",
      "\t inner loop:  6\n",
      "\t inner loop:  7\n",
      "\t inner loop:  8\n",
      "\t inner loop:  9\n",
      "\t inner loop:  10\n",
      "outer loop:  4\n",
      "\t inner loop:  5\n",
      "\t inner loop:  6\n",
      "\t inner loop:  7\n",
      "\t inner loop:  8\n",
      "\t inner loop:  9\n",
      "\t inner loop:  10\n",
      "outer loop:  5\n",
      "\t inner loop:  6\n",
      "\t inner loop:  7\n",
      "\t inner loop:  8\n",
      "\t inner loop:  9\n",
      "\t inner loop:  10\n",
      "outer loop:  6\n",
      "\t inner loop:  7\n",
      "\t inner loop:  8\n",
      "\t inner loop:  9\n",
      "\t inner loop:  10\n",
      "outer loop:  7\n",
      "\t inner loop:  8\n",
      "\t inner loop:  9\n",
      "\t inner loop:  10\n",
      "outer loop:  8\n",
      "\t inner loop:  9\n",
      "\t inner loop:  10\n",
      "outer loop:  9\n",
      "\t inner loop:  10\n",
      "outer loop:  10\n"
     ]
    }
   ],
   "source": [
    "x = 1\n",
    "y = 1\n",
    "while (x < 10):\n",
    "    y = x\n",
    "    while (y < 10):\n",
    "        y += 1\n",
    "        print(\"\\t inner loop: \", y)\n",
    "    x += 1\n",
    "    print(\"outer loop: \", x)\n",
    "    "
   ]
  },
  {
   "cell_type": "code",
   "execution_count": 14,
   "metadata": {},
   "outputs": [
    {
     "name": "stdout",
     "output_type": "stream",
     "text": [
      "Sum = 0\n",
      "Calculate sum of input numbers by user. To exit, input 'x'!\n",
      "Sum <-- Sum + 10 = 10\n",
      "Sum <-- Sum + 20 = 30\n",
      "Sum <-- Sum + 30 = 60\n",
      "Sum <-- Sum + 40 = 100\n",
      "You exit the loop with 'x'.\n",
      "Final sum = 100\n"
     ]
    }
   ],
   "source": [
    "# We want to continuously compute the sum of all the numbers that the user input. In case, the input is not a numeric value, we don't perform the addition to the previous sum. Otherwise, the sum is updated.\n",
    "sum = 0\n",
    "print(\"Sum = {}\".format(sum))\n",
    "print(\"Calculate sum of input numbers by user. To exit, input 'x'!\")\n",
    "while (True):\n",
    "    x = input(\"Input a number\")\n",
    "    if (x == 'x'):\n",
    "        print(\"You exit the loop with 'x'.\")\n",
    "        break\n",
    "    elif (not x.isnumeric()):\n",
    "        print(\"Input = {}, not a numeric value! Sum is not updated.\".format(x))\n",
    "        continue\n",
    "    \n",
    "    sum += int(x)\n",
    "    print(\"Sum <-- Sum + {0} = {1}\".format(x, sum))\n",
    "\n",
    "print(\"Final sum = {}\".format(sum))\n",
    "    "
   ]
  },
  {
   "cell_type": "markdown",
   "metadata": {},
   "source": [
    "# <font color=\"red\">EXERCISES </font>"
   ]
  },
  {
   "cell_type": "markdown",
   "metadata": {},
   "source": [
    "#### <font color=\"red\">**Exercise 1**</font>: Grade conversion\n",
    "\n",
    "USA | Grade Point | Glasgow Grade\n",
    "----|-------------|--------------\n",
    "A+  | 4.0         | A1\n",
    "A   | 4.0         | A3\n",
    "A-  | 3.67        | A5\n",
    "B+  | 3.33        | B1\n",
    "B   | 3.0         | B2\n",
    "B-  | 2.67        | B3\n",
    "C+  | 2.33        | C1\n",
    "C   | 2.0         | C2\n",
    "C-  | 1.67        | C3\n",
    "D+  | 1.33        | D1\n",
    "D   | 1.0         | D2\n",
    "D-  | 0.67        | D3\n",
    "F   | 0.0         | E2\n",
    "\n",
    "Write a program that receives numeric grade point and output the USA letter grade as well as the Glasgow grade. Use the comparison relation $\\rm{lower} < \\rm{grade} \\leq \\rm{higher}$ where the higher is inclusive (with $\\leq$) and the lower is exclusive (only $<$)\n",
    "\n",
    "<font color='red'>**Hint**</font> &nbsp; Of course you can use `if-elif-else` statements. However, if you just copy and paste the same statement for many conditions, it is probably a good time to think of using `for` loop. We choose `for` loop because we have a finite number of cases to test and know the number of cases in advance."
   ]
  },
  {
   "cell_type": "markdown",
   "metadata": {},
   "source": [
    "#### <font color=\"red\">**Exercise 2**</font>: Using `while (True)` with `break`-condition\n",
    "\n",
    "Write a program to ask whether you want to play a game with five options.\n",
    "\n",
    "+ 1   : Single player\n",
    "+ 2   : Two players\n",
    "+ 3   : Three players\n",
    "+ 4   : Four players\n",
    "+ e   : Exit\n",
    "\n",
    "Further remarks:\n",
    "- As for the four options of playing game, only numeric input from 1 to 4 is accepted \n",
    "- As for the option Exit, two letters `e` and `E` are accepted. \n",
    "- If the input is different from the above-mentioned inputs, it is considered as invalid. \n",
    "- In case the input is invalid, print out the a statement saying the input is invalid. Remind the user the expected inputs (if you want!)\n",
    "- The loop exits only when the user choose `e` or `E` or 1, 2, 3, or 4. Print out the choice.\n",
    "\n",
    "<font color=\"red\">**Hint**</font> &nbsp; You might think of an *infinite* loop and then how to exit the loop with the `break` statement."
   ]
  },
  {
   "cell_type": "markdown",
   "metadata": {},
   "source": [
    "#### <font color='red'>**Exercise 3**</font>: Is a string numeric?\n",
    "\n",
    "Very often, we ask a user to input a number. However, we know that the object returned from the `input(prompt)` is a string. Thus, we normally have to convert the string to a numeric value. However, this may lead to wrong behavior of the program if the user inputs non-numeric string. For example, by accident, the user types `123q` instead of `1231` because the key `q` is neighbor to the key `1`. So before making the conversion, we want to test if the input string really carry the numeric value. In this exercise, write a loop with `while (True)` and ask the user to input a numeric value. If the input string is not numeric, ask the user to re-input until they do it right.\n",
    "\n",
    "<font color='red'>**Hint**</font> &nbsp; You might want to use the method `isnumeric()` of a string. The command `my_string.isnumeric()` returns `True` if `my_string` represents numeric value."
   ]
  },
  {
   "cell_type": "markdown",
   "metadata": {},
   "source": [
    "#### <font color='red'>**Exercise 4**</font>: Print the table of multiplications with style\n",
    "\n",
    "Very often, we want to print a list of results in eye-pleasting format. In this exercise, you need to print out the table of multiplications that look nice in 4 columns. The results are obtained from the multiplications:\n",
    "\n",
    "Column 1           | Column 2           | Column 3           | Column 4\n",
    "-------------------|--------------------|--------------------|--------------------\n",
    "$2 \\times 1  = 1$  | $3 \\times 1  = 1$  | $4 \\times 1  = 1$  | $5 \\times 1  = 1$\n",
    "$2 \\times 2  = 2$  | $3 \\times 2  = 6$  | $4 \\times 2  = 8$  | $5 \\times 2  = 2$\n",
    "...                | ...                | ...                | ...\n",
    "$2 \\times 10 = 20$ | $3 \\times 10 = 30$ | $4 \\times 10 = 40$ | $5 \\times 10 = 50$\n",
    "\n",
    "And then, a new line is printed before the new set of multiplications are outputed:\n",
    "\n",
    "Column 1           | Column 2           | Column 3           | Column 4\n",
    "-------------------|--------------------|--------------------|--------------------\n",
    "$6 \\times 1  = 6$  | $7 \\times 1  = 7$  | $8 \\times 1  = 8$  | $9 \\times 1  = 9$\n",
    "$6 \\times 2  = 12$ | $7 \\times 2  = 14$ | $8 \\times 2  = 16$ | $9 \\times 2  = 18$\n",
    "...                | ...                | ...                | ...\n",
    "$6 \\times 10 = 60$ | $7 \\times 10 = 70$ | $8 \\times 10 = 80$ | $9 \\times 10 = 90$\n",
    "\n",
    "Thus, there are two rows each of which has 4 columns. \n",
    "\n",
    "***Special requirement***: The equal signs `=` must be aligned in all 8 columns.\n",
    "\n",
    "<font color='red'>**Hint**</font> &nbsp; You might want to use string format for alignment. For example, in the format $a \\times b$, $b$ may contain number `10` with two digits. This make the last line `2 x 10`, `3 x 10` looks completely offset with all the lines above them. But we may imagine that the numbers `1`, `2`, ...., `10` are all aligned to the left and occupy the space of 2 letters instead of just the space of 1 letter. In this manner, `1` and `10` will appear on the output console with the same effect. To make the alignment to the left, use the command\n",
    "\n",
    "```Python\n",
    "print(\"{0:<2}\".format(value), end=\"\")\n",
    "```\n",
    "where `0` means the first argument inside `format()`, `:` after `0` means the formatting starts from this point, `<2` means 2 letter spaces and left alignment. You can change the value of `end=` to have one letter space right after the value of $b$. The actual imnplementation depends on your playing with code. For more detail, revisit <font color='magenta'>Recap-1-Variables-Operator.ipynb</font>."
   ]
  },
  {
   "cell_type": "markdown",
   "metadata": {},
   "source": [
    "#### <font color='red'>**Exercise 5**</font>: First taste of list\n",
    "\n",
    "We can create one-dimensional list by\n",
    "\n",
    "`list_1d = list(range(5))`\n",
    "\n",
    "We can also create a two-dimension list by nesting multiple lists into one list. The following example gives a matrix\n",
    "\n",
    "`list_2d = [list(range(5)), list(range(5, 10, 1)), list(range(10, 15, 1))]`\n",
    "\n",
    "Create a 1D list and a 2D list of your own interest. Then, print the 1D list in a row and the 2D list in style. For example, the output should look like this\n",
    "\n",
    "```Python\n",
    "# For 1D list:\n",
    "[0, 1, 2, 3, 4]\n",
    "\n",
    "# For 2D list: \n",
    "[ 0,  1,  2,  3,  4     # start a new line after finishing a sublist\n",
    "  5,  6,  7,  8,  9     # start a new line after finishing a sublist\n",
    " 10, 11, 12, 13, 14]\n",
    "```\n",
    "\n",
    "Note the alignment of commas in the 2D list. You don't need to have a perfect alignment of commas though.\n",
    "\n",
    "<font color=\"red\">**Hint**</font> &nbsp; Just like in the last execise, you might need string formatting. This time, use the right alignment with appropriate spacing for the argument inside `format()`. For example, the format looks like `print(\"{0:>4},\".format(value))`. Watch out the last number of one row without comma behind. For more detail, revisit <font color='magenta'>Recap-1-Variables-Operator.ipynb</font>."
   ]
  },
  {
   "cell_type": "markdown",
   "metadata": {},
   "source": [
    "#### <font color='red'>**Exercise 6**</font>: sum, maximum, and minimum of one-dimensional array\n",
    "\n",
    "***Pseudo-random numbers***\n",
    "\n",
    "We can generate pseudo-random integers by using the function `random.randint(a, b)` in the library `random`. The following code snippet return a pseudo-random integer in range $[a, b]$, including both end points\n",
    "\n",
    "```Python\n",
    "import random as rd\n",
    "rd.randint(a, b)  # we must define a and b beforehand of course\n",
    "```\n",
    "Although the random generator gives random values, it is only pseudo-random in the sense that if we create a sequence of random integers, the sequence will be the same every time we clear the kernel and run the program again. This is why I carefully used the adjective \"pseudo-random\" above. In fact, every algorithm returning random number can only give pseudo-random numbers. A particular sequence of number can be defined by the random seed using the command `random.seed(value)`.\n",
    "\n",
    "***Random process***\n",
    "\n",
    "One way to make the process \"a bit more random\" is to make the seed of the random generator \"a bit more random\" as well. To do this, we can set the value to be the time we execute the code. Thus, we can add the time in the seed as follows\n",
    "```Python\n",
    "from time import time\n",
    "import random as rd\n",
    "rd.seed(time())\n",
    "```\n",
    "\n",
    "***Append the list with new elements***\n",
    "\n",
    "A list in Python can start as an empty list as `my_list = []`. Then, to add the variable `x` into the list, we can use `my_list.append(x)` or `my_list = [my_list, x]`. It is, however, advisable to use `my_list.append(x)`.\n",
    "\n",
    "<font color=\"red\">***Your task***</font>\n",
    "\n",
    "Create a list of $N = 20$ random integers, and then compute the sum of these integers, the maximum and minimum of the list. Use the the seed zero, namely `rd.seed(0)` to test your result easier. You don't want your results fluctuate or change every time you re-run the program.\n",
    "\n",
    "<font color=\"red\">**Hint**</font> &nbsp; You want to use the variable `sum` to accumulate the additions of all numbers into one common variable, i.e. the variable `sum`. Similarly, you can use the variable `minimum` and `maximum` to *keep track* of the smallest value and the maximum value of the array. By tracking, I mean the following. Let us assume that `minimum` *initially* contains a very large number now - this number should be larger than any number in the list of numbers. The basic assumption here is my initial choice of minimum value must be a very stupid choice. Thus, the larger it is, the less likely it is a minimum of the array we must examine. Then, you go through all the elements in the list and decide whether `minimum` has stored the minimum value you have gone through the list so far. Similarly, you want to do so for the maximum value."
   ]
  },
  {
   "cell_type": "markdown",
   "metadata": {},
   "source": [
    "#### <font color='red'>**Exercise 7**</font>: Guessing game\n",
    "Create a **guessing game** program. Your program should:\n",
    "\n",
    "* Make the computer pick a random number to be the answer. It should be an integer between 1 and 32 (inclusive). You may use the function that you worte previously.\n",
    "* Write a function for the user's guess. This function must:\n",
    "    1. have one integer argument (correct_answer),\n",
    "    2. read an integer from the keyboard,\n",
    "    3. check the entered number against the correct answer,\n",
    "    4. output the appropriate message (\"correct\" / \"too high\" / \"too low\"),\n",
    "    5. return a `True` if the user's guess was correct, and `False` if the user's guess was wrong.\n",
    "    \n",
    "* Give the user 5 chances to guess the right answer. (hint: you will write a function that checks a guess. What happens if you copy and paste that function call 5 times?)\n",
    "* End the game if the user is correct, or if s/he's used up all 5 chances. Print either a \"you win\" or \"you lose\", as appropriate.\n",
    "* Although you may not need to use loops for this exercise, it is the best to use loops.\n",
    "\n",
    "<font color=\"red\">**Hint**</font> &nbsp; You might want to print out the random number before guessing to easily test your code. It is tempting to copy/paste your code five times to complete the task. It is fine to do so, but the program won't refactor well when the task ask for 10 or even 100 times. To use loop, try a `while` loop and `break` statement."
   ]
  },
  {
   "cell_type": "markdown",
   "metadata": {},
   "source": [
    "#### <font color='red'>**Exercise 8**</font>: Draw a useless and stupid room\n",
    "\n",
    "Receive the two integer inputs from the user and store them in two variables `width` and `height`, denoted hereby as $w$ and $h$ and the draw a *useless* rectangle according to these two integers. For example, if $w = 12$ and $h = 5$, then draw a rectangle looking as follows:\n",
    "```Python\n",
    "x----------x\n",
    "|----------|\n",
    "|----------|\n",
    "|----------|\n",
    "x----------x\n",
    "```\n",
    "There are 10 dashline and 2 end-points on each line, making up the width $w = 12$. Similarly, there are three vertical lines and two end-points, making up the height $h = 5$.\n",
    "\n",
    "<font color=\"red\">**Hint**</font> &nbsp; By default, the `print()` function always end with a new line. To redefine the ending of the `print()` function, we can use the keyword argument `end=` in the function. The statement `print(\"something\", end=\"\")` print out \"something\" and nothing else (no newline, nothing). Use as many `for` loops as you might need. Don't think too much if you need `for` loops, just write them out and test the code step by test."
   ]
  },
  {
   "cell_type": "markdown",
   "metadata": {},
   "source": [
    "**Pseudo-code**\n",
    "\n",
    "Input $w$ and $h$ by the user or simply declaration\n",
    "\n",
    "1. Line 1: print \"x\", and then $w - 2$ times the dash \"-\" and the print \"x\" in the end\n",
    "2. Line 2: print \"|\", and then $w - 2$ times the dash \"-\" and then print \"|\" in the end\n",
    "3. Line 3 and so on: Repeat whatever we do for Line 2.\n",
    "4. Last line or line $h$: Repeat Line 1"
   ]
  },
  {
   "cell_type": "markdown",
   "metadata": {},
   "source": [
    "**Pseudo-code**\n",
    "\n",
    "Input $w$ and $h$ by the user or simply declaration\n",
    "\n",
    "1. Line 1: print \"x\", and then $w - 2$ times the dash \"-\" and the print \"x\" in the end\n",
    "2. Line 2: print \"|\", and then $w - 2$ times the dash \"-\" and then print \"|\" in the end\n",
    "3. Line 3 and so on: Repeat whatever we do for Line 2.\n",
    "4. Last line or line $h$: Repeat Line 1"
   ]
  },
  {
   "cell_type": "code",
   "execution_count": null,
   "metadata": {},
   "outputs": [],
   "source": [
    "h = 10\n",
    "w = 12\n",
    "for i in range(h):\n",
    "    j = i + 1\n",
    "    if j == 1:\n",
    "        print(\"x\", end=\"\")\n",
    "        for k in range(w - 2):\n",
    "            print(\"-\", end=\"\")\n",
    "        print(\"x\")\n",
    "    elif j > 1 and j < h:\n",
    "        print(\"|\", end=\"\")\n",
    "        for k in range(w - 2):\n",
    "            print(\"-\", end=\"\")\n",
    "        print(\"|\")\n",
    "    else:\n",
    "        print(\"x\", end=\"\")\n",
    "        for k in range(w - 2):\n",
    "            print(\"-\", end=\"\")\n",
    "        print(\"x\")"
   ]
  },
  {
   "cell_type": "markdown",
   "metadata": {},
   "source": [
    "**Refactoring**"
   ]
  },
  {
   "cell_type": "code",
   "execution_count": null,
   "metadata": {},
   "outputs": [],
   "source": [
    "# Refactoring 1\n",
    "h = 10\n",
    "w = 12\n",
    "for i in range(h):\n",
    "    j = i + 1\n",
    "    if j == 1 or j == h:\n",
    "        print(\"x\", end=\"\")\n",
    "        for k in range(w - 2):\n",
    "            print(\"-\", end=\"\")\n",
    "        print(\"x\")\n",
    "    elif j > 1 and j < h:\n",
    "        print(\"|\", end=\"\")\n",
    "        for k in range(w - 2):\n",
    "            print(\"-\", end=\"\")\n",
    "        print(\"|\")"
   ]
  },
  {
   "cell_type": "code",
   "execution_count": null,
   "metadata": {},
   "outputs": [],
   "source": [
    "# Refactoring 2\n",
    "h = 10\n",
    "w = 12\n",
    "\n",
    "def draw_line(letter):\n",
    "    print(letter, end=\"\")\n",
    "    for k in range(w - 2):\n",
    "        print(\"-\", end=\"\")\n",
    "    print(letter)\n",
    "    \n",
    "for i in range(h):\n",
    "    j = i + 1\n",
    "    if j == 1 or j == h:\n",
    "        draw_line(\"x\")\n",
    "    elif j > 1 and j < h:\n",
    "        draw_line(\"|\")"
   ]
  }
 ],
 "metadata": {
  "kernelspec": {
   "display_name": "conda-py3.12",
   "language": "python",
   "name": "python3"
  },
  "language_info": {
   "codemirror_mode": {
    "name": "ipython",
    "version": 3
   },
   "file_extension": ".py",
   "mimetype": "text/x-python",
   "name": "python",
   "nbconvert_exporter": "python",
   "pygments_lexer": "ipython3",
   "version": "3.12.7"
  }
 },
 "nbformat": 4,
 "nbformat_minor": 4
}
