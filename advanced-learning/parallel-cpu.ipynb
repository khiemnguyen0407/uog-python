{
 "cells": [
  {
   "cell_type": "code",
   "execution_count": 2,
   "id": "bd9258ef",
   "metadata": {},
   "outputs": [],
   "source": [
    "import multiprocessing as mp\n",
    "import time\n",
    "import numpy as np\n",
    "import os"
   ]
  },
  {
   "cell_type": "code",
   "execution_count": 3,
   "id": "8dc8282c",
   "metadata": {},
   "outputs": [
    {
     "name": "stdout",
     "output_type": "stream",
     "text": [
      "Dected 16 available CPU cores\n"
     ]
    }
   ],
   "source": [
    "# Configuration\n",
    "NUM_CORES = mp.cpu_count()  # Number of CPU cores\n",
    "print(f\"Dected {NUM_CORES} available CPU cores\")"
   ]
  },
  {
   "cell_type": "code",
   "execution_count": 10,
   "id": "12a4e3b7",
   "metadata": {},
   "outputs": [],
   "source": [
    "def cpu_intesive_task(number):\n",
    "    \"\"\"\n",
    "    A function that performs a high number of mathematical operations to simulate a CPU-bound task.\n",
    "    \"\"\"\n",
    "    # Simulate a calculation (e.g. find the sum of square roots)\n",
    "    result = 0\n",
    "    for i in range(1, 1000000):\n",
    "        result += np.sqrt(number * i)\n",
    "\n",
    "    return number, os.getpid(), result"
   ]
  },
  {
   "cell_type": "code",
   "execution_count": 12,
   "id": "9c1e9099",
   "metadata": {},
   "outputs": [
    {
     "name": "stdout",
     "output_type": "stream",
     "text": [
      "length of inputs 16\n",
      "--------------------------------------------------\n",
      "Starting Multiprocessing Pool Example (CPU-Bound)\n",
      "--------------------------------------------------\n",
      "Distributing 16 tasks acros 16 processes ...\n",
      "Input: 50, Process ID (PID): 15292, Result snippet: 4714041670.91\n",
      "Input: 51, Process ID (PID): 15293, Result snippet: 4760948713.50\n",
      "Input: 52, Process ID (PID): 15294, Result snippet: 4807398093.57\n",
      "Input: 53, Process ID (PID): 15295, Result snippet: 4853402951.29\n",
      "Input: 54, Process ID (PID): 15296, Result snippet: 4898975809.80\n",
      "Input: 55, Process ID (PID): 15297, Result snippet: 4944128615.09\n",
      "Input: 56, Process ID (PID): 15298, Result snippet: 4988872772.49\n",
      "Input: 57, Process ID (PID): 15299, Result snippet: 5033219180.36\n",
      "Input: 58, Process ID (PID): 15300, Result snippet: 5077178261.11\n",
      "Input: 59, Process ID (PID): 15301, Result snippet: 5120759989.74\n",
      "Input: 60, Process ID (PID): 15302, Result snippet: 5163973920.35\n",
      "Input: 61, Process ID (PID): 15303, Result snippet: 5206829210.52\n",
      "Input: 62, Process ID (PID): 15304, Result snippet: 5249334644.03\n",
      "Input: 63, Process ID (PID): 15305, Result snippet: 5291498651.85\n",
      "Input: 64, Process ID (PID): 15306, Result snippet: 5333329331.67\n",
      "Input: 65, Process ID (PID): 15307, Result snippet: 5374834466.06\n",
      "--------------------------------------------------\n",
      "Total executation time: 2.3999 seconds\n",
      "--------------------------------------------------\n"
     ]
    }
   ],
   "source": [
    "inputs = list(range(50, 66))\n",
    "print(f\"length of inputs {len(inputs)}\")\n",
    "\n",
    "print(\"-\" * 50)\n",
    "print(\"Starting Multiprocessing Pool Example (CPU-Bound)\")\n",
    "print(\"-\" * 50)\n",
    "start_time = time.time()\n",
    "with mp.Pool(processes=NUM_CORES) as pool:\n",
    "    print(f\"Distributing {len(inputs)} tasks acros {NUM_CORES} processes ...\")\n",
    "\n",
    "    results = pool.map(cpu_intesive_task, inputs)\n",
    "\n",
    "end_time = time.time()\n",
    "elapsed_time = end_time - start_time\n",
    "\n",
    "# Print results and timing\n",
    "for input_num, pid, result in results:\n",
    "    print(f\"Input: {input_num}, Process ID (PID): {pid}, Result snippet: {result:.2f}\")\n",
    "\n",
    "print(\"-\" * 50)\n",
    "print(f\"Total executation time: {elapsed_time:.4f} seconds\")\n",
    "print(\"-\" * 50)"
   ]
  },
  {
   "cell_type": "code",
   "execution_count": null,
   "id": "7af5e1ca",
   "metadata": {},
   "outputs": [],
   "source": []
  }
 ],
 "metadata": {
  "kernelspec": {
   "display_name": "py3.13",
   "language": "python",
   "name": "python3"
  },
  "language_info": {
   "codemirror_mode": {
    "name": "ipython",
    "version": 3
   },
   "file_extension": ".py",
   "mimetype": "text/x-python",
   "name": "python",
   "nbconvert_exporter": "python",
   "pygments_lexer": "ipython3",
   "version": "3.13.2"
  }
 },
 "nbformat": 4,
 "nbformat_minor": 5
}
